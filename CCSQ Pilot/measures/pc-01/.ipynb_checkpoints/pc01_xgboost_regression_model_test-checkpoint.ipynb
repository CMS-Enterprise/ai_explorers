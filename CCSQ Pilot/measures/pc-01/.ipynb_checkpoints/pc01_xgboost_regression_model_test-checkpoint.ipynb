{
 "cells": [
  {
   "cell_type": "code",
   "execution_count": 2,
   "id": "09690f32-fe8d-4a2e-bc7b-d82a568fb81c",
   "metadata": {},
   "outputs": [
    {
     "name": "stdout",
     "output_type": "stream",
     "text": [
      "Keyring is skipped due to an exception: 'keyring.backends'\n",
      "Collecting xgboost\n",
      "  Using cached xgboost-1.6.2-py3-none-manylinux2014_x86_64.whl (255.9 MB)\n",
      "Requirement already satisfied: numpy in /opt/conda/lib/python3.7/site-packages (from xgboost) (1.21.6)\n",
      "Requirement already satisfied: scipy in /opt/conda/lib/python3.7/site-packages (from xgboost) (1.4.1)\n",
      "Installing collected packages: xgboost\n",
      "Successfully installed xgboost-1.6.2\n",
      "\u001b[33mWARNING: Running pip as the 'root' user can result in broken permissions and conflicting behaviour with the system package manager. It is recommended to use a virtual environment instead: https://pip.pypa.io/warnings/venv\u001b[0m\u001b[33m\n",
      "\u001b[0m"
     ]
    }
   ],
   "source": [
    "!pip install xgboost"
   ]
  },
  {
   "cell_type": "code",
   "execution_count": 3,
   "id": "0b2e66bb-ed4d-4a5c-810e-556ddf3035ce",
   "metadata": {},
   "outputs": [],
   "source": [
    "import pandas as pd\n",
    "import numpy as np\n",
    "import collections\n",
    "from sklearn.model_selection import RepeatedKFold\n",
    "from sklearn.model_selection import cross_val_score\n",
    "import xgboost\n",
    "from xgboost import XGBRegressor\n",
    "from xgboost import plot_importance\n",
    "from matplotlib import pyplot"
   ]
  },
  {
   "cell_type": "code",
   "execution_count": 4,
   "id": "fbb78bc9-266c-4ccd-a666-1bd979ebb68b",
   "metadata": {},
   "outputs": [],
   "source": [
    "modeling_dataset = pd.read_csv(\"../../data/PC-01.csv\")"
   ]
  },
  {
   "cell_type": "code",
   "execution_count": 5,
   "id": "4d1457af-25e2-414e-9930-5313c12beb11",
   "metadata": {},
   "outputs": [],
   "source": [
    "clusters = pd.read_csv(\"../../data/pc-01_clusters.csv\")"
   ]
  },
  {
   "cell_type": "code",
   "execution_count": 10,
   "id": "c0e1dd89-3c3f-4e4c-b884-9ee1eb8fdd7b",
   "metadata": {},
   "outputs": [
    {
     "data": {
      "text/html": [
       "<div>\n",
       "<style scoped>\n",
       "    .dataframe tbody tr th:only-of-type {\n",
       "        vertical-align: middle;\n",
       "    }\n",
       "\n",
       "    .dataframe tbody tr th {\n",
       "        vertical-align: top;\n",
       "    }\n",
       "\n",
       "    .dataframe thead th {\n",
       "        text-align: right;\n",
       "    }\n",
       "</style>\n",
       "<table border=\"1\" class=\"dataframe\">\n",
       "  <thead>\n",
       "    <tr style=\"text-align: right;\">\n",
       "      <th></th>\n",
       "      <th>provider_id</th>\n",
       "      <th>year</th>\n",
       "      <th>quarter</th>\n",
       "      <th>cluster</th>\n",
       "    </tr>\n",
       "  </thead>\n",
       "  <tbody>\n",
       "    <tr>\n",
       "      <th>0</th>\n",
       "      <td>100001</td>\n",
       "      <td>2017</td>\n",
       "      <td>1</td>\n",
       "      <td>C0</td>\n",
       "    </tr>\n",
       "    <tr>\n",
       "      <th>1</th>\n",
       "      <td>100001</td>\n",
       "      <td>2017</td>\n",
       "      <td>2</td>\n",
       "      <td>C0</td>\n",
       "    </tr>\n",
       "    <tr>\n",
       "      <th>2</th>\n",
       "      <td>100001</td>\n",
       "      <td>2017</td>\n",
       "      <td>3</td>\n",
       "      <td>C0</td>\n",
       "    </tr>\n",
       "    <tr>\n",
       "      <th>3</th>\n",
       "      <td>100001</td>\n",
       "      <td>2017</td>\n",
       "      <td>4</td>\n",
       "      <td>C0</td>\n",
       "    </tr>\n",
       "    <tr>\n",
       "      <th>4</th>\n",
       "      <td>100001</td>\n",
       "      <td>2018</td>\n",
       "      <td>1</td>\n",
       "      <td>C0</td>\n",
       "    </tr>\n",
       "    <tr>\n",
       "      <th>...</th>\n",
       "      <td>...</td>\n",
       "      <td>...</td>\n",
       "      <td>...</td>\n",
       "      <td>...</td>\n",
       "    </tr>\n",
       "    <tr>\n",
       "      <th>32870</th>\n",
       "      <td>90011</td>\n",
       "      <td>2015</td>\n",
       "      <td>3</td>\n",
       "      <td>C0</td>\n",
       "    </tr>\n",
       "    <tr>\n",
       "      <th>32871</th>\n",
       "      <td>90011</td>\n",
       "      <td>2015</td>\n",
       "      <td>4</td>\n",
       "      <td>C0</td>\n",
       "    </tr>\n",
       "    <tr>\n",
       "      <th>32872</th>\n",
       "      <td>90011</td>\n",
       "      <td>2016</td>\n",
       "      <td>1</td>\n",
       "      <td>C0</td>\n",
       "    </tr>\n",
       "    <tr>\n",
       "      <th>32873</th>\n",
       "      <td>90011</td>\n",
       "      <td>2016</td>\n",
       "      <td>2</td>\n",
       "      <td>C0</td>\n",
       "    </tr>\n",
       "    <tr>\n",
       "      <th>32874</th>\n",
       "      <td>90011</td>\n",
       "      <td>2016</td>\n",
       "      <td>3</td>\n",
       "      <td>C0</td>\n",
       "    </tr>\n",
       "  </tbody>\n",
       "</table>\n",
       "<p>32875 rows × 4 columns</p>\n",
       "</div>"
      ],
      "text/plain": [
       "      provider_id  year  quarter cluster\n",
       "0          100001  2017        1      C0\n",
       "1          100001  2017        2      C0\n",
       "2          100001  2017        3      C0\n",
       "3          100001  2017        4      C0\n",
       "4          100001  2018        1      C0\n",
       "...           ...   ...      ...     ...\n",
       "32870       90011  2015        3      C0\n",
       "32871       90011  2015        4      C0\n",
       "32872       90011  2016        1      C0\n",
       "32873       90011  2016        2      C0\n",
       "32874       90011  2016        3      C0\n",
       "\n",
       "[32875 rows x 4 columns]"
      ]
     },
     "execution_count": 10,
     "metadata": {},
     "output_type": "execute_result"
    }
   ],
   "source": [
    "clusters"
   ]
  },
  {
   "cell_type": "code",
   "execution_count": 11,
   "id": "ec884d41-896e-44f5-919f-6c64b02cdf3e",
   "metadata": {},
   "outputs": [],
   "source": [
    "modeling_dataset['cluster'] = clusters['cluster']"
   ]
  },
  {
   "cell_type": "code",
   "execution_count": 13,
   "id": "fb1aaf94-d2f6-437b-9af7-c50df833db89",
   "metadata": {},
   "outputs": [
    {
     "data": {
      "text/html": [
       "<div>\n",
       "<style scoped>\n",
       "    .dataframe tbody tr th:only-of-type {\n",
       "        vertical-align: middle;\n",
       "    }\n",
       "\n",
       "    .dataframe tbody tr th {\n",
       "        vertical-align: top;\n",
       "    }\n",
       "\n",
       "    .dataframe thead th {\n",
       "        text-align: right;\n",
       "    }\n",
       "</style>\n",
       "<table border=\"1\" class=\"dataframe\">\n",
       "  <thead>\n",
       "    <tr style=\"text-align: right;\">\n",
       "      <th></th>\n",
       "      <th>provider_id</th>\n",
       "      <th>score</th>\n",
       "      <th>lag1</th>\n",
       "      <th>year</th>\n",
       "      <th>quarter</th>\n",
       "      <th>lag_diff</th>\n",
       "      <th>prov_mean</th>\n",
       "      <th>prov_mean_diff</th>\n",
       "      <th>cluster</th>\n",
       "    </tr>\n",
       "  </thead>\n",
       "  <tbody>\n",
       "    <tr>\n",
       "      <th>1</th>\n",
       "      <td>100001</td>\n",
       "      <td>4.0</td>\n",
       "      <td>2.0</td>\n",
       "      <td>2017</td>\n",
       "      <td>2</td>\n",
       "      <td>2.0</td>\n",
       "      <td>2.000000</td>\n",
       "      <td>2.000000</td>\n",
       "      <td>C0</td>\n",
       "    </tr>\n",
       "    <tr>\n",
       "      <th>2</th>\n",
       "      <td>100001</td>\n",
       "      <td>3.0</td>\n",
       "      <td>4.0</td>\n",
       "      <td>2017</td>\n",
       "      <td>3</td>\n",
       "      <td>-1.0</td>\n",
       "      <td>3.000000</td>\n",
       "      <td>0.000000</td>\n",
       "      <td>C0</td>\n",
       "    </tr>\n",
       "    <tr>\n",
       "      <th>3</th>\n",
       "      <td>100001</td>\n",
       "      <td>3.0</td>\n",
       "      <td>3.0</td>\n",
       "      <td>2017</td>\n",
       "      <td>4</td>\n",
       "      <td>0.0</td>\n",
       "      <td>3.000000</td>\n",
       "      <td>0.000000</td>\n",
       "      <td>C0</td>\n",
       "    </tr>\n",
       "    <tr>\n",
       "      <th>4</th>\n",
       "      <td>100001</td>\n",
       "      <td>2.0</td>\n",
       "      <td>3.0</td>\n",
       "      <td>2018</td>\n",
       "      <td>1</td>\n",
       "      <td>-1.0</td>\n",
       "      <td>3.000000</td>\n",
       "      <td>-1.000000</td>\n",
       "      <td>C0</td>\n",
       "    </tr>\n",
       "    <tr>\n",
       "      <th>5</th>\n",
       "      <td>100001</td>\n",
       "      <td>3.0</td>\n",
       "      <td>2.0</td>\n",
       "      <td>2018</td>\n",
       "      <td>3</td>\n",
       "      <td>1.0</td>\n",
       "      <td>2.800000</td>\n",
       "      <td>0.200000</td>\n",
       "      <td>C0</td>\n",
       "    </tr>\n",
       "    <tr>\n",
       "      <th>...</th>\n",
       "      <td>...</td>\n",
       "      <td>...</td>\n",
       "      <td>...</td>\n",
       "      <td>...</td>\n",
       "      <td>...</td>\n",
       "      <td>...</td>\n",
       "      <td>...</td>\n",
       "      <td>...</td>\n",
       "      <td>...</td>\n",
       "    </tr>\n",
       "    <tr>\n",
       "      <th>32870</th>\n",
       "      <td>90011</td>\n",
       "      <td>5.0</td>\n",
       "      <td>3.0</td>\n",
       "      <td>2015</td>\n",
       "      <td>3</td>\n",
       "      <td>2.0</td>\n",
       "      <td>2.333333</td>\n",
       "      <td>2.666667</td>\n",
       "      <td>C0</td>\n",
       "    </tr>\n",
       "    <tr>\n",
       "      <th>32871</th>\n",
       "      <td>90011</td>\n",
       "      <td>4.0</td>\n",
       "      <td>5.0</td>\n",
       "      <td>2015</td>\n",
       "      <td>4</td>\n",
       "      <td>-1.0</td>\n",
       "      <td>3.000000</td>\n",
       "      <td>1.000000</td>\n",
       "      <td>C0</td>\n",
       "    </tr>\n",
       "    <tr>\n",
       "      <th>32872</th>\n",
       "      <td>90011</td>\n",
       "      <td>4.0</td>\n",
       "      <td>4.0</td>\n",
       "      <td>2016</td>\n",
       "      <td>1</td>\n",
       "      <td>0.0</td>\n",
       "      <td>3.200000</td>\n",
       "      <td>0.800000</td>\n",
       "      <td>C0</td>\n",
       "    </tr>\n",
       "    <tr>\n",
       "      <th>32873</th>\n",
       "      <td>90011</td>\n",
       "      <td>4.0</td>\n",
       "      <td>4.0</td>\n",
       "      <td>2016</td>\n",
       "      <td>2</td>\n",
       "      <td>0.0</td>\n",
       "      <td>3.333333</td>\n",
       "      <td>0.666667</td>\n",
       "      <td>C0</td>\n",
       "    </tr>\n",
       "    <tr>\n",
       "      <th>32874</th>\n",
       "      <td>90011</td>\n",
       "      <td>1.0</td>\n",
       "      <td>4.0</td>\n",
       "      <td>2016</td>\n",
       "      <td>3</td>\n",
       "      <td>-3.0</td>\n",
       "      <td>3.428571</td>\n",
       "      <td>-2.428571</td>\n",
       "      <td>C0</td>\n",
       "    </tr>\n",
       "  </tbody>\n",
       "</table>\n",
       "<p>30280 rows × 9 columns</p>\n",
       "</div>"
      ],
      "text/plain": [
       "      provider_id  score  lag1  year  quarter  lag_diff  prov_mean  \\\n",
       "1          100001    4.0   2.0  2017        2       2.0   2.000000   \n",
       "2          100001    3.0   4.0  2017        3      -1.0   3.000000   \n",
       "3          100001    3.0   3.0  2017        4       0.0   3.000000   \n",
       "4          100001    2.0   3.0  2018        1      -1.0   3.000000   \n",
       "5          100001    3.0   2.0  2018        3       1.0   2.800000   \n",
       "...           ...    ...   ...   ...      ...       ...        ...   \n",
       "32870       90011    5.0   3.0  2015        3       2.0   2.333333   \n",
       "32871       90011    4.0   5.0  2015        4      -1.0   3.000000   \n",
       "32872       90011    4.0   4.0  2016        1       0.0   3.200000   \n",
       "32873       90011    4.0   4.0  2016        2       0.0   3.333333   \n",
       "32874       90011    1.0   4.0  2016        3      -3.0   3.428571   \n",
       "\n",
       "       prov_mean_diff cluster  \n",
       "1            2.000000      C0  \n",
       "2            0.000000      C0  \n",
       "3            0.000000      C0  \n",
       "4           -1.000000      C0  \n",
       "5            0.200000      C0  \n",
       "...               ...     ...  \n",
       "32870        2.666667      C0  \n",
       "32871        1.000000      C0  \n",
       "32872        0.800000      C0  \n",
       "32873        0.666667      C0  \n",
       "32874       -2.428571      C0  \n",
       "\n",
       "[30280 rows x 9 columns]"
      ]
     },
     "execution_count": 13,
     "metadata": {},
     "output_type": "execute_result"
    }
   ],
   "source": [
    "modeling_dataset = modeling_dataset.drop(columns = ['lag2'])\n",
    "modeling_dataset = modeling_dataset.dropna()\n",
    "modeling_dataset"
   ]
  },
  {
   "cell_type": "code",
   "execution_count": 21,
   "id": "a25b90a1-6a7b-48fd-92f1-326f5edef38b",
   "metadata": {},
   "outputs": [],
   "source": [
    "modeling_dataset = modeling_dataset.drop(columns = ['provider_id','lag_diff','prov_mean_diff'])\n",
    "modeling_dataset['cluster'] = modeling_dataset['cluster'].astype('category')"
   ]
  },
  {
   "cell_type": "code",
   "execution_count": 15,
   "id": "194a7fef-faaf-4cc6-856b-b4a42defe98a",
   "metadata": {},
   "outputs": [],
   "source": [
    "# XGBoost model"
   ]
  },
  {
   "cell_type": "code",
   "execution_count": 35,
   "id": "89824cb2-b8d5-413e-a8d7-f71a3f450c32",
   "metadata": {},
   "outputs": [],
   "source": [
    "model = XGBRegressor()"
   ]
  },
  {
   "cell_type": "code",
   "execution_count": 30,
   "id": "2a06475c-97f9-44d8-b130-896517ef60a8",
   "metadata": {},
   "outputs": [],
   "source": [
    "cluster_matrix = pd.get_dummies(modeling_dataset['cluster'])\n",
    "modeling_dataset = modeling_dataset.drop(columns = ['cluster'])\n",
    "modeling_dataset = pd.concat([modeling_dataset, cluster_matrix], axis = 1)\n",
    "modeling_dataset = modeling_dataset.drop(columns = ['C0'])"
   ]
  },
  {
   "cell_type": "code",
   "execution_count": 46,
   "id": "608c53a9-24b1-4a6e-a306-34c0f13e8a94",
   "metadata": {},
   "outputs": [],
   "source": []
  },
  {
   "cell_type": "code",
   "execution_count": 47,
   "id": "fcdd5878-d477-4f26-a38f-438b0817c549",
   "metadata": {},
   "outputs": [],
   "source": [
    "X, y = modeling_dataset.drop(columns = 'score'), modeling_dataset[['score']]\n"
   ]
  },
  {
   "cell_type": "code",
   "execution_count": null,
   "id": "2eaf765b-8cad-4b39-9358-b5f0b7cb20f8",
   "metadata": {},
   "outputs": [],
   "source": []
  },
  {
   "cell_type": "code",
   "execution_count": 48,
   "id": "60decaa2-1a0a-41e4-9d99-65512db7bc1d",
   "metadata": {
    "tags": []
   },
   "outputs": [
    {
     "name": "stderr",
     "output_type": "stream",
     "text": [
      "[Parallel(n_jobs=-1)]: Using backend LokyBackend with 4 concurrent workers.\n",
      "[Parallel(n_jobs=-1)]: Done   5 out of   5 | elapsed:    4.2s finished\n"
     ]
    }
   ],
   "source": [
    "cv = RepeatedKFold(n_splits=5, n_repeats=1, random_state=1)\n",
    "scores = cross_val_score(model, X, y, scoring='neg_root_mean_squared_error', cv=cv, n_jobs=-1, error_score=\"raise\", verbose = True)"
   ]
  },
  {
   "cell_type": "code",
   "execution_count": 49,
   "id": "c97c6b13-4b87-4e9d-ac4b-13ea8d79baa1",
   "metadata": {},
   "outputs": [
    {
     "data": {
      "text/plain": [
       "array([-2.8198344 , -2.99080727, -2.93122528, -3.26660408, -3.15275179])"
      ]
     },
     "execution_count": 49,
     "metadata": {},
     "output_type": "execute_result"
    }
   ],
   "source": [
    "scores"
   ]
  },
  {
   "cell_type": "code",
   "execution_count": 50,
   "id": "61de3944-e131-4111-9f72-463dea376353",
   "metadata": {},
   "outputs": [
    {
     "data": {
      "text/plain": [
       "3.032244562493926"
      ]
     },
     "execution_count": 50,
     "metadata": {},
     "output_type": "execute_result"
    }
   ],
   "source": [
    "np.mean(-scores)"
   ]
  },
  {
   "cell_type": "code",
   "execution_count": 51,
   "id": "90c8f328-d0df-4df2-bb52-57070d0c756e",
   "metadata": {},
   "outputs": [],
   "source": [
    "model.fit(X, y)\n",
    "yhat = model.predict(X)"
   ]
  },
  {
   "cell_type": "code",
   "execution_count": 52,
   "id": "674c1c56-0e8c-494c-9502-f39b0ade42ca",
   "metadata": {},
   "outputs": [
    {
     "data": {
      "text/plain": [
       "array([2.1977046, 4.0227437, 3.1576006, ..., 3.9590952, 3.9286056,\n",
       "       3.954949 ], dtype=float32)"
      ]
     },
     "execution_count": 52,
     "metadata": {},
     "output_type": "execute_result"
    }
   ],
   "source": [
    "yhat"
   ]
  },
  {
   "cell_type": "code",
   "execution_count": 53,
   "id": "52500e7c-785b-49e4-8100-a80e6fa14e59",
   "metadata": {},
   "outputs": [],
   "source": [
    "diff = y['score'] - yhat"
   ]
  },
  {
   "cell_type": "code",
   "execution_count": 54,
   "id": "17e4918e-beaf-4784-a630-c4c824ebc52b",
   "metadata": {},
   "outputs": [
    {
     "data": {
      "text/plain": [
       "count    30280.000000\n",
       "mean         0.000199\n",
       "std          2.052199\n",
       "min        -18.534758\n",
       "25%         -0.886751\n",
       "50%         -0.247670\n",
       "75%          0.685851\n",
       "max         74.665189\n",
       "Name: score, dtype: float64"
      ]
     },
     "execution_count": 54,
     "metadata": {},
     "output_type": "execute_result"
    }
   ],
   "source": [
    "diff.describe()"
   ]
  },
  {
   "cell_type": "code",
   "execution_count": 55,
   "id": "0d95f3e2-ff01-4bcf-b00d-dc2f9543cf8d",
   "metadata": {
    "tags": []
   },
   "outputs": [
    {
     "data": {
      "image/png": "[encoded data removed]",
      "text/plain": [
       "<Figure size 640x480 with 1 Axes>"
      ]
     },
     "metadata": {},
     "output_type": "display_data"
    }
   ],
   "source": [
    "plot_importance(model)\n",
    "pyplot.show()"
   ]
  },
  {
   "cell_type": "code",
   "execution_count": 158,
   "id": "89544ddf-3d0f-4fae-bd2f-1980d5c1ddf5",
   "metadata": {},
   "outputs": [
    {
     "data": {
      "text/html": [
       "<div>\n",
       "<style scoped>\n",
       "    .dataframe tbody tr th:only-of-type {\n",
       "        vertical-align: middle;\n",
       "    }\n",
       "\n",
       "    .dataframe tbody tr th {\n",
       "        vertical-align: top;\n",
       "    }\n",
       "\n",
       "    .dataframe thead th {\n",
       "        text-align: right;\n",
       "    }\n",
       "</style>\n",
       "<table border=\"1\" class=\"dataframe\">\n",
       "  <thead>\n",
       "    <tr style=\"text-align: right;\">\n",
       "      <th></th>\n",
       "      <th>score</th>\n",
       "      <th>pred</th>\n",
       "    </tr>\n",
       "  </thead>\n",
       "  <tbody>\n",
       "    <tr>\n",
       "      <th>6</th>\n",
       "      <td>7.2</td>\n",
       "      <td>7.354820</td>\n",
       "    </tr>\n",
       "    <tr>\n",
       "      <th>14</th>\n",
       "      <td>14.2</td>\n",
       "      <td>14.060574</td>\n",
       "    </tr>\n",
       "    <tr>\n",
       "      <th>22</th>\n",
       "      <td>14.5</td>\n",
       "      <td>14.745285</td>\n",
       "    </tr>\n",
       "    <tr>\n",
       "      <th>30</th>\n",
       "      <td>9.1</td>\n",
       "      <td>9.182553</td>\n",
       "    </tr>\n",
       "    <tr>\n",
       "      <th>38</th>\n",
       "      <td>3.4</td>\n",
       "      <td>3.421915</td>\n",
       "    </tr>\n",
       "    <tr>\n",
       "      <th>...</th>\n",
       "      <td>...</td>\n",
       "      <td>...</td>\n",
       "    </tr>\n",
       "    <tr>\n",
       "      <th>29078</th>\n",
       "      <td>4.3</td>\n",
       "      <td>4.295608</td>\n",
       "    </tr>\n",
       "    <tr>\n",
       "      <th>29083</th>\n",
       "      <td>11.9</td>\n",
       "      <td>5.889491</td>\n",
       "    </tr>\n",
       "    <tr>\n",
       "      <th>29089</th>\n",
       "      <td>7.5</td>\n",
       "      <td>7.473323</td>\n",
       "    </tr>\n",
       "    <tr>\n",
       "      <th>29092</th>\n",
       "      <td>12.6</td>\n",
       "      <td>12.575196</td>\n",
       "    </tr>\n",
       "    <tr>\n",
       "      <th>29094</th>\n",
       "      <td>5.5</td>\n",
       "      <td>5.889491</td>\n",
       "    </tr>\n",
       "  </tbody>\n",
       "</table>\n",
       "<p>3866 rows × 2 columns</p>\n",
       "</div>"
      ],
      "text/plain": [
       "       score       pred\n",
       "6        7.2   7.354820\n",
       "14      14.2  14.060574\n",
       "22      14.5  14.745285\n",
       "30       9.1   9.182553\n",
       "38       3.4   3.421915\n",
       "...      ...        ...\n",
       "29078    4.3   4.295608\n",
       "29083   11.9   5.889491\n",
       "29089    7.5   7.473323\n",
       "29092   12.6  12.575196\n",
       "29094    5.5   5.889491\n",
       "\n",
       "[3866 rows x 2 columns]"
      ]
     },
     "execution_count": 158,
     "metadata": {},
     "output_type": "execute_result"
    }
   ],
   "source": [
    "pd.DataFrame({'score':modeling_dataset['score'], 'pred':yhat})"
   ]
  },
  {
   "cell_type": "code",
   "execution_count": null,
   "id": "20c503ed-32e4-4535-8646-29b582a69bf8",
   "metadata": {},
   "outputs": [],
   "source": []
  }
 ],
 "metadata": {
  "instance_type": "ml.c5.xlarge",
  "kernelspec": {
   "display_name": "Python 3 (Data Science)",
   "language": "python",
   "name": "python3__SAGEMAKER_INTERNAL__arn:aws:sagemaker:us-east-1:081325390199:image/datascience-1.0"
  },
  "language_info": {
   "codemirror_mode": {
    "name": "ipython",
    "version": 3
   },
   "file_extension": ".py",
   "mimetype": "text/x-python",
   "name": "python",
   "nbconvert_exporter": "python",
   "pygments_lexer": "ipython3",
   "version": "3.7.10"
  }
 },
 "nbformat": 4,
 "nbformat_minor": 5
}
