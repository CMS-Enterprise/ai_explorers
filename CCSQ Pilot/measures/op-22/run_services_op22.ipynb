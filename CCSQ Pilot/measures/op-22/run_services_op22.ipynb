{
 "cells": [
  {
   "cell_type": "code",
   "execution_count": 2,
   "id": "6aaa5400-a5ac-4ec2-ac59-859f72af56d1",
   "metadata": {},
   "outputs": [
    {
     "name": "stdout",
     "output_type": "stream",
     "text": [
      "Keyring is skipped due to an exception: 'keyring.backends'\n",
      "Requirement already satisfied: xgboost in /opt/conda/lib/python3.7/site-packages (1.6.2)\n",
      "Requirement already satisfied: scipy in /opt/conda/lib/python3.7/site-packages (from xgboost) (1.7.3)\n",
      "Requirement already satisfied: numpy in /opt/conda/lib/python3.7/site-packages (from xgboost) (1.21.6)\n",
      "\u001b[33mWARNING: Running pip as the 'root' user can result in broken permissions and conflicting behaviour with the system package manager. It is recommended to use a virtual environment instead: https://pip.pypa.io/warnings/venv\u001b[0m\u001b[33m\n",
      "\u001b[0mKeyring is skipped due to an exception: 'keyring.backends'\n",
      "Requirement already satisfied: plotnine in /opt/conda/lib/python3.7/site-packages (0.8.0)\n",
      "Requirement already satisfied: scipy>=1.5.0 in /opt/conda/lib/python3.7/site-packages (from plotnine) (1.7.3)\n",
      "Requirement already satisfied: descartes>=1.1.0 in /opt/conda/lib/python3.7/site-packages (from plotnine) (1.1.0)\n",
      "Requirement already satisfied: mizani>=0.7.3 in /opt/conda/lib/python3.7/site-packages (from plotnine) (0.7.3)\n",
      "Requirement already satisfied: numpy>=1.19.0 in /opt/conda/lib/python3.7/site-packages (from plotnine) (1.21.6)\n",
      "Requirement already satisfied: pandas>=1.1.0 in /opt/conda/lib/python3.7/site-packages (from plotnine) (1.3.5)\n",
      "Requirement already satisfied: statsmodels>=0.12.1 in /opt/conda/lib/python3.7/site-packages (from plotnine) (0.13.5)\n",
      "Requirement already satisfied: matplotlib>=3.1.1 in /opt/conda/lib/python3.7/site-packages (from plotnine) (3.1.3)\n",
      "Requirement already satisfied: patsy>=0.5.1 in /opt/conda/lib/python3.7/site-packages (from plotnine) (0.5.3)\n",
      "Requirement already satisfied: cycler>=0.10 in /opt/conda/lib/python3.7/site-packages (from matplotlib>=3.1.1->plotnine) (0.10.0)\n",
      "Requirement already satisfied: kiwisolver>=1.0.1 in /opt/conda/lib/python3.7/site-packages (from matplotlib>=3.1.1->plotnine) (1.1.0)\n",
      "Requirement already satisfied: python-dateutil>=2.1 in /opt/conda/lib/python3.7/site-packages (from matplotlib>=3.1.1->plotnine) (2.8.2)\n",
      "Requirement already satisfied: pyparsing!=2.0.4,!=2.1.2,!=2.1.6,>=2.0.1 in /opt/conda/lib/python3.7/site-packages (from matplotlib>=3.1.1->plotnine) (2.4.6)\n",
      "Requirement already satisfied: palettable in /opt/conda/lib/python3.7/site-packages (from mizani>=0.7.3->plotnine) (3.3.0)\n",
      "Requirement already satisfied: pytz>=2017.3 in /opt/conda/lib/python3.7/site-packages (from pandas>=1.1.0->plotnine) (2019.3)\n",
      "Requirement already satisfied: six in /opt/conda/lib/python3.7/site-packages (from patsy>=0.5.1->plotnine) (1.14.0)\n",
      "Requirement already satisfied: packaging>=21.3 in /opt/conda/lib/python3.7/site-packages (from statsmodels>=0.12.1->plotnine) (21.3)\n",
      "Requirement already satisfied: setuptools in /opt/conda/lib/python3.7/site-packages (from kiwisolver>=1.0.1->matplotlib>=3.1.1->plotnine) (59.3.0)\n",
      "\u001b[33mWARNING: Running pip as the 'root' user can result in broken permissions and conflicting behaviour with the system package manager. It is recommended to use a virtual environment instead: https://pip.pypa.io/warnings/venv\u001b[0m\u001b[33m\n",
      "\u001b[0m"
     ]
    }
   ],
   "source": [
    "!pip install xgboost\n",
    "!pip install plotnine"
   ]
  },
  {
   "cell_type": "code",
   "execution_count": 3,
   "id": "51e02ffe-9b79-4c10-8dfd-8bcc84260aa0",
   "metadata": {},
   "outputs": [],
   "source": [
    "import sys\n",
    "import os\n",
    "import glob\n",
    "import datetime\n",
    "import pickle\n",
    "import numpy as np\n",
    "import pandas as pd\n",
    "import plotnine\n",
    "from plotnine import *\n",
    "from datetime import datetime\n",
    "from pathlib import Path\n",
    "\n",
    "# Hardcode so we can use in any notebook\n",
    "module_path = \"/root/HAIP/services\"\n",
    "if module_path not in sys.path:\n",
    "    sys.path.append(module_path)"
   ]
  },
  {
   "cell_type": "code",
   "execution_count": 4,
   "id": "2549ae45-4d6d-4a6a-8dee-38890701a397",
   "metadata": {},
   "outputs": [],
   "source": [
    "# from sharepoint_transfer.src import main as sharepoint_transfer_svc\n",
    "from data_consolidation.src import main as data_consolidation_svc\n",
    "from feature_engineering.src import main as feature_engineering_svc\n",
    "from model_selection.src import main as model_selection_svc\n",
    "from outcome_analysis.src import main as outcome_analysis_svc\n",
    "from model_training.src import main as model_training_svc\n",
    "from final_fitting.src import main as final_fitting_svc\n",
    "from ensemble_model.src import main as ensemble_model_svc\n",
    "\n",
    "from model_dataset.src.main import load_dataframe\n",
    "from artificial_anomaly_tests import aa_tests\n",
    "from model_training import xgbr_test"
   ]
  },
  {
   "cell_type": "markdown",
   "id": "a4146dc4-51e2-4e68-b1f3-4636f8f2ff33",
   "metadata": {
    "tags": []
   },
   "source": [
    "## Set Measure Specific Settings\n",
    "\n",
    "These will augment and override settings in \"/root/HAIP/notebooks/services/config.json\""
   ]
  },
  {
   "cell_type": "code",
   "execution_count": 5,
   "id": "29069647-d283-4af1-b5f4-1f3ee37fc741",
   "metadata": {},
   "outputs": [],
   "source": [
    "SKIP_TUNING = True\n",
    "SKIP_RMSE_TEST = False\n",
    "SAVE_MODEL_PICKLES = True\n",
    "\n",
    "settings = {\n",
    "    # Measure specific options\n",
    "    \"MEASURE_SPECIFIC_FILENAME\": \"OP-22.csv\",\n",
    "    \"FULL_MEASURE_S3_PREFIX\": \"OP-22\",\n",
    "    \"filter_measure\": \"OP_22\", # make sure this is _ not -\n",
    "    \n",
    "    \"run_save_path\": \"model_runs\",\n",
    "    \"model_pickle_path\": \"models\",\n",
    "    \n",
    "    # Feature Engineering options\n",
    "    \"backfill_prov_mean\": False, # set to false to not backfill prov mean\n",
    "    \"backfill_lag\": False, # set to false to not backfill lag\n",
    "    \"lag_to_add\": 2, # add lag1/lag2\n",
    "}\n",
    "\n",
    "settings['save_modeling_dataset_path'] = f\"/root/HAIP/data/{settings.get('MEASURE_SPECIFIC_FILENAME')}\"\n",
    "settings['model_dataset_path'] = settings['save_modeling_dataset_path']"
   ]
  },
  {
   "cell_type": "markdown",
   "id": "c23cf898-eb23-42c3-a2de-c36e30dd3a54",
   "metadata": {
    "tags": []
   },
   "source": [
    "## Move Sharepoint files to S3"
   ]
  },
  {
   "cell_type": "markdown",
   "id": "08bad155-a543-4e6a-ad1a-b8f8c21fdf4d",
   "metadata": {},
   "source": [
    "This is not possible in SageMaker Studio because we are trying to figure out Client ID/Secret for the Sharepoint REST API. For now, run the service locally using your own Office365 username/password"
   ]
  },
  {
   "cell_type": "markdown",
   "id": "96178b95-e1d4-4eaf-ab7c-8348d37e5b2b",
   "metadata": {
    "tags": []
   },
   "source": [
    "## Data Consolidation"
   ]
  },
  {
   "cell_type": "markdown",
   "id": "93001470-b92c-40c4-b4a3-e523e9534df2",
   "metadata": {},
   "source": [
    "Make sure the measure `settings` are changed.\n",
    "\n",
    "\n",
    "Call `data_consolidation_main.main(settings)`\n",
    "\n",
    "\n",
    "This will download the full-measure-data in S3, load it into a single data frame, normalize the columns, filter to only include `filter_measure` and then upload the result to S3.\n",
    "\n",
    "\n",
    "Result csv and metadata are uploaded to https://s3.console.aws.amazon.com/s3/buckets/haip-measure-specific-data?region=us-east-1&tab=objects"
   ]
  },
  {
   "cell_type": "code",
   "execution_count": 6,
   "id": "80dce529-eb49-4e82-bc63-2b0f16629fd1",
   "metadata": {
    "tags": []
   },
   "outputs": [],
   "source": [
    "# data_consolidation_svc.main(settings)"
   ]
  },
  {
   "cell_type": "markdown",
   "id": "816349c0-2807-42b1-8aae-2733f48f3712",
   "metadata": {
    "tags": []
   },
   "source": [
    "## Feature Engineering"
   ]
  },
  {
   "cell_type": "markdown",
   "id": "905fd4e9-b475-4435-a869-66c991821969",
   "metadata": {},
   "source": [
    "Call `feature_engineering_main.main(settings)`\n",
    "\n",
    "This will download the consolidated measure-specific-data in S3, normalize the columns, and add the new features, then upload the result to S3.\n",
    "Results should also be saved locally automatically, but that is not yet implemented. For now download from the link below and upload the file to SageMaker Studio.\n",
    "\n",
    "\n",
    "Result csv and metadata are uploaded to https://s3.console.aws.amazon.com/s3/buckets/haip-modeling-dataset?region=us-east-1&tab=objects"
   ]
  },
  {
   "cell_type": "code",
   "execution_count": 7,
   "id": "b3c01c99-c47a-4c2b-887b-bba8ae1361c2",
   "metadata": {
    "tags": []
   },
   "outputs": [],
   "source": [
    "# feature_engineering_svc.main(settings)"
   ]
  },
  {
   "cell_type": "markdown",
   "id": "9959f189-751a-4f47-825f-b36f1e477a0f",
   "metadata": {
    "tags": []
   },
   "source": [
    "## Shift Ranges"
   ]
  },
  {
   "cell_type": "code",
   "execution_count": 8,
   "id": "b470e3f6-3999-42f5-b98b-01b068628eab",
   "metadata": {},
   "outputs": [],
   "source": [
    "sr_settings = {\n",
    "    # Doesn't matter they all import modeling df the same\n",
    "    # just need one for it to work\n",
    "    \"model_type\": \"XGBRegression\",\n",
    "}\n",
    "\n",
    "settings = {**settings, **sr_settings}"
   ]
  },
  {
   "cell_type": "code",
   "execution_count": 9,
   "id": "1154d43b-23ad-4633-88af-e86d36cd237c",
   "metadata": {},
   "outputs": [
    {
     "data": {
      "text/html": [
       "<div>\n",
       "<style scoped>\n",
       "    .dataframe tbody tr th:only-of-type {\n",
       "        vertical-align: middle;\n",
       "    }\n",
       "\n",
       "    .dataframe tbody tr th {\n",
       "        vertical-align: top;\n",
       "    }\n",
       "\n",
       "    .dataframe thead th {\n",
       "        text-align: right;\n",
       "    }\n",
       "</style>\n",
       "<table border=\"1\" class=\"dataframe\">\n",
       "  <thead>\n",
       "    <tr style=\"text-align: right;\">\n",
       "      <th></th>\n",
       "      <th>provider_id</th>\n",
       "      <th>score</th>\n",
       "      <th>mock_score</th>\n",
       "      <th>shift</th>\n",
       "    </tr>\n",
       "  </thead>\n",
       "  <tbody>\n",
       "    <tr>\n",
       "      <th>18456</th>\n",
       "      <td>420053</td>\n",
       "      <td>3.0</td>\n",
       "      <td>3.439043</td>\n",
       "      <td>1</td>\n",
       "    </tr>\n",
       "    <tr>\n",
       "      <th>976</th>\n",
       "      <td>100213</td>\n",
       "      <td>1.0</td>\n",
       "      <td>1.439043</td>\n",
       "      <td>1</td>\n",
       "    </tr>\n",
       "    <tr>\n",
       "      <th>6275</th>\n",
       "      <td>180139</td>\n",
       "      <td>6.0</td>\n",
       "      <td>6.439043</td>\n",
       "      <td>1</td>\n",
       "    </tr>\n",
       "    <tr>\n",
       "      <th>25144</th>\n",
       "      <td>510008</td>\n",
       "      <td>2.0</td>\n",
       "      <td>2.439043</td>\n",
       "      <td>1</td>\n",
       "    </tr>\n",
       "    <tr>\n",
       "      <th>13982</th>\n",
       "      <td>340075</td>\n",
       "      <td>2.0</td>\n",
       "      <td>2.439043</td>\n",
       "      <td>1</td>\n",
       "    </tr>\n",
       "    <tr>\n",
       "      <th>...</th>\n",
       "      <td>...</td>\n",
       "      <td>...</td>\n",
       "      <td>...</td>\n",
       "      <td>...</td>\n",
       "    </tr>\n",
       "    <tr>\n",
       "      <th>18654</th>\n",
       "      <td>420101</td>\n",
       "      <td>7.0</td>\n",
       "      <td>0.414351</td>\n",
       "      <td>15</td>\n",
       "    </tr>\n",
       "    <tr>\n",
       "      <th>10468</th>\n",
       "      <td>260195</td>\n",
       "      <td>2.0</td>\n",
       "      <td>17.000000</td>\n",
       "      <td>15</td>\n",
       "    </tr>\n",
       "    <tr>\n",
       "      <th>7900</th>\n",
       "      <td>220071</td>\n",
       "      <td>1.0</td>\n",
       "      <td>16.000000</td>\n",
       "      <td>15</td>\n",
       "    </tr>\n",
       "    <tr>\n",
       "      <th>20798</th>\n",
       "      <td>450565</td>\n",
       "      <td>1.0</td>\n",
       "      <td>7.585649</td>\n",
       "      <td>15</td>\n",
       "    </tr>\n",
       "    <tr>\n",
       "      <th>21062</th>\n",
       "      <td>450675</td>\n",
       "      <td>1.0</td>\n",
       "      <td>7.585649</td>\n",
       "      <td>15</td>\n",
       "    </tr>\n",
       "  </tbody>\n",
       "</table>\n",
       "<p>15000 rows × 4 columns</p>\n",
       "</div>"
      ],
      "text/plain": [
       "      provider_id  score  mock_score  shift\n",
       "18456      420053    3.0    3.439043      1\n",
       "976        100213    1.0    1.439043      1\n",
       "6275       180139    6.0    6.439043      1\n",
       "25144      510008    2.0    2.439043      1\n",
       "13982      340075    2.0    2.439043      1\n",
       "...           ...    ...         ...    ...\n",
       "18654      420101    7.0    0.414351     15\n",
       "10468      260195    2.0   17.000000     15\n",
       "7900       220071    1.0   16.000000     15\n",
       "20798      450565    1.0    7.585649     15\n",
       "21062      450675    1.0    7.585649     15\n",
       "\n",
       "[15000 rows x 4 columns]"
      ]
     },
     "execution_count": 9,
     "metadata": {},
     "output_type": "execute_result"
    }
   ],
   "source": [
    "sr_tuner = model_training_svc.get_model_trainer(settings)\n",
    "\n",
    "dist_results_scatter = aa_tests.get_bootstrap_sample(\n",
    "    model_data = sr_tuner.modeling_df,\n",
    "    scatter = True,\n",
    "    shift_n = 1000,\n",
    "    shift_range = range(1,16,1)\n",
    ")\n",
    "\n",
    "dist_results_scatter = dist_results_scatter[['provider_id', 'score','mock_score', 'shift']]\n",
    "dist_results_scatter"
   ]
  },
  {
   "cell_type": "code",
   "execution_count": 10,
   "id": "aad0e4a0-2c79-49cf-a2fb-0f342693a787",
   "metadata": {},
   "outputs": [
    {
     "data": {
      "text/html": [
       "<div>\n",
       "<style scoped>\n",
       "    .dataframe tbody tr th:only-of-type {\n",
       "        vertical-align: middle;\n",
       "    }\n",
       "\n",
       "    .dataframe tbody tr th {\n",
       "        vertical-align: top;\n",
       "    }\n",
       "\n",
       "    .dataframe thead th {\n",
       "        text-align: right;\n",
       "    }\n",
       "</style>\n",
       "<table border=\"1\" class=\"dataframe\">\n",
       "  <thead>\n",
       "    <tr style=\"text-align: right;\">\n",
       "      <th></th>\n",
       "      <th>provider_id</th>\n",
       "      <th>shift</th>\n",
       "      <th>group</th>\n",
       "      <th>score</th>\n",
       "    </tr>\n",
       "  </thead>\n",
       "  <tbody>\n",
       "    <tr>\n",
       "      <th>0</th>\n",
       "      <td>420053</td>\n",
       "      <td>1</td>\n",
       "      <td>Original Bootstrap Sample</td>\n",
       "      <td>3.000000</td>\n",
       "    </tr>\n",
       "    <tr>\n",
       "      <th>1</th>\n",
       "      <td>100213</td>\n",
       "      <td>1</td>\n",
       "      <td>Original Bootstrap Sample</td>\n",
       "      <td>1.000000</td>\n",
       "    </tr>\n",
       "    <tr>\n",
       "      <th>2</th>\n",
       "      <td>180139</td>\n",
       "      <td>1</td>\n",
       "      <td>Original Bootstrap Sample</td>\n",
       "      <td>6.000000</td>\n",
       "    </tr>\n",
       "    <tr>\n",
       "      <th>3</th>\n",
       "      <td>510008</td>\n",
       "      <td>1</td>\n",
       "      <td>Original Bootstrap Sample</td>\n",
       "      <td>2.000000</td>\n",
       "    </tr>\n",
       "    <tr>\n",
       "      <th>4</th>\n",
       "      <td>340075</td>\n",
       "      <td>1</td>\n",
       "      <td>Original Bootstrap Sample</td>\n",
       "      <td>2.000000</td>\n",
       "    </tr>\n",
       "    <tr>\n",
       "      <th>...</th>\n",
       "      <td>...</td>\n",
       "      <td>...</td>\n",
       "      <td>...</td>\n",
       "      <td>...</td>\n",
       "    </tr>\n",
       "    <tr>\n",
       "      <th>29995</th>\n",
       "      <td>420101</td>\n",
       "      <td>15</td>\n",
       "      <td>Artificial Anomaly</td>\n",
       "      <td>0.414351</td>\n",
       "    </tr>\n",
       "    <tr>\n",
       "      <th>29996</th>\n",
       "      <td>260195</td>\n",
       "      <td>15</td>\n",
       "      <td>Artificial Anomaly</td>\n",
       "      <td>17.000000</td>\n",
       "    </tr>\n",
       "    <tr>\n",
       "      <th>29997</th>\n",
       "      <td>220071</td>\n",
       "      <td>15</td>\n",
       "      <td>Artificial Anomaly</td>\n",
       "      <td>16.000000</td>\n",
       "    </tr>\n",
       "    <tr>\n",
       "      <th>29998</th>\n",
       "      <td>450565</td>\n",
       "      <td>15</td>\n",
       "      <td>Artificial Anomaly</td>\n",
       "      <td>7.585649</td>\n",
       "    </tr>\n",
       "    <tr>\n",
       "      <th>29999</th>\n",
       "      <td>450675</td>\n",
       "      <td>15</td>\n",
       "      <td>Artificial Anomaly</td>\n",
       "      <td>7.585649</td>\n",
       "    </tr>\n",
       "  </tbody>\n",
       "</table>\n",
       "<p>30000 rows × 4 columns</p>\n",
       "</div>"
      ],
      "text/plain": [
       "      provider_id  shift                      group      score\n",
       "0          420053      1  Original Bootstrap Sample   3.000000\n",
       "1          100213      1  Original Bootstrap Sample   1.000000\n",
       "2          180139      1  Original Bootstrap Sample   6.000000\n",
       "3          510008      1  Original Bootstrap Sample   2.000000\n",
       "4          340075      1  Original Bootstrap Sample   2.000000\n",
       "...           ...    ...                        ...        ...\n",
       "29995      420101     15         Artificial Anomaly   0.414351\n",
       "29996      260195     15         Artificial Anomaly  17.000000\n",
       "29997      220071     15         Artificial Anomaly  16.000000\n",
       "29998      450565     15         Artificial Anomaly   7.585649\n",
       "29999      450675     15         Artificial Anomaly   7.585649\n",
       "\n",
       "[30000 rows x 4 columns]"
      ]
     },
     "execution_count": 10,
     "metadata": {},
     "output_type": "execute_result"
    }
   ],
   "source": [
    "melted_dist_scatter = pd.melt(dist_results_scatter, id_vars = ['provider_id','shift'])\n",
    "melted_dist_scatter.loc[melted_dist_scatter['variable'] == 'score', 'variable'] = \"Original Bootstrap Sample\"\n",
    "melted_dist_scatter.loc[melted_dist_scatter['variable'] == 'mock_score', 'variable'] = \"Artificial Anomaly\"\n",
    "melted_dist_scatter = melted_dist_scatter.rename(columns = {'variable': 'group','value': 'score' })\n",
    "melted_dist_scatter"
   ]
  },
  {
   "cell_type": "code",
   "execution_count": 11,
   "id": "66ffe73a-19a4-4c4a-a4cc-0eadfeced382",
   "metadata": {
    "tags": []
   },
   "outputs": [
    {
     "data": {
      "image/png": "[encoded data removed]",
      "text/plain": [
       "<Figure size 1200x2400 with 30 Axes>"
      ]
     },
     "metadata": {},
     "output_type": "display_data"
    },
    {
     "data": {
      "text/plain": [
       "<ggplot: (8783884170997)>"
      ]
     },
     "execution_count": 11,
     "metadata": {},
     "output_type": "execute_result"
    }
   ],
   "source": [
    "plotnine.options.figure_size = (12,24)\n",
    "graph_df = melted_dist_scatter.copy()\n",
    "graph_df['shift'] = ('Shift ' + graph_df['shift'].astype(str).str.zfill(2))\n",
    "(ggplot(graph_df, \n",
    "        aes(x = 'score',\n",
    "            color = 'group',\n",
    "            fill = 'group')\n",
    "       )\n",
    " + labs(x = 'Measure Score', \n",
    "        y = 'Count',\n",
    "        color = 'Group',\n",
    "        fill = 'Group')\n",
    " + geom_histogram(binwidth = 1, alpha = 0.7) \n",
    " + scale_color_manual(values = [\"#F8766D\", \"#00BFC4\"], \n",
    "                      guide = False)\n",
    " + scale_fill_manual(values = [\"#F8766D\", \"#00BFC4\"],\n",
    "                     guide = False)\n",
    " + facet_grid('shift ~ group ')\n",
    ")"
   ]
  },
  {
   "cell_type": "markdown",
   "id": "c20ae294-5f7d-4910-8e68-66bb34723381",
   "metadata": {},
   "source": [
    "### Selecting Shift Range"
   ]
  },
  {
   "cell_type": "code",
   "execution_count": 12,
   "id": "8e65057a-f27f-4bcf-9cf2-db8cb5747891",
   "metadata": {},
   "outputs": [],
   "source": [
    "settings['shift_range'] = range(3, 10)"
   ]
  },
  {
   "cell_type": "markdown",
   "id": "332b1b60-04cf-4f21-b5c5-d3047319f99c",
   "metadata": {
    "tags": []
   },
   "source": [
    "## XGBoost Regression"
   ]
  },
  {
   "cell_type": "markdown",
   "id": "e9e3d0ec-6ce2-4f86-9324-0a5e5ffac807",
   "metadata": {
    "tags": []
   },
   "source": [
    "### Feature Importance"
   ]
  },
  {
   "cell_type": "code",
   "execution_count": 13,
   "id": "7e20c88a-dff3-4c46-89df-424ecd401c01",
   "metadata": {},
   "outputs": [],
   "source": [
    "xgbr_feature_importance_settings = {\n",
    "    \"model_type\": \"XGBRegression\", \n",
    "    \"xgbr_parameters\": {\n",
    "        'eta': [[0.05, 0.1, 0.2]], # [[0.05, 0.1, 0.2, 0.3]]\n",
    "        'gamma': [range(0, 3)],\n",
    "        'max_depth': [range(3, 11)], # [range(5, 10)]\n",
    "        'min_child_weight': [range(3, 11)], # [range(3, 10)]\n",
    "        'subsample': [[0.7, 1]], # [[1]] #.7 does 2/3 vars each time\n",
    "        'alpha': [[0, 1, 2]],\n",
    "    },\n",
    "    \"drop_cols\": ['provider_id', 'lag_diff', 'prov_mean_diff', 'lag2'],\n",
    "}\n",
    "\n",
    "settings = {**settings, **xgbr_feature_importance_settings}"
   ]
  },
  {
   "cell_type": "code",
   "execution_count": 14,
   "id": "91353f6b-7837-4bba-99d3-ab5e9389986e",
   "metadata": {
    "tags": []
   },
   "outputs": [
    {
     "data": {
      "image/png": "[encoded data removed]",
      "text/plain": [
       "<Figure size 640x480 with 1 Axes>"
      ]
     },
     "metadata": {},
     "output_type": "display_data"
    }
   ],
   "source": [
    "xgbr_tuner = model_training_svc.get_model_trainer(settings)\n",
    "xgbr_tuner.plot_feature_importance()"
   ]
  },
  {
   "cell_type": "code",
   "execution_count": 15,
   "id": "9e5a8058-3633-4565-86c2-f26f3ad98b11",
   "metadata": {},
   "outputs": [],
   "source": [
    "xgbr_drop_cols = ['provider_id', 'lag2', 'lag_diff', 'prov_mean_diff', 'quarter']\n",
    "xgbr_feature_importance_settings = {\n",
    "    \"model_type\": \"XGBRegression\",\n",
    "    \"drop_cols\": xgbr_drop_cols,\n",
    "}\n",
    "\n",
    "settings = {**settings, **xgbr_feature_importance_settings}"
   ]
  },
  {
   "cell_type": "code",
   "execution_count": 16,
   "id": "acae6779-82b8-47f0-8722-98d07b353a0b",
   "metadata": {},
   "outputs": [
    {
     "data": {
      "image/png": "[encoded data removed]",
      "text/plain": [
       "<Figure size 640x480 with 1 Axes>"
      ]
     },
     "metadata": {},
     "output_type": "display_data"
    }
   ],
   "source": [
    "xgbr_tuner = model_training_svc.get_model_trainer(settings)\n",
    "xgbr_tuner.plot_feature_importance()"
   ]
  },
  {
   "cell_type": "code",
   "execution_count": 17,
   "id": "d463e4b1-e3dc-49f3-8ae0-12638690636b",
   "metadata": {},
   "outputs": [
    {
     "data": {
      "text/html": [
       "<div>\n",
       "<style scoped>\n",
       "    .dataframe tbody tr th:only-of-type {\n",
       "        vertical-align: middle;\n",
       "    }\n",
       "\n",
       "    .dataframe tbody tr th {\n",
       "        vertical-align: top;\n",
       "    }\n",
       "\n",
       "    .dataframe thead th {\n",
       "        text-align: right;\n",
       "    }\n",
       "</style>\n",
       "<table border=\"1\" class=\"dataframe\">\n",
       "  <thead>\n",
       "    <tr style=\"text-align: right;\">\n",
       "      <th></th>\n",
       "      <th>score</th>\n",
       "      <th>lag1</th>\n",
       "      <th>year</th>\n",
       "      <th>prov_mean</th>\n",
       "    </tr>\n",
       "  </thead>\n",
       "  <tbody>\n",
       "    <tr>\n",
       "      <th>1</th>\n",
       "      <td>12.0</td>\n",
       "      <td>8.0</td>\n",
       "      <td>2013</td>\n",
       "      <td>8.000000</td>\n",
       "    </tr>\n",
       "    <tr>\n",
       "      <th>2</th>\n",
       "      <td>8.0</td>\n",
       "      <td>12.0</td>\n",
       "      <td>2014</td>\n",
       "      <td>10.000000</td>\n",
       "    </tr>\n",
       "    <tr>\n",
       "      <th>3</th>\n",
       "      <td>8.0</td>\n",
       "      <td>8.0</td>\n",
       "      <td>2014</td>\n",
       "      <td>9.333333</td>\n",
       "    </tr>\n",
       "    <tr>\n",
       "      <th>4</th>\n",
       "      <td>6.0</td>\n",
       "      <td>8.0</td>\n",
       "      <td>2015</td>\n",
       "      <td>9.000000</td>\n",
       "    </tr>\n",
       "    <tr>\n",
       "      <th>5</th>\n",
       "      <td>5.0</td>\n",
       "      <td>6.0</td>\n",
       "      <td>2016</td>\n",
       "      <td>8.400000</td>\n",
       "    </tr>\n",
       "    <tr>\n",
       "      <th>...</th>\n",
       "      <td>...</td>\n",
       "      <td>...</td>\n",
       "      <td>...</td>\n",
       "      <td>...</td>\n",
       "    </tr>\n",
       "    <tr>\n",
       "      <th>26859</th>\n",
       "      <td>4.0</td>\n",
       "      <td>3.0</td>\n",
       "      <td>2015</td>\n",
       "      <td>2.500000</td>\n",
       "    </tr>\n",
       "    <tr>\n",
       "      <th>26860</th>\n",
       "      <td>6.0</td>\n",
       "      <td>4.0</td>\n",
       "      <td>2016</td>\n",
       "      <td>2.800000</td>\n",
       "    </tr>\n",
       "    <tr>\n",
       "      <th>26861</th>\n",
       "      <td>3.0</td>\n",
       "      <td>6.0</td>\n",
       "      <td>2017</td>\n",
       "      <td>3.333333</td>\n",
       "    </tr>\n",
       "    <tr>\n",
       "      <th>26862</th>\n",
       "      <td>4.0</td>\n",
       "      <td>3.0</td>\n",
       "      <td>2018</td>\n",
       "      <td>3.285714</td>\n",
       "    </tr>\n",
       "    <tr>\n",
       "      <th>26863</th>\n",
       "      <td>5.0</td>\n",
       "      <td>4.0</td>\n",
       "      <td>2020</td>\n",
       "      <td>3.375000</td>\n",
       "    </tr>\n",
       "  </tbody>\n",
       "</table>\n",
       "<p>22976 rows × 4 columns</p>\n",
       "</div>"
      ],
      "text/plain": [
       "       score  lag1  year  prov_mean\n",
       "1       12.0   8.0  2013   8.000000\n",
       "2        8.0  12.0  2014  10.000000\n",
       "3        8.0   8.0  2014   9.333333\n",
       "4        6.0   8.0  2015   9.000000\n",
       "5        5.0   6.0  2016   8.400000\n",
       "...      ...   ...   ...        ...\n",
       "26859    4.0   3.0  2015   2.500000\n",
       "26860    6.0   4.0  2016   2.800000\n",
       "26861    3.0   6.0  2017   3.333333\n",
       "26862    4.0   3.0  2018   3.285714\n",
       "26863    5.0   4.0  2020   3.375000\n",
       "\n",
       "[22976 rows x 4 columns]"
      ]
     },
     "execution_count": 17,
     "metadata": {},
     "output_type": "execute_result"
    }
   ],
   "source": [
    "xgbr_tuner.modeling_df"
   ]
  },
  {
   "cell_type": "markdown",
   "id": "396fe435-7abe-4733-8eaf-752ec61e6394",
   "metadata": {
    "tags": []
   },
   "source": [
    "### Tuning"
   ]
  },
  {
   "cell_type": "code",
   "execution_count": 18,
   "id": "e917fc1d-f8c7-459b-90ea-5e4393357776",
   "metadata": {},
   "outputs": [],
   "source": [
    "candidate = None\n",
    "if not SKIP_TUNING:\n",
    "    candidate = xgbr_tuner.tune()"
   ]
  },
  {
   "cell_type": "code",
   "execution_count": 19,
   "id": "326225b1-4c3b-4488-8482-a468e573df31",
   "metadata": {},
   "outputs": [],
   "source": [
    "candidate"
   ]
  },
  {
   "cell_type": "markdown",
   "id": "bfaa0956-b395-438b-9d98-8830f95e611d",
   "metadata": {
    "tags": []
   },
   "source": [
    "### Model Selection"
   ]
  },
  {
   "cell_type": "markdown",
   "id": "486c736d-2685-4f0a-bfc5-edb7e39898f3",
   "metadata": {},
   "source": [
    "Make sure `model_run_data_path` is set in settings to the tuning result path.\n",
    "Make sure `model_type` is set in settings to `XGBRegression`, `Isolation Forest`, or `Ensemble`\n",
    "\n",
    "Call `model_selector = model_selection_main.get_model_selector(settings)` to get the appropriate selector.\n",
    "Then call `model_selector.get_top_models()` to get the top models\n",
    "\n",
    "To get the candidate model that matches one of the top_model:\n",
    "     Call `model_selector.get_candidate_model_by_index(INDEX)` to get the candidate model\n",
    "     Call `model_selector.get_candidate_model_params_by_index(INDEX)` to get the candidate model params"
   ]
  },
  {
   "cell_type": "markdown",
   "id": "9df972c0-4b9d-4c74-88b5-554a3a04f01a",
   "metadata": {},
   "source": [
    "For `model_run_data_path` right click the file in side nav and choose `Copy Path`. Paste that and add a `/root/` before it."
   ]
  },
  {
   "cell_type": "code",
   "execution_count": 20,
   "id": "4e0682a4-e259-46ed-8cef-f753993ccf60",
   "metadata": {},
   "outputs": [
    {
     "name": "stdout",
     "output_type": "stream",
     "text": [
      "Using result:  model_runs/xgboost_regression/tuning_results_run_2022-12-02-14h43m.csv\n"
     ]
    }
   ],
   "source": [
    "list_of_runs = glob.glob(f\"{settings.get('run_save_path')}/xgboost_regression/*.csv\")\n",
    "latest_run = max(list_of_runs, key=os.path.getctime)\n",
    "print(\"Using result: \", latest_run)\n",
    "\n",
    "xgbr_settings = {\n",
    "    \"model_run_data_path\": latest_run,    \n",
    "    \"model_type\": \"XGBRegression\"\n",
    "}\n",
    "\n",
    "settings = {**settings, **xgbr_settings}"
   ]
  },
  {
   "cell_type": "code",
   "execution_count": 21,
   "id": "d315d07a-d9f9-48b6-9b4f-a373326be515",
   "metadata": {
    "tags": []
   },
   "outputs": [
    {
     "data": {
      "text/html": [
       "<div>\n",
       "<style scoped>\n",
       "    .dataframe tbody tr th:only-of-type {\n",
       "        vertical-align: middle;\n",
       "    }\n",
       "\n",
       "    .dataframe tbody tr th {\n",
       "        vertical-align: top;\n",
       "    }\n",
       "\n",
       "    .dataframe thead th {\n",
       "        text-align: right;\n",
       "    }\n",
       "</style>\n",
       "<table border=\"1\" class=\"dataframe\">\n",
       "  <thead>\n",
       "    <tr style=\"text-align: right;\">\n",
       "      <th></th>\n",
       "      <th>mean_test_score</th>\n",
       "      <th>std_test_score</th>\n",
       "      <th>rank_test_score</th>\n",
       "      <th>param_alpha</th>\n",
       "      <th>param_eta</th>\n",
       "      <th>param_gamma</th>\n",
       "      <th>param_max_depth</th>\n",
       "      <th>param_min_child_weight</th>\n",
       "      <th>param_subsample</th>\n",
       "      <th>params</th>\n",
       "    </tr>\n",
       "  </thead>\n",
       "  <tbody>\n",
       "    <tr>\n",
       "      <th>1892</th>\n",
       "      <td>-1.5081</td>\n",
       "      <td>0.2438</td>\n",
       "      <td>1</td>\n",
       "      <td>1</td>\n",
       "      <td>0.10</td>\n",
       "      <td>2</td>\n",
       "      <td>9</td>\n",
       "      <td>5</td>\n",
       "      <td>0.7</td>\n",
       "      <td>{'alpha': 1, 'eta': 0.1, 'gamma': 2, 'max_dept...</td>\n",
       "    </tr>\n",
       "    <tr>\n",
       "      <th>3044</th>\n",
       "      <td>-1.5085</td>\n",
       "      <td>0.2400</td>\n",
       "      <td>2</td>\n",
       "      <td>2</td>\n",
       "      <td>0.10</td>\n",
       "      <td>2</td>\n",
       "      <td>9</td>\n",
       "      <td>5</td>\n",
       "      <td>0.7</td>\n",
       "      <td>{'alpha': 2, 'eta': 0.1, 'gamma': 2, 'max_dept...</td>\n",
       "    </tr>\n",
       "    <tr>\n",
       "      <th>2932</th>\n",
       "      <td>-1.5088</td>\n",
       "      <td>0.2433</td>\n",
       "      <td>3</td>\n",
       "      <td>2</td>\n",
       "      <td>0.10</td>\n",
       "      <td>1</td>\n",
       "      <td>10</td>\n",
       "      <td>5</td>\n",
       "      <td>0.7</td>\n",
       "      <td>{'alpha': 2, 'eta': 0.1, 'gamma': 1, 'max_dept...</td>\n",
       "    </tr>\n",
       "    <tr>\n",
       "      <th>2788</th>\n",
       "      <td>-1.5089</td>\n",
       "      <td>0.2414</td>\n",
       "      <td>4</td>\n",
       "      <td>2</td>\n",
       "      <td>0.10</td>\n",
       "      <td>0</td>\n",
       "      <td>9</td>\n",
       "      <td>5</td>\n",
       "      <td>0.7</td>\n",
       "      <td>{'alpha': 2, 'eta': 0.1, 'gamma': 0, 'max_dept...</td>\n",
       "    </tr>\n",
       "    <tr>\n",
       "      <th>2804</th>\n",
       "      <td>-1.5093</td>\n",
       "      <td>0.2420</td>\n",
       "      <td>5</td>\n",
       "      <td>2</td>\n",
       "      <td>0.10</td>\n",
       "      <td>0</td>\n",
       "      <td>10</td>\n",
       "      <td>5</td>\n",
       "      <td>0.7</td>\n",
       "      <td>{'alpha': 2, 'eta': 0.1, 'gamma': 0, 'max_dept...</td>\n",
       "    </tr>\n",
       "    <tr>\n",
       "      <th>2916</th>\n",
       "      <td>-1.5095</td>\n",
       "      <td>0.2410</td>\n",
       "      <td>6</td>\n",
       "      <td>2</td>\n",
       "      <td>0.10</td>\n",
       "      <td>1</td>\n",
       "      <td>9</td>\n",
       "      <td>5</td>\n",
       "      <td>0.7</td>\n",
       "      <td>{'alpha': 2, 'eta': 0.1, 'gamma': 1, 'max_dept...</td>\n",
       "    </tr>\n",
       "    <tr>\n",
       "      <th>2377</th>\n",
       "      <td>-1.5101</td>\n",
       "      <td>0.2473</td>\n",
       "      <td>7</td>\n",
       "      <td>2</td>\n",
       "      <td>0.05</td>\n",
       "      <td>0</td>\n",
       "      <td>7</td>\n",
       "      <td>7</td>\n",
       "      <td>1.0</td>\n",
       "      <td>{'alpha': 2, 'eta': 0.05, 'gamma': 0, 'max_dep...</td>\n",
       "    </tr>\n",
       "    <tr>\n",
       "      <th>3060</th>\n",
       "      <td>-1.5106</td>\n",
       "      <td>0.2412</td>\n",
       "      <td>8</td>\n",
       "      <td>2</td>\n",
       "      <td>0.10</td>\n",
       "      <td>2</td>\n",
       "      <td>10</td>\n",
       "      <td>5</td>\n",
       "      <td>0.7</td>\n",
       "      <td>{'alpha': 2, 'eta': 0.1, 'gamma': 2, 'max_dept...</td>\n",
       "    </tr>\n",
       "    <tr>\n",
       "      <th>2649</th>\n",
       "      <td>-1.5110</td>\n",
       "      <td>0.2466</td>\n",
       "      <td>9</td>\n",
       "      <td>2</td>\n",
       "      <td>0.05</td>\n",
       "      <td>2</td>\n",
       "      <td>8</td>\n",
       "      <td>7</td>\n",
       "      <td>1.0</td>\n",
       "      <td>{'alpha': 2, 'eta': 0.05, 'gamma': 2, 'max_dep...</td>\n",
       "    </tr>\n",
       "    <tr>\n",
       "      <th>1908</th>\n",
       "      <td>-1.5112</td>\n",
       "      <td>0.2426</td>\n",
       "      <td>10</td>\n",
       "      <td>1</td>\n",
       "      <td>0.10</td>\n",
       "      <td>2</td>\n",
       "      <td>10</td>\n",
       "      <td>5</td>\n",
       "      <td>0.7</td>\n",
       "      <td>{'alpha': 1, 'eta': 0.1, 'gamma': 2, 'max_dept...</td>\n",
       "    </tr>\n",
       "  </tbody>\n",
       "</table>\n",
       "</div>"
      ],
      "text/plain": [
       "      mean_test_score  std_test_score  rank_test_score  param_alpha  \\\n",
       "1892          -1.5081          0.2438                1            1   \n",
       "3044          -1.5085          0.2400                2            2   \n",
       "2932          -1.5088          0.2433                3            2   \n",
       "2788          -1.5089          0.2414                4            2   \n",
       "2804          -1.5093          0.2420                5            2   \n",
       "2916          -1.5095          0.2410                6            2   \n",
       "2377          -1.5101          0.2473                7            2   \n",
       "3060          -1.5106          0.2412                8            2   \n",
       "2649          -1.5110          0.2466                9            2   \n",
       "1908          -1.5112          0.2426               10            1   \n",
       "\n",
       "      param_eta  param_gamma  param_max_depth  param_min_child_weight  \\\n",
       "1892       0.10            2                9                       5   \n",
       "3044       0.10            2                9                       5   \n",
       "2932       0.10            1               10                       5   \n",
       "2788       0.10            0                9                       5   \n",
       "2804       0.10            0               10                       5   \n",
       "2916       0.10            1                9                       5   \n",
       "2377       0.05            0                7                       7   \n",
       "3060       0.10            2               10                       5   \n",
       "2649       0.05            2                8                       7   \n",
       "1908       0.10            2               10                       5   \n",
       "\n",
       "      param_subsample                                             params  \n",
       "1892              0.7  {'alpha': 1, 'eta': 0.1, 'gamma': 2, 'max_dept...  \n",
       "3044              0.7  {'alpha': 2, 'eta': 0.1, 'gamma': 2, 'max_dept...  \n",
       "2932              0.7  {'alpha': 2, 'eta': 0.1, 'gamma': 1, 'max_dept...  \n",
       "2788              0.7  {'alpha': 2, 'eta': 0.1, 'gamma': 0, 'max_dept...  \n",
       "2804              0.7  {'alpha': 2, 'eta': 0.1, 'gamma': 0, 'max_dept...  \n",
       "2916              0.7  {'alpha': 2, 'eta': 0.1, 'gamma': 1, 'max_dept...  \n",
       "2377              1.0  {'alpha': 2, 'eta': 0.05, 'gamma': 0, 'max_dep...  \n",
       "3060              0.7  {'alpha': 2, 'eta': 0.1, 'gamma': 2, 'max_dept...  \n",
       "2649              1.0  {'alpha': 2, 'eta': 0.05, 'gamma': 2, 'max_dep...  \n",
       "1908              0.7  {'alpha': 1, 'eta': 0.1, 'gamma': 2, 'max_dept...  "
      ]
     },
     "execution_count": 21,
     "metadata": {},
     "output_type": "execute_result"
    }
   ],
   "source": [
    "xgbr_model_selector = model_selection_svc.get_model_selector(settings)\n",
    "xgbr_model_selector.get_top_models()"
   ]
  },
  {
   "cell_type": "code",
   "execution_count": 22,
   "id": "43b862ce-121f-4db8-827e-d324b75a83ca",
   "metadata": {},
   "outputs": [
    {
     "data": {
      "text/plain": [
       "mean_fit_time         1.7049\n",
       "std_fit_time          0.5212\n",
       "mean_score_time        0.021\n",
       "std_score_time        0.0043\n",
       "param_alpha                2\n",
       "                       ...  \n",
       "split48_test_score   -1.5442\n",
       "split49_test_score   -1.7672\n",
       "mean_test_score       -1.511\n",
       "std_test_score        0.2466\n",
       "rank_test_score            9\n",
       "Name: 2649, Length: 64, dtype: object"
      ]
     },
     "execution_count": 22,
     "metadata": {},
     "output_type": "execute_result"
    }
   ],
   "source": [
    "xgbr_model_index = 2649\n",
    "# xgbr_model_index = xgbr_model_selector.get_top_models().iloc[0].name # default top model\n",
    "xgbr_model_selector.get_candidate_model_by_index(xgbr_model_index)"
   ]
  },
  {
   "cell_type": "code",
   "execution_count": 23,
   "id": "049b75c5-3523-45ee-88e6-eec4e8f25366",
   "metadata": {},
   "outputs": [
    {
     "data": {
      "text/plain": [
       "{'alpha': 2,\n",
       " 'eta': 0.05,\n",
       " 'gamma': 2,\n",
       " 'max_depth': 8,\n",
       " 'min_child_weight': 7,\n",
       " 'subsample': 1}"
      ]
     },
     "execution_count": 23,
     "metadata": {},
     "output_type": "execute_result"
    }
   ],
   "source": [
    "xgbr_model_selector.get_candidate_model_params_by_index(xgbr_model_index)"
   ]
  },
  {
   "cell_type": "markdown",
   "id": "87ffaf0e-630e-47b0-b034-a614e5e88a56",
   "metadata": {
    "tags": []
   },
   "source": [
    "### Final Fit"
   ]
  },
  {
   "cell_type": "code",
   "execution_count": 24,
   "id": "665e8760-a94a-400b-aef8-6730cc3a1944",
   "metadata": {},
   "outputs": [],
   "source": [
    "xgbr_final_fit_settings = {\n",
    "    \"model_type\": \"XGBRegression\",\n",
    "    \"model_dataset_path\": settings.get('save_modeling_dataset_path'),\n",
    "    \"xgbr_final_params\": xgbr_model_selector.get_candidate_model_params_by_index(xgbr_model_index),\n",
    "    \"drop_cols\": xgbr_drop_cols,\n",
    "}\n",
    "\n",
    "settings = {**settings, **xgbr_final_fit_settings}"
   ]
  },
  {
   "cell_type": "code",
   "execution_count": 25,
   "id": "3b96b787-6727-408f-995c-9db6c94adfac",
   "metadata": {},
   "outputs": [],
   "source": [
    "xgbr_fitter = final_fitting_svc.get_final_fitter(settings)\n",
    "xgbr_model = xgbr_fitter.fit()"
   ]
  },
  {
   "cell_type": "code",
   "execution_count": 26,
   "id": "529bee25-4ef7-4bbb-a9b3-ef5e343b1b58",
   "metadata": {},
   "outputs": [
    {
     "data": {
      "text/plain": [
       "XGBRegressor(alpha=2, base_score=0.5, booster='gbtree', callbacks=None,\n",
       "             colsample_bylevel=1, colsample_bynode=1, colsample_bytree=1,\n",
       "             early_stopping_rounds=None, enable_categorical=False, eta=0.05,\n",
       "             eval_metric=None, gamma=2, gpu_id=-1, grow_policy='depthwise',\n",
       "             importance_type=None, interaction_constraints='',\n",
       "             learning_rate=0.0500000007, max_bin=256, max_cat_to_onehot=4,\n",
       "             max_delta_step=0, max_depth=8, max_leaves=0, min_child_weight=7,\n",
       "             missing=nan, monotone_constraints='()', n_estimators=100, n_jobs=0,\n",
       "             num_parallel_tree=1, objective='reg:squarederror',\n",
       "             predictor='auto', ...)"
      ]
     },
     "execution_count": 26,
     "metadata": {},
     "output_type": "execute_result"
    }
   ],
   "source": [
    "xgbr_model"
   ]
  },
  {
   "cell_type": "markdown",
   "id": "f95cb1a5-d86f-460e-85ed-03437e8990fa",
   "metadata": {},
   "source": [
    "### Threshold / AAT Results"
   ]
  },
  {
   "cell_type": "code",
   "execution_count": 27,
   "id": "6a0223f6-dfea-4381-a1f2-e2a8559eb502",
   "metadata": {},
   "outputs": [
    {
     "data": {
      "text/plain": [
       "['lag1', 'year', 'prov_mean']"
      ]
     },
     "execution_count": 27,
     "metadata": {},
     "output_type": "execute_result"
    }
   ],
   "source": [
    "xgbr_selected_features = list(xgbr_fitter.modeling_df.columns)\n",
    "xgbr_selected_features.remove('score')\n",
    "xgbr_selected_features"
   ]
  },
  {
   "cell_type": "code",
   "execution_count": 28,
   "id": "5b3d77f9-b412-4a7a-a865-f1a911ef5555",
   "metadata": {},
   "outputs": [
    {
     "name": "stdout",
     "output_type": "stream",
     "text": [
      "Using Threshold 2.0\n"
     ]
    },
    {
     "data": {
      "text/html": [
       "<div>\n",
       "<style scoped>\n",
       "    .dataframe tbody tr th:only-of-type {\n",
       "        vertical-align: middle;\n",
       "    }\n",
       "\n",
       "    .dataframe tbody tr th {\n",
       "        vertical-align: top;\n",
       "    }\n",
       "\n",
       "    .dataframe thead th {\n",
       "        text-align: right;\n",
       "    }\n",
       "</style>\n",
       "<table border=\"1\" class=\"dataframe\">\n",
       "  <thead>\n",
       "    <tr style=\"text-align: right;\">\n",
       "      <th></th>\n",
       "      <th>Threshold</th>\n",
       "      <th>AUROC</th>\n",
       "    </tr>\n",
       "  </thead>\n",
       "  <tbody>\n",
       "    <tr>\n",
       "      <th>1</th>\n",
       "      <td>2</td>\n",
       "      <td>0.894643</td>\n",
       "    </tr>\n",
       "    <tr>\n",
       "      <th>0</th>\n",
       "      <td>1</td>\n",
       "      <td>0.884357</td>\n",
       "    </tr>\n",
       "    <tr>\n",
       "      <th>2</th>\n",
       "      <td>3</td>\n",
       "      <td>0.821143</td>\n",
       "    </tr>\n",
       "    <tr>\n",
       "      <th>3</th>\n",
       "      <td>4</td>\n",
       "      <td>0.740429</td>\n",
       "    </tr>\n",
       "    <tr>\n",
       "      <th>4</th>\n",
       "      <td>5</td>\n",
       "      <td>0.659143</td>\n",
       "    </tr>\n",
       "  </tbody>\n",
       "</table>\n",
       "</div>"
      ],
      "text/plain": [
       "   Threshold     AUROC\n",
       "1          2  0.894643\n",
       "0          1  0.884357\n",
       "2          3  0.821143\n",
       "3          4  0.740429\n",
       "4          5  0.659143"
      ]
     },
     "execution_count": 28,
     "metadata": {},
     "output_type": "execute_result"
    }
   ],
   "source": [
    "threshold_range = range(1,100)\n",
    "\n",
    "xgbr_aat_res = aa_tests.artificial_anomaly_test_xgb(\n",
    "    model = xgbr_model, \n",
    "    model_data = xgbr_fitter.modeling_df,\n",
    "    selected_features = xgbr_selected_features,\n",
    "    shift_range = settings.get('shift_range'),\n",
    "    threshold_range = threshold_range\n",
    ")[:5]\n",
    "\n",
    "xgbr_threshold = xgbr_aat_res.iloc[0]['Threshold']\n",
    "print(\"Using Threshold\", xgbr_threshold)\n",
    "\n",
    "xgbr_aat_res"
   ]
  },
  {
   "cell_type": "markdown",
   "id": "7a7b5a47-8386-4b67-8fb9-3424f363101c",
   "metadata": {
    "tags": []
   },
   "source": [
    "### CV RMSE"
   ]
  },
  {
   "cell_type": "code",
   "execution_count": 29,
   "id": "523b46c5-1a8a-4e2b-a80c-9d5919297878",
   "metadata": {},
   "outputs": [
    {
     "name": "stderr",
     "output_type": "stream",
     "text": [
      "[Parallel(n_jobs=-1)]: Using backend LokyBackend with 4 concurrent workers.\n",
      "[Parallel(n_jobs=-1)]: Done  42 tasks      | elapsed:   12.4s\n",
      "[Parallel(n_jobs=-1)]: Done  50 out of  50 | elapsed:   14.0s finished\n"
     ]
    },
    {
     "data": {
      "text/plain": [
       "1.811659451697596"
      ]
     },
     "execution_count": 29,
     "metadata": {},
     "output_type": "execute_result"
    }
   ],
   "source": [
    "xgbr_cv_rmse = None\n",
    "if not SKIP_RMSE_TEST:\n",
    "    _, xgbr_cv_rmse = xgbr_test.test_xgbr(xgbr_fitter.modeling_df)\n",
    "xgbr_cv_rmse"
   ]
  },
  {
   "cell_type": "markdown",
   "id": "3fa77fd8-9e85-471e-8454-c99ebbc84c4d",
   "metadata": {
    "tags": []
   },
   "source": [
    "### Save Model Pickle"
   ]
  },
  {
   "cell_type": "code",
   "execution_count": 30,
   "id": "0ef94e98-5f54-4fa6-91e8-ae03f2931912",
   "metadata": {},
   "outputs": [
    {
     "name": "stdout",
     "output_type": "stream",
     "text": [
      "Saving models/xgboost_regression/model_info_2022-12-07-19h53m.p\n"
     ]
    }
   ],
   "source": [
    "if SAVE_MODEL_PICKLES:\n",
    "    to_save = {\n",
    "        'model':xgbr_model, \n",
    "        'threshold': xgbr_threshold, \n",
    "        'cv_rmse': xgbr_cv_rmse,\n",
    "        'selected_features': xgbr_selected_features,\n",
    "        'drop_cols': xgbr_drop_cols\n",
    "    }\n",
    "    model_pickle_path = settings.get('model_pickle_path')\n",
    "    current_date = datetime.now().strftime(\"%Y-%m-%d-%Hh%Mm\")\n",
    "    \n",
    "    path = f\"{model_pickle_path}/xgboost_regression/model_info_{current_date}.p\"\n",
    "    Path(f\"{model_pickle_path}/xgboost_regression\").mkdir(parents=True, exist_ok=True)\n",
    "\n",
    "    with open(path, 'wb') as handle:\n",
    "        print(f\"Saving {path}\")\n",
    "        pickle.dump(to_save, handle)"
   ]
  },
  {
   "cell_type": "markdown",
   "id": "78415f0e-3091-49ec-8cd1-c23fd2f9d289",
   "metadata": {
    "tags": []
   },
   "source": [
    "## Isolation Forest"
   ]
  },
  {
   "cell_type": "markdown",
   "id": "2ac8e350-28ba-42ff-ae86-a19a0fab175b",
   "metadata": {
    "tags": []
   },
   "source": [
    "### Tuning"
   ]
  },
  {
   "cell_type": "code",
   "execution_count": 31,
   "id": "63ec156f-e6d4-4f8c-8168-fc65b136afcf",
   "metadata": {},
   "outputs": [],
   "source": [
    "if_drop_cols = ['provider_id', 'lag2', 'year', 'quarter']\n",
    "if_training_settings = {\n",
    "    \"model_type\": \"Isolation Forest\", \n",
    "    \"if_parameters\": {\n",
    "        # Features to include\n",
    "        'features_included': [['lag_diff', 'prov_mean_diff']],\n",
    "        # The number of base estimators in the ensemble.\n",
    "        'n_estimators': [50, 75, 100, 150, 200, 300],\n",
    "        # The number of samples to draw from X to train each base estimator.\n",
    "        'max_samples': [512, 'auto', 200, 175, 128, 64],\n",
    "        # The number of features to draw from X to train each base estimator.\n",
    "        'max_features': [0.5, 1],\n",
    "        # If True, individual trees are fit on random subsets of the training data sampled with replacement.\n",
    "        # If False, sampling without replacement is performed.\n",
    "        'bootstrap': [False, True]\n",
    "    },\n",
    "    \"drop_cols\": if_drop_cols, # use just lag1, prov_mean\n",
    "}\n",
    "\n",
    "settings = {**settings, **if_training_settings}"
   ]
  },
  {
   "cell_type": "code",
   "execution_count": 32,
   "id": "02526fc4-152b-43c6-8a35-cd4c7be278fc",
   "metadata": {},
   "outputs": [],
   "source": [
    "if_trainer = model_training_svc.get_model_trainer(settings)"
   ]
  },
  {
   "cell_type": "code",
   "execution_count": 33,
   "id": "af71d677-351c-4e05-a982-621ef8a9f246",
   "metadata": {},
   "outputs": [
    {
     "data": {
      "text/html": [
       "<div>\n",
       "<style scoped>\n",
       "    .dataframe tbody tr th:only-of-type {\n",
       "        vertical-align: middle;\n",
       "    }\n",
       "\n",
       "    .dataframe tbody tr th {\n",
       "        vertical-align: top;\n",
       "    }\n",
       "\n",
       "    .dataframe thead th {\n",
       "        text-align: right;\n",
       "    }\n",
       "</style>\n",
       "<table border=\"1\" class=\"dataframe\">\n",
       "  <thead>\n",
       "    <tr style=\"text-align: right;\">\n",
       "      <th></th>\n",
       "      <th>score</th>\n",
       "      <th>lag1</th>\n",
       "      <th>lag_diff</th>\n",
       "      <th>prov_mean</th>\n",
       "      <th>prov_mean_diff</th>\n",
       "    </tr>\n",
       "  </thead>\n",
       "  <tbody>\n",
       "    <tr>\n",
       "      <th>1</th>\n",
       "      <td>12.0</td>\n",
       "      <td>8.0</td>\n",
       "      <td>4.0</td>\n",
       "      <td>8.000000</td>\n",
       "      <td>4.000000</td>\n",
       "    </tr>\n",
       "    <tr>\n",
       "      <th>2</th>\n",
       "      <td>8.0</td>\n",
       "      <td>12.0</td>\n",
       "      <td>-4.0</td>\n",
       "      <td>10.000000</td>\n",
       "      <td>-2.000000</td>\n",
       "    </tr>\n",
       "    <tr>\n",
       "      <th>3</th>\n",
       "      <td>8.0</td>\n",
       "      <td>8.0</td>\n",
       "      <td>0.0</td>\n",
       "      <td>9.333333</td>\n",
       "      <td>-1.333333</td>\n",
       "    </tr>\n",
       "    <tr>\n",
       "      <th>4</th>\n",
       "      <td>6.0</td>\n",
       "      <td>8.0</td>\n",
       "      <td>-2.0</td>\n",
       "      <td>9.000000</td>\n",
       "      <td>-3.000000</td>\n",
       "    </tr>\n",
       "    <tr>\n",
       "      <th>5</th>\n",
       "      <td>5.0</td>\n",
       "      <td>6.0</td>\n",
       "      <td>-1.0</td>\n",
       "      <td>8.400000</td>\n",
       "      <td>-3.400000</td>\n",
       "    </tr>\n",
       "    <tr>\n",
       "      <th>...</th>\n",
       "      <td>...</td>\n",
       "      <td>...</td>\n",
       "      <td>...</td>\n",
       "      <td>...</td>\n",
       "      <td>...</td>\n",
       "    </tr>\n",
       "    <tr>\n",
       "      <th>26859</th>\n",
       "      <td>4.0</td>\n",
       "      <td>3.0</td>\n",
       "      <td>1.0</td>\n",
       "      <td>2.500000</td>\n",
       "      <td>1.500000</td>\n",
       "    </tr>\n",
       "    <tr>\n",
       "      <th>26860</th>\n",
       "      <td>6.0</td>\n",
       "      <td>4.0</td>\n",
       "      <td>2.0</td>\n",
       "      <td>2.800000</td>\n",
       "      <td>3.200000</td>\n",
       "    </tr>\n",
       "    <tr>\n",
       "      <th>26861</th>\n",
       "      <td>3.0</td>\n",
       "      <td>6.0</td>\n",
       "      <td>-3.0</td>\n",
       "      <td>3.333333</td>\n",
       "      <td>-0.333333</td>\n",
       "    </tr>\n",
       "    <tr>\n",
       "      <th>26862</th>\n",
       "      <td>4.0</td>\n",
       "      <td>3.0</td>\n",
       "      <td>1.0</td>\n",
       "      <td>3.285714</td>\n",
       "      <td>0.714286</td>\n",
       "    </tr>\n",
       "    <tr>\n",
       "      <th>26863</th>\n",
       "      <td>5.0</td>\n",
       "      <td>4.0</td>\n",
       "      <td>1.0</td>\n",
       "      <td>3.375000</td>\n",
       "      <td>1.625000</td>\n",
       "    </tr>\n",
       "  </tbody>\n",
       "</table>\n",
       "<p>22976 rows × 5 columns</p>\n",
       "</div>"
      ],
      "text/plain": [
       "       score  lag1  lag_diff  prov_mean  prov_mean_diff\n",
       "1       12.0   8.0       4.0   8.000000        4.000000\n",
       "2        8.0  12.0      -4.0  10.000000       -2.000000\n",
       "3        8.0   8.0       0.0   9.333333       -1.333333\n",
       "4        6.0   8.0      -2.0   9.000000       -3.000000\n",
       "5        5.0   6.0      -1.0   8.400000       -3.400000\n",
       "...      ...   ...       ...        ...             ...\n",
       "26859    4.0   3.0       1.0   2.500000        1.500000\n",
       "26860    6.0   4.0       2.0   2.800000        3.200000\n",
       "26861    3.0   6.0      -3.0   3.333333       -0.333333\n",
       "26862    4.0   3.0       1.0   3.285714        0.714286\n",
       "26863    5.0   4.0       1.0   3.375000        1.625000\n",
       "\n",
       "[22976 rows x 5 columns]"
      ]
     },
     "execution_count": 33,
     "metadata": {},
     "output_type": "execute_result"
    }
   ],
   "source": [
    "if_trainer.modeling_df"
   ]
  },
  {
   "cell_type": "code",
   "execution_count": 34,
   "id": "3292d288-9f49-4c57-bdc7-3a146c251825",
   "metadata": {},
   "outputs": [],
   "source": [
    "candidate = None\n",
    "if not SKIP_TUNING:\n",
    "    candidate = if_trainer.tune()"
   ]
  },
  {
   "cell_type": "code",
   "execution_count": 35,
   "id": "4f180ae1-d93c-48cd-9365-dd698db4428e",
   "metadata": {},
   "outputs": [],
   "source": [
    "candidate"
   ]
  },
  {
   "cell_type": "markdown",
   "id": "3ebb2815-6bcd-4d94-8bcf-4faf12dcd5eb",
   "metadata": {
    "tags": []
   },
   "source": [
    "### Model Selection"
   ]
  },
  {
   "cell_type": "code",
   "execution_count": 36,
   "id": "37af21d1-5cf0-46c3-8b22-5d7edd3f946c",
   "metadata": {},
   "outputs": [
    {
     "name": "stdout",
     "output_type": "stream",
     "text": [
      "Using result:  model_runs/isolation_forest/tuning_results_run_2022-12-05-20h30m.csv\n"
     ]
    }
   ],
   "source": [
    "list_of_runs = glob.glob(f\"{settings.get('run_save_path')}/isolation_forest/*.csv\")\n",
    "latest_run = max(list_of_runs, key=os.path.getctime)\n",
    "print(\"Using result: \", latest_run)\n",
    "\n",
    "if_settings = {\n",
    "    \"model_run_data_path\": latest_run,    \n",
    "    \"model_type\": \"Isolation Forest\"\n",
    "}\n",
    "\n",
    "settings = {**settings, **if_settings}"
   ]
  },
  {
   "cell_type": "code",
   "execution_count": 37,
   "id": "a6629071-31f7-4e3b-b2ec-0ade296ebbf4",
   "metadata": {},
   "outputs": [
    {
     "data": {
      "text/html": [
       "<div>\n",
       "<style scoped>\n",
       "    .dataframe tbody tr th:only-of-type {\n",
       "        vertical-align: middle;\n",
       "    }\n",
       "\n",
       "    .dataframe tbody tr th {\n",
       "        vertical-align: top;\n",
       "    }\n",
       "\n",
       "    .dataframe thead th {\n",
       "        text-align: right;\n",
       "    }\n",
       "</style>\n",
       "<table border=\"1\" class=\"dataframe\">\n",
       "  <thead>\n",
       "    <tr style=\"text-align: right;\">\n",
       "      <th></th>\n",
       "      <th>bootstrap</th>\n",
       "      <th>features_included</th>\n",
       "      <th>max_features</th>\n",
       "      <th>max_samples</th>\n",
       "      <th>n_estimators</th>\n",
       "      <th>model_id</th>\n",
       "      <th>auroc_total</th>\n",
       "      <th>auroc_threshold_0.5</th>\n",
       "      <th>auroc_threshold_0.51</th>\n",
       "      <th>auroc_threshold_0.52</th>\n",
       "      <th>auroc_threshold_0.53</th>\n",
       "      <th>auroc_threshold_0.54</th>\n",
       "      <th>auroc_threshold_0.55</th>\n",
       "      <th>auroc_threshold_0.56</th>\n",
       "      <th>auroc_threshold_0.57</th>\n",
       "      <th>auroc_threshold_0.58</th>\n",
       "      <th>auroc_threshold_0.59</th>\n",
       "      <th>auroc_threshold_0.6</th>\n",
       "      <th>auroc_threshold_0.61</th>\n",
       "      <th>auroc_threshold_0.62</th>\n",
       "      <th>auroc_threshold_0.63</th>\n",
       "      <th>auroc_threshold_0.64</th>\n",
       "      <th>auroc_threshold_0.65</th>\n",
       "    </tr>\n",
       "  </thead>\n",
       "  <tbody>\n",
       "    <tr>\n",
       "      <th>36</th>\n",
       "      <td>False</td>\n",
       "      <td>[lag_diff, prov_mean_diff]</td>\n",
       "      <td>1.0</td>\n",
       "      <td>512</td>\n",
       "      <td>50</td>\n",
       "      <td>37</td>\n",
       "      <td>0.9666</td>\n",
       "      <td>0.9068</td>\n",
       "      <td>0.9129</td>\n",
       "      <td>0.9093</td>\n",
       "      <td>0.9115</td>\n",
       "      <td>0.8968</td>\n",
       "      <td>0.8951</td>\n",
       "      <td>0.8906</td>\n",
       "      <td>0.8850</td>\n",
       "      <td>0.8831</td>\n",
       "      <td>0.8675</td>\n",
       "      <td>0.8631</td>\n",
       "      <td>0.8579</td>\n",
       "      <td>0.8521</td>\n",
       "      <td>0.8382</td>\n",
       "      <td>0.8223</td>\n",
       "      <td>0.8178</td>\n",
       "    </tr>\n",
       "    <tr>\n",
       "      <th>0</th>\n",
       "      <td>False</td>\n",
       "      <td>[lag_diff, prov_mean_diff]</td>\n",
       "      <td>0.5</td>\n",
       "      <td>512</td>\n",
       "      <td>50</td>\n",
       "      <td>1</td>\n",
       "      <td>0.9662</td>\n",
       "      <td>0.9072</td>\n",
       "      <td>0.9132</td>\n",
       "      <td>0.9094</td>\n",
       "      <td>0.9115</td>\n",
       "      <td>0.8972</td>\n",
       "      <td>0.8957</td>\n",
       "      <td>0.8906</td>\n",
       "      <td>0.8850</td>\n",
       "      <td>0.8835</td>\n",
       "      <td>0.8678</td>\n",
       "      <td>0.8638</td>\n",
       "      <td>0.8581</td>\n",
       "      <td>0.8520</td>\n",
       "      <td>0.8381</td>\n",
       "      <td>0.8223</td>\n",
       "      <td>0.8175</td>\n",
       "    </tr>\n",
       "    <tr>\n",
       "      <th>2</th>\n",
       "      <td>False</td>\n",
       "      <td>[lag_diff, prov_mean_diff]</td>\n",
       "      <td>0.5</td>\n",
       "      <td>512</td>\n",
       "      <td>100</td>\n",
       "      <td>3</td>\n",
       "      <td>0.9658</td>\n",
       "      <td>0.9115</td>\n",
       "      <td>0.9112</td>\n",
       "      <td>0.9057</td>\n",
       "      <td>0.8998</td>\n",
       "      <td>0.8949</td>\n",
       "      <td>0.8908</td>\n",
       "      <td>0.8864</td>\n",
       "      <td>0.8724</td>\n",
       "      <td>0.8718</td>\n",
       "      <td>0.8653</td>\n",
       "      <td>0.8610</td>\n",
       "      <td>0.8541</td>\n",
       "      <td>0.8499</td>\n",
       "      <td>0.8252</td>\n",
       "      <td>0.8206</td>\n",
       "      <td>0.8139</td>\n",
       "    </tr>\n",
       "    <tr>\n",
       "      <th>38</th>\n",
       "      <td>False</td>\n",
       "      <td>[lag_diff, prov_mean_diff]</td>\n",
       "      <td>1.0</td>\n",
       "      <td>512</td>\n",
       "      <td>100</td>\n",
       "      <td>39</td>\n",
       "      <td>0.9658</td>\n",
       "      <td>0.9115</td>\n",
       "      <td>0.9112</td>\n",
       "      <td>0.9057</td>\n",
       "      <td>0.8998</td>\n",
       "      <td>0.8949</td>\n",
       "      <td>0.8908</td>\n",
       "      <td>0.8864</td>\n",
       "      <td>0.8724</td>\n",
       "      <td>0.8718</td>\n",
       "      <td>0.8653</td>\n",
       "      <td>0.8610</td>\n",
       "      <td>0.8541</td>\n",
       "      <td>0.8499</td>\n",
       "      <td>0.8252</td>\n",
       "      <td>0.8206</td>\n",
       "      <td>0.8139</td>\n",
       "    </tr>\n",
       "    <tr>\n",
       "      <th>1</th>\n",
       "      <td>False</td>\n",
       "      <td>[lag_diff, prov_mean_diff]</td>\n",
       "      <td>0.5</td>\n",
       "      <td>512</td>\n",
       "      <td>75</td>\n",
       "      <td>2</td>\n",
       "      <td>0.9657</td>\n",
       "      <td>0.9099</td>\n",
       "      <td>0.9103</td>\n",
       "      <td>0.9080</td>\n",
       "      <td>0.8965</td>\n",
       "      <td>0.8951</td>\n",
       "      <td>0.8891</td>\n",
       "      <td>0.8861</td>\n",
       "      <td>0.8723</td>\n",
       "      <td>0.8710</td>\n",
       "      <td>0.8649</td>\n",
       "      <td>0.8591</td>\n",
       "      <td>0.8539</td>\n",
       "      <td>0.8494</td>\n",
       "      <td>0.8237</td>\n",
       "      <td>0.8199</td>\n",
       "      <td>0.8139</td>\n",
       "    </tr>\n",
       "    <tr>\n",
       "      <th>37</th>\n",
       "      <td>False</td>\n",
       "      <td>[lag_diff, prov_mean_diff]</td>\n",
       "      <td>1.0</td>\n",
       "      <td>512</td>\n",
       "      <td>75</td>\n",
       "      <td>38</td>\n",
       "      <td>0.9657</td>\n",
       "      <td>0.9099</td>\n",
       "      <td>0.9103</td>\n",
       "      <td>0.9080</td>\n",
       "      <td>0.8965</td>\n",
       "      <td>0.8951</td>\n",
       "      <td>0.8891</td>\n",
       "      <td>0.8861</td>\n",
       "      <td>0.8723</td>\n",
       "      <td>0.8710</td>\n",
       "      <td>0.8649</td>\n",
       "      <td>0.8591</td>\n",
       "      <td>0.8539</td>\n",
       "      <td>0.8494</td>\n",
       "      <td>0.8237</td>\n",
       "      <td>0.8199</td>\n",
       "      <td>0.8139</td>\n",
       "    </tr>\n",
       "    <tr>\n",
       "      <th>3</th>\n",
       "      <td>False</td>\n",
       "      <td>[lag_diff, prov_mean_diff]</td>\n",
       "      <td>0.5</td>\n",
       "      <td>512</td>\n",
       "      <td>150</td>\n",
       "      <td>4</td>\n",
       "      <td>0.9656</td>\n",
       "      <td>0.9126</td>\n",
       "      <td>0.9083</td>\n",
       "      <td>0.9053</td>\n",
       "      <td>0.8999</td>\n",
       "      <td>0.8962</td>\n",
       "      <td>0.8924</td>\n",
       "      <td>0.8877</td>\n",
       "      <td>0.8854</td>\n",
       "      <td>0.8718</td>\n",
       "      <td>0.8669</td>\n",
       "      <td>0.8633</td>\n",
       "      <td>0.8560</td>\n",
       "      <td>0.8515</td>\n",
       "      <td>0.8261</td>\n",
       "      <td>0.8217</td>\n",
       "      <td>0.8145</td>\n",
       "    </tr>\n",
       "    <tr>\n",
       "      <th>39</th>\n",
       "      <td>False</td>\n",
       "      <td>[lag_diff, prov_mean_diff]</td>\n",
       "      <td>1.0</td>\n",
       "      <td>512</td>\n",
       "      <td>150</td>\n",
       "      <td>40</td>\n",
       "      <td>0.9656</td>\n",
       "      <td>0.9126</td>\n",
       "      <td>0.9083</td>\n",
       "      <td>0.9053</td>\n",
       "      <td>0.8999</td>\n",
       "      <td>0.8962</td>\n",
       "      <td>0.8924</td>\n",
       "      <td>0.8877</td>\n",
       "      <td>0.8854</td>\n",
       "      <td>0.8718</td>\n",
       "      <td>0.8669</td>\n",
       "      <td>0.8633</td>\n",
       "      <td>0.8560</td>\n",
       "      <td>0.8515</td>\n",
       "      <td>0.8261</td>\n",
       "      <td>0.8217</td>\n",
       "      <td>0.8145</td>\n",
       "    </tr>\n",
       "    <tr>\n",
       "      <th>5</th>\n",
       "      <td>False</td>\n",
       "      <td>[lag_diff, prov_mean_diff]</td>\n",
       "      <td>0.5</td>\n",
       "      <td>512</td>\n",
       "      <td>300</td>\n",
       "      <td>6</td>\n",
       "      <td>0.9655</td>\n",
       "      <td>0.9119</td>\n",
       "      <td>0.9080</td>\n",
       "      <td>0.9061</td>\n",
       "      <td>0.8991</td>\n",
       "      <td>0.8965</td>\n",
       "      <td>0.8931</td>\n",
       "      <td>0.8882</td>\n",
       "      <td>0.8845</td>\n",
       "      <td>0.8717</td>\n",
       "      <td>0.8698</td>\n",
       "      <td>0.8636</td>\n",
       "      <td>0.8583</td>\n",
       "      <td>0.8521</td>\n",
       "      <td>0.8265</td>\n",
       "      <td>0.8224</td>\n",
       "      <td>0.8147</td>\n",
       "    </tr>\n",
       "    <tr>\n",
       "      <th>41</th>\n",
       "      <td>False</td>\n",
       "      <td>[lag_diff, prov_mean_diff]</td>\n",
       "      <td>1.0</td>\n",
       "      <td>512</td>\n",
       "      <td>300</td>\n",
       "      <td>42</td>\n",
       "      <td>0.9655</td>\n",
       "      <td>0.9119</td>\n",
       "      <td>0.9080</td>\n",
       "      <td>0.9061</td>\n",
       "      <td>0.8991</td>\n",
       "      <td>0.8965</td>\n",
       "      <td>0.8931</td>\n",
       "      <td>0.8882</td>\n",
       "      <td>0.8845</td>\n",
       "      <td>0.8717</td>\n",
       "      <td>0.8698</td>\n",
       "      <td>0.8636</td>\n",
       "      <td>0.8583</td>\n",
       "      <td>0.8521</td>\n",
       "      <td>0.8265</td>\n",
       "      <td>0.8224</td>\n",
       "      <td>0.8147</td>\n",
       "    </tr>\n",
       "  </tbody>\n",
       "</table>\n",
       "</div>"
      ],
      "text/plain": [
       "    bootstrap           features_included  max_features max_samples  \\\n",
       "36      False  [lag_diff, prov_mean_diff]           1.0         512   \n",
       "0       False  [lag_diff, prov_mean_diff]           0.5         512   \n",
       "2       False  [lag_diff, prov_mean_diff]           0.5         512   \n",
       "38      False  [lag_diff, prov_mean_diff]           1.0         512   \n",
       "1       False  [lag_diff, prov_mean_diff]           0.5         512   \n",
       "37      False  [lag_diff, prov_mean_diff]           1.0         512   \n",
       "3       False  [lag_diff, prov_mean_diff]           0.5         512   \n",
       "39      False  [lag_diff, prov_mean_diff]           1.0         512   \n",
       "5       False  [lag_diff, prov_mean_diff]           0.5         512   \n",
       "41      False  [lag_diff, prov_mean_diff]           1.0         512   \n",
       "\n",
       "    n_estimators  model_id  auroc_total  auroc_threshold_0.5  \\\n",
       "36            50        37       0.9666               0.9068   \n",
       "0             50         1       0.9662               0.9072   \n",
       "2            100         3       0.9658               0.9115   \n",
       "38           100        39       0.9658               0.9115   \n",
       "1             75         2       0.9657               0.9099   \n",
       "37            75        38       0.9657               0.9099   \n",
       "3            150         4       0.9656               0.9126   \n",
       "39           150        40       0.9656               0.9126   \n",
       "5            300         6       0.9655               0.9119   \n",
       "41           300        42       0.9655               0.9119   \n",
       "\n",
       "    auroc_threshold_0.51  auroc_threshold_0.52  auroc_threshold_0.53  \\\n",
       "36                0.9129                0.9093                0.9115   \n",
       "0                 0.9132                0.9094                0.9115   \n",
       "2                 0.9112                0.9057                0.8998   \n",
       "38                0.9112                0.9057                0.8998   \n",
       "1                 0.9103                0.9080                0.8965   \n",
       "37                0.9103                0.9080                0.8965   \n",
       "3                 0.9083                0.9053                0.8999   \n",
       "39                0.9083                0.9053                0.8999   \n",
       "5                 0.9080                0.9061                0.8991   \n",
       "41                0.9080                0.9061                0.8991   \n",
       "\n",
       "    auroc_threshold_0.54  auroc_threshold_0.55  auroc_threshold_0.56  \\\n",
       "36                0.8968                0.8951                0.8906   \n",
       "0                 0.8972                0.8957                0.8906   \n",
       "2                 0.8949                0.8908                0.8864   \n",
       "38                0.8949                0.8908                0.8864   \n",
       "1                 0.8951                0.8891                0.8861   \n",
       "37                0.8951                0.8891                0.8861   \n",
       "3                 0.8962                0.8924                0.8877   \n",
       "39                0.8962                0.8924                0.8877   \n",
       "5                 0.8965                0.8931                0.8882   \n",
       "41                0.8965                0.8931                0.8882   \n",
       "\n",
       "    auroc_threshold_0.57  auroc_threshold_0.58  auroc_threshold_0.59  \\\n",
       "36                0.8850                0.8831                0.8675   \n",
       "0                 0.8850                0.8835                0.8678   \n",
       "2                 0.8724                0.8718                0.8653   \n",
       "38                0.8724                0.8718                0.8653   \n",
       "1                 0.8723                0.8710                0.8649   \n",
       "37                0.8723                0.8710                0.8649   \n",
       "3                 0.8854                0.8718                0.8669   \n",
       "39                0.8854                0.8718                0.8669   \n",
       "5                 0.8845                0.8717                0.8698   \n",
       "41                0.8845                0.8717                0.8698   \n",
       "\n",
       "    auroc_threshold_0.6  auroc_threshold_0.61  auroc_threshold_0.62  \\\n",
       "36               0.8631                0.8579                0.8521   \n",
       "0                0.8638                0.8581                0.8520   \n",
       "2                0.8610                0.8541                0.8499   \n",
       "38               0.8610                0.8541                0.8499   \n",
       "1                0.8591                0.8539                0.8494   \n",
       "37               0.8591                0.8539                0.8494   \n",
       "3                0.8633                0.8560                0.8515   \n",
       "39               0.8633                0.8560                0.8515   \n",
       "5                0.8636                0.8583                0.8521   \n",
       "41               0.8636                0.8583                0.8521   \n",
       "\n",
       "    auroc_threshold_0.63  auroc_threshold_0.64  auroc_threshold_0.65  \n",
       "36                0.8382                0.8223                0.8178  \n",
       "0                 0.8381                0.8223                0.8175  \n",
       "2                 0.8252                0.8206                0.8139  \n",
       "38                0.8252                0.8206                0.8139  \n",
       "1                 0.8237                0.8199                0.8139  \n",
       "37                0.8237                0.8199                0.8139  \n",
       "3                 0.8261                0.8217                0.8145  \n",
       "39                0.8261                0.8217                0.8145  \n",
       "5                 0.8265                0.8224                0.8147  \n",
       "41                0.8265                0.8224                0.8147  "
      ]
     },
     "execution_count": 37,
     "metadata": {},
     "output_type": "execute_result"
    }
   ],
   "source": [
    "if_model_selector = model_selection_svc.get_model_selector(settings)\n",
    "if_model_selector.get_top_models()"
   ]
  },
  {
   "cell_type": "code",
   "execution_count": 38,
   "id": "4533c696-1972-45e7-bbf3-e0fecf797ec5",
   "metadata": {},
   "outputs": [
    {
     "data": {
      "text/html": [
       "<div>\n",
       "<style scoped>\n",
       "    .dataframe tbody tr th:only-of-type {\n",
       "        vertical-align: middle;\n",
       "    }\n",
       "\n",
       "    .dataframe tbody tr th {\n",
       "        vertical-align: top;\n",
       "    }\n",
       "\n",
       "    .dataframe thead th {\n",
       "        text-align: right;\n",
       "    }\n",
       "</style>\n",
       "<table border=\"1\" class=\"dataframe\">\n",
       "  <thead>\n",
       "    <tr style=\"text-align: right;\">\n",
       "      <th></th>\n",
       "      <th>bootstrap</th>\n",
       "      <th>features_included</th>\n",
       "      <th>max_features</th>\n",
       "      <th>max_samples</th>\n",
       "      <th>n_estimators</th>\n",
       "      <th>model_id</th>\n",
       "      <th>auroc_total</th>\n",
       "      <th>auroc_threshold_0.5</th>\n",
       "      <th>auroc_threshold_0.51</th>\n",
       "      <th>auroc_threshold_0.52</th>\n",
       "      <th>auroc_threshold_0.53</th>\n",
       "      <th>auroc_threshold_0.54</th>\n",
       "      <th>auroc_threshold_0.55</th>\n",
       "      <th>auroc_threshold_0.56</th>\n",
       "      <th>auroc_threshold_0.57</th>\n",
       "      <th>auroc_threshold_0.58</th>\n",
       "      <th>auroc_threshold_0.59</th>\n",
       "      <th>auroc_threshold_0.6</th>\n",
       "      <th>auroc_threshold_0.61</th>\n",
       "      <th>auroc_threshold_0.62</th>\n",
       "      <th>auroc_threshold_0.63</th>\n",
       "      <th>auroc_threshold_0.64</th>\n",
       "      <th>auroc_threshold_0.65</th>\n",
       "    </tr>\n",
       "  </thead>\n",
       "  <tbody>\n",
       "    <tr>\n",
       "      <th>0</th>\n",
       "      <td>False</td>\n",
       "      <td>[lag_diff, prov_mean_diff]</td>\n",
       "      <td>0.5</td>\n",
       "      <td>512</td>\n",
       "      <td>50</td>\n",
       "      <td>1</td>\n",
       "      <td>0.9662</td>\n",
       "      <td>0.9072</td>\n",
       "      <td>0.9132</td>\n",
       "      <td>0.9094</td>\n",
       "      <td>0.9115</td>\n",
       "      <td>0.8972</td>\n",
       "      <td>0.8957</td>\n",
       "      <td>0.8906</td>\n",
       "      <td>0.885</td>\n",
       "      <td>0.8835</td>\n",
       "      <td>0.8678</td>\n",
       "      <td>0.8638</td>\n",
       "      <td>0.8581</td>\n",
       "      <td>0.852</td>\n",
       "      <td>0.8381</td>\n",
       "      <td>0.8223</td>\n",
       "      <td>0.8175</td>\n",
       "    </tr>\n",
       "  </tbody>\n",
       "</table>\n",
       "</div>"
      ],
      "text/plain": [
       "   bootstrap           features_included  max_features max_samples  \\\n",
       "0      False  [lag_diff, prov_mean_diff]           0.5         512   \n",
       "\n",
       "   n_estimators  model_id  auroc_total  auroc_threshold_0.5  \\\n",
       "0            50         1       0.9662               0.9072   \n",
       "\n",
       "   auroc_threshold_0.51  auroc_threshold_0.52  auroc_threshold_0.53  \\\n",
       "0                0.9132                0.9094                0.9115   \n",
       "\n",
       "   auroc_threshold_0.54  auroc_threshold_0.55  auroc_threshold_0.56  \\\n",
       "0                0.8972                0.8957                0.8906   \n",
       "\n",
       "   auroc_threshold_0.57  auroc_threshold_0.58  auroc_threshold_0.59  \\\n",
       "0                 0.885                0.8835                0.8678   \n",
       "\n",
       "   auroc_threshold_0.6  auroc_threshold_0.61  auroc_threshold_0.62  \\\n",
       "0               0.8638                0.8581                 0.852   \n",
       "\n",
       "   auroc_threshold_0.63  auroc_threshold_0.64  auroc_threshold_0.65  \n",
       "0                0.8381                0.8223                0.8175  "
      ]
     },
     "execution_count": 38,
     "metadata": {},
     "output_type": "execute_result"
    }
   ],
   "source": [
    "if_model_id = 1\n",
    "# if_model_id = if_model_selector.get_top_models().iloc[0].model_id # default top model\n",
    "if_model_selector.get_candidate_model_by_index(if_model_id)"
   ]
  },
  {
   "cell_type": "code",
   "execution_count": 39,
   "id": "e570f77c-a9a0-40d6-a927-cee014e5b5e9",
   "metadata": {},
   "outputs": [
    {
     "data": {
      "text/plain": [
       "{'bootstrap': False,\n",
       " 'features_included': ['lag_diff', 'prov_mean_diff'],\n",
       " 'max_features': 0.5,\n",
       " 'max_samples': 512,\n",
       " 'n_estimators': 50}"
      ]
     },
     "execution_count": 39,
     "metadata": {},
     "output_type": "execute_result"
    }
   ],
   "source": [
    "if_model_selector.get_candidate_model_params_by_index(if_model_id)"
   ]
  },
  {
   "cell_type": "markdown",
   "id": "86d64e7a-ec16-4421-aa82-af49a361d9f9",
   "metadata": {
    "tags": []
   },
   "source": [
    "### Final Fit"
   ]
  },
  {
   "cell_type": "code",
   "execution_count": 40,
   "id": "4daa1260-08de-4c73-a3a3-7f35b0cf0a4c",
   "metadata": {},
   "outputs": [],
   "source": [
    "if_final_fit_settings = {\n",
    "    \"model_type\": \"Isolation Forest\",\n",
    "    \"model_dataset_path\": settings.get('save_modeling_dataset_path'),\n",
    "    \"if_final_params\": if_model_selector.get_candidate_model_params_by_index(if_model_id),\n",
    "    \"drop_cols\": if_drop_cols,\n",
    "}\n",
    "\n",
    "del if_final_fit_settings['if_final_params']['features_included']\n",
    "\n",
    "settings = {**settings, **if_final_fit_settings}"
   ]
  },
  {
   "cell_type": "code",
   "execution_count": 41,
   "id": "334d6c52-1cda-4beb-932e-69c7cf3943c0",
   "metadata": {},
   "outputs": [],
   "source": [
    "if_fitter = final_fitting_svc.get_final_fitter(settings)\n",
    "if_model = if_fitter.fit()"
   ]
  },
  {
   "cell_type": "code",
   "execution_count": 42,
   "id": "8772d7cb-f694-4e8b-8e2a-5759f3042b8d",
   "metadata": {},
   "outputs": [
    {
     "data": {
      "text/plain": [
       "IsolationForest(behaviour='deprecated', bootstrap=False, contamination='auto',\n",
       "                max_features=0.5, max_samples=512, n_estimators=50, n_jobs=-1,\n",
       "                random_state=RandomState(MT19937) at 0x7FD284C7A6B0, verbose=0,\n",
       "                warm_start=False)"
      ]
     },
     "execution_count": 42,
     "metadata": {},
     "output_type": "execute_result"
    }
   ],
   "source": [
    "if_model"
   ]
  },
  {
   "cell_type": "code",
   "execution_count": 43,
   "id": "e5c3b8aa-c878-48ff-ab56-9bd3fec4a9c0",
   "metadata": {},
   "outputs": [
    {
     "data": {
      "text/plain": [
       "array([0.68042972, 0.71331022, 0.61290382, ..., 0.55717107, 0.46474773,\n",
       "       0.49627371])"
      ]
     },
     "execution_count": 43,
     "metadata": {},
     "output_type": "execute_result"
    }
   ],
   "source": [
    "if_anomaly_scores = if_fitter.get_anomaly_scores()\n",
    "if_anomaly_scores"
   ]
  },
  {
   "cell_type": "markdown",
   "id": "46553e8a-bbe8-4804-b65b-b94f00cb09c8",
   "metadata": {},
   "source": [
    "### Threshold"
   ]
  },
  {
   "cell_type": "code",
   "execution_count": 44,
   "id": "056d3b20-29de-4c5c-a076-945e5cacbb18",
   "metadata": {},
   "outputs": [
    {
     "name": "stdout",
     "output_type": "stream",
     "text": [
      "Using threshold 0.51 based on highest value 0.9132\n"
     ]
    }
   ],
   "source": [
    "_candidate = if_model_selector.get_candidate_model_by_index(if_model_id)\n",
    "_candidate = _candidate.drop(columns=[col for col in _candidate.columns if 'auroc_threshold_' not in col])\n",
    "\n",
    "highest_auroc = _candidate.max().max()\n",
    "threshold_col_name = None\n",
    "for col in _candidate.columns:\n",
    "    if _candidate[col].item() == highest_auroc:\n",
    "        threshold_col_name = col\n",
    "        break\n",
    "\n",
    "if threshold_col_name is None:\n",
    "    print(\"Could not find threshold for Isolation Forest\")\n",
    "else:\n",
    "    if_threshold = float(threshold_col_name.replace('auroc_threshold_', ''))\n",
    "    print(\"Using threshold\", if_threshold, \"based on highest value\", highest_auroc)"
   ]
  },
  {
   "cell_type": "code",
   "execution_count": 45,
   "id": "c8616889-ad33-406d-81bc-0d7c792667a2",
   "metadata": {},
   "outputs": [],
   "source": [
    "# if_threshold = 0.56"
   ]
  },
  {
   "cell_type": "markdown",
   "id": "33f46eae-97ee-49b5-8e51-1f1dd4c3537c",
   "metadata": {},
   "source": [
    "### Save Model Pickle"
   ]
  },
  {
   "cell_type": "code",
   "execution_count": 46,
   "id": "b10b2564-46fd-4d79-b349-39c21e79181f",
   "metadata": {},
   "outputs": [
    {
     "name": "stdout",
     "output_type": "stream",
     "text": [
      "Saving models/isolation_forest/model_info_2022-12-07-19h53m.p\n"
     ]
    }
   ],
   "source": [
    "if SAVE_MODEL_PICKLES:\n",
    "    to_save = {\n",
    "        'model':if_model, \n",
    "        'threshold': if_threshold, \n",
    "        'if_anomaly_scores': if_anomaly_scores,\n",
    "        'drop_cols': if_drop_cols\n",
    "    }\n",
    "    model_pickle_path = settings.get('model_pickle_path')\n",
    "    current_date = datetime.now().strftime(\"%Y-%m-%d-%Hh%Mm\")\n",
    "    \n",
    "    path = f\"{model_pickle_path}/isolation_forest/model_info_{current_date}.p\"\n",
    "    Path(f\"{model_pickle_path}/isolation_forest\").mkdir(parents=True, exist_ok=True)\n",
    "\n",
    "    with open(path, 'wb') as handle:\n",
    "        print(f\"Saving {path}\")\n",
    "        pickle.dump(to_save, handle)"
   ]
  },
  {
   "cell_type": "markdown",
   "id": "0a2d64b7-8c7c-409a-ba6a-e117a3d0e42f",
   "metadata": {
    "tags": []
   },
   "source": [
    "## Ensemble Model"
   ]
  },
  {
   "cell_type": "markdown",
   "id": "a4704cd9-d07f-4d68-9a37-3301de800b5c",
   "metadata": {},
   "source": [
    "### Feature Importance"
   ]
  },
  {
   "cell_type": "code",
   "execution_count": 47,
   "id": "562f8275-84c3-43b1-8a74-ec5fb59e9c09",
   "metadata": {},
   "outputs": [],
   "source": [
    "ensemble_settings = {\n",
    "    \"xgbr_parameters\": {\n",
    "        'eta': [[0.05, 0.1, 0.2]], # [[0.05, 0.1, 0.2, 0.3]]\n",
    "        'gamma': [range(0, 3)],\n",
    "        'max_depth': [range(3, 11)], # [range(5, 10)]\n",
    "        'min_child_weight': [range(3, 11)], # [range(3, 10)]\n",
    "        'subsample': [[0.7, 1]], # [[1]] #.7 does 2/3 vars each time\n",
    "        'alpha': [[0, 1, 2]],\n",
    "    },\n",
    "    \"drop_cols\": ['provider_id', 'lag_diff', 'prov_mean_diff', 'lag2'],\n",
    "    \"if_model\": if_model,\n",
    "    \"if_anomaly_scores\": if_anomaly_scores,\n",
    "}\n",
    "\n",
    "settings = {**settings, **ensemble_settings}"
   ]
  },
  {
   "cell_type": "code",
   "execution_count": 48,
   "id": "624c3ab9-6b1d-4343-aede-a9ac641bb5f0",
   "metadata": {},
   "outputs": [
    {
     "data": {
      "image/png": "[encoded data removed]",
      "text/plain": [
       "<Figure size 640x480 with 1 Axes>"
      ]
     },
     "metadata": {},
     "output_type": "display_data"
    }
   ],
   "source": [
    "ensemble_trainer = ensemble_model_svc.get_ensemble_trainer(settings)\n",
    "ensemble_trainer.plot_feature_importance()"
   ]
  },
  {
   "cell_type": "code",
   "execution_count": 49,
   "id": "55127351-a2ca-4d89-a2fa-abfa1c93c15b",
   "metadata": {},
   "outputs": [],
   "source": [
    "ensemble_drop_cols = ['provider_id', 'lag2', 'prov_mean_diff', 'year', 'quarter', 'lag_diff']\n",
    "ensemble_settings = {\n",
    "    \"drop_cols\": ensemble_drop_cols\n",
    "}\n",
    "\n",
    "settings = {**settings, **ensemble_settings}"
   ]
  },
  {
   "cell_type": "code",
   "execution_count": 50,
   "id": "d88e4a98-90e5-4b81-9330-6c6f518e9528",
   "metadata": {},
   "outputs": [
    {
     "data": {
      "image/png": "[encoded data removed]",
      "text/plain": [
       "<Figure size 640x480 with 1 Axes>"
      ]
     },
     "metadata": {},
     "output_type": "display_data"
    }
   ],
   "source": [
    "ensemble_trainer = ensemble_model_svc.get_ensemble_trainer(settings)\n",
    "ensemble_trainer.plot_feature_importance()"
   ]
  },
  {
   "cell_type": "code",
   "execution_count": 51,
   "id": "21673e1d-1e16-423d-a855-7e4e512c9ab6",
   "metadata": {},
   "outputs": [
    {
     "data": {
      "text/html": [
       "<div>\n",
       "<style scoped>\n",
       "    .dataframe tbody tr th:only-of-type {\n",
       "        vertical-align: middle;\n",
       "    }\n",
       "\n",
       "    .dataframe tbody tr th {\n",
       "        vertical-align: top;\n",
       "    }\n",
       "\n",
       "    .dataframe thead th {\n",
       "        text-align: right;\n",
       "    }\n",
       "</style>\n",
       "<table border=\"1\" class=\"dataframe\">\n",
       "  <thead>\n",
       "    <tr style=\"text-align: right;\">\n",
       "      <th></th>\n",
       "      <th>score</th>\n",
       "      <th>lag1</th>\n",
       "      <th>prov_mean</th>\n",
       "      <th>iforest_score</th>\n",
       "    </tr>\n",
       "  </thead>\n",
       "  <tbody>\n",
       "    <tr>\n",
       "      <th>1</th>\n",
       "      <td>12.0</td>\n",
       "      <td>8.0</td>\n",
       "      <td>8.000000</td>\n",
       "      <td>0.680430</td>\n",
       "    </tr>\n",
       "    <tr>\n",
       "      <th>2</th>\n",
       "      <td>8.0</td>\n",
       "      <td>12.0</td>\n",
       "      <td>10.000000</td>\n",
       "      <td>0.713310</td>\n",
       "    </tr>\n",
       "    <tr>\n",
       "      <th>3</th>\n",
       "      <td>8.0</td>\n",
       "      <td>8.0</td>\n",
       "      <td>9.333333</td>\n",
       "      <td>0.612904</td>\n",
       "    </tr>\n",
       "    <tr>\n",
       "      <th>4</th>\n",
       "      <td>6.0</td>\n",
       "      <td>8.0</td>\n",
       "      <td>9.000000</td>\n",
       "      <td>0.608268</td>\n",
       "    </tr>\n",
       "    <tr>\n",
       "      <th>5</th>\n",
       "      <td>5.0</td>\n",
       "      <td>6.0</td>\n",
       "      <td>8.400000</td>\n",
       "      <td>0.577774</td>\n",
       "    </tr>\n",
       "    <tr>\n",
       "      <th>...</th>\n",
       "      <td>...</td>\n",
       "      <td>...</td>\n",
       "      <td>...</td>\n",
       "      <td>...</td>\n",
       "    </tr>\n",
       "    <tr>\n",
       "      <th>26859</th>\n",
       "      <td>4.0</td>\n",
       "      <td>3.0</td>\n",
       "      <td>2.500000</td>\n",
       "      <td>0.462045</td>\n",
       "    </tr>\n",
       "    <tr>\n",
       "      <th>26860</th>\n",
       "      <td>6.0</td>\n",
       "      <td>4.0</td>\n",
       "      <td>2.800000</td>\n",
       "      <td>0.576382</td>\n",
       "    </tr>\n",
       "    <tr>\n",
       "      <th>26861</th>\n",
       "      <td>3.0</td>\n",
       "      <td>6.0</td>\n",
       "      <td>3.333333</td>\n",
       "      <td>0.557171</td>\n",
       "    </tr>\n",
       "    <tr>\n",
       "      <th>26862</th>\n",
       "      <td>4.0</td>\n",
       "      <td>3.0</td>\n",
       "      <td>3.285714</td>\n",
       "      <td>0.464748</td>\n",
       "    </tr>\n",
       "    <tr>\n",
       "      <th>26863</th>\n",
       "      <td>5.0</td>\n",
       "      <td>4.0</td>\n",
       "      <td>3.375000</td>\n",
       "      <td>0.496274</td>\n",
       "    </tr>\n",
       "  </tbody>\n",
       "</table>\n",
       "<p>22976 rows × 4 columns</p>\n",
       "</div>"
      ],
      "text/plain": [
       "       score  lag1  prov_mean  iforest_score\n",
       "1       12.0   8.0   8.000000       0.680430\n",
       "2        8.0  12.0  10.000000       0.713310\n",
       "3        8.0   8.0   9.333333       0.612904\n",
       "4        6.0   8.0   9.000000       0.608268\n",
       "5        5.0   6.0   8.400000       0.577774\n",
       "...      ...   ...        ...            ...\n",
       "26859    4.0   3.0   2.500000       0.462045\n",
       "26860    6.0   4.0   2.800000       0.576382\n",
       "26861    3.0   6.0   3.333333       0.557171\n",
       "26862    4.0   3.0   3.285714       0.464748\n",
       "26863    5.0   4.0   3.375000       0.496274\n",
       "\n",
       "[22976 rows x 4 columns]"
      ]
     },
     "execution_count": 51,
     "metadata": {},
     "output_type": "execute_result"
    }
   ],
   "source": [
    "ensemble_trainer.modeling_df"
   ]
  },
  {
   "cell_type": "markdown",
   "id": "a950aeeb-21d7-4572-8b75-07dd41c0d69c",
   "metadata": {},
   "source": [
    "### Tuning"
   ]
  },
  {
   "cell_type": "code",
   "execution_count": 52,
   "id": "656d92a8-579b-443c-b69c-4a5524ddacf7",
   "metadata": {},
   "outputs": [],
   "source": [
    "candidate = None\n",
    "if not SKIP_TUNING:\n",
    "    candidate = ensemble_trainer.tune()"
   ]
  },
  {
   "cell_type": "code",
   "execution_count": 53,
   "id": "68aefa56-0e89-404b-a5ea-c0e41c2daa01",
   "metadata": {},
   "outputs": [],
   "source": [
    "candidate"
   ]
  },
  {
   "cell_type": "code",
   "execution_count": 54,
   "id": "a2bf6f04-34b0-44c7-9a4d-1f8e7a8be4af",
   "metadata": {},
   "outputs": [
    {
     "data": {
      "text/html": [
       "<div>\n",
       "<style scoped>\n",
       "    .dataframe tbody tr th:only-of-type {\n",
       "        vertical-align: middle;\n",
       "    }\n",
       "\n",
       "    .dataframe tbody tr th {\n",
       "        vertical-align: top;\n",
       "    }\n",
       "\n",
       "    .dataframe thead th {\n",
       "        text-align: right;\n",
       "    }\n",
       "</style>\n",
       "<table border=\"1\" class=\"dataframe\">\n",
       "  <thead>\n",
       "    <tr style=\"text-align: right;\">\n",
       "      <th></th>\n",
       "      <th>score</th>\n",
       "      <th>lag1</th>\n",
       "      <th>prov_mean</th>\n",
       "      <th>iforest_score</th>\n",
       "    </tr>\n",
       "  </thead>\n",
       "  <tbody>\n",
       "    <tr>\n",
       "      <th>1</th>\n",
       "      <td>12.0</td>\n",
       "      <td>8.0</td>\n",
       "      <td>8.000000</td>\n",
       "      <td>0.680430</td>\n",
       "    </tr>\n",
       "    <tr>\n",
       "      <th>2</th>\n",
       "      <td>8.0</td>\n",
       "      <td>12.0</td>\n",
       "      <td>10.000000</td>\n",
       "      <td>0.713310</td>\n",
       "    </tr>\n",
       "    <tr>\n",
       "      <th>3</th>\n",
       "      <td>8.0</td>\n",
       "      <td>8.0</td>\n",
       "      <td>9.333333</td>\n",
       "      <td>0.612904</td>\n",
       "    </tr>\n",
       "    <tr>\n",
       "      <th>4</th>\n",
       "      <td>6.0</td>\n",
       "      <td>8.0</td>\n",
       "      <td>9.000000</td>\n",
       "      <td>0.608268</td>\n",
       "    </tr>\n",
       "    <tr>\n",
       "      <th>5</th>\n",
       "      <td>5.0</td>\n",
       "      <td>6.0</td>\n",
       "      <td>8.400000</td>\n",
       "      <td>0.577774</td>\n",
       "    </tr>\n",
       "    <tr>\n",
       "      <th>...</th>\n",
       "      <td>...</td>\n",
       "      <td>...</td>\n",
       "      <td>...</td>\n",
       "      <td>...</td>\n",
       "    </tr>\n",
       "    <tr>\n",
       "      <th>26859</th>\n",
       "      <td>4.0</td>\n",
       "      <td>3.0</td>\n",
       "      <td>2.500000</td>\n",
       "      <td>0.462045</td>\n",
       "    </tr>\n",
       "    <tr>\n",
       "      <th>26860</th>\n",
       "      <td>6.0</td>\n",
       "      <td>4.0</td>\n",
       "      <td>2.800000</td>\n",
       "      <td>0.576382</td>\n",
       "    </tr>\n",
       "    <tr>\n",
       "      <th>26861</th>\n",
       "      <td>3.0</td>\n",
       "      <td>6.0</td>\n",
       "      <td>3.333333</td>\n",
       "      <td>0.557171</td>\n",
       "    </tr>\n",
       "    <tr>\n",
       "      <th>26862</th>\n",
       "      <td>4.0</td>\n",
       "      <td>3.0</td>\n",
       "      <td>3.285714</td>\n",
       "      <td>0.464748</td>\n",
       "    </tr>\n",
       "    <tr>\n",
       "      <th>26863</th>\n",
       "      <td>5.0</td>\n",
       "      <td>4.0</td>\n",
       "      <td>3.375000</td>\n",
       "      <td>0.496274</td>\n",
       "    </tr>\n",
       "  </tbody>\n",
       "</table>\n",
       "<p>22976 rows × 4 columns</p>\n",
       "</div>"
      ],
      "text/plain": [
       "       score  lag1  prov_mean  iforest_score\n",
       "1       12.0   8.0   8.000000       0.680430\n",
       "2        8.0  12.0  10.000000       0.713310\n",
       "3        8.0   8.0   9.333333       0.612904\n",
       "4        6.0   8.0   9.000000       0.608268\n",
       "5        5.0   6.0   8.400000       0.577774\n",
       "...      ...   ...        ...            ...\n",
       "26859    4.0   3.0   2.500000       0.462045\n",
       "26860    6.0   4.0   2.800000       0.576382\n",
       "26861    3.0   6.0   3.333333       0.557171\n",
       "26862    4.0   3.0   3.285714       0.464748\n",
       "26863    5.0   4.0   3.375000       0.496274\n",
       "\n",
       "[22976 rows x 4 columns]"
      ]
     },
     "execution_count": 54,
     "metadata": {},
     "output_type": "execute_result"
    }
   ],
   "source": [
    "ensemble_trainer.modeling_df"
   ]
  },
  {
   "cell_type": "markdown",
   "id": "5246b747-8051-4052-aaac-e64c1ea5b5fc",
   "metadata": {},
   "source": [
    "### Model Selection"
   ]
  },
  {
   "cell_type": "code",
   "execution_count": 55,
   "id": "6a705ef5-089a-4db8-b865-8e8b8424cdb8",
   "metadata": {},
   "outputs": [
    {
     "name": "stdout",
     "output_type": "stream",
     "text": [
      "Using result:  model_runs/xgbr_ensemble/tuning_results_run_2022-12-05-21h08m.csv\n"
     ]
    }
   ],
   "source": [
    "list_of_runs = glob.glob(f\"{settings.get('run_save_path')}/xgbr_ensemble/*.csv\")\n",
    "latest_run = max(list_of_runs, key=os.path.getctime)\n",
    "print(\"Using result: \", latest_run)\n",
    "\n",
    "xgbr_settings = {\n",
    "    \"model_run_data_path\": latest_run,\n",
    "    \"model_type\": \"XGBRegression\"\n",
    "}\n",
    "\n",
    "settings = {**settings, **xgbr_settings}"
   ]
  },
  {
   "cell_type": "code",
   "execution_count": 56,
   "id": "4be2fbed-cc04-4bc5-8e57-4f20015cb77b",
   "metadata": {},
   "outputs": [
    {
     "data": {
      "text/html": [
       "<div>\n",
       "<style scoped>\n",
       "    .dataframe tbody tr th:only-of-type {\n",
       "        vertical-align: middle;\n",
       "    }\n",
       "\n",
       "    .dataframe tbody tr th {\n",
       "        vertical-align: top;\n",
       "    }\n",
       "\n",
       "    .dataframe thead th {\n",
       "        text-align: right;\n",
       "    }\n",
       "</style>\n",
       "<table border=\"1\" class=\"dataframe\">\n",
       "  <thead>\n",
       "    <tr style=\"text-align: right;\">\n",
       "      <th></th>\n",
       "      <th>mean_test_score</th>\n",
       "      <th>std_test_score</th>\n",
       "      <th>rank_test_score</th>\n",
       "      <th>param_alpha</th>\n",
       "      <th>param_eta</th>\n",
       "      <th>param_gamma</th>\n",
       "      <th>param_max_depth</th>\n",
       "      <th>param_min_child_weight</th>\n",
       "      <th>param_subsample</th>\n",
       "      <th>params</th>\n",
       "    </tr>\n",
       "  </thead>\n",
       "  <tbody>\n",
       "    <tr>\n",
       "      <th>2039</th>\n",
       "      <td>-1.0337</td>\n",
       "      <td>0.3117</td>\n",
       "      <td>1</td>\n",
       "      <td>1</td>\n",
       "      <td>0.20</td>\n",
       "      <td>0</td>\n",
       "      <td>10</td>\n",
       "      <td>6</td>\n",
       "      <td>1.0</td>\n",
       "      <td>{'alpha': 1, 'eta': 0.2, 'gamma': 0, 'max_dept...</td>\n",
       "    </tr>\n",
       "    <tr>\n",
       "      <th>1271</th>\n",
       "      <td>-1.0357</td>\n",
       "      <td>0.3097</td>\n",
       "      <td>2</td>\n",
       "      <td>1</td>\n",
       "      <td>0.05</td>\n",
       "      <td>0</td>\n",
       "      <td>10</td>\n",
       "      <td>6</td>\n",
       "      <td>1.0</td>\n",
       "      <td>{'alpha': 1, 'eta': 0.05, 'gamma': 0, 'max_dep...</td>\n",
       "    </tr>\n",
       "    <tr>\n",
       "      <th>503</th>\n",
       "      <td>-1.0368</td>\n",
       "      <td>0.3069</td>\n",
       "      <td>3</td>\n",
       "      <td>0</td>\n",
       "      <td>0.10</td>\n",
       "      <td>0</td>\n",
       "      <td>10</td>\n",
       "      <td>6</td>\n",
       "      <td>1.0</td>\n",
       "      <td>{'alpha': 0, 'eta': 0.1, 'gamma': 0, 'max_dept...</td>\n",
       "    </tr>\n",
       "    <tr>\n",
       "      <th>1655</th>\n",
       "      <td>-1.0375</td>\n",
       "      <td>0.3157</td>\n",
       "      <td>4</td>\n",
       "      <td>1</td>\n",
       "      <td>0.10</td>\n",
       "      <td>0</td>\n",
       "      <td>10</td>\n",
       "      <td>6</td>\n",
       "      <td>1.0</td>\n",
       "      <td>{'alpha': 1, 'eta': 0.1, 'gamma': 0, 'max_dept...</td>\n",
       "    </tr>\n",
       "    <tr>\n",
       "      <th>2935</th>\n",
       "      <td>-1.0382</td>\n",
       "      <td>0.3124</td>\n",
       "      <td>6</td>\n",
       "      <td>2</td>\n",
       "      <td>0.10</td>\n",
       "      <td>1</td>\n",
       "      <td>10</td>\n",
       "      <td>6</td>\n",
       "      <td>1.0</td>\n",
       "      <td>{'alpha': 2, 'eta': 0.1, 'gamma': 1, 'max_dept...</td>\n",
       "    </tr>\n",
       "    <tr>\n",
       "      <th>631</th>\n",
       "      <td>-1.0382</td>\n",
       "      <td>0.3129</td>\n",
       "      <td>5</td>\n",
       "      <td>0</td>\n",
       "      <td>0.10</td>\n",
       "      <td>1</td>\n",
       "      <td>10</td>\n",
       "      <td>6</td>\n",
       "      <td>1.0</td>\n",
       "      <td>{'alpha': 0, 'eta': 0.1, 'gamma': 1, 'max_dept...</td>\n",
       "    </tr>\n",
       "    <tr>\n",
       "      <th>2423</th>\n",
       "      <td>-1.0389</td>\n",
       "      <td>0.3161</td>\n",
       "      <td>7</td>\n",
       "      <td>2</td>\n",
       "      <td>0.05</td>\n",
       "      <td>0</td>\n",
       "      <td>10</td>\n",
       "      <td>6</td>\n",
       "      <td>1.0</td>\n",
       "      <td>{'alpha': 2, 'eta': 0.05, 'gamma': 0, 'max_dep...</td>\n",
       "    </tr>\n",
       "    <tr>\n",
       "      <th>1399</th>\n",
       "      <td>-1.0398</td>\n",
       "      <td>0.3168</td>\n",
       "      <td>8</td>\n",
       "      <td>1</td>\n",
       "      <td>0.05</td>\n",
       "      <td>1</td>\n",
       "      <td>10</td>\n",
       "      <td>6</td>\n",
       "      <td>1.0</td>\n",
       "      <td>{'alpha': 1, 'eta': 0.05, 'gamma': 1, 'max_dep...</td>\n",
       "    </tr>\n",
       "    <tr>\n",
       "      <th>1911</th>\n",
       "      <td>-1.0401</td>\n",
       "      <td>0.3162</td>\n",
       "      <td>9</td>\n",
       "      <td>1</td>\n",
       "      <td>0.10</td>\n",
       "      <td>2</td>\n",
       "      <td>10</td>\n",
       "      <td>6</td>\n",
       "      <td>1.0</td>\n",
       "      <td>{'alpha': 1, 'eta': 0.1, 'gamma': 2, 'max_dept...</td>\n",
       "    </tr>\n",
       "    <tr>\n",
       "      <th>2807</th>\n",
       "      <td>-1.0405</td>\n",
       "      <td>0.3154</td>\n",
       "      <td>10</td>\n",
       "      <td>2</td>\n",
       "      <td>0.10</td>\n",
       "      <td>0</td>\n",
       "      <td>10</td>\n",
       "      <td>6</td>\n",
       "      <td>1.0</td>\n",
       "      <td>{'alpha': 2, 'eta': 0.1, 'gamma': 0, 'max_dept...</td>\n",
       "    </tr>\n",
       "  </tbody>\n",
       "</table>\n",
       "</div>"
      ],
      "text/plain": [
       "      mean_test_score  std_test_score  rank_test_score  param_alpha  \\\n",
       "2039          -1.0337          0.3117                1            1   \n",
       "1271          -1.0357          0.3097                2            1   \n",
       "503           -1.0368          0.3069                3            0   \n",
       "1655          -1.0375          0.3157                4            1   \n",
       "2935          -1.0382          0.3124                6            2   \n",
       "631           -1.0382          0.3129                5            0   \n",
       "2423          -1.0389          0.3161                7            2   \n",
       "1399          -1.0398          0.3168                8            1   \n",
       "1911          -1.0401          0.3162                9            1   \n",
       "2807          -1.0405          0.3154               10            2   \n",
       "\n",
       "      param_eta  param_gamma  param_max_depth  param_min_child_weight  \\\n",
       "2039       0.20            0               10                       6   \n",
       "1271       0.05            0               10                       6   \n",
       "503        0.10            0               10                       6   \n",
       "1655       0.10            0               10                       6   \n",
       "2935       0.10            1               10                       6   \n",
       "631        0.10            1               10                       6   \n",
       "2423       0.05            0               10                       6   \n",
       "1399       0.05            1               10                       6   \n",
       "1911       0.10            2               10                       6   \n",
       "2807       0.10            0               10                       6   \n",
       "\n",
       "      param_subsample                                             params  \n",
       "2039              1.0  {'alpha': 1, 'eta': 0.2, 'gamma': 0, 'max_dept...  \n",
       "1271              1.0  {'alpha': 1, 'eta': 0.05, 'gamma': 0, 'max_dep...  \n",
       "503               1.0  {'alpha': 0, 'eta': 0.1, 'gamma': 0, 'max_dept...  \n",
       "1655              1.0  {'alpha': 1, 'eta': 0.1, 'gamma': 0, 'max_dept...  \n",
       "2935              1.0  {'alpha': 2, 'eta': 0.1, 'gamma': 1, 'max_dept...  \n",
       "631               1.0  {'alpha': 0, 'eta': 0.1, 'gamma': 1, 'max_dept...  \n",
       "2423              1.0  {'alpha': 2, 'eta': 0.05, 'gamma': 0, 'max_dep...  \n",
       "1399              1.0  {'alpha': 1, 'eta': 0.05, 'gamma': 1, 'max_dep...  \n",
       "1911              1.0  {'alpha': 1, 'eta': 0.1, 'gamma': 2, 'max_dept...  \n",
       "2807              1.0  {'alpha': 2, 'eta': 0.1, 'gamma': 0, 'max_dept...  "
      ]
     },
     "execution_count": 56,
     "metadata": {},
     "output_type": "execute_result"
    }
   ],
   "source": [
    "ensemble_model_selector = model_selection_svc.get_model_selector(settings)\n",
    "ensemble_model_selector.get_top_models()"
   ]
  },
  {
   "cell_type": "code",
   "execution_count": 57,
   "id": "8b71a157-e056-4a2a-9e1a-baf03783c68e",
   "metadata": {},
   "outputs": [
    {
     "data": {
      "text/plain": [
       "mean_fit_time          2.129\n",
       "std_fit_time          0.8907\n",
       "mean_score_time       0.0247\n",
       "std_score_time         0.008\n",
       "param_alpha                2\n",
       "                       ...  \n",
       "split48_test_score   -1.0022\n",
       "split49_test_score    -1.191\n",
       "mean_test_score      -1.0382\n",
       "std_test_score        0.3124\n",
       "rank_test_score            6\n",
       "Name: 2935, Length: 64, dtype: object"
      ]
     },
     "execution_count": 57,
     "metadata": {},
     "output_type": "execute_result"
    }
   ],
   "source": [
    "ensemble_model_index = 2935\n",
    "# ensemble_model_index = ensemble_model_selector.get_top_models().iloc[0].name # default top model\n",
    "ensemble_model_selector.get_candidate_model_by_index(ensemble_model_index)"
   ]
  },
  {
   "cell_type": "code",
   "execution_count": 58,
   "id": "b01010b8-30ce-4d53-9d92-b8ab504ad768",
   "metadata": {},
   "outputs": [
    {
     "data": {
      "text/plain": [
       "{'alpha': 2,\n",
       " 'eta': 0.1,\n",
       " 'gamma': 1,\n",
       " 'max_depth': 10,\n",
       " 'min_child_weight': 6,\n",
       " 'subsample': 1}"
      ]
     },
     "execution_count": 58,
     "metadata": {},
     "output_type": "execute_result"
    }
   ],
   "source": [
    "ensemble_model_selector.get_candidate_model_params_by_index(ensemble_model_index)"
   ]
  },
  {
   "cell_type": "markdown",
   "id": "d41be55b-9fbc-4f5c-b711-31cf5479ee9f",
   "metadata": {},
   "source": [
    "### Final Fit"
   ]
  },
  {
   "cell_type": "code",
   "execution_count": 59,
   "id": "5e26d339-28ab-4615-9cc7-48dba9ad35e6",
   "metadata": {},
   "outputs": [],
   "source": [
    "ensemble_final_fit_settings = {\n",
    "    \"model_type\": \"XGBRegression\",\n",
    "    \"model_dataset_path\": settings.get('save_modeling_dataset_path'),\n",
    "    \"xgbr_final_params\": ensemble_model_selector.get_candidate_model_params_by_index(ensemble_model_index),\n",
    "    \"drop_cols\": ensemble_drop_cols,\n",
    "}\n",
    "\n",
    "settings = {**settings, **ensemble_final_fit_settings}"
   ]
  },
  {
   "cell_type": "code",
   "execution_count": 60,
   "id": "8a70e261-ba62-4ca7-b1d1-103c492d1ec7",
   "metadata": {},
   "outputs": [],
   "source": [
    "ensemble_fitter = ensemble_model_svc.get_ensemble_final_fitter(settings)\n",
    "ensemble_model = ensemble_fitter.fit()"
   ]
  },
  {
   "cell_type": "code",
   "execution_count": 61,
   "id": "d556c565-0ce4-42f1-8fae-7aaa54f574d4",
   "metadata": {},
   "outputs": [
    {
     "data": {
      "text/html": [
       "<div>\n",
       "<style scoped>\n",
       "    .dataframe tbody tr th:only-of-type {\n",
       "        vertical-align: middle;\n",
       "    }\n",
       "\n",
       "    .dataframe tbody tr th {\n",
       "        vertical-align: top;\n",
       "    }\n",
       "\n",
       "    .dataframe thead th {\n",
       "        text-align: right;\n",
       "    }\n",
       "</style>\n",
       "<table border=\"1\" class=\"dataframe\">\n",
       "  <thead>\n",
       "    <tr style=\"text-align: right;\">\n",
       "      <th></th>\n",
       "      <th>score</th>\n",
       "      <th>lag1</th>\n",
       "      <th>prov_mean</th>\n",
       "      <th>iforest_score</th>\n",
       "    </tr>\n",
       "  </thead>\n",
       "  <tbody>\n",
       "    <tr>\n",
       "      <th>1</th>\n",
       "      <td>12.0</td>\n",
       "      <td>8.0</td>\n",
       "      <td>8.000000</td>\n",
       "      <td>0.680430</td>\n",
       "    </tr>\n",
       "    <tr>\n",
       "      <th>2</th>\n",
       "      <td>8.0</td>\n",
       "      <td>12.0</td>\n",
       "      <td>10.000000</td>\n",
       "      <td>0.713310</td>\n",
       "    </tr>\n",
       "    <tr>\n",
       "      <th>3</th>\n",
       "      <td>8.0</td>\n",
       "      <td>8.0</td>\n",
       "      <td>9.333333</td>\n",
       "      <td>0.612904</td>\n",
       "    </tr>\n",
       "    <tr>\n",
       "      <th>4</th>\n",
       "      <td>6.0</td>\n",
       "      <td>8.0</td>\n",
       "      <td>9.000000</td>\n",
       "      <td>0.608268</td>\n",
       "    </tr>\n",
       "    <tr>\n",
       "      <th>5</th>\n",
       "      <td>5.0</td>\n",
       "      <td>6.0</td>\n",
       "      <td>8.400000</td>\n",
       "      <td>0.577774</td>\n",
       "    </tr>\n",
       "    <tr>\n",
       "      <th>...</th>\n",
       "      <td>...</td>\n",
       "      <td>...</td>\n",
       "      <td>...</td>\n",
       "      <td>...</td>\n",
       "    </tr>\n",
       "    <tr>\n",
       "      <th>26859</th>\n",
       "      <td>4.0</td>\n",
       "      <td>3.0</td>\n",
       "      <td>2.500000</td>\n",
       "      <td>0.462045</td>\n",
       "    </tr>\n",
       "    <tr>\n",
       "      <th>26860</th>\n",
       "      <td>6.0</td>\n",
       "      <td>4.0</td>\n",
       "      <td>2.800000</td>\n",
       "      <td>0.576382</td>\n",
       "    </tr>\n",
       "    <tr>\n",
       "      <th>26861</th>\n",
       "      <td>3.0</td>\n",
       "      <td>6.0</td>\n",
       "      <td>3.333333</td>\n",
       "      <td>0.557171</td>\n",
       "    </tr>\n",
       "    <tr>\n",
       "      <th>26862</th>\n",
       "      <td>4.0</td>\n",
       "      <td>3.0</td>\n",
       "      <td>3.285714</td>\n",
       "      <td>0.464748</td>\n",
       "    </tr>\n",
       "    <tr>\n",
       "      <th>26863</th>\n",
       "      <td>5.0</td>\n",
       "      <td>4.0</td>\n",
       "      <td>3.375000</td>\n",
       "      <td>0.496274</td>\n",
       "    </tr>\n",
       "  </tbody>\n",
       "</table>\n",
       "<p>22976 rows × 4 columns</p>\n",
       "</div>"
      ],
      "text/plain": [
       "       score  lag1  prov_mean  iforest_score\n",
       "1       12.0   8.0   8.000000       0.680430\n",
       "2        8.0  12.0  10.000000       0.713310\n",
       "3        8.0   8.0   9.333333       0.612904\n",
       "4        6.0   8.0   9.000000       0.608268\n",
       "5        5.0   6.0   8.400000       0.577774\n",
       "...      ...   ...        ...            ...\n",
       "26859    4.0   3.0   2.500000       0.462045\n",
       "26860    6.0   4.0   2.800000       0.576382\n",
       "26861    3.0   6.0   3.333333       0.557171\n",
       "26862    4.0   3.0   3.285714       0.464748\n",
       "26863    5.0   4.0   3.375000       0.496274\n",
       "\n",
       "[22976 rows x 4 columns]"
      ]
     },
     "execution_count": 61,
     "metadata": {},
     "output_type": "execute_result"
    }
   ],
   "source": [
    "ensemble_fitter.modeling_df"
   ]
  },
  {
   "cell_type": "code",
   "execution_count": 62,
   "id": "1b97535f-1189-4d3d-b82e-c95535422c6d",
   "metadata": {},
   "outputs": [
    {
     "data": {
      "text/plain": [
       "XGBRegressor(alpha=2, base_score=0.5, booster='gbtree', callbacks=None,\n",
       "             colsample_bylevel=1, colsample_bynode=1, colsample_bytree=1,\n",
       "             early_stopping_rounds=None, enable_categorical=False, eta=0.1,\n",
       "             eval_metric=None, gamma=1, gpu_id=-1, grow_policy='depthwise',\n",
       "             importance_type=None, interaction_constraints='',\n",
       "             learning_rate=0.100000001, max_bin=256, max_cat_to_onehot=4,\n",
       "             max_delta_step=0, max_depth=10, max_leaves=0, min_child_weight=6,\n",
       "             missing=nan, monotone_constraints='()', n_estimators=100, n_jobs=0,\n",
       "             num_parallel_tree=1, objective='reg:squarederror',\n",
       "             predictor='auto', ...)"
      ]
     },
     "execution_count": 62,
     "metadata": {},
     "output_type": "execute_result"
    }
   ],
   "source": [
    "ensemble_model"
   ]
  },
  {
   "cell_type": "markdown",
   "id": "5cef46e8-2dad-4e75-a485-8441e2ac5e81",
   "metadata": {
    "tags": []
   },
   "source": [
    "### Threshold / AAT Results"
   ]
  },
  {
   "cell_type": "code",
   "execution_count": 63,
   "id": "957afbbd-db56-4038-a0bb-26efc91f0fda",
   "metadata": {},
   "outputs": [
    {
     "data": {
      "text/plain": [
       "['lag1', 'prov_mean', 'iforest_score']"
      ]
     },
     "execution_count": 63,
     "metadata": {},
     "output_type": "execute_result"
    }
   ],
   "source": [
    "ensemble_selected_features = list(ensemble_fitter.modeling_df.columns)\n",
    "ensemble_selected_features.remove('score')\n",
    "ensemble_selected_features"
   ]
  },
  {
   "cell_type": "code",
   "execution_count": 64,
   "id": "59ca5e89-318c-4605-947f-205d4cd67511",
   "metadata": {},
   "outputs": [
    {
     "name": "stdout",
     "output_type": "stream",
     "text": [
      "Using Threshold 1.5\n"
     ]
    },
    {
     "data": {
      "text/html": [
       "<div>\n",
       "<style scoped>\n",
       "    .dataframe tbody tr th:only-of-type {\n",
       "        vertical-align: middle;\n",
       "    }\n",
       "\n",
       "    .dataframe tbody tr th {\n",
       "        vertical-align: top;\n",
       "    }\n",
       "\n",
       "    .dataframe thead th {\n",
       "        text-align: right;\n",
       "    }\n",
       "</style>\n",
       "<table border=\"1\" class=\"dataframe\">\n",
       "  <thead>\n",
       "    <tr style=\"text-align: right;\">\n",
       "      <th></th>\n",
       "      <th>Threshold</th>\n",
       "      <th>AUROC</th>\n",
       "    </tr>\n",
       "  </thead>\n",
       "  <tbody>\n",
       "    <tr>\n",
       "      <th>2</th>\n",
       "      <td>1.5</td>\n",
       "      <td>0.977929</td>\n",
       "    </tr>\n",
       "    <tr>\n",
       "      <th>1</th>\n",
       "      <td>1.0</td>\n",
       "      <td>0.975929</td>\n",
       "    </tr>\n",
       "    <tr>\n",
       "      <th>0</th>\n",
       "      <td>0.5</td>\n",
       "      <td>0.948714</td>\n",
       "    </tr>\n",
       "    <tr>\n",
       "      <th>3</th>\n",
       "      <td>2.0</td>\n",
       "      <td>0.930714</td>\n",
       "    </tr>\n",
       "    <tr>\n",
       "      <th>4</th>\n",
       "      <td>2.5</td>\n",
       "      <td>0.892929</td>\n",
       "    </tr>\n",
       "    <tr>\n",
       "      <th>5</th>\n",
       "      <td>3.0</td>\n",
       "      <td>0.833071</td>\n",
       "    </tr>\n",
       "    <tr>\n",
       "      <th>6</th>\n",
       "      <td>3.5</td>\n",
       "      <td>0.794429</td>\n",
       "    </tr>\n",
       "    <tr>\n",
       "      <th>7</th>\n",
       "      <td>4.0</td>\n",
       "      <td>0.741571</td>\n",
       "    </tr>\n",
       "    <tr>\n",
       "      <th>8</th>\n",
       "      <td>4.5</td>\n",
       "      <td>0.701286</td>\n",
       "    </tr>\n",
       "    <tr>\n",
       "      <th>9</th>\n",
       "      <td>5.0</td>\n",
       "      <td>0.656071</td>\n",
       "    </tr>\n",
       "  </tbody>\n",
       "</table>\n",
       "</div>"
      ],
      "text/plain": [
       "   Threshold     AUROC\n",
       "2        1.5  0.977929\n",
       "1        1.0  0.975929\n",
       "0        0.5  0.948714\n",
       "3        2.0  0.930714\n",
       "4        2.5  0.892929\n",
       "5        3.0  0.833071\n",
       "6        3.5  0.794429\n",
       "7        4.0  0.741571\n",
       "8        4.5  0.701286\n",
       "9        5.0  0.656071"
      ]
     },
     "execution_count": 64,
     "metadata": {},
     "output_type": "execute_result"
    }
   ],
   "source": [
    "# threshold_range = range(1, 100)\n",
    "threshold_range = np.arange(0.5, 20, 0.5)\n",
    "\n",
    "ensemble_aat_res = aa_tests.artificial_anomaly_test_xgb(\n",
    "    model = ensemble_model,\n",
    "    model_data = ensemble_fitter.modeling_df,\n",
    "    selected_features = ensemble_selected_features,\n",
    "    shift_range = settings.get('shift_range'),\n",
    "    threshold_range = threshold_range\n",
    ")[:10]\n",
    "\n",
    "ensemble_threshold = ensemble_aat_res.iloc[0]['Threshold']\n",
    "print(\"Using Threshold\", ensemble_threshold)\n",
    "\n",
    "ensemble_aat_res"
   ]
  },
  {
   "cell_type": "code",
   "execution_count": 65,
   "id": "6f309d04-6a05-4d26-86ac-1874ae1078c2",
   "metadata": {},
   "outputs": [],
   "source": [
    "# ensemble_aat_res = 2"
   ]
  },
  {
   "cell_type": "markdown",
   "id": "6f1811c7-64f0-49ec-bc88-990ed53e2d20",
   "metadata": {
    "tags": []
   },
   "source": [
    "### CV RMSE"
   ]
  },
  {
   "cell_type": "code",
   "execution_count": 66,
   "id": "03687694-593f-4795-829b-b6c9ea60d521",
   "metadata": {},
   "outputs": [
    {
     "name": "stderr",
     "output_type": "stream",
     "text": [
      "[Parallel(n_jobs=-1)]: Using backend LokyBackend with 4 concurrent workers.\n",
      "[Parallel(n_jobs=-1)]: Done  42 tasks      | elapsed:   11.9s\n",
      "[Parallel(n_jobs=-1)]: Done  50 out of  50 | elapsed:   13.7s finished\n"
     ]
    },
    {
     "data": {
      "text/plain": [
       "1.3274665970111843"
      ]
     },
     "execution_count": 66,
     "metadata": {},
     "output_type": "execute_result"
    }
   ],
   "source": [
    "ensemble_cv_rmse = None\n",
    "if not SKIP_RMSE_TEST:\n",
    "    _, ensemble_cv_rmse = xgbr_test.test_xgbr(ensemble_fitter.modeling_df)\n",
    "ensemble_cv_rmse"
   ]
  },
  {
   "cell_type": "markdown",
   "id": "22139ce2-a02d-45c1-8f8c-8a913721704e",
   "metadata": {},
   "source": [
    "### Save Model Pickle"
   ]
  },
  {
   "cell_type": "code",
   "execution_count": 67,
   "id": "8cb32451-3395-404d-ab66-3dd7d0ab92e1",
   "metadata": {},
   "outputs": [
    {
     "name": "stdout",
     "output_type": "stream",
     "text": [
      "Saving models/ensemble_model/model_info_2022-12-07-19h54m.p\n"
     ]
    }
   ],
   "source": [
    "if SAVE_MODEL_PICKLES:\n",
    "    to_save = {\n",
    "        'model':ensemble_model, \n",
    "        'threshold': ensemble_threshold, \n",
    "        'cv_rmse': ensemble_cv_rmse,\n",
    "        'selected_features': ensemble_selected_features,\n",
    "        'drop_cols': ensemble_drop_cols\n",
    "    }\n",
    "    model_pickle_path = settings.get('model_pickle_path')\n",
    "    current_date = datetime.now().strftime(\"%Y-%m-%d-%Hh%Mm\")\n",
    "\n",
    "    path = f\"{model_pickle_path}/ensemble_model/model_info_{current_date}.p\"\n",
    "    Path(f\"{model_pickle_path}/ensemble_model\").mkdir(parents=True, exist_ok=True)\n",
    "\n",
    "    with open(path, 'wb') as handle:\n",
    "        print(f\"Saving {path}\")\n",
    "        pickle.dump(to_save, handle)"
   ]
  },
  {
   "cell_type": "code",
   "execution_count": null,
   "id": "83c7285e-35dc-4826-a3d4-a29e50d4ca1a",
   "metadata": {},
   "outputs": [],
   "source": []
  }
 ],
 "metadata": {
  "instance_type": "ml.t3.medium",
  "kernelspec": {
   "display_name": "Python 3 (Data Science)",
   "language": "python",
   "name": "python3__SAGEMAKER_INTERNAL__arn:aws:sagemaker:us-east-1:081325390199:image/datascience-1.0"
  },
  "language_info": {
   "codemirror_mode": {
    "name": "ipython",
    "version": 3
   },
   "file_extension": ".py",
   "mimetype": "text/x-python",
   "name": "python",
   "nbconvert_exporter": "python",
   "pygments_lexer": "ipython3",
   "version": "3.7.10"
  },
  "toc-showtags": true
 },
 "nbformat": 4,
 "nbformat_minor": 5
}
