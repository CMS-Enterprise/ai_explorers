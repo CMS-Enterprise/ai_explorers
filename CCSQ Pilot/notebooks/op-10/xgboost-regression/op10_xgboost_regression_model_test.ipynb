{
 "cells": [
  {
   "cell_type": "code",
   "execution_count": 10,
   "id": "09690f32-fe8d-4a2e-bc7b-d82a568fb81c",
   "metadata": {},
   "outputs": [
    {
     "name": "stdout",
     "output_type": "stream",
     "text": [
      "Collecting xgboost\n",
      "  Using cached xgboost-1.6.2-py3-none-manylinux2014_x86_64.whl (255.9 MB)\n",
      "Requirement already satisfied: scipy in /opt/conda/lib/python3.7/site-packages (from xgboost) (1.4.1)\n",
      "Requirement already satisfied: numpy in /opt/conda/lib/python3.7/site-packages (from xgboost) (1.21.6)\n",
      "Installing collected packages: xgboost\n",
      "Successfully installed xgboost-1.6.2\n",
      "\u001b[33mWARNING: Running pip as the 'root' user can result in broken permissions and conflicting behaviour with the system package manager. It is recommended to use a virtual environment instead: https://pip.pypa.io/warnings/venv\u001b[0m\u001b[33m\n",
      "\u001b[0m\n",
      "\u001b[1m[\u001b[0m\u001b[34;49mnotice\u001b[0m\u001b[1;39;49m]\u001b[0m\u001b[39;49m A new release of pip available: \u001b[0m\u001b[31;49m22.2.2\u001b[0m\u001b[39;49m -> \u001b[0m\u001b[32;49m22.3.1\u001b[0m\n",
      "\u001b[1m[\u001b[0m\u001b[34;49mnotice\u001b[0m\u001b[1;39;49m]\u001b[0m\u001b[39;49m To update, run: \u001b[0m\u001b[32;49mpip install --upgrade pip\u001b[0m\n"
     ]
    }
   ],
   "source": [
    "!pip install xgboost"
   ]
  },
  {
   "cell_type": "code",
   "execution_count": 127,
   "id": "0b2e66bb-ed4d-4a5c-810e-556ddf3035ce",
   "metadata": {},
   "outputs": [],
   "source": [
    "import pandas as pd\n",
    "import numpy as np\n",
    "import collections\n",
    "from sklearn.model_selection import RepeatedKFold\n",
    "from sklearn.model_selection import cross_val_score\n",
    "import xgboost\n",
    "from xgboost import XGBRegressor\n",
    "from xgboost import plot_importance\n",
    "from matplotlib import pyplot"
   ]
  },
  {
   "cell_type": "code",
   "execution_count": 143,
   "id": "fbb78bc9-266c-4ccd-a666-1bd979ebb68b",
   "metadata": {},
   "outputs": [],
   "source": [
    "modeling_dataset = pd.read_csv(\"../data/OP-10-no-backfill.csv\")"
   ]
  },
  {
   "cell_type": "code",
   "execution_count": 144,
   "id": "fb1aaf94-d2f6-437b-9af7-c50df833db89",
   "metadata": {},
   "outputs": [
    {
     "data": {
      "text/html": [
       "<div>\n",
       "<style scoped>\n",
       "    .dataframe tbody tr th:only-of-type {\n",
       "        vertical-align: middle;\n",
       "    }\n",
       "\n",
       "    .dataframe tbody tr th {\n",
       "        vertical-align: top;\n",
       "    }\n",
       "\n",
       "    .dataframe thead th {\n",
       "        text-align: right;\n",
       "    }\n",
       "</style>\n",
       "<table border=\"1\" class=\"dataframe\">\n",
       "  <thead>\n",
       "    <tr style=\"text-align: right;\">\n",
       "      <th></th>\n",
       "      <th>provider_id</th>\n",
       "      <th>score</th>\n",
       "      <th>lag1</th>\n",
       "      <th>lag2</th>\n",
       "      <th>year</th>\n",
       "      <th>quarter</th>\n",
       "      <th>lag_diff</th>\n",
       "      <th>prov_mean</th>\n",
       "      <th>prov_mean_diff</th>\n",
       "    </tr>\n",
       "  </thead>\n",
       "  <tbody>\n",
       "    <tr>\n",
       "      <th>0</th>\n",
       "      <td>10001</td>\n",
       "      <td>4.6</td>\n",
       "      <td>NaN</td>\n",
       "      <td>NaN</td>\n",
       "      <td>2013</td>\n",
       "      <td>2</td>\n",
       "      <td>NaN</td>\n",
       "      <td>NaN</td>\n",
       "      <td>NaN</td>\n",
       "    </tr>\n",
       "    <tr>\n",
       "      <th>1</th>\n",
       "      <td>10001</td>\n",
       "      <td>6.5</td>\n",
       "      <td>4.6</td>\n",
       "      <td>NaN</td>\n",
       "      <td>2014</td>\n",
       "      <td>2</td>\n",
       "      <td>1.9</td>\n",
       "      <td>4.600000</td>\n",
       "      <td>1.900000</td>\n",
       "    </tr>\n",
       "    <tr>\n",
       "      <th>2</th>\n",
       "      <td>10001</td>\n",
       "      <td>6.4</td>\n",
       "      <td>6.5</td>\n",
       "      <td>4.6</td>\n",
       "      <td>2015</td>\n",
       "      <td>2</td>\n",
       "      <td>-0.1</td>\n",
       "      <td>5.550000</td>\n",
       "      <td>0.850000</td>\n",
       "    </tr>\n",
       "    <tr>\n",
       "      <th>3</th>\n",
       "      <td>10001</td>\n",
       "      <td>9.0</td>\n",
       "      <td>6.4</td>\n",
       "      <td>6.5</td>\n",
       "      <td>2016</td>\n",
       "      <td>2</td>\n",
       "      <td>2.6</td>\n",
       "      <td>5.833333</td>\n",
       "      <td>3.166667</td>\n",
       "    </tr>\n",
       "    <tr>\n",
       "      <th>4</th>\n",
       "      <td>10001</td>\n",
       "      <td>6.5</td>\n",
       "      <td>9.0</td>\n",
       "      <td>6.4</td>\n",
       "      <td>2017</td>\n",
       "      <td>2</td>\n",
       "      <td>-2.5</td>\n",
       "      <td>6.625000</td>\n",
       "      <td>-0.125000</td>\n",
       "    </tr>\n",
       "    <tr>\n",
       "      <th>...</th>\n",
       "      <td>...</td>\n",
       "      <td>...</td>\n",
       "      <td>...</td>\n",
       "      <td>...</td>\n",
       "      <td>...</td>\n",
       "      <td>...</td>\n",
       "      <td>...</td>\n",
       "      <td>...</td>\n",
       "      <td>...</td>\n",
       "    </tr>\n",
       "    <tr>\n",
       "      <th>29091</th>\n",
       "      <td>670122</td>\n",
       "      <td>16.1</td>\n",
       "      <td>NaN</td>\n",
       "      <td>NaN</td>\n",
       "      <td>2018</td>\n",
       "      <td>2</td>\n",
       "      <td>NaN</td>\n",
       "      <td>NaN</td>\n",
       "      <td>NaN</td>\n",
       "    </tr>\n",
       "    <tr>\n",
       "      <th>29092</th>\n",
       "      <td>670122</td>\n",
       "      <td>12.6</td>\n",
       "      <td>16.1</td>\n",
       "      <td>NaN</td>\n",
       "      <td>2019</td>\n",
       "      <td>2</td>\n",
       "      <td>-3.5</td>\n",
       "      <td>16.100000</td>\n",
       "      <td>-3.500000</td>\n",
       "    </tr>\n",
       "    <tr>\n",
       "      <th>29093</th>\n",
       "      <td>670122</td>\n",
       "      <td>8.7</td>\n",
       "      <td>12.6</td>\n",
       "      <td>16.1</td>\n",
       "      <td>2019</td>\n",
       "      <td>4</td>\n",
       "      <td>-3.9</td>\n",
       "      <td>14.350000</td>\n",
       "      <td>-5.650000</td>\n",
       "    </tr>\n",
       "    <tr>\n",
       "      <th>29094</th>\n",
       "      <td>670128</td>\n",
       "      <td>5.5</td>\n",
       "      <td>NaN</td>\n",
       "      <td>NaN</td>\n",
       "      <td>2019</td>\n",
       "      <td>2</td>\n",
       "      <td>NaN</td>\n",
       "      <td>NaN</td>\n",
       "      <td>NaN</td>\n",
       "    </tr>\n",
       "    <tr>\n",
       "      <th>29095</th>\n",
       "      <td>670128</td>\n",
       "      <td>1.0</td>\n",
       "      <td>5.5</td>\n",
       "      <td>NaN</td>\n",
       "      <td>2019</td>\n",
       "      <td>4</td>\n",
       "      <td>-4.5</td>\n",
       "      <td>5.500000</td>\n",
       "      <td>-4.500000</td>\n",
       "    </tr>\n",
       "  </tbody>\n",
       "</table>\n",
       "<p>29096 rows × 9 columns</p>\n",
       "</div>"
      ],
      "text/plain": [
       "       provider_id  score  lag1  lag2  year  quarter  lag_diff  prov_mean  \\\n",
       "0            10001    4.6   NaN   NaN  2013        2       NaN        NaN   \n",
       "1            10001    6.5   4.6   NaN  2014        2       1.9   4.600000   \n",
       "2            10001    6.4   6.5   4.6  2015        2      -0.1   5.550000   \n",
       "3            10001    9.0   6.4   6.5  2016        2       2.6   5.833333   \n",
       "4            10001    6.5   9.0   6.4  2017        2      -2.5   6.625000   \n",
       "...            ...    ...   ...   ...   ...      ...       ...        ...   \n",
       "29091       670122   16.1   NaN   NaN  2018        2       NaN        NaN   \n",
       "29092       670122   12.6  16.1   NaN  2019        2      -3.5  16.100000   \n",
       "29093       670122    8.7  12.6  16.1  2019        4      -3.9  14.350000   \n",
       "29094       670128    5.5   NaN   NaN  2019        2       NaN        NaN   \n",
       "29095       670128    1.0   5.5   NaN  2019        4      -4.5   5.500000   \n",
       "\n",
       "       prov_mean_diff  \n",
       "0                 NaN  \n",
       "1            1.900000  \n",
       "2            0.850000  \n",
       "3            3.166667  \n",
       "4           -0.125000  \n",
       "...               ...  \n",
       "29091             NaN  \n",
       "29092       -3.500000  \n",
       "29093       -5.650000  \n",
       "29094             NaN  \n",
       "29095       -4.500000  \n",
       "\n",
       "[29096 rows x 9 columns]"
      ]
     },
     "execution_count": 144,
     "metadata": {},
     "output_type": "execute_result"
    }
   ],
   "source": [
    "modeling_dataset"
   ]
  },
  {
   "cell_type": "code",
   "execution_count": 145,
   "id": "a23f654e-4b0d-40b9-bdd0-d57b2da2d7b6",
   "metadata": {},
   "outputs": [],
   "source": [
    "#drop 2019 q4\n",
    "modeling_dataset = modeling_dataset[~((modeling_dataset['year'] == 2019) & (modeling_dataset['quarter'] == 4))].query('year == 2019')"
   ]
  },
  {
   "cell_type": "code",
   "execution_count": 146,
   "id": "a25b90a1-6a7b-48fd-92f1-326f5edef38b",
   "metadata": {},
   "outputs": [],
   "source": [
    "modeling_dataset = modeling_dataset.drop(columns = ['provider_id'])"
   ]
  },
  {
   "cell_type": "code",
   "execution_count": 147,
   "id": "194a7fef-faaf-4cc6-856b-b4a42defe98a",
   "metadata": {},
   "outputs": [],
   "source": [
    "# XGBoost model"
   ]
  },
  {
   "cell_type": "code",
   "execution_count": 148,
   "id": "89824cb2-b8d5-413e-a8d7-f71a3f450c32",
   "metadata": {},
   "outputs": [],
   "source": [
    "model = XGBRegressor()"
   ]
  },
  {
   "cell_type": "code",
   "execution_count": 149,
   "id": "fcdd5878-d477-4f26-a38f-438b0817c549",
   "metadata": {},
   "outputs": [],
   "source": [
    "X, y = modeling_dataset.drop(columns = 'score'), modeling_dataset[['score']]\n"
   ]
  },
  {
   "cell_type": "code",
   "execution_count": 150,
   "id": "60decaa2-1a0a-41e4-9d99-65512db7bc1d",
   "metadata": {
    "tags": []
   },
   "outputs": [
    {
     "name": "stderr",
     "output_type": "stream",
     "text": [
      "[Parallel(n_jobs=-1)]: Using backend LokyBackend with 2 concurrent workers.\n",
      "[Parallel(n_jobs=-1)]: Done   5 out of   5 | elapsed:    4.4s finished\n"
     ]
    }
   ],
   "source": [
    "cv = RepeatedKFold(n_splits=5, n_repeats=1, random_state=1)\n",
    "scores = cross_val_score(model, X, y, scoring='neg_root_mean_squared_error', cv=cv, n_jobs=-1, error_score=\"raise\", verbose = True)"
   ]
  },
  {
   "cell_type": "code",
   "execution_count": 151,
   "id": "c97c6b13-4b87-4e9d-ac4b-13ea8d79baa1",
   "metadata": {},
   "outputs": [
    {
     "data": {
      "text/plain": [
       "array([-1.39998815, -2.47263989, -0.92033001, -0.97316063, -1.14944751])"
      ]
     },
     "execution_count": 151,
     "metadata": {},
     "output_type": "execute_result"
    }
   ],
   "source": [
    "scores"
   ]
  },
  {
   "cell_type": "code",
   "execution_count": 152,
   "id": "61de3944-e131-4111-9f72-463dea376353",
   "metadata": {},
   "outputs": [
    {
     "data": {
      "text/plain": [
       "1.3831132371664911"
      ]
     },
     "execution_count": 152,
     "metadata": {},
     "output_type": "execute_result"
    }
   ],
   "source": [
    "np.mean(-scores)"
   ]
  },
  {
   "cell_type": "code",
   "execution_count": 153,
   "id": "90c8f328-d0df-4df2-bb52-57070d0c756e",
   "metadata": {},
   "outputs": [],
   "source": [
    "model.fit(X, y)\n",
    "yhat = model.predict(X)"
   ]
  },
  {
   "cell_type": "code",
   "execution_count": 154,
   "id": "674c1c56-0e8c-494c-9502-f39b0ade42ca",
   "metadata": {},
   "outputs": [
    {
     "data": {
      "text/plain": [
       "array([ 7.35482 , 14.060574, 14.745285, ...,  7.473323, 12.575196,\n",
       "        5.889491], dtype=float32)"
      ]
     },
     "execution_count": 154,
     "metadata": {},
     "output_type": "execute_result"
    }
   ],
   "source": [
    "yhat"
   ]
  },
  {
   "cell_type": "code",
   "execution_count": 155,
   "id": "52500e7c-785b-49e4-8100-a80e6fa14e59",
   "metadata": {},
   "outputs": [],
   "source": [
    "diff = y['score'] - yhat"
   ]
  },
  {
   "cell_type": "code",
   "execution_count": 156,
   "id": "17e4918e-beaf-4784-a630-c4c824ebc52b",
   "metadata": {},
   "outputs": [
    {
     "data": {
      "text/plain": [
       "count    3866.000000\n",
       "mean       -0.000045\n",
       "std         1.054618\n",
       "min        -5.489491\n",
       "25%        -0.048997\n",
       "50%        -0.001073\n",
       "75%         0.046280\n",
       "max        56.310509\n",
       "Name: score, dtype: float64"
      ]
     },
     "execution_count": 156,
     "metadata": {},
     "output_type": "execute_result"
    }
   ],
   "source": [
    "diff.describe()"
   ]
  },
  {
   "cell_type": "code",
   "execution_count": 157,
   "id": "0d95f3e2-ff01-4bcf-b00d-dc2f9543cf8d",
   "metadata": {
    "tags": []
   },
   "outputs": [
    {
     "data": {
      "image/png": "[encoded data removed]",
      "text/plain": [
       "<Figure size 640x480 with 1 Axes>"
      ]
     },
     "metadata": {},
     "output_type": "display_data"
    }
   ],
   "source": [
    "plot_importance(model)\n",
    "pyplot.show()"
   ]
  },
  {
   "cell_type": "code",
   "execution_count": 158,
   "id": "89544ddf-3d0f-4fae-bd2f-1980d5c1ddf5",
   "metadata": {},
   "outputs": [
    {
     "data": {
      "text/html": [
       "<div>\n",
       "<style scoped>\n",
       "    .dataframe tbody tr th:only-of-type {\n",
       "        vertical-align: middle;\n",
       "    }\n",
       "\n",
       "    .dataframe tbody tr th {\n",
       "        vertical-align: top;\n",
       "    }\n",
       "\n",
       "    .dataframe thead th {\n",
       "        text-align: right;\n",
       "    }\n",
       "</style>\n",
       "<table border=\"1\" class=\"dataframe\">\n",
       "  <thead>\n",
       "    <tr style=\"text-align: right;\">\n",
       "      <th></th>\n",
       "      <th>score</th>\n",
       "      <th>pred</th>\n",
       "    </tr>\n",
       "  </thead>\n",
       "  <tbody>\n",
       "    <tr>\n",
       "      <th>6</th>\n",
       "      <td>7.2</td>\n",
       "      <td>7.354820</td>\n",
       "    </tr>\n",
       "    <tr>\n",
       "      <th>14</th>\n",
       "      <td>14.2</td>\n",
       "      <td>14.060574</td>\n",
       "    </tr>\n",
       "    <tr>\n",
       "      <th>22</th>\n",
       "      <td>14.5</td>\n",
       "      <td>14.745285</td>\n",
       "    </tr>\n",
       "    <tr>\n",
       "      <th>30</th>\n",
       "      <td>9.1</td>\n",
       "      <td>9.182553</td>\n",
       "    </tr>\n",
       "    <tr>\n",
       "      <th>38</th>\n",
       "      <td>3.4</td>\n",
       "      <td>3.421915</td>\n",
       "    </tr>\n",
       "    <tr>\n",
       "      <th>...</th>\n",
       "      <td>...</td>\n",
       "      <td>...</td>\n",
       "    </tr>\n",
       "    <tr>\n",
       "      <th>29078</th>\n",
       "      <td>4.3</td>\n",
       "      <td>4.295608</td>\n",
       "    </tr>\n",
       "    <tr>\n",
       "      <th>29083</th>\n",
       "      <td>11.9</td>\n",
       "      <td>5.889491</td>\n",
       "    </tr>\n",
       "    <tr>\n",
       "      <th>29089</th>\n",
       "      <td>7.5</td>\n",
       "      <td>7.473323</td>\n",
       "    </tr>\n",
       "    <tr>\n",
       "      <th>29092</th>\n",
       "      <td>12.6</td>\n",
       "      <td>12.575196</td>\n",
       "    </tr>\n",
       "    <tr>\n",
       "      <th>29094</th>\n",
       "      <td>5.5</td>\n",
       "      <td>5.889491</td>\n",
       "    </tr>\n",
       "  </tbody>\n",
       "</table>\n",
       "<p>3866 rows × 2 columns</p>\n",
       "</div>"
      ],
      "text/plain": [
       "       score       pred\n",
       "6        7.2   7.354820\n",
       "14      14.2  14.060574\n",
       "22      14.5  14.745285\n",
       "30       9.1   9.182553\n",
       "38       3.4   3.421915\n",
       "...      ...        ...\n",
       "29078    4.3   4.295608\n",
       "29083   11.9   5.889491\n",
       "29089    7.5   7.473323\n",
       "29092   12.6  12.575196\n",
       "29094    5.5   5.889491\n",
       "\n",
       "[3866 rows x 2 columns]"
      ]
     },
     "execution_count": 158,
     "metadata": {},
     "output_type": "execute_result"
    }
   ],
   "source": [
    "pd.DataFrame({'score':modeling_dataset['score'], 'pred':yhat})"
   ]
  },
  {
   "cell_type": "code",
   "execution_count": null,
   "id": "20c503ed-32e4-4535-8646-29b582a69bf8",
   "metadata": {},
   "outputs": [],
   "source": []
  }
 ],
 "metadata": {
  "instance_type": "ml.t3.medium",
  "kernelspec": {
   "display_name": "Python 3 (Data Science)",
   "language": "python",
   "name": "python3__SAGEMAKER_INTERNAL__arn:aws:sagemaker:us-east-1:081325390199:image/datascience-1.0"
  },
  "language_info": {
   "codemirror_mode": {
    "name": "ipython",
    "version": 3
   },
   "file_extension": ".py",
   "mimetype": "text/x-python",
   "name": "python",
   "nbconvert_exporter": "python",
   "pygments_lexer": "ipython3",
   "version": "3.7.10"
  }
 },
 "nbformat": 4,
 "nbformat_minor": 5
}
