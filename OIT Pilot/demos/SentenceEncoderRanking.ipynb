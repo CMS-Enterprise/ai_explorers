{
 "cells": [
  {
   "cell_type": "code",
   "execution_count": 1,
   "id": "89e75f66-2fd7-43b9-b982-3058643afb61",
   "metadata": {},
   "outputs": [],
   "source": [
    "from sentence_transformers import SentenceTransformer, util"
   ]
  },
  {
   "cell_type": "code",
   "execution_count": 2,
   "id": "7f4e56bc-0c0c-4751-8588-24a1081ce1a9",
   "metadata": {},
   "outputs": [],
   "source": [
    "model = SentenceTransformer('all-MiniLM-L6-v2', device='cpu')"
   ]
  },
  {
   "cell_type": "code",
   "execution_count": 3,
   "id": "1eb622d0-384a-4489-a2f7-6ff13daa9165",
   "metadata": {},
   "outputs": [],
   "source": [
    "mention = model.encode(sentences=['A Postgres database.'])"
   ]
  },
  {
   "cell_type": "code",
   "execution_count": 4,
   "id": "86bf3b90-be06-4ef7-8540-52b6fc10d104",
   "metadata": {},
   "outputs": [],
   "source": [
    "candidates = ['Postgres-XL, distributed database based on PostgreSQL',\n",
    " 'Postgres-XC, distributed database based on PostgreSQL',\n",
    " 'POSTGRES, former database software',\n",
    " 'Postgrey, ',\n",
    " 'PostgreSQL Studio, web-based database development tool',\n",
    " 'PostgreSQL, free and open-source relational database management system',\n",
    " 'postgres, Python library',\n",
    " 'dbt-postgres, Python library']"
   ]
  },
  {
   "cell_type": "code",
   "execution_count": 5,
   "id": "286400b9-5e1b-43c1-b05f-163c7738b33b",
   "metadata": {},
   "outputs": [],
   "source": [
    "definitions = model.encode(sentences=candidates)"
   ]
  },
  {
   "cell_type": "code",
   "execution_count": 6,
   "id": "94419975-e97d-46c9-8e05-bb8a6eb1fcab",
   "metadata": {},
   "outputs": [],
   "source": [
    "sim = util.cos_sim(mention, definitions)"
   ]
  },
  {
   "cell_type": "code",
   "execution_count": 7,
   "id": "91ee1060-16ff-4651-9ff0-2387ae21b715",
   "metadata": {},
   "outputs": [
    {
     "data": {
      "text/html": [
       "<div>\n",
       "<style scoped>\n",
       "    .dataframe tbody tr th:only-of-type {\n",
       "        vertical-align: middle;\n",
       "    }\n",
       "\n",
       "    .dataframe tbody tr th {\n",
       "        vertical-align: top;\n",
       "    }\n",
       "\n",
       "    .dataframe thead th {\n",
       "        text-align: right;\n",
       "    }\n",
       "</style>\n",
       "<table border=\"1\" class=\"dataframe\">\n",
       "  <thead>\n",
       "    <tr style=\"text-align: right;\">\n",
       "      <th></th>\n",
       "      <th>candidates</th>\n",
       "      <th>sim</th>\n",
       "    </tr>\n",
       "  </thead>\n",
       "  <tbody>\n",
       "    <tr>\n",
       "      <th>3</th>\n",
       "      <td>Postgrey,</td>\n",
       "      <td>0.769519</td>\n",
       "    </tr>\n",
       "    <tr>\n",
       "      <th>5</th>\n",
       "      <td>PostgreSQL, free and open-source relational da...</td>\n",
       "      <td>0.724774</td>\n",
       "    </tr>\n",
       "    <tr>\n",
       "      <th>2</th>\n",
       "      <td>POSTGRES, former database software</td>\n",
       "      <td>0.675748</td>\n",
       "    </tr>\n",
       "    <tr>\n",
       "      <th>4</th>\n",
       "      <td>PostgreSQL Studio, web-based database developm...</td>\n",
       "      <td>0.648448</td>\n",
       "    </tr>\n",
       "    <tr>\n",
       "      <th>1</th>\n",
       "      <td>Postgres-XC, distributed database based on Pos...</td>\n",
       "      <td>0.575539</td>\n",
       "    </tr>\n",
       "    <tr>\n",
       "      <th>0</th>\n",
       "      <td>Postgres-XL, distributed database based on Pos...</td>\n",
       "      <td>0.574872</td>\n",
       "    </tr>\n",
       "    <tr>\n",
       "      <th>6</th>\n",
       "      <td>postgres, Python library</td>\n",
       "      <td>0.555573</td>\n",
       "    </tr>\n",
       "    <tr>\n",
       "      <th>7</th>\n",
       "      <td>dbt-postgres, Python library</td>\n",
       "      <td>0.473655</td>\n",
       "    </tr>\n",
       "  </tbody>\n",
       "</table>\n",
       "</div>"
      ],
      "text/plain": [
       "                                          candidates       sim\n",
       "3                                         Postgrey,   0.769519\n",
       "5  PostgreSQL, free and open-source relational da...  0.724774\n",
       "2                 POSTGRES, former database software  0.675748\n",
       "4  PostgreSQL Studio, web-based database developm...  0.648448\n",
       "1  Postgres-XC, distributed database based on Pos...  0.575539\n",
       "0  Postgres-XL, distributed database based on Pos...  0.574872\n",
       "6                           postgres, Python library  0.555573\n",
       "7                       dbt-postgres, Python library  0.473655"
      ]
     },
     "execution_count": 7,
     "metadata": {},
     "output_type": "execute_result"
    }
   ],
   "source": [
    "import pandas\n",
    "pandas.DataFrame({'candidates': candidates, 'sim': sim[0]}).sort_values('sim', ascending=False)"
   ]
  },
  {
   "cell_type": "code",
   "execution_count": null,
   "id": "3b4b5838-df63-4936-98c9-78b766f1f0fa",
   "metadata": {},
   "outputs": [],
   "source": []
  }
 ],
 "metadata": {
  "kernelspec": {
   "display_name": "Python 3 (ipykernel)",
   "language": "python",
   "name": "python3"
  },
  "language_info": {
   "codemirror_mode": {
    "name": "ipython",
    "version": 3
   },
   "file_extension": ".py",
   "mimetype": "text/x-python",
   "name": "python",
   "nbconvert_exporter": "python",
   "pygments_lexer": "ipython3",
   "version": "3.8.13"
  }
 },
 "nbformat": 4,
 "nbformat_minor": 5
}
