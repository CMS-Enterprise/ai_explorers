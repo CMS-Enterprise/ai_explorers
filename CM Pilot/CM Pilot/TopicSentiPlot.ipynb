{
 "cells": [
  {
   "cell_type": "markdown",
   "id": "e3369820-6ee2-4bb6-9d46-17d91de3a75e",
   "metadata": {
    "tags": []
   },
   "source": [
    "#### <font color='blue'>Install the packages necessary first</font>"
   ]
  },
  {
   "cell_type": "code",
   "execution_count": null,
   "id": "46d56928-bf99-46a2-90e6-94bb967d58a9",
   "metadata": {
    "tags": []
   },
   "outputs": [],
   "source": [
    "!pip install psycopg2-binary\n",
    "!pip install seaborn"
   ]
  },
  {
   "cell_type": "code",
   "execution_count": 315,
   "id": "c7ef87df-11cf-4197-83a9-f8c5f255db45",
   "metadata": {
    "tags": []
   },
   "outputs": [],
   "source": [
    "import boto3\n",
    "import psycopg2\n",
    "import sys\n",
    "import pandas as pd\n",
    "import matplotlib\n",
    "import matplotlib.pyplot as plt\n",
    "from datetime import datetime\n",
    "import matplotlib.patches as mpatches"
   ]
  },
  {
   "cell_type": "code",
   "execution_count": 316,
   "id": "f1bb4ffc-7cc4-42dc-ad5f-f4d5ad05311e",
   "metadata": {
    "tags": []
   },
   "outputs": [],
   "source": [
    "def print_psycopg2_exception(err):\n",
    "    err_type, err_obj, traceback = sys.exc_info()\n",
    "    line_num = traceback.tb_lineno\n",
    "    print (\"\\npsycopg2 ERROR:\", err, \"on line number:\", line_num)\n",
    "    print (\"psycopg2 traceback:\", traceback, \"-- type:\", err_type)\n",
    "    print (\"\\nextensions.Diagnostics:\", err.diag)\n",
    "    print (\"pgerror:\", err.pgerror)\n",
    "    print (\"pgcode:\", err.pgcode, \"\\n\")"
   ]
  },
  {
   "cell_type": "markdown",
   "id": "d38de658-e7eb-43f4-84c7-58ad331899dc",
   "metadata": {},
   "source": [
    "#### <font color='blue'>Connect to PostgreSQL database</font>"
   ]
  },
  {
   "cell_type": "code",
   "execution_count": 317,
   "id": "8d967c49-0c38-4414-abf3-410fab2d1c24",
   "metadata": {
    "tags": []
   },
   "outputs": [
    {
     "name": "stdout",
     "output_type": "stream",
     "text": [
      "Server Date:  (datetime.datetime(2023, 7, 18, 14, 49, 20, 232363, tzinfo=datetime.timezone.utc),)\n",
      "\n",
      "\n"
     ]
    }
   ],
   "source": [
    "conn = psycopg2.connect(database=\"YOUR_DATABASE\", user='<YOUR_USER>', password='<YOUR_PASSWORD>', \n",
    "                        host='<DATABASE_HOST>', port= '5432')\n",
    "cursor = conn.cursor()\n",
    "cursor.execute(\"select now()\")\n",
    "data = cursor.fetchone()\n",
    "print(\"Server Date: \", data)\n",
    "print(\"\\n\")"
   ]
  },
  {
   "cell_type": "code",
   "execution_count": 318,
   "id": "5133a7c8-f8fd-4257-ad31-9762e86f1dda",
   "metadata": {
    "tags": []
   },
   "outputs": [
    {
     "name": "stdout",
     "output_type": "stream",
     "text": [
      "Jul_18\n"
     ]
    }
   ],
   "source": [
    "curr_dt = datetime.now()\n",
    "dt = curr_dt.strftime(\"%b_%d\")\n",
    "print(dt)"
   ]
  },
  {
   "cell_type": "markdown",
   "id": "d7f4a741-0d09-4cca-b13c-9862c606a95a",
   "metadata": {},
   "source": [
    "#### <font color='#B40085'>Query: For building Topic/Sentiment Charts (All Date Ranges)</font>"
   ]
  },
  {
   "cell_type": "code",
   "execution_count": 319,
   "id": "75e849a5-91a2-4977-8dbe-f0db32ca985c",
   "metadata": {
    "tags": []
   },
   "outputs": [
    {
     "name": "stdout",
     "output_type": "stream",
     "text": [
      "SELECT a.message_date, a.primary_topic primary_topic, sum(a.senti_pos) positive, sum(a.senti_neg) negative, sum(a.senti_neu) neutral, sum(a.senti_mix) mixed from ( select message_date, primary_topic, CASE sentiment WHEN 'POSITIVE' THEN 1 ELSE 0 end senti_pos, CASE sentiment WHEN 'NEGATIVE' THEN 1 ELSE 0 end senti_neg, CASE sentiment WHEN 'NEUTRAL' THEN 1 ELSE 0 end senti_neu, CASE sentiment WHEN 'MIXED' THEN 1 ELSE 0 end senti_mix from ml_extract_track where sentiment is not null and extract_status = 'C' ) a group by a.message_date, a.primary_topic order by 1,2; \n",
      "             primary_topic  positive  negative  neutral  mixed\n",
      "message_date                                                  \n",
      "2015-01-09               5         0         0        3      0\n",
      "2015-01-10               7         0         0        1      0\n",
      "2015-01-10               8         0         0        1      0\n",
      "2015-02-04               8         0         0        1      0\n",
      "2015-03-30               7         0         0        1      0\n",
      "...                    ...       ...       ...      ...    ...\n",
      "2023-06-26               4         0         0        1      0\n",
      "2023-06-26               5         0         0        1      0\n",
      "2023-06-26               8         1         0        1      0\n",
      "2023-06-27               1         0         1        0      0\n",
      "2023-07-10               1         0         0        1      0\n",
      "\n",
      "[2413 rows x 5 columns]\n",
      "              positive  negative  neutral  mixed\n",
      "message_date                                    \n",
      "2021-06-18           0         0        5      0\n",
      "2021-12-13           0         1        1      0\n",
      "2021-12-14           0         2        2      0\n",
      "2021-12-16           1         1        1      0\n",
      "2021-12-17           0         1        2      0\n",
      "...                ...       ...      ...    ...\n",
      "2023-06-22           0         1        2      0\n",
      "2023-06-23           0         2        3      1\n",
      "2023-06-26           0         3        6      0\n",
      "2023-06-27           0         1        0      0\n",
      "2023-07-10           0         0        1      0\n",
      "\n",
      "[361 rows x 4 columns]\n"
     ]
    },
    {
     "name": "stderr",
     "output_type": "stream",
     "text": [
      "/opt/conda/lib/python3.7/site-packages/pandas/core/frame.py:4913: SettingWithCopyWarning: \n",
      "A value is trying to be set on a copy of a slice from a DataFrame\n",
      "\n",
      "See the caveats in the documentation: https://pandas.pydata.org/pandas-docs/stable/user_guide/indexing.html#returning-a-view-versus-a-copy\n",
      "  errors=errors,\n"
     ]
    }
   ],
   "source": [
    "query = \"SELECT a.message_date, a.primary_topic primary_topic, sum(a.senti_pos) positive, sum(a.senti_neg) negative, \" \n",
    "query = query + \"sum(a.senti_neu) neutral, sum(a.senti_mix) mixed \"\n",
    "query = query + \"from ( \"\n",
    "query = query + \"select message_date, primary_topic, \"\n",
    "query = query + \"CASE sentiment WHEN 'POSITIVE' THEN 1 ELSE 0 end senti_pos, \"\n",
    "query = query + \"CASE sentiment WHEN 'NEGATIVE' THEN 1 ELSE 0 end senti_neg, \"\n",
    "query = query + \"CASE sentiment WHEN 'NEUTRAL' THEN 1 ELSE 0 end senti_neu, \" \n",
    "query = query + \"CASE sentiment WHEN 'MIXED' THEN 1 ELSE 0 end senti_mix \"\n",
    "query = query + \"from ml_extract_track \"\n",
    "query = query + \"where sentiment is not null and extract_status = 'C' ) a \"\n",
    "query = query + \"group by a.message_date, a.primary_topic \"\n",
    "query = query + \"order by 1,2; \"\n",
    "print(query)\n",
    "\n",
    "try:\n",
    "    cursor.execute(query)\n",
    "    to_plot = cursor.fetchall()\n",
    "    \n",
    "except Exception as err:\n",
    "    print_psycopg2_exception(err)\n",
    "    conn.rollback()\n",
    "\n",
    "df = pd.DataFrame(to_plot, columns=['message_date', 'primary_topic', 'positive', 'negative', 'neutral', 'mixed']).set_index('message_date')\n",
    "print(df)\n",
    "topic1_df = df[df.primary_topic == \"1\"]\n",
    "# topic1_df.sort_values(by=['message_date'])\n",
    "topic1_df.drop(columns=[\"primary_topic\"], inplace=True)\n",
    "print(topic1_df)\n",
    "\n",
    "# conn.close()"
   ]
  },
  {
   "cell_type": "markdown",
   "id": "2770c1c8-9cf5-4912-a0b1-063d3345657b",
   "metadata": {},
   "source": [
    "#### <font color='#B40085'>Query: For building Topic/Sentiment Charts (Dec. 2021 - Jun. 2023)</font>"
   ]
  },
  {
   "cell_type": "code",
   "execution_count": 324,
   "id": "ecd2fd3e-dd65-403f-9ed7-42814c4708b1",
   "metadata": {
    "tags": []
   },
   "outputs": [
    {
     "name": "stdout",
     "output_type": "stream",
     "text": [
      "SELECT a.message_month, a.primary_topic primary_topic, sum(a.senti_pos) positive, sum(a.senti_neg) negative, sum(a.senti_neu) neutral, sum(a.senti_mix) mixed FROM (SELECT TO_CHAR(message_date, 'YYYY-MM') message_month, primary_topic,              CASE sentiment WHEN 'POSITIVE' THEN 1 ELSE 0 end senti_pos,              CASE sentiment WHEN 'NEGATIVE' THEN 1 ELSE 0 end senti_neg,              CASE sentiment WHEN 'NEUTRAL' THEN 1 ELSE 0 end senti_neu,              CASE sentiment WHEN 'MIXED' THEN 1 ELSE 0 end senti_mix         FROM ml_extract_track        WHERE sentiment IS NOT NULL AND extract_status = 'C' AND              message_date > '2021-11-30' AND message_date < '2023-07-01' ) a GROUP BY a.message_month, a.primary_topic ORDER BY 1,2; \n",
      "              primary_topic  positive  negative  neutral  mixed\n",
      "message_month                                                  \n",
      "2021-12                   1         1        12       23      1\n",
      "2021-12                   2         1         3       34      1\n",
      "2021-12                   3         1         1       17      1\n",
      "2021-12                   4         0         2       11      0\n",
      "2021-12                   5         8         0        9      1\n",
      "...                     ...       ...       ...      ...    ...\n",
      "2023-06                   4         0         1       13      1\n",
      "2023-06                   5         3         0       12      0\n",
      "2023-06                   6         0         3       12      0\n",
      "2023-06                   7         0         0       15      2\n",
      "2023-06                   8         3         1        5      1\n",
      "\n",
      "[151 rows x 5 columns]\n",
      "               positive  negative  neutral  mixed\n",
      "message_month                                    \n",
      "2021-12               1        12       23      1\n",
      "2022-01               9        37       90      8\n",
      "2022-02               3        34       62     13\n",
      "2022-03              15        75      135     23\n",
      "2022-04               2        28       80     11\n",
      "2022-05               0        19       74      3\n",
      "2022-06               0        20       69      6\n",
      "2022-07               0        26       62      5\n",
      "2022-08               2        42       92      7\n",
      "2022-09               0        52      111      8\n",
      "2022-10               4        41      152      8\n",
      "2022-11               2        18       96      5\n",
      "2022-12               0        14       39      1\n",
      "2023-01               1        48       62      5\n",
      "2023-02               3        32       76      6\n",
      "2023-03               1        62      130      8\n",
      "2023-04               0         9       40      0\n",
      "2023-05               1        20       43      3\n",
      "2023-06               0        13       41      2\n"
     ]
    },
    {
     "name": "stderr",
     "output_type": "stream",
     "text": [
      "/opt/conda/lib/python3.7/site-packages/pandas/core/frame.py:4913: SettingWithCopyWarning: \n",
      "A value is trying to be set on a copy of a slice from a DataFrame\n",
      "\n",
      "See the caveats in the documentation: https://pandas.pydata.org/pandas-docs/stable/user_guide/indexing.html#returning-a-view-versus-a-copy\n",
      "  errors=errors,\n"
     ]
    }
   ],
   "source": [
    "query = \"SELECT a.message_month, a.primary_topic primary_topic, sum(a.senti_pos) positive, sum(a.senti_neg) negative, \" \n",
    "query = query + \"sum(a.senti_neu) neutral, sum(a.senti_mix) mixed \"\n",
    "query = query + \"FROM (SELECT TO_CHAR(message_date, 'YYYY-MM') message_month, primary_topic, \"\n",
    "query = query + \"             CASE sentiment WHEN 'POSITIVE' THEN 1 ELSE 0 end senti_pos, \"\n",
    "query = query + \"             CASE sentiment WHEN 'NEGATIVE' THEN 1 ELSE 0 end senti_neg, \"\n",
    "query = query + \"             CASE sentiment WHEN 'NEUTRAL' THEN 1 ELSE 0 end senti_neu, \" \n",
    "query = query + \"             CASE sentiment WHEN 'MIXED' THEN 1 ELSE 0 end senti_mix \"\n",
    "query = query + \"        FROM ml_extract_track \"\n",
    "query = query + \"       WHERE sentiment IS NOT NULL AND extract_status = 'C' AND \"\n",
    "query = query + \"             message_date > '2021-11-30' AND message_date < '2023-07-01' ) a \"\n",
    "query = query + \"GROUP BY a.message_month, a.primary_topic \"\n",
    "query = query + \"ORDER BY 1,2; \"\n",
    "print(query)\n",
    "\n",
    "try:\n",
    "    cursor.execute(query)\n",
    "    to_plot = cursor.fetchall()\n",
    "    \n",
    "except Exception as err:\n",
    "    print_psycopg2_exception(err)\n",
    "    conn.rollback()\n",
    "\n",
    "df = pd.DataFrame(to_plot, columns=['message_month', 'primary_topic', 'positive', 'negative', 'neutral', 'mixed']).set_index('message_month')\n",
    "print(df)\n",
    "topic1_df = df[df.primary_topic == \"1\"]\n",
    "# topic1_df.sort_values(by=['message_date'])\n",
    "topic1_df.drop(columns=[\"primary_topic\"], inplace=True)\n",
    "print(topic1_df)\n",
    "\n",
    "# conn.close()"
   ]
  },
  {
   "cell_type": "markdown",
   "id": "7612cfe5-a9e8-4f19-a11e-57ec22a6c814",
   "metadata": {},
   "source": [
    "#### <font color='#B40085'> Query: For Topic by message_date Charts (for all date range)"
   ]
  },
  {
   "cell_type": "code",
   "execution_count": 321,
   "id": "0e921c91-95ff-4692-a9ce-541012b5bd3f",
   "metadata": {
    "tags": []
   },
   "outputs": [
    {
     "name": "stdout",
     "output_type": "stream",
     "text": [
      "select message_date, primary_topic, count(*) msg_cnt from ml_extract_track where extract_status = 'C' group by message_date, primary_topic;\n",
      "             primary_topic  msg_cnt\n",
      "message_date                       \n",
      "2022-11-15               6        1\n",
      "2022-05-26               1        6\n",
      "2022-07-06               2        5\n",
      "2022-02-02               2       12\n",
      "2022-01-24               4       17\n",
      "...                    ...      ...\n",
      "2022-05-11               8        1\n",
      "2021-12-20               7        1\n",
      "2022-06-24               5        3\n",
      "2022-04-22               6        2\n",
      "2023-04-21               7        4\n",
      "\n",
      "[2414 rows x 2 columns]\n"
     ]
    }
   ],
   "source": [
    "topic_query = \"select message_date, primary_topic, count(*) msg_cnt from ml_extract_track where extract_status = 'C' \" \n",
    "topic_query = topic_query + \"group by message_date, primary_topic;\" \n",
    "print(topic_query)\n",
    "\n",
    "try:\n",
    "    cursor.execute(topic_query)\n",
    "    topic_data = cursor.fetchall()\n",
    "    \n",
    "except Exception as err:\n",
    "    print_psycopg2_exception(err)\n",
    "    conn.rollback()\n",
    "\n",
    "topic_df = pd.DataFrame(topic_data, columns=['message_date', 'primary_topic', 'msg_cnt']).set_index('message_date')\n",
    "print(topic_df)\n"
   ]
  },
  {
   "cell_type": "markdown",
   "id": "7de47e6f-f876-4b9a-aa24-0ac81189e171",
   "metadata": {
    "tags": []
   },
   "source": [
    "#### <font color='#B40085'>Query: For Topic Charts by YYYY-MM (Jan 2021 - June 2023)"
   ]
  },
  {
   "cell_type": "code",
   "execution_count": 322,
   "id": "1ff426f6-8101-467f-a1b9-85136128328d",
   "metadata": {
    "tags": []
   },
   "outputs": [
    {
     "name": "stdout",
     "output_type": "stream",
     "text": [
      "SELECT TO_CHAR(message_date, 'YYYY-MM') msg_yr_mth, primary_topic, COUNT(*) msg_cnt FROM ml_extract_track WHERE extract_status = 'C' AND message_date > '2021-11-30' AND message_date < '2023-07-01' AND primary_topic IS NOT NULL GROUP BY TO_CHAR(message_date, 'YYYY-MM'), primary_topic ORDER BY 1; \n",
      "           primary_topic  msg_cnt\n",
      "msg_yr_mth                       \n",
      "2021-12                5       18\n",
      "2021-12                2       39\n",
      "2021-12                3       20\n",
      "2021-12                4       13\n",
      "2021-12                7       26\n",
      "...                  ...      ...\n",
      "2023-06                6       15\n",
      "2023-06                8       10\n",
      "2023-06                3       14\n",
      "2023-06                4       15\n",
      "2023-06                1       56\n",
      "\n",
      "[151 rows x 2 columns]\n"
     ]
    }
   ],
   "source": [
    "topic_query = \"SELECT TO_CHAR(message_date, 'YYYY-MM') msg_yr_mth, primary_topic, COUNT(*) msg_cnt FROM ml_extract_track \"\n",
    "topic_query = topic_query + \"WHERE extract_status = 'C' AND message_date > '2021-11-30' AND message_date < '2023-07-01' AND \"\n",
    "topic_query = topic_query + \"primary_topic IS NOT NULL \"\n",
    "topic_query = topic_query + \"GROUP BY TO_CHAR(message_date, 'YYYY-MM'), primary_topic ORDER BY 1; \" \n",
    "print(topic_query)\n",
    "\n",
    "try:\n",
    "    cursor.execute(topic_query)\n",
    "    topic_data = cursor.fetchall()\n",
    "    \n",
    "except Exception as err:\n",
    "    print_psycopg2_exception(err)\n",
    "    conn.rollback()\n",
    "\n",
    "topics_df = pd.DataFrame(topic_data, columns=['msg_yr_mth', 'primary_topic', 'msg_cnt']).set_index('msg_yr_mth')\n",
    "print(topics_df)q"
   ]
  },
  {
   "cell_type": "markdown",
   "id": "4fc48c5f-4207-4820-9673-1007c419dbd5",
   "metadata": {},
   "source": [
    "#### <font color='#000099'>Line Chart: Plot all the four sentiments in the same chart"
   ]
  },
  {
   "cell_type": "code",
   "execution_count": 325,
   "id": "8bcdd20f-c2dc-45ce-a9d3-9a5974f1f1d1",
   "metadata": {
    "tags": []
   },
   "outputs": [
    {
     "data": {
      "image/png": "[encoded data removed]",
      "text/plain": [
       "<Figure size 1760x640 with 1 Axes>"
      ]
     },
     "metadata": {},
     "output_type": "display_data"
    }
   ],
   "source": [
    "# topic1_df.plot(subplots=True, legend=True)\n",
    "# plt.plot(topic1_df.index, topic1_df['positive'])\n",
    "\n",
    "plt.figure(figsize=(22,8))\n",
    "for col in ['positive', 'negative', 'neutral', 'mixed']:\n",
    "    \n",
    "    if col == 'negative':\n",
    "        # plt.plot(topic1_df.index, topic1_df[col])\n",
    "        plt.plot(topic1_df.index, topic1_df[col], color='red', linewidth=1)\n",
    "        # plt.plot(topic1_df.index, topic1_df[col], color='red', marker='o', markerfacecolor='yellow', markeredgecolor='blue', markersize=3)\n",
    "    \n",
    "    if col == 'positive':\n",
    "        # plt.plot(topic1_df.index, topic1_df[col])\n",
    "        plt.plot(topic1_df.index, topic1_df[col], color='green', linewidth=1)\n",
    "        # plt.plot(topic1_df.index, topic1_df[col], color='green', marker='o', markerfacecolor='yellow', markeredgecolor='blue', markersize=3)\n",
    "    \n",
    "    if col == 'neutral':\n",
    "        # plt.plot(topic1_df.index, topic1_df[col])\n",
    "        plt.plot(topic1_df.index, topic1_df[col], color='grey', linewidth=1)\n",
    "        # plt.plot(topic1_df.index, topic1_df[col], color='green', marker='o', markerfacecolor='yellow', markeredgecolor='blue', markersize=3)\n",
    "    \n",
    "    if col == 'mixed':\n",
    "        # plt.plot(topic1_df.index, topic1_df[col])\n",
    "        plt.plot(topic1_df.index, topic1_df[col], color='purple', linewidth=1)\n",
    "        # plt.plot(topic1_df.index, topic1_df[col], color='green', marker='o', markerfacecolor='yellow', markeredgecolor='blue', markersize=3)\n",
    "        plt.show()"
   ]
  },
  {
   "cell_type": "markdown",
   "id": "b92026be-8476-402c-b97d-5c59fc92be18",
   "metadata": {},
   "source": [
    "#### <font color='#000099'>Line Chart: Sentiments in individual graph (manually run one-by-one)"
   ]
  },
  {
   "cell_type": "code",
   "execution_count": 333,
   "id": "1d2e951f-278b-4450-b644-7a974456e643",
   "metadata": {},
   "outputs": [
    {
     "data": {
      "image/png": "[encoded data removed]",
      "text/plain": [
       "<Figure size 1760x640 with 1 Axes>"
      ]
     },
     "metadata": {},
     "output_type": "display_data"
    },
    {
     "data": {
      "image/png": "[encoded data removed]",
      "text/plain": [
       "<Figure size 1760x640 with 1 Axes>"
      ]
     },
     "metadata": {},
     "output_type": "display_data"
    }
   ],
   "source": [
    "fig, ax = plt.subplots(figsize=(22, 8))\n",
    "plt.plot(topic1_df.index, topic1_df['positive'], color='green')\n",
    "plt.title('Topic 1: Positive Sentiment', fontsize=20)\n",
    "plt.xlabel('Date', fontsize=15)\n",
    "plt.ylabel('# of messages', fontsize=15)\n",
    "plt.ylim(0, 160)\n",
    "plt.xlim(topic1_df.index.min(), topic1_df.index.max())\n",
    "plt.gca().xaxis.set_tick_params(rotation = 45)\n",
    "# ticks = list(topic1_df.index)\n",
    "# plt.xticks(ticks, rotation=45)\n",
    "# Formatting time axis tick labels\n",
    "# ax.xaxis.set_major_formatter(matplotlib.dates.DateFormatter('%Y-%m'))\n",
    "# plt.savefig('/root/charts/positive.png')\n",
    "plt.show()\n",
    "\n",
    "fig, ax = plt.subplots(figsize=(22, 8))\n",
    "plt.plot(topic1_df.index, topic1_df['negative'], color='red')\n",
    "plt.title('Topic 1: Negative Sentiment', fontsize=20)\n",
    "plt.xlabel('Date', fontsize=15)\n",
    "plt.ylabel('# of messages', fontsize=15)\n",
    "plt.ylim(0, 160)\n",
    "plt.xlim(topic1_df.index.min(), topic1_df.index.max())\n",
    "plt.gca().xaxis.set_tick_params(rotation = 45)\n",
    "# ax.xaxis.set_major_formatter(matplotlib.dates.DateFormatter('%Y-%m'))\n",
    "# plt.savefig('/root/charts/negative.png')\n",
    "plt.show()"
   ]
  },
  {
   "cell_type": "markdown",
   "id": "69cef26e-a0d8-41a4-abfe-815ae14890db",
   "metadata": {
    "tags": []
   },
   "source": [
    "#### <font color='#000099'>To check the name of the styles available"
   ]
  },
  {
   "cell_type": "code",
   "execution_count": null,
   "id": "c857569e-ce4c-461c-9a43-0b6cddfcb296",
   "metadata": {
    "tags": []
   },
   "outputs": [],
   "source": [
    "print(plt.style.available)"
   ]
  },
  {
   "cell_type": "markdown",
   "id": "34f3c42e-112c-481c-9917-e6a4a61f5c0f",
   "metadata": {},
   "source": [
    "#### <font color='#000099'>Line Plot: Individual Charts for Topics (Y Axis not scaled)"
   ]
  },
  {
   "cell_type": "code",
   "execution_count": null,
   "id": "8c86dc00-a7fc-4668-a537-c6201d409b50",
   "metadata": {
    "tags": []
   },
   "outputs": [],
   "source": [
    "colors = [ 'black', 'purple', 'red', 'blue', 'green', 'grey', 'orange', 'cyan' ] \n",
    "topics = [ '1', '2', '3', '4', '5', '6', '7', '8' ]\n",
    "topic_desc = [\"Topic 1: Account Login, Password, Lock & Reset\", \n",
    "              \"Topic 2: Account Manager Authorization, Representative/Sponsor Reassignments\", \n",
    "              \"Topic 3: Application/Plan Submission, Annual Deadline/Approval\", \n",
    "              \"Topic 4: Reconciliation Steps, Completion, Processing and Finalization\", \n",
    "              \"Topic 5: Information, Contact, Additional Overpayment Inquiries\", \n",
    "              \"Topic 6: Cost Report, Vendor Option, Benefit Adjustment\", \n",
    "              \"Topic 7: Retiree File Management, Response, List, Upload, Notification\", \n",
    "              \"Topic 8: Support Request, Payment, Program, Application Resolution\"]\n",
    "cnt = 0\n",
    "# fig, ax = plt.subplots(figsize=(22,8))\n",
    "for topic_no in topics:\n",
    "    # if topic_no > '3': \n",
    "        # cnt += 1\n",
    "        # continue\n",
    "    topic_df = topics_df[topics_df.primary_topic == topic_no]\n",
    "    topic_df.drop(columns=[\"primary_topic\"], inplace=True)\n",
    "    fig, ax = plt.subplots(figsize=(22,8))\n",
    "    plt.style.use('seaborn-whitegrid')\n",
    "    plt.plot(topic_df.index, topic_df['msg_cnt'], color=colors[cnt], label='Topic'+str(cnt+1))\n",
    "    # plt.stackplot(topic_df.index, topic_df['msg_cnt'])\n",
    "    # plt.title('All Topics in one graph', fontsize=18, fontweight='bold')\n",
    "    plt.title(topic_desc[cnt] + ' (Messages Over Time)', fontsize=18, fontweight='bold')\n",
    "    plt.xlabel('Date Range', fontsize=12, fontweight='bold')\n",
    "    plt.ylabel('# of messages', fontsize=14, fontweight='bold')\n",
    "    plt.ylim(1, 320)\n",
    "    plt.xlim(topic_df.index.min(), topic_df.index.max())\n",
    "    plt.gca().xaxis.set_tick_params(rotation = 45)\n",
    "    plt.legend(framealpha=1, frameon=True, fancybox=True, shadow=True, borderpad=1)\n",
    "    \n",
    "    # ax.set_xticklabels(ax.get_xticks(), weight='bold', size=11)\n",
    "    # ax.xaxis.set_major_formatter(matplotlib.dates.DateFormatter('%Y-%m'))\n",
    "    # filename = \"/root/charts/topic\" + topic_no + \"_timeseries_\" + dt + \".png\"\n",
    "    # print('topic#:', topic_desc[cnt], ' color:', colors[cnt], ' filename:', filename)\n",
    "    # input(\"press return to continue..\")\n",
    "    # plt.savefig(filename)\n",
    "    plt.show()\n",
    "    cnt += 1\n",
    "# filename = \"/root/charts/all_topics_\" + dt + \".png\"\n",
    "# plt.savefig(filename)\n",
    "# plt.show()"
   ]
  },
  {
   "cell_type": "markdown",
   "id": "6cbb6da7-e8b9-4ae8-b44f-8f2e6968e5d2",
   "metadata": {
    "tags": []
   },
   "source": [
    "#### <font color='#000099'>Line Plot: All Topics in one Chart for Dec. 2021 - Jun. 2023 (Y Axis scaled)"
   ]
  },
  {
   "cell_type": "code",
   "execution_count": null,
   "id": "b41bfef7-7eae-4f6c-ab0b-874d9ea3dbc8",
   "metadata": {
    "tags": []
   },
   "outputs": [],
   "source": [
    "# colors = [ '#00001A', '#A40000', '#2929FF', '#00A400', '#9B09FF', '#7A7AA6', '#D27D00', '#1DD4FF' ] \n",
    "colors = [ 'black', 'purple', 'brown', 'blue', 'orange', 'grey', 'green', '#00F8F2' ] \n",
    "topics = [ '1', '2', '3', '4', '5', '6', '7', '8' ]\n",
    "topic_desc = [\"Topic 1: Account Login, Password, Lock & Reset\", \n",
    "              \"Topic 2: Account Manager Authorization, Representative/Sponsor Reassignments\", \n",
    "              \"Topic 3: Application/Plan Submission, Annual Deadline/Approval\", \n",
    "              \"Topic 4: Reconciliation Steps, Completion, Processing and Finalization\", \n",
    "              \"Topic 5: Information, Contact, Additional Overpayment Inquiries\", \n",
    "              \"Topic 6: Cost Report, Vendor Option, Benefit Adjustment\", \n",
    "              \"Topic 7: Retiree File Management, Response, List, Upload, Notification\", \n",
    "              \"Topic 8: Support Request, Payment, Program, Application Resolution\"]\n",
    "cnt = 0\n",
    "# fig, ax = plt.subplots(figsize=(22,8))\n",
    "plt.figure(figsize=(22,8))\n",
    "plt.style.use('seaborn-whitegrid')\n",
    "plt.xlabel('Date Range', fontsize=12, fontweight='bold')\n",
    "plt.ylabel('# of messages', fontsize=14, fontweight='bold')\n",
    "plt.title(\"All Topics for the same date range\", fontsize=18, fontweight='bold')\n",
    "plt.gca().xaxis.set_tick_params(rotation = 45)\n",
    "legend_properties = {'weight':'normal'}\n",
    "plt.ylim(1, 320)\n",
    "for topic_no in topics:\n",
    "    # if topic_no > '3': \n",
    "        # cnt += 1\n",
    "        # continue\n",
    "    topic_df = topics_df[topics_df.primary_topic == topic_no]\n",
    "    topic_df.drop(columns=[\"primary_topic\"], inplace=True)\n",
    "    # fig, ax = plt.subplots(figsize=(22,8))\n",
    "    plt.plot(topic_df.index, topic_df['msg_cnt'], color=colors[cnt], label='Topic '+str(cnt+1))\n",
    "    # plt.title(topic_desc[cnt] + ' (Messages Over Time)', fontsize=18, fontweight='bold')\n",
    "    plt.xlim(topic_df.index.min(), topic_df.index.max())\n",
    "    plt.legend(framealpha=0.9, frameon=True, fancybox=True, shadow=True, borderpad=1, prop=legend_properties)\n",
    "    # ax.set_xticklabels(ax.get_xticks(), weight='bold', size=11)\n",
    "    # ax.xaxis.set_major_formatter(matplotlib.dates.DateFormatter('%Y-%m'))\n",
    "    # filename = \"/root/charts/topic\" + topic_no + \"_timeseries_\" + dt + \".png\"\n",
    "    # print('topic#:', topic_desc[cnt], ' color:', colors[cnt], ' filename:', filename)\n",
    "    # input(\"press return to continue..\")\n",
    "    # plt.savefig(filename)\n",
    "    # plt.show()\n",
    "    cnt += 1\n",
    "# filename = \"/root/charts/all_topics_\" + dt + \".png\"\n",
    "# plt.savefig(filename)\n",
    "plt.show()"
   ]
  },
  {
   "cell_type": "markdown",
   "id": "ac51ab85-e788-4bc3-8201-ff10d28024fc",
   "metadata": {
    "tags": []
   },
   "source": [
    "#### <font color='#000099'>Stack Plot: Topics in individual charts for Dec. 2021 - Jun. 2023 (Y Axis scaled)"
   ]
  },
  {
   "cell_type": "code",
   "execution_count": null,
   "id": "65e51146-ad48-4664-8242-25a2b28545cc",
   "metadata": {
    "tags": []
   },
   "outputs": [],
   "source": [
    "\n",
    "colors = [ '#808080', '#B800B8', '#5D5DFF', '#8BFF8B', '#9B09FF', '#7A7AA6', '#D27D00', '#1DD4FF' ] \n",
    "# colors = [ 'black', 'purple', 'brown', 'blue', 'orange', 'grey', 'green', '#00F8F2' ] \n",
    "topics = [ '1', '2', '3', '4', '5', '6', '7', '8' ]\n",
    "topic_short_desc = [\"Topic 1: Account Login, Password, Lock\", \n",
    "              \"Topic 2: Acct Mgr. Auth, Rep Reassignment\", \n",
    "              \"Topic 3: Appl/Plan Submission, Annual Deadline\", \n",
    "              \"Topic 4: Reconciliation Processing/Finalization\", \n",
    "              \"Topic 5: Information, Contact, Addl Overpayment Inq\", \n",
    "              \"Topic 6: Cost Report, Vendor Option\", \n",
    "              \"Topic 7: Retiree File Management, Response\", \n",
    "              \"Topic 8: Support Request, Payment, Program\"]\n",
    "\n",
    "topic_desc = [\"Topic 1: Account Login, Password, Lock & Reset\", \n",
    "              \"Topic 2: Account Manager Authorization, Representative/Sponsor Reassignments\", \n",
    "              \"Topic 3: Application/Plan Submission, Annual Deadline/Approval\", \n",
    "              \"Topic 4: Reconciliation Steps, Completion, Processing and Finalization\", \n",
    "              \"Topic 5: Information, Contact, Additional Overpayment Inquiries\", \n",
    "              \"Topic 6: Cost Report, Vendor Option, Benefit Adjustment\", \n",
    "              \"Topic 7: Retiree File Management, Response, List, Upload, Notification\", \n",
    "              \"Topic 8: Support Request, Payment, Program, Application Resolution\"]\n",
    "legend_patch = []\n",
    "cnt = 0\n",
    "plt.style.use('seaborn-pastel')\n",
    "# fig, ax = plt.subplots(figsize=(22,8))\n",
    "\n",
    "for topic_no in topics:\n",
    "    # if topic_no > '4': \n",
    "        # cnt += 1\n",
    "        # continue\n",
    "    topic_df = topics_df[topics_df.primary_topic == topic_no]\n",
    "    topic_df.drop(columns=[\"primary_topic\"], inplace=True)\n",
    "    plt.figure(figsize=(22,8))\n",
    "    plt.xlabel('Date Range', fontsize=12, fontweight='bold')\n",
    "    plt.ylabel('# of messages', fontsize=14, fontweight='bold')\n",
    "    plt.gca().xaxis.set_tick_params(rotation = 45)\n",
    "    plt.ylim(1, 320)\n",
    "    plt.stackplot(topic_df.index, topic_df['msg_cnt'], color=colors[cnt], edgecolor='yellow')\n",
    "    plt.title(topic_desc[cnt] + ' (Messages Over Time)', fontsize=18, fontweight='bold')\n",
    "    plt.xlim(topic_df.index.min(), topic_df.index.max())\n",
    "    # legend_patch.append(mpatches.Patch(color=colors[cnt], label=topic_short_desc[cnt]))\n",
    "    # plt.legend(handles=legend_patch, loc=\"upper right\", fontsize='medium')\n",
    "    # plt.legend(framealpha=0.9, frameon=True, fancybox=True, shadow=True, borderpad=1, prop=legend_properties)\n",
    "    # ax.set_xticklabels(ax.get_xticks(), weight='bold', size=11)\n",
    "    # ax.xaxis.set_major_formatter(matplotlib.dates.DateFormatter('%Y-%m'))\n",
    "    # filename = \"/root/charts/topic\" + topic_no + \"_timeseries_\" + dt + \".png\"\n",
    "    # print('topic#:', topic_desc[cnt], ' color:', colors[cnt], ' filename:', filename)\n",
    "    # input(\"press return to continue..\")\n",
    "    # plt.savefig(filename)\n",
    "    plt.show()\n",
    "    cnt += 1\n"
   ]
  },
  {
   "cell_type": "markdown",
   "id": "668f8d61-6d5d-40e1-8dd0-e05697deef5e",
   "metadata": {},
   "source": [
    "#### <font color='#000099'>Stack Plot: All Topics (1-4 & 5-8) in one chart for Dec. 2021 - Jun. 2023 (Y Axis scaled)"
   ]
  },
  {
   "cell_type": "code",
   "execution_count": null,
   "id": "190a8669-0a75-4583-91f9-7697a476ad6b",
   "metadata": {
    "tags": []
   },
   "outputs": [],
   "source": [
    "colors = [ '#808080', '#B800B8', '#5D5DFF', '#8BFF8B', '#9B09FF', '#7A7AA6', '#D27D00', '#1DD4FF' ] \n",
    "# colors = [ 'black', 'purple', 'brown', 'blue', 'orange', 'grey', 'green', '#00F8F2' ] \n",
    "topics = [ '1', '2', '3', '4', '5', '6', '7', '8' ]\n",
    "topic_short_desc = [\"Topic 1: Account Login, Password, Lock\", \n",
    "              \"Topic 2: Acct Mgr. Auth, Rep Reassignment\", \n",
    "              \"Topic 3: Appl/Plan Submission, Annual Deadline\", \n",
    "              \"Topic 4: Reconciliation Processing/Finalization\", \n",
    "              \"Topic 5: Information, Contact, Addl Overpayment Inq\", \n",
    "              \"Topic 6: Cost Report, Vendor Option\", \n",
    "              \"Topic 7: Retiree File Management, Response\", \n",
    "              \"Topic 8: Support Request, Payment, Program\"]\n",
    "topic_desc = [\"Topic 1: Account Login, Password, Lock & Reset\", \n",
    "              \"Topic 2: Account Manager Authorization, Representative/Sponsor Reassignments\", \n",
    "              \"Topic 3: Application/Plan Submission, Annual Deadline/Approval\", \n",
    "              \"Topic 4: Reconciliation Steps, Completion, Processing and Finalization\", \n",
    "              \"Topic 5: Information, Contact, Additional Overpayment Inquiries\", \n",
    "              \"Topic 6: Cost Report, Vendor Option, Benefit Adjustment\", \n",
    "              \"Topic 7: Retiree File Management, Response, List, Upload, Notification\", \n",
    "              \"Topic 8: Support Request, Payment, Program, Application Resolution\"]\n",
    "legend_patch = []\n",
    "cnt = 0\n",
    "plt.style.use('seaborn-pastel')\n",
    "# fig, ax = plt.subplots(figsize=(22,8))\n",
    "plt.figure(figsize=(22,8))\n",
    "plt.xlabel('Date Range', fontsize=12, fontweight='bold')\n",
    "plt.ylabel('# of messages', fontsize=14, fontweight='bold')\n",
    "plt.gca().xaxis.set_tick_params(rotation = 45)\n",
    "plt.ylim(1, 320)\n",
    "\n",
    "for topic_no in topics:\n",
    "    if topic_no > '4': \n",
    "        cnt += 1\n",
    "        continue\n",
    "    topic_df = topics_df[topics_df.primary_topic == topic_no]\n",
    "    topic_df.drop(columns=[\"primary_topic\"], inplace=True)\n",
    "    plt.stackplot(topic_df.index, topic_df['msg_cnt'], color=colors[cnt], edgecolor='yellow')\n",
    "    # ax.title(topic_desc[cnt] + ' (Messages Over Time)', fontsize=18, fontweight='bold')\n",
    "    plt.xlim(topic_df.index.min(), topic_df.index.max())\n",
    "    legend_patch.append(mpatches.Patch(color=colors[cnt], label=topic_short_desc[cnt]))    \n",
    "    # plt.legend(framealpha=0.9, frameon=True, fancybox=True, shadow=True, borderpad=1, prop=legend_properties)\n",
    "    # ax.set_xticklabels(ax.get_xticks(), weight='bold', size=11)\n",
    "    # ax.xaxis.set_major_formatter(matplotlib.dates.DateFormatter('%Y-%m'))\n",
    "    # filename = \"/root/charts/topic\" + topic_no + \"_timeseries_\" + dt + \".png\"\n",
    "    # print('topic#:', topic_desc[cnt], ' color:', colors[cnt], ' filename:', filename)\n",
    "    # input(\"press return to continue..\")\n",
    "    # plt.savefig(filename)\n",
    "    # plt.show()\n",
    "    cnt += 1\n",
    "filename = \"/root/charts/topics_1_4_\" + dt + \".png\"\n",
    "plt.savefig(filename, bbox_inches='tight')\n",
    "plt.legend(handles=legend_patch, loc=\"upper right\", fontsize='medium')\n",
    "plt.show()"
   ]
  },
  {
   "cell_type": "markdown",
   "id": "ad736fcc-8d96-4c8e-aa56-87a69478a7d7",
   "metadata": {},
   "source": [
    "#### <font color='#000099'>Scatter Plot: Topics in individual chart for Dec. 2021 - Jun. 2023 (Y Axis scaled)"
   ]
  },
  {
   "cell_type": "code",
   "execution_count": null,
   "id": "130304be-d55a-43f4-b235-3fa272b89512",
   "metadata": {},
   "outputs": [],
   "source": [
    "colors = [ 'black', 'brown', 'purple', 'blue', 'green', 'grey', 'orange', 'cyan' ] \n",
    "topics = [ '1', '2', '3', '4', '5', '6', '7', '8' ]\n",
    "topic_desc = [\"Topic 1: Account Login, Password, Lock & Reset\", \n",
    "              \"Topic 2: Account Manager Authorization, Representative/Sponsor Reassignments\", \n",
    "              \"Topic 3: Application/Plan Submission, Annual Deadline/Approval\", \n",
    "              \"Topic 4: Reconciliation Steps, Completion, Processing and Finalization\", \n",
    "              \"Topic 5: Information, Contact, Additional Overpayment Inquiries\", \n",
    "              \"Topic 6: Cost Report, Vendor Option, Benefit Adjustment\", \n",
    "              \"Topic 7: Retiree File Management, Response, List, Upload, Notification\", \n",
    "              \"Topic 8: Support Request, Payment, Program, Application Resolution\"]\n",
    "cnt = 0\n",
    "for topic_no in topics:\n",
    "    # if topic_no != '5': \n",
    "        # cnt += 1\n",
    "        # continue\n",
    "    topic_df = topics_df[topics_df.primary_topic == topic_no]\n",
    "    topic_df.drop(columns=[\"primary_topic\"], inplace=True)\n",
    "    plt.figure(figsize=(22,8))\n",
    "    # fig, ax = plt.subplots(figsize=(22,8))\n",
    "    plt.ylim(1, 320)\n",
    "    plt.scatter(topic_df.index, topic_df['msg_cnt'], s=50, c=colors[cnt], alpha=0.5, marker =\"s\", linewidths = 2)\n",
    "    plt.title(topic_desc[cnt], fontsize=18, fontweight='bold')\n",
    "    plt.xlabel('Date Range', fontsize=12, fontweight='bold')\n",
    "    plt.ylabel('# of messages', fontsize=14, fontweight='bold')\n",
    "    plt.xlim(topic_df.index.min(), topic_df.index.max())\n",
    "    # plt.xlim('2021-11', '2023-07')\n",
    "    plt.gca().xaxis.set_tick_params(rotation = 45)  \n",
    "    plt.grid()\n",
    "    '''\n",
    "    plt.plot(topic_df.index, topic_df['msg_cnt'], color=colors[cnt])\n",
    "    plt.ylim(1, 320)\n",
    "    \n",
    "    # ax.set_xticklabels(ax.get_xticks(), weight='bold', size=11)\n",
    "    # ax.xaxis.set_major_formatter(matplotlib.dates.DateFormatter('%Y-%m'))\n",
    "    filename = \"/root/charts/topic\" + topic_no + \"_timeseries_\" + dt + \".png\"\n",
    "    print('topic#:', topic_desc[cnt], ' color:', colors[cnt], ' filename:', filename)\n",
    "    input(\"press return to continue..\")\n",
    "    plt.savefig(filename)\n",
    "    '''\n",
    "    plt.show()\n",
    "    cnt += 1"
   ]
  },
  {
   "cell_type": "code",
   "execution_count": null,
   "id": "063d3f6c-0163-4bb3-9106-be6378d830a5",
   "metadata": {},
   "outputs": [],
   "source": [
    "\n"
   ]
  }
 ],
 "metadata": {
  "availableInstances": [
   {
    "_defaultOrder": 0,
    "_isFastLaunch": true,
    "category": "General purpose",
    "gpuNum": 0,
    "hideHardwareSpecs": false,
    "memoryGiB": 4,
    "name": "ml.t3.medium",
    "vcpuNum": 2
   },
   {
    "_defaultOrder": 1,
    "_isFastLaunch": false,
    "category": "General purpose",
    "gpuNum": 0,
    "hideHardwareSpecs": false,
    "memoryGiB": 8,
    "name": "ml.t3.large",
    "vcpuNum": 2
   },
   {
    "_defaultOrder": 2,
    "_isFastLaunch": false,
    "category": "General purpose",
    "gpuNum": 0,
    "hideHardwareSpecs": false,
    "memoryGiB": 16,
    "name": "ml.t3.xlarge",
    "vcpuNum": 4
   },
   {
    "_defaultOrder": 3,
    "_isFastLaunch": false,
    "category": "General purpose",
    "gpuNum": 0,
    "hideHardwareSpecs": false,
    "memoryGiB": 32,
    "name": "ml.t3.2xlarge",
    "vcpuNum": 8
   },
   {
    "_defaultOrder": 4,
    "_isFastLaunch": true,
    "category": "General purpose",
    "gpuNum": 0,
    "hideHardwareSpecs": false,
    "memoryGiB": 8,
    "name": "ml.m5.large",
    "vcpuNum": 2
   },
   {
    "_defaultOrder": 5,
    "_isFastLaunch": false,
    "category": "General purpose",
    "gpuNum": 0,
    "hideHardwareSpecs": false,
    "memoryGiB": 16,
    "name": "ml.m5.xlarge",
    "vcpuNum": 4
   },
   {
    "_defaultOrder": 6,
    "_isFastLaunch": false,
    "category": "General purpose",
    "gpuNum": 0,
    "hideHardwareSpecs": false,
    "memoryGiB": 32,
    "name": "ml.m5.2xlarge",
    "vcpuNum": 8
   },
   {
    "_defaultOrder": 7,
    "_isFastLaunch": false,
    "category": "General purpose",
    "gpuNum": 0,
    "hideHardwareSpecs": false,
    "memoryGiB": 64,
    "name": "ml.m5.4xlarge",
    "vcpuNum": 16
   },
   {
    "_defaultOrder": 8,
    "_isFastLaunch": false,
    "category": "General purpose",
    "gpuNum": 0,
    "hideHardwareSpecs": false,
    "memoryGiB": 128,
    "name": "ml.m5.8xlarge",
    "vcpuNum": 32
   },
   {
    "_defaultOrder": 9,
    "_isFastLaunch": false,
    "category": "General purpose",
    "gpuNum": 0,
    "hideHardwareSpecs": false,
    "memoryGiB": 192,
    "name": "ml.m5.12xlarge",
    "vcpuNum": 48
   },
   {
    "_defaultOrder": 10,
    "_isFastLaunch": false,
    "category": "General purpose",
    "gpuNum": 0,
    "hideHardwareSpecs": false,
    "memoryGiB": 256,
    "name": "ml.m5.16xlarge",
    "vcpuNum": 64
   },
   {
    "_defaultOrder": 11,
    "_isFastLaunch": false,
    "category": "General purpose",
    "gpuNum": 0,
    "hideHardwareSpecs": false,
    "memoryGiB": 384,
    "name": "ml.m5.24xlarge",
    "vcpuNum": 96
   },
   {
    "_defaultOrder": 12,
    "_isFastLaunch": false,
    "category": "General purpose",
    "gpuNum": 0,
    "hideHardwareSpecs": false,
    "memoryGiB": 8,
    "name": "ml.m5d.large",
    "vcpuNum": 2
   },
   {
    "_defaultOrder": 13,
    "_isFastLaunch": false,
    "category": "General purpose",
    "gpuNum": 0,
    "hideHardwareSpecs": false,
    "memoryGiB": 16,
    "name": "ml.m5d.xlarge",
    "vcpuNum": 4
   },
   {
    "_defaultOrder": 14,
    "_isFastLaunch": false,
    "category": "General purpose",
    "gpuNum": 0,
    "hideHardwareSpecs": false,
    "memoryGiB": 32,
    "name": "ml.m5d.2xlarge",
    "vcpuNum": 8
   },
   {
    "_defaultOrder": 15,
    "_isFastLaunch": false,
    "category": "General purpose",
    "gpuNum": 0,
    "hideHardwareSpecs": false,
    "memoryGiB": 64,
    "name": "ml.m5d.4xlarge",
    "vcpuNum": 16
   },
   {
    "_defaultOrder": 16,
    "_isFastLaunch": false,
    "category": "General purpose",
    "gpuNum": 0,
    "hideHardwareSpecs": false,
    "memoryGiB": 128,
    "name": "ml.m5d.8xlarge",
    "vcpuNum": 32
   },
   {
    "_defaultOrder": 17,
    "_isFastLaunch": false,
    "category": "General purpose",
    "gpuNum": 0,
    "hideHardwareSpecs": false,
    "memoryGiB": 192,
    "name": "ml.m5d.12xlarge",
    "vcpuNum": 48
   },
   {
    "_defaultOrder": 18,
    "_isFastLaunch": false,
    "category": "General purpose",
    "gpuNum": 0,
    "hideHardwareSpecs": false,
    "memoryGiB": 256,
    "name": "ml.m5d.16xlarge",
    "vcpuNum": 64
   },
   {
    "_defaultOrder": 19,
    "_isFastLaunch": false,
    "category": "General purpose",
    "gpuNum": 0,
    "hideHardwareSpecs": false,
    "memoryGiB": 384,
    "name": "ml.m5d.24xlarge",
    "vcpuNum": 96
   },
   {
    "_defaultOrder": 20,
    "_isFastLaunch": false,
    "category": "General purpose",
    "gpuNum": 0,
    "hideHardwareSpecs": true,
    "memoryGiB": 0,
    "name": "ml.geospatial.interactive",
    "supportedImageNames": [
     "sagemaker-geospatial-v1-0"
    ],
    "vcpuNum": 0
   },
   {
    "_defaultOrder": 21,
    "_isFastLaunch": true,
    "category": "Compute optimized",
    "gpuNum": 0,
    "hideHardwareSpecs": false,
    "memoryGiB": 4,
    "name": "ml.c5.large",
    "vcpuNum": 2
   },
   {
    "_defaultOrder": 22,
    "_isFastLaunch": false,
    "category": "Compute optimized",
    "gpuNum": 0,
    "hideHardwareSpecs": false,
    "memoryGiB": 8,
    "name": "ml.c5.xlarge",
    "vcpuNum": 4
   },
   {
    "_defaultOrder": 23,
    "_isFastLaunch": false,
    "category": "Compute optimized",
    "gpuNum": 0,
    "hideHardwareSpecs": false,
    "memoryGiB": 16,
    "name": "ml.c5.2xlarge",
    "vcpuNum": 8
   },
   {
    "_defaultOrder": 24,
    "_isFastLaunch": false,
    "category": "Compute optimized",
    "gpuNum": 0,
    "hideHardwareSpecs": false,
    "memoryGiB": 32,
    "name": "ml.c5.4xlarge",
    "vcpuNum": 16
   },
   {
    "_defaultOrder": 25,
    "_isFastLaunch": false,
    "category": "Compute optimized",
    "gpuNum": 0,
    "hideHardwareSpecs": false,
    "memoryGiB": 72,
    "name": "ml.c5.9xlarge",
    "vcpuNum": 36
   },
   {
    "_defaultOrder": 26,
    "_isFastLaunch": false,
    "category": "Compute optimized",
    "gpuNum": 0,
    "hideHardwareSpecs": false,
    "memoryGiB": 96,
    "name": "ml.c5.12xlarge",
    "vcpuNum": 48
   },
   {
    "_defaultOrder": 27,
    "_isFastLaunch": false,
    "category": "Compute optimized",
    "gpuNum": 0,
    "hideHardwareSpecs": false,
    "memoryGiB": 144,
    "name": "ml.c5.18xlarge",
    "vcpuNum": 72
   },
   {
    "_defaultOrder": 28,
    "_isFastLaunch": false,
    "category": "Compute optimized",
    "gpuNum": 0,
    "hideHardwareSpecs": false,
    "memoryGiB": 192,
    "name": "ml.c5.24xlarge",
    "vcpuNum": 96
   },
   {
    "_defaultOrder": 29,
    "_isFastLaunch": true,
    "category": "Accelerated computing",
    "gpuNum": 1,
    "hideHardwareSpecs": false,
    "memoryGiB": 16,
    "name": "ml.g4dn.xlarge",
    "vcpuNum": 4
   },
   {
    "_defaultOrder": 30,
    "_isFastLaunch": false,
    "category": "Accelerated computing",
    "gpuNum": 1,
    "hideHardwareSpecs": false,
    "memoryGiB": 32,
    "name": "ml.g4dn.2xlarge",
    "vcpuNum": 8
   },
   {
    "_defaultOrder": 31,
    "_isFastLaunch": false,
    "category": "Accelerated computing",
    "gpuNum": 1,
    "hideHardwareSpecs": false,
    "memoryGiB": 64,
    "name": "ml.g4dn.4xlarge",
    "vcpuNum": 16
   },
   {
    "_defaultOrder": 32,
    "_isFastLaunch": false,
    "category": "Accelerated computing",
    "gpuNum": 1,
    "hideHardwareSpecs": false,
    "memoryGiB": 128,
    "name": "ml.g4dn.8xlarge",
    "vcpuNum": 32
   },
   {
    "_defaultOrder": 33,
    "_isFastLaunch": false,
    "category": "Accelerated computing",
    "gpuNum": 4,
    "hideHardwareSpecs": false,
    "memoryGiB": 192,
    "name": "ml.g4dn.12xlarge",
    "vcpuNum": 48
   },
   {
    "_defaultOrder": 34,
    "_isFastLaunch": false,
    "category": "Accelerated computing",
    "gpuNum": 1,
    "hideHardwareSpecs": false,
    "memoryGiB": 256,
    "name": "ml.g4dn.16xlarge",
    "vcpuNum": 64
   },
   {
    "_defaultOrder": 35,
    "_isFastLaunch": false,
    "category": "Accelerated computing",
    "gpuNum": 1,
    "hideHardwareSpecs": false,
    "memoryGiB": 61,
    "name": "ml.p3.2xlarge",
    "vcpuNum": 8
   },
   {
    "_defaultOrder": 36,
    "_isFastLaunch": false,
    "category": "Accelerated computing",
    "gpuNum": 4,
    "hideHardwareSpecs": false,
    "memoryGiB": 244,
    "name": "ml.p3.8xlarge",
    "vcpuNum": 32
   },
   {
    "_defaultOrder": 37,
    "_isFastLaunch": false,
    "category": "Accelerated computing",
    "gpuNum": 8,
    "hideHardwareSpecs": false,
    "memoryGiB": 488,
    "name": "ml.p3.16xlarge",
    "vcpuNum": 64
   },
   {
    "_defaultOrder": 38,
    "_isFastLaunch": false,
    "category": "Accelerated computing",
    "gpuNum": 8,
    "hideHardwareSpecs": false,
    "memoryGiB": 768,
    "name": "ml.p3dn.24xlarge",
    "vcpuNum": 96
   },
   {
    "_defaultOrder": 39,
    "_isFastLaunch": false,
    "category": "Memory Optimized",
    "gpuNum": 0,
    "hideHardwareSpecs": false,
    "memoryGiB": 16,
    "name": "ml.r5.large",
    "vcpuNum": 2
   },
   {
    "_defaultOrder": 40,
    "_isFastLaunch": false,
    "category": "Memory Optimized",
    "gpuNum": 0,
    "hideHardwareSpecs": false,
    "memoryGiB": 32,
    "name": "ml.r5.xlarge",
    "vcpuNum": 4
   },
   {
    "_defaultOrder": 41,
    "_isFastLaunch": false,
    "category": "Memory Optimized",
    "gpuNum": 0,
    "hideHardwareSpecs": false,
    "memoryGiB": 64,
    "name": "ml.r5.2xlarge",
    "vcpuNum": 8
   },
   {
    "_defaultOrder": 42,
    "_isFastLaunch": false,
    "category": "Memory Optimized",
    "gpuNum": 0,
    "hideHardwareSpecs": false,
    "memoryGiB": 128,
    "name": "ml.r5.4xlarge",
    "vcpuNum": 16
   },
   {
    "_defaultOrder": 43,
    "_isFastLaunch": false,
    "category": "Memory Optimized",
    "gpuNum": 0,
    "hideHardwareSpecs": false,
    "memoryGiB": 256,
    "name": "ml.r5.8xlarge",
    "vcpuNum": 32
   },
   {
    "_defaultOrder": 44,
    "_isFastLaunch": false,
    "category": "Memory Optimized",
    "gpuNum": 0,
    "hideHardwareSpecs": false,
    "memoryGiB": 384,
    "name": "ml.r5.12xlarge",
    "vcpuNum": 48
   },
   {
    "_defaultOrder": 45,
    "_isFastLaunch": false,
    "category": "Memory Optimized",
    "gpuNum": 0,
    "hideHardwareSpecs": false,
    "memoryGiB": 512,
    "name": "ml.r5.16xlarge",
    "vcpuNum": 64
   },
   {
    "_defaultOrder": 46,
    "_isFastLaunch": false,
    "category": "Memory Optimized",
    "gpuNum": 0,
    "hideHardwareSpecs": false,
    "memoryGiB": 768,
    "name": "ml.r5.24xlarge",
    "vcpuNum": 96
   },
   {
    "_defaultOrder": 47,
    "_isFastLaunch": false,
    "category": "Accelerated computing",
    "gpuNum": 1,
    "hideHardwareSpecs": false,
    "memoryGiB": 16,
    "name": "ml.g5.xlarge",
    "vcpuNum": 4
   },
   {
    "_defaultOrder": 48,
    "_isFastLaunch": false,
    "category": "Accelerated computing",
    "gpuNum": 1,
    "hideHardwareSpecs": false,
    "memoryGiB": 32,
    "name": "ml.g5.2xlarge",
    "vcpuNum": 8
   },
   {
    "_defaultOrder": 49,
    "_isFastLaunch": false,
    "category": "Accelerated computing",
    "gpuNum": 1,
    "hideHardwareSpecs": false,
    "memoryGiB": 64,
    "name": "ml.g5.4xlarge",
    "vcpuNum": 16
   },
   {
    "_defaultOrder": 50,
    "_isFastLaunch": false,
    "category": "Accelerated computing",
    "gpuNum": 1,
    "hideHardwareSpecs": false,
    "memoryGiB": 128,
    "name": "ml.g5.8xlarge",
    "vcpuNum": 32
   },
   {
    "_defaultOrder": 51,
    "_isFastLaunch": false,
    "category": "Accelerated computing",
    "gpuNum": 1,
    "hideHardwareSpecs": false,
    "memoryGiB": 256,
    "name": "ml.g5.16xlarge",
    "vcpuNum": 64
   },
   {
    "_defaultOrder": 52,
    "_isFastLaunch": false,
    "category": "Accelerated computing",
    "gpuNum": 4,
    "hideHardwareSpecs": false,
    "memoryGiB": 192,
    "name": "ml.g5.12xlarge",
    "vcpuNum": 48
   },
   {
    "_defaultOrder": 53,
    "_isFastLaunch": false,
    "category": "Accelerated computing",
    "gpuNum": 4,
    "hideHardwareSpecs": false,
    "memoryGiB": 384,
    "name": "ml.g5.24xlarge",
    "vcpuNum": 96
   },
   {
    "_defaultOrder": 54,
    "_isFastLaunch": false,
    "category": "Accelerated computing",
    "gpuNum": 8,
    "hideHardwareSpecs": false,
    "memoryGiB": 768,
    "name": "ml.g5.48xlarge",
    "vcpuNum": 192
   },
   {
    "_defaultOrder": 55,
    "_isFastLaunch": false,
    "category": "Accelerated computing",
    "gpuNum": 8,
    "hideHardwareSpecs": false,
    "memoryGiB": 1152,
    "name": "ml.p4d.24xlarge",
    "vcpuNum": 96
   },
   {
    "_defaultOrder": 56,
    "_isFastLaunch": false,
    "category": "Accelerated computing",
    "gpuNum": 8,
    "hideHardwareSpecs": false,
    "memoryGiB": 1152,
    "name": "ml.p4de.24xlarge",
    "vcpuNum": 96
   }
  ],
  "instance_type": "ml.m5.large",
  "kernelspec": {
   "display_name": "Python 3 (Data Science)",
   "language": "python",
   "name": "python3__SAGEMAKER_INTERNAL__arn:aws:sagemaker:us-east-1:081325390199:image/datascience-1.0"
  },
  "language_info": {
   "codemirror_mode": {
    "name": "ipython",
    "version": 3
   },
   "file_extension": ".py",
   "mimetype": "text/x-python",
   "name": "python",
   "nbconvert_exporter": "python",
   "pygments_lexer": "ipython3",
   "version": "3.7.10"
  }
 },
 "nbformat": 4,
 "nbformat_minor": 5
}
