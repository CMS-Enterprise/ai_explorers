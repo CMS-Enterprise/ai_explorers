{
 "cells": [
  {
   "cell_type": "markdown",
   "metadata": {},
   "source": [
    "## Import needed dependencies"
   ]
  },
  {
   "cell_type": "code",
   "execution_count": 84,
   "metadata": {},
   "outputs": [],
   "source": [
    "import pandas as pd\n",
    "import numpy as np\n",
    "from sklearn.model_selection import train_test_split\n",
    "from simpletransformers.classification import MultiLabelClassificationModel"
   ]
  },
  {
   "cell_type": "markdown",
   "metadata": {},
   "source": [
    "## Import and process dataset"
   ]
  },
  {
   "cell_type": "markdown",
   "metadata": {},
   "source": [
    "### Input data are avaiable in following location:  \n",
    "AWS S3 bucket  \n",
    "Github /data folder  \n",
    "RDS MySQL database table"
   ]
  },
  {
   "cell_type": "code",
   "execution_count": 95,
   "metadata": {},
   "outputs": [],
   "source": [
    "df_mct_raw_imp=pd.read_csv('WETG_AI_ML_BUG_AUTO_MCT_Jira_Github_Commit_Dataset.csv' ,\n",
    "                      usecols=[\"jira_ticket\",\"filename\",\"repo\",\"summary\",\"description\",\"environment\"]\n",
    "                      ) "
   ]
  },
  {
   "cell_type": "markdown",
   "metadata": {},
   "source": [
    "### In case there is any, remove records with missing 'Summary' (non-bug tickets)"
   ]
  },
  {
   "cell_type": "code",
   "execution_count": 96,
   "metadata": {},
   "outputs": [],
   "source": [
    "df_mct_raw_imp = df_mct_raw_imp[~df_mct_raw_imp['summary'].isnull()]"
   ]
  },
  {
   "cell_type": "code",
   "execution_count": 97,
   "metadata": {},
   "outputs": [],
   "source": [
    "df_mct_raw_imp[\"filename_all\"] = df_mct_raw_imp[\"repo\"] + '-' + df_mct_raw_imp[\"filename\"]"
   ]
  },
  {
   "cell_type": "code",
   "execution_count": 98,
   "metadata": {},
   "outputs": [],
   "source": [
    "df_mct_raw_imp[\"path\"] = ''\n",
    "for iter in range(len(df_mct_raw_imp)):\n",
    "    df_mct_raw_imp.loc[iter,\"path\"] = df_mct_raw_imp.loc[iter,\"repo\"] + \"\\\\\" + df_mct_raw_imp.loc[iter,\"filename\"][0:df_mct_raw_imp.loc[iter,\"filename\"].rfind(\"/\")]   "
   ]
  },
  {
   "cell_type": "code",
   "execution_count": 99,
   "metadata": {},
   "outputs": [],
   "source": [
    "df_mct_raw_imp['environment'] = df_mct_raw_imp['environment'].str.upper()"
   ]
  },
  {
   "cell_type": "code",
   "execution_count": 100,
   "metadata": {},
   "outputs": [],
   "source": [
    "df_mct_raw_imp = df_mct_raw_imp.drop([\"repo\"],axis=1)"
   ]
  },
  {
   "cell_type": "code",
   "execution_count": 101,
   "metadata": {},
   "outputs": [
    {
     "data": {
      "text/plain": [
       "(2746, 7)"
      ]
     },
     "execution_count": 101,
     "metadata": {},
     "output_type": "execute_result"
    }
   ],
   "source": [
    "df_mct_raw_imp.shape"
   ]
  },
  {
   "cell_type": "code",
   "execution_count": 102,
   "metadata": {},
   "outputs": [
    {
     "data": {
      "text/html": [
       "<div>\n",
       "<style scoped>\n",
       "    .dataframe tbody tr th:only-of-type {\n",
       "        vertical-align: middle;\n",
       "    }\n",
       "\n",
       "    .dataframe tbody tr th {\n",
       "        vertical-align: top;\n",
       "    }\n",
       "\n",
       "    .dataframe thead th {\n",
       "        text-align: right;\n",
       "    }\n",
       "</style>\n",
       "<table border=\"1\" class=\"dataframe\">\n",
       "  <thead>\n",
       "    <tr style=\"text-align: right;\">\n",
       "      <th></th>\n",
       "      <th>jira_ticket</th>\n",
       "      <th>filename</th>\n",
       "      <th>summary</th>\n",
       "      <th>description</th>\n",
       "      <th>environment</th>\n",
       "      <th>filename_all</th>\n",
       "      <th>path</th>\n",
       "    </tr>\n",
       "  </thead>\n",
       "  <tbody>\n",
       "    <tr>\n",
       "      <th>0</th>\n",
       "      <td>MCT-1157</td>\n",
       "      <td>src/pages/SearchResultsPage/PlanCardParts/Head...</td>\n",
       "      <td>Fix \"Add to Compare\" button state</td>\n",
       "      <td>follow up to MCT-960\\r\\n\\r\\nProblem\\r\\n !image...</td>\n",
       "      <td>TEST</td>\n",
       "      <td>coverage-tools-frontend-src/pages/SearchResult...</td>\n",
       "      <td>coverage-tools-frontend\\src/pages/SearchResult...</td>\n",
       "    </tr>\n",
       "    <tr>\n",
       "      <th>1</th>\n",
       "      <td>MCT-1157</td>\n",
       "      <td>src/styles/pages/SearchResultsPage/_PlanCard.scss</td>\n",
       "      <td>Fix \"Add to Compare\" button state</td>\n",
       "      <td>follow up to MCT-960\\r\\n\\r\\nProblem\\r\\n !image...</td>\n",
       "      <td>TEST</td>\n",
       "      <td>coverage-tools-frontend-src/styles/pages/Searc...</td>\n",
       "      <td>coverage-tools-frontend\\src/styles/pages/Searc...</td>\n",
       "    </tr>\n",
       "  </tbody>\n",
       "</table>\n",
       "</div>"
      ],
      "text/plain": [
       "  jira_ticket                                           filename  \\\n",
       "0    MCT-1157  src/pages/SearchResultsPage/PlanCardParts/Head...   \n",
       "1    MCT-1157  src/styles/pages/SearchResultsPage/_PlanCard.scss   \n",
       "\n",
       "                             summary  \\\n",
       "0  Fix \"Add to Compare\" button state   \n",
       "1  Fix \"Add to Compare\" button state   \n",
       "\n",
       "                                         description environment  \\\n",
       "0  follow up to MCT-960\\r\\n\\r\\nProblem\\r\\n !image...        TEST   \n",
       "1  follow up to MCT-960\\r\\n\\r\\nProblem\\r\\n !image...        TEST   \n",
       "\n",
       "                                        filename_all  \\\n",
       "0  coverage-tools-frontend-src/pages/SearchResult...   \n",
       "1  coverage-tools-frontend-src/styles/pages/Searc...   \n",
       "\n",
       "                                                path  \n",
       "0  coverage-tools-frontend\\src/pages/SearchResult...  \n",
       "1  coverage-tools-frontend\\src/styles/pages/Searc...  "
      ]
     },
     "execution_count": 102,
     "metadata": {},
     "output_type": "execute_result"
    }
   ],
   "source": [
    "df_mct_raw_imp.head(2)"
   ]
  },
  {
   "cell_type": "code",
   "execution_count": 103,
   "metadata": {},
   "outputs": [
    {
     "data": {
      "text/plain": [
       "PROD    1337\n",
       "IMP      768\n",
       "DEV      384\n",
       "TEST     257\n",
       "Name: environment, dtype: int64"
      ]
     },
     "execution_count": 103,
     "metadata": {},
     "output_type": "execute_result"
    }
   ],
   "source": [
    "df_mct_raw_imp[\"environment\"].value_counts()"
   ]
  },
  {
   "cell_type": "markdown",
   "metadata": {},
   "source": [
    "### Only keep records of the following repositories"
   ]
  },
  {
   "cell_type": "code",
   "execution_count": 94,
   "metadata": {},
   "outputs": [],
   "source": [
    "# df_mct_raw_imp = df_mct_raw_imp.loc[(df_mct_raw_imp[\"repo\"].isin(['coverage-tools-frontend','coverage-tools-api','operations']))]"
   ]
  },
  {
   "cell_type": "markdown",
   "metadata": {},
   "source": [
    "### Import Jira ticket assessment data"
   ]
  },
  {
   "cell_type": "code",
   "execution_count": 50,
   "metadata": {},
   "outputs": [],
   "source": [
    "df_mct_scores=pd.read_csv('WETG_AI_ML_BUG_AUTO_MCT_Jira_Ticket_Assessment.csv', \n",
    "                      usecols=[\"jira_ticket\",\"score\"]\n",
    "                      ) "
   ]
  },
  {
   "cell_type": "code",
   "execution_count": 51,
   "metadata": {
    "scrolled": true
   },
   "outputs": [
    {
     "data": {
      "text/html": [
       "<div>\n",
       "<style scoped>\n",
       "    .dataframe tbody tr th:only-of-type {\n",
       "        vertical-align: middle;\n",
       "    }\n",
       "\n",
       "    .dataframe tbody tr th {\n",
       "        vertical-align: top;\n",
       "    }\n",
       "\n",
       "    .dataframe thead th {\n",
       "        text-align: right;\n",
       "    }\n",
       "</style>\n",
       "<table border=\"1\" class=\"dataframe\">\n",
       "  <thead>\n",
       "    <tr style=\"text-align: right;\">\n",
       "      <th></th>\n",
       "      <th>jira_ticket</th>\n",
       "      <th>score</th>\n",
       "    </tr>\n",
       "  </thead>\n",
       "  <tbody>\n",
       "    <tr>\n",
       "      <th>0</th>\n",
       "      <td>MCT-4890</td>\n",
       "      <td>4.0</td>\n",
       "    </tr>\n",
       "    <tr>\n",
       "      <th>1</th>\n",
       "      <td>MCT-4889</td>\n",
       "      <td>5.0</td>\n",
       "    </tr>\n",
       "    <tr>\n",
       "      <th>2</th>\n",
       "      <td>MCT-4888</td>\n",
       "      <td>6.0</td>\n",
       "    </tr>\n",
       "  </tbody>\n",
       "</table>\n",
       "</div>"
      ],
      "text/plain": [
       "  jira_ticket  score\n",
       "0    MCT-4890    4.0\n",
       "1    MCT-4889    5.0\n",
       "2    MCT-4888    6.0"
      ]
     },
     "execution_count": 51,
     "metadata": {},
     "output_type": "execute_result"
    }
   ],
   "source": [
    "df_mct_scores.head(3)"
   ]
  },
  {
   "cell_type": "markdown",
   "metadata": {},
   "source": [
    "### Choose Jira tickets with assessment score of 3 or higher"
   ]
  },
  {
   "cell_type": "code",
   "execution_count": 52,
   "metadata": {},
   "outputs": [],
   "source": [
    "df_mct_scores = df_mct_scores[(df_mct_scores[\"score\"] >= 3)]"
   ]
  },
  {
   "cell_type": "markdown",
   "metadata": {},
   "source": [
    "### Merge with dataset to create eligible analysis data"
   ]
  },
  {
   "cell_type": "code",
   "execution_count": 54,
   "metadata": {},
   "outputs": [],
   "source": [
    "df_mct_raw = pd.merge(df_mct_raw_imp,df_mct_scores,on='jira_ticket',how='inner').drop([\"score\"],axis=1)"
   ]
  },
  {
   "cell_type": "code",
   "execution_count": 55,
   "metadata": {},
   "outputs": [
    {
     "data": {
      "text/html": [
       "<div>\n",
       "<style scoped>\n",
       "    .dataframe tbody tr th:only-of-type {\n",
       "        vertical-align: middle;\n",
       "    }\n",
       "\n",
       "    .dataframe tbody tr th {\n",
       "        vertical-align: top;\n",
       "    }\n",
       "\n",
       "    .dataframe thead th {\n",
       "        text-align: right;\n",
       "    }\n",
       "</style>\n",
       "<table border=\"1\" class=\"dataframe\">\n",
       "  <thead>\n",
       "    <tr style=\"text-align: right;\">\n",
       "      <th></th>\n",
       "      <th>jira_ticket</th>\n",
       "      <th>filename</th>\n",
       "      <th>repo</th>\n",
       "      <th>summary</th>\n",
       "      <th>description</th>\n",
       "      <th>environment</th>\n",
       "      <th>filename_all</th>\n",
       "      <th>path</th>\n",
       "    </tr>\n",
       "  </thead>\n",
       "  <tbody>\n",
       "    <tr>\n",
       "      <th>0</th>\n",
       "      <td>MCT-1157</td>\n",
       "      <td>src/pages/SearchResultsPage/PlanCardParts/Head...</td>\n",
       "      <td>coverage-tools-frontend</td>\n",
       "      <td>Fix \"Add to Compare\" button state</td>\n",
       "      <td>follow up to MCT-960\\r\\n\\r\\nProblem\\r\\n !image...</td>\n",
       "      <td>TEST</td>\n",
       "      <td>coverage-tools-frontend-src/pages/SearchResult...</td>\n",
       "      <td>coverage-tools-frontend\\src/pages/SearchResult...</td>\n",
       "    </tr>\n",
       "    <tr>\n",
       "      <th>1</th>\n",
       "      <td>MCT-1157</td>\n",
       "      <td>src/styles/pages/SearchResultsPage/_PlanCard.scss</td>\n",
       "      <td>coverage-tools-frontend</td>\n",
       "      <td>Fix \"Add to Compare\" button state</td>\n",
       "      <td>follow up to MCT-960\\r\\n\\r\\nProblem\\r\\n !image...</td>\n",
       "      <td>TEST</td>\n",
       "      <td>coverage-tools-frontend-src/styles/pages/Searc...</td>\n",
       "      <td>coverage-tools-frontend\\src/styles/pages/Searc...</td>\n",
       "    </tr>\n",
       "  </tbody>\n",
       "</table>\n",
       "</div>"
      ],
      "text/plain": [
       "  jira_ticket                                           filename  \\\n",
       "0    MCT-1157  src/pages/SearchResultsPage/PlanCardParts/Head...   \n",
       "1    MCT-1157  src/styles/pages/SearchResultsPage/_PlanCard.scss   \n",
       "\n",
       "                      repo                            summary  \\\n",
       "0  coverage-tools-frontend  Fix \"Add to Compare\" button state   \n",
       "1  coverage-tools-frontend  Fix \"Add to Compare\" button state   \n",
       "\n",
       "                                         description environment  \\\n",
       "0  follow up to MCT-960\\r\\n\\r\\nProblem\\r\\n !image...        TEST   \n",
       "1  follow up to MCT-960\\r\\n\\r\\nProblem\\r\\n !image...        TEST   \n",
       "\n",
       "                                        filename_all  \\\n",
       "0  coverage-tools-frontend-src/pages/SearchResult...   \n",
       "1  coverage-tools-frontend-src/styles/pages/Searc...   \n",
       "\n",
       "                                                path  \n",
       "0  coverage-tools-frontend\\src/pages/SearchResult...  \n",
       "1  coverage-tools-frontend\\src/styles/pages/Searc...  "
      ]
     },
     "execution_count": 55,
     "metadata": {},
     "output_type": "execute_result"
    }
   ],
   "source": [
    "df_mct_raw.head(2)"
   ]
  },
  {
   "cell_type": "code",
   "execution_count": 56,
   "metadata": {},
   "outputs": [
    {
     "data": {
      "text/plain": [
       "jira_ticket\n",
       "MCT-6796    60\n",
       "MCT-3192    50\n",
       "MCT-4540    36\n",
       "MCT-2108    30\n",
       "MCT-2226    28\n",
       "            ..\n",
       "MCT-2909     1\n",
       "MCT-2924     1\n",
       "MCT-4931     1\n",
       "MCT-2972     1\n",
       "MCT-2851     1\n",
       "Length: 252, dtype: int64"
      ]
     },
     "execution_count": 56,
     "metadata": {},
     "output_type": "execute_result"
    }
   ],
   "source": [
    "df_mct_raw.value_counts('jira_ticket')"
   ]
  },
  {
   "cell_type": "markdown",
   "metadata": {},
   "source": [
    "### Assign test classification flags based on the location of files"
   ]
  },
  {
   "cell_type": "code",
   "execution_count": 57,
   "metadata": {},
   "outputs": [],
   "source": [
    "df_mct_raw.loc[df_mct_raw.filename.str.contains('src/pages/'),'otherpages']=int(bool(1))\n",
    "df_mct_raw.loc[df_mct_raw.filename.str.contains('src/pages/EnrollmentFormPage/'),'enrollmentformpage']=int(bool(1))\n",
    "df_mct_raw.loc[df_mct_raw.filename.str.contains('src/pages/ManagePrescriptionsPage/'),'manageprescriptionspage']=int(bool(1))\n",
    "df_mct_raw.loc[df_mct_raw.filename.str.contains('src/pages/PharmacySelectionPage/'),'pharmacyselectionpage']=int(bool(1))\n",
    "df_mct_raw.loc[df_mct_raw.filename.str.contains('src/pages/PlanComparisonPage/'),'plancomparisonpage']=int(bool(1))\n",
    "df_mct_raw.loc[df_mct_raw.filename.str.contains('src/pages/PlanDetailsPage/'),'plandetailspage']=int(bool(1))\n",
    "df_mct_raw.loc[df_mct_raw.filename.str.contains('src/pages/QuestionRoutingPage/'),'questionroutingpage']=int(bool(1))\n",
    "df_mct_raw.loc[df_mct_raw.filename.str.contains('src/pages/SearchResultsPage/'),'searchresultspage']=int(bool(1))\n",
    "df_mct_raw.loc[df_mct_raw.filename.str.contains('src/styles'),'styles']=int(bool(1))\n",
    "df_mct_raw.loc[df_mct_raw.filename.str.contains('src/components/'),'components']=int(bool(1))\n",
    "df_mct_raw.loc[df_mct_raw.filename.str.contains('src/app/'),'app']=int(bool(1))\n",
    "df_mct_raw.loc[df_mct_raw.filename.str.contains('src/types/'),'types']=int(bool(1))\n",
    "df_mct_raw.loc[df_mct_raw.filename.str.contains('src/translations/'),'translations']=int(bool(1))"
   ]
  },
  {
   "cell_type": "markdown",
   "metadata": {},
   "source": [
    "### Inspect the first rows of the data file"
   ]
  },
  {
   "cell_type": "code",
   "execution_count": 59,
   "metadata": {},
   "outputs": [
    {
     "data": {
      "text/html": [
       "<div>\n",
       "<style scoped>\n",
       "    .dataframe tbody tr th:only-of-type {\n",
       "        vertical-align: middle;\n",
       "    }\n",
       "\n",
       "    .dataframe tbody tr th {\n",
       "        vertical-align: top;\n",
       "    }\n",
       "\n",
       "    .dataframe thead th {\n",
       "        text-align: right;\n",
       "    }\n",
       "</style>\n",
       "<table border=\"1\" class=\"dataframe\">\n",
       "  <thead>\n",
       "    <tr style=\"text-align: right;\">\n",
       "      <th></th>\n",
       "      <th>jira_ticket</th>\n",
       "      <th>filename</th>\n",
       "      <th>repo</th>\n",
       "      <th>summary</th>\n",
       "      <th>description</th>\n",
       "      <th>environment</th>\n",
       "      <th>filename_all</th>\n",
       "      <th>path</th>\n",
       "      <th>otherpages</th>\n",
       "      <th>enrollmentformpage</th>\n",
       "      <th>...</th>\n",
       "      <th>pharmacyselectionpage</th>\n",
       "      <th>plancomparisonpage</th>\n",
       "      <th>plandetailspage</th>\n",
       "      <th>questionroutingpage</th>\n",
       "      <th>searchresultspage</th>\n",
       "      <th>styles</th>\n",
       "      <th>components</th>\n",
       "      <th>app</th>\n",
       "      <th>types</th>\n",
       "      <th>translations</th>\n",
       "    </tr>\n",
       "  </thead>\n",
       "  <tbody>\n",
       "    <tr>\n",
       "      <th>0</th>\n",
       "      <td>MCT-1157</td>\n",
       "      <td>src/pages/SearchResultsPage/PlanCardParts/Head...</td>\n",
       "      <td>coverage-tools-frontend</td>\n",
       "      <td>Fix \"Add to Compare\" button state</td>\n",
       "      <td>follow up to MCT-960\\r\\n\\r\\nProblem\\r\\n !image...</td>\n",
       "      <td>TEST</td>\n",
       "      <td>coverage-tools-frontend-src/pages/SearchResult...</td>\n",
       "      <td>coverage-tools-frontend\\src/pages/SearchResult...</td>\n",
       "      <td>1.0</td>\n",
       "      <td>NaN</td>\n",
       "      <td>...</td>\n",
       "      <td>NaN</td>\n",
       "      <td>NaN</td>\n",
       "      <td>NaN</td>\n",
       "      <td>NaN</td>\n",
       "      <td>1.0</td>\n",
       "      <td>NaN</td>\n",
       "      <td>NaN</td>\n",
       "      <td>NaN</td>\n",
       "      <td>NaN</td>\n",
       "      <td>NaN</td>\n",
       "    </tr>\n",
       "    <tr>\n",
       "      <th>1</th>\n",
       "      <td>MCT-1157</td>\n",
       "      <td>src/styles/pages/SearchResultsPage/_PlanCard.scss</td>\n",
       "      <td>coverage-tools-frontend</td>\n",
       "      <td>Fix \"Add to Compare\" button state</td>\n",
       "      <td>follow up to MCT-960\\r\\n\\r\\nProblem\\r\\n !image...</td>\n",
       "      <td>TEST</td>\n",
       "      <td>coverage-tools-frontend-src/styles/pages/Searc...</td>\n",
       "      <td>coverage-tools-frontend\\src/styles/pages/Searc...</td>\n",
       "      <td>NaN</td>\n",
       "      <td>NaN</td>\n",
       "      <td>...</td>\n",
       "      <td>NaN</td>\n",
       "      <td>NaN</td>\n",
       "      <td>NaN</td>\n",
       "      <td>NaN</td>\n",
       "      <td>NaN</td>\n",
       "      <td>1.0</td>\n",
       "      <td>NaN</td>\n",
       "      <td>NaN</td>\n",
       "      <td>NaN</td>\n",
       "      <td>NaN</td>\n",
       "    </tr>\n",
       "    <tr>\n",
       "      <th>2</th>\n",
       "      <td>MCT-1400</td>\n",
       "      <td>src/components/DOBValidator.tsx</td>\n",
       "      <td>coverage-tools-frontend</td>\n",
       "      <td>Missing Continue Button for under age DoB</td>\n",
       "      <td>*Acceptance Criteria*\\r\\n# show the continue b...</td>\n",
       "      <td>TEST</td>\n",
       "      <td>coverage-tools-frontend-src/components/DOBVali...</td>\n",
       "      <td>coverage-tools-frontend\\src/components</td>\n",
       "      <td>NaN</td>\n",
       "      <td>NaN</td>\n",
       "      <td>...</td>\n",
       "      <td>NaN</td>\n",
       "      <td>NaN</td>\n",
       "      <td>NaN</td>\n",
       "      <td>NaN</td>\n",
       "      <td>NaN</td>\n",
       "      <td>NaN</td>\n",
       "      <td>1.0</td>\n",
       "      <td>NaN</td>\n",
       "      <td>NaN</td>\n",
       "      <td>NaN</td>\n",
       "    </tr>\n",
       "  </tbody>\n",
       "</table>\n",
       "<p>3 rows × 21 columns</p>\n",
       "</div>"
      ],
      "text/plain": [
       "  jira_ticket                                           filename  \\\n",
       "0    MCT-1157  src/pages/SearchResultsPage/PlanCardParts/Head...   \n",
       "1    MCT-1157  src/styles/pages/SearchResultsPage/_PlanCard.scss   \n",
       "2    MCT-1400                    src/components/DOBValidator.tsx   \n",
       "\n",
       "                      repo                                    summary  \\\n",
       "0  coverage-tools-frontend          Fix \"Add to Compare\" button state   \n",
       "1  coverage-tools-frontend          Fix \"Add to Compare\" button state   \n",
       "2  coverage-tools-frontend  Missing Continue Button for under age DoB   \n",
       "\n",
       "                                         description environment  \\\n",
       "0  follow up to MCT-960\\r\\n\\r\\nProblem\\r\\n !image...        TEST   \n",
       "1  follow up to MCT-960\\r\\n\\r\\nProblem\\r\\n !image...        TEST   \n",
       "2  *Acceptance Criteria*\\r\\n# show the continue b...        TEST   \n",
       "\n",
       "                                        filename_all  \\\n",
       "0  coverage-tools-frontend-src/pages/SearchResult...   \n",
       "1  coverage-tools-frontend-src/styles/pages/Searc...   \n",
       "2  coverage-tools-frontend-src/components/DOBVali...   \n",
       "\n",
       "                                                path  otherpages  \\\n",
       "0  coverage-tools-frontend\\src/pages/SearchResult...         1.0   \n",
       "1  coverage-tools-frontend\\src/styles/pages/Searc...         NaN   \n",
       "2             coverage-tools-frontend\\src/components         NaN   \n",
       "\n",
       "   enrollmentformpage  ...  pharmacyselectionpage  plancomparisonpage  \\\n",
       "0                 NaN  ...                    NaN                 NaN   \n",
       "1                 NaN  ...                    NaN                 NaN   \n",
       "2                 NaN  ...                    NaN                 NaN   \n",
       "\n",
       "   plandetailspage  questionroutingpage  searchresultspage  styles  \\\n",
       "0              NaN                  NaN                1.0     NaN   \n",
       "1              NaN                  NaN                NaN     1.0   \n",
       "2              NaN                  NaN                NaN     NaN   \n",
       "\n",
       "   components  app  types  translations  \n",
       "0         NaN  NaN    NaN           NaN  \n",
       "1         NaN  NaN    NaN           NaN  \n",
       "2         1.0  NaN    NaN           NaN  \n",
       "\n",
       "[3 rows x 21 columns]"
      ]
     },
     "execution_count": 59,
     "metadata": {},
     "output_type": "execute_result"
    }
   ],
   "source": [
    "df_mct_raw.head(3)"
   ]
  },
  {
   "cell_type": "code",
   "execution_count": 60,
   "metadata": {
    "scrolled": true
   },
   "outputs": [
    {
     "data": {
      "text/plain": [
       "(1420, 21)"
      ]
     },
     "execution_count": 60,
     "metadata": {},
     "output_type": "execute_result"
    }
   ],
   "source": [
    "df_mct_raw.shape"
   ]
  },
  {
   "cell_type": "markdown",
   "metadata": {},
   "source": [
    "### Retain records with at least one flag set to 1"
   ]
  },
  {
   "cell_type": "code",
   "execution_count": 61,
   "metadata": {},
   "outputs": [],
   "source": [
    "df_training=df_mct_raw.loc[~((df_mct_raw.otherpages.isna())\\\n",
    "             &(df_mct_raw.enrollmentformpage.isna())\\\n",
    "             &(df_mct_raw.manageprescriptionspage.isna())\\\n",
    "             &(df_mct_raw.pharmacyselectionpage.isna())\\\n",
    "             &(df_mct_raw.plancomparisonpage.isna())\\\n",
    "             &(df_mct_raw.plandetailspage.isna())\\\n",
    "             &(df_mct_raw.questionroutingpage.isna())\\\n",
    "             &(df_mct_raw.searchresultspage.isna())\\\n",
    "             &(df_mct_raw.app.isna())\\\n",
    "             &(df_mct_raw.styles.isna())\\\n",
    "             &(df_mct_raw.components.isna())\\\n",
    "             &(df_mct_raw.translations.isna())\\\n",
    "             &(df_mct_raw.types.isna()))]"
   ]
  },
  {
   "cell_type": "code",
   "execution_count": 62,
   "metadata": {},
   "outputs": [
    {
     "data": {
      "text/plain": [
       "(831, 21)"
      ]
     },
     "execution_count": 62,
     "metadata": {},
     "output_type": "execute_result"
    }
   ],
   "source": [
    "df_training.shape"
   ]
  },
  {
   "cell_type": "code",
   "execution_count": 63,
   "metadata": {},
   "outputs": [
    {
     "data": {
      "text/plain": [
       "1.0    510\n",
       "Name: otherpages, dtype: int64"
      ]
     },
     "execution_count": 63,
     "metadata": {},
     "output_type": "execute_result"
    }
   ],
   "source": [
    "df_training['otherpages'].value_counts()"
   ]
  },
  {
   "cell_type": "markdown",
   "metadata": {},
   "source": [
    "### Set the flag of the catch-all class 'otherpages'"
   ]
  },
  {
   "cell_type": "code",
   "execution_count": 65,
   "metadata": {},
   "outputs": [],
   "source": [
    "df_training.loc[~((df_training.enrollmentformpage.isna())\\\n",
    "             &(df_training.manageprescriptionspage.isna())\\\n",
    "             &(df_training.pharmacyselectionpage.isna())\\\n",
    "             &(df_training.plancomparisonpage.isna())\\\n",
    "             &(df_training.plandetailspage.isna())\\\n",
    "             &(df_training.questionroutingpage.isna())\\\n",
    "             &(df_training.searchresultspage.isna())),'otherpages'] = np.nan"
   ]
  },
  {
   "cell_type": "code",
   "execution_count": 66,
   "metadata": {},
   "outputs": [
    {
     "data": {
      "text/plain": [
       "(831, 21)"
      ]
     },
     "execution_count": 66,
     "metadata": {},
     "output_type": "execute_result"
    }
   ],
   "source": [
    "df_training.shape"
   ]
  },
  {
   "cell_type": "code",
   "execution_count": 72,
   "metadata": {
    "scrolled": true
   },
   "outputs": [],
   "source": [
    "# df_training.head(3)"
   ]
  },
  {
   "cell_type": "markdown",
   "metadata": {},
   "source": [
    "### Create the dataframe of Jira tickets"
   ]
  },
  {
   "cell_type": "code",
   "execution_count": 73,
   "metadata": {},
   "outputs": [],
   "source": [
    "df_training_grp = df_training.loc[:,['jira_ticket', 'summary', 'description','environment',\n",
    "                                 'otherpages','enrollmentformpage',\n",
    "                                 'manageprescriptionspage', 'pharmacyselectionpage', 'plancomparisonpage', \n",
    "                                 'plandetailspage', 'questionroutingpage', 'searchresultspage', \n",
    "                                 'styles','components', 'app', 'translations', 'types'\n",
    "                                ]].groupby(['jira_ticket','summary','description','environment'],).max().reset_index().fillna(0)"
   ]
  },
  {
   "cell_type": "code",
   "execution_count": 74,
   "metadata": {
    "scrolled": true
   },
   "outputs": [
    {
     "data": {
      "text/plain": [
       "(198, 17)"
      ]
     },
     "execution_count": 74,
     "metadata": {},
     "output_type": "execute_result"
    }
   ],
   "source": [
    "df_training_grp.shape"
   ]
  },
  {
   "cell_type": "code",
   "execution_count": 77,
   "metadata": {},
   "outputs": [
    {
     "data": {
      "text/html": [
       "<div>\n",
       "<style scoped>\n",
       "    .dataframe tbody tr th:only-of-type {\n",
       "        vertical-align: middle;\n",
       "    }\n",
       "\n",
       "    .dataframe tbody tr th {\n",
       "        vertical-align: top;\n",
       "    }\n",
       "\n",
       "    .dataframe thead th {\n",
       "        text-align: right;\n",
       "    }\n",
       "</style>\n",
       "<table border=\"1\" class=\"dataframe\">\n",
       "  <thead>\n",
       "    <tr style=\"text-align: right;\">\n",
       "      <th></th>\n",
       "      <th>jira_ticket</th>\n",
       "      <th>summary</th>\n",
       "      <th>description</th>\n",
       "      <th>environment</th>\n",
       "      <th>otherpages</th>\n",
       "      <th>enrollmentformpage</th>\n",
       "      <th>manageprescriptionspage</th>\n",
       "      <th>pharmacyselectionpage</th>\n",
       "      <th>plancomparisonpage</th>\n",
       "      <th>plandetailspage</th>\n",
       "      <th>questionroutingpage</th>\n",
       "      <th>searchresultspage</th>\n",
       "      <th>styles</th>\n",
       "      <th>components</th>\n",
       "      <th>app</th>\n",
       "      <th>translations</th>\n",
       "      <th>types</th>\n",
       "      <th>text</th>\n",
       "      <th>labels</th>\n",
       "    </tr>\n",
       "  </thead>\n",
       "  <tbody>\n",
       "    <tr>\n",
       "      <th>0</th>\n",
       "      <td>MCT-1157</td>\n",
       "      <td>Fix \"Add to Compare\" button state</td>\n",
       "      <td>follow up to MCT-960\\r\\n\\r\\nProblem\\r\\n !image...</td>\n",
       "      <td>TEST</td>\n",
       "      <td>0.0</td>\n",
       "      <td>0.0</td>\n",
       "      <td>0.0</td>\n",
       "      <td>0.0</td>\n",
       "      <td>0.0</td>\n",
       "      <td>0.0</td>\n",
       "      <td>0.0</td>\n",
       "      <td>1.0</td>\n",
       "      <td>1.0</td>\n",
       "      <td>0.0</td>\n",
       "      <td>0.0</td>\n",
       "      <td>0.0</td>\n",
       "      <td>0.0</td>\n",
       "      <td>Fix \"Add to Compare\" button statefollow up to ...</td>\n",
       "      <td>(0.0, 0.0, 0.0, 0.0, 0.0, 0.0, 0.0, 1.0, 0.0, ...</td>\n",
       "    </tr>\n",
       "    <tr>\n",
       "      <th>1</th>\n",
       "      <td>MCT-1400</td>\n",
       "      <td>Missing Continue Button for under age DoB</td>\n",
       "      <td>*Acceptance Criteria*\\r\\n# show the continue b...</td>\n",
       "      <td>TEST</td>\n",
       "      <td>1.0</td>\n",
       "      <td>0.0</td>\n",
       "      <td>0.0</td>\n",
       "      <td>0.0</td>\n",
       "      <td>0.0</td>\n",
       "      <td>0.0</td>\n",
       "      <td>0.0</td>\n",
       "      <td>0.0</td>\n",
       "      <td>0.0</td>\n",
       "      <td>1.0</td>\n",
       "      <td>0.0</td>\n",
       "      <td>0.0</td>\n",
       "      <td>0.0</td>\n",
       "      <td>Missing Continue Button for under age DoB*Acce...</td>\n",
       "      <td>(1.0, 0.0, 0.0, 0.0, 0.0, 0.0, 0.0, 0.0, 0.0, ...</td>\n",
       "    </tr>\n",
       "    <tr>\n",
       "      <th>2</th>\n",
       "      <td>MCT-1412</td>\n",
       "      <td>Apply form validation on Date of Birth Entry</td>\n",
       "      <td>Acceptance Criteria\\r\\n * Implement the DOB va...</td>\n",
       "      <td>PROD</td>\n",
       "      <td>0.0</td>\n",
       "      <td>1.0</td>\n",
       "      <td>0.0</td>\n",
       "      <td>0.0</td>\n",
       "      <td>0.0</td>\n",
       "      <td>0.0</td>\n",
       "      <td>1.0</td>\n",
       "      <td>0.0</td>\n",
       "      <td>0.0</td>\n",
       "      <td>1.0</td>\n",
       "      <td>0.0</td>\n",
       "      <td>0.0</td>\n",
       "      <td>0.0</td>\n",
       "      <td>Apply form validation on Date of Birth EntryAc...</td>\n",
       "      <td>(0.0, 1.0, 0.0, 0.0, 0.0, 0.0, 1.0, 0.0, 0.0, ...</td>\n",
       "    </tr>\n",
       "  </tbody>\n",
       "</table>\n",
       "</div>"
      ],
      "text/plain": [
       "  jira_ticket                                       summary  \\\n",
       "0    MCT-1157             Fix \"Add to Compare\" button state   \n",
       "1    MCT-1400     Missing Continue Button for under age DoB   \n",
       "2    MCT-1412  Apply form validation on Date of Birth Entry   \n",
       "\n",
       "                                         description environment  otherpages  \\\n",
       "0  follow up to MCT-960\\r\\n\\r\\nProblem\\r\\n !image...        TEST         0.0   \n",
       "1  *Acceptance Criteria*\\r\\n# show the continue b...        TEST         1.0   \n",
       "2  Acceptance Criteria\\r\\n * Implement the DOB va...        PROD         0.0   \n",
       "\n",
       "   enrollmentformpage  manageprescriptionspage  pharmacyselectionpage  \\\n",
       "0                 0.0                      0.0                    0.0   \n",
       "1                 0.0                      0.0                    0.0   \n",
       "2                 1.0                      0.0                    0.0   \n",
       "\n",
       "   plancomparisonpage  plandetailspage  questionroutingpage  \\\n",
       "0                 0.0              0.0                  0.0   \n",
       "1                 0.0              0.0                  0.0   \n",
       "2                 0.0              0.0                  1.0   \n",
       "\n",
       "   searchresultspage  styles  components  app  translations  types  \\\n",
       "0                1.0     1.0         0.0  0.0           0.0    0.0   \n",
       "1                0.0     0.0         1.0  0.0           0.0    0.0   \n",
       "2                0.0     0.0         1.0  0.0           0.0    0.0   \n",
       "\n",
       "                                                text  \\\n",
       "0  Fix \"Add to Compare\" button statefollow up to ...   \n",
       "1  Missing Continue Button for under age DoB*Acce...   \n",
       "2  Apply form validation on Date of Birth EntryAc...   \n",
       "\n",
       "                                              labels  \n",
       "0  (0.0, 0.0, 0.0, 0.0, 0.0, 0.0, 0.0, 1.0, 0.0, ...  \n",
       "1  (1.0, 0.0, 0.0, 0.0, 0.0, 0.0, 0.0, 0.0, 0.0, ...  \n",
       "2  (0.0, 1.0, 0.0, 0.0, 0.0, 0.0, 1.0, 0.0, 0.0, ...  "
      ]
     },
     "execution_count": 77,
     "metadata": {},
     "output_type": "execute_result"
    }
   ],
   "source": [
    "df_training_grp.head(3)"
   ]
  },
  {
   "cell_type": "markdown",
   "metadata": {},
   "source": [
    "### Create column of 'text' which combines 'Summary', 'Description', and 'Environment'"
   ]
  },
  {
   "cell_type": "code",
   "execution_count": 75,
   "metadata": {},
   "outputs": [],
   "source": [
    "df_training_grp['text']=df_training_grp['summary'].apply(lambda x: x.replace('\\n', ' '))+df_training_grp['description'].apply(lambda x: x.replace('\\n', ' '))+' Environment: '+df_training_grp['environment']"
   ]
  },
  {
   "cell_type": "markdown",
   "metadata": {},
   "source": [
    "### Create column of 'labels'"
   ]
  },
  {
   "cell_type": "code",
   "execution_count": 76,
   "metadata": {},
   "outputs": [],
   "source": [
    "df_training_grp['labels'] = list(zip(df_training_grp.otherpages.tolist(), df_training_grp.enrollmentformpage.tolist(), df_training_grp.manageprescriptionspage.tolist(), df_training_grp.pharmacyselectionpage.tolist(), df_training_grp.plancomparisonpage.tolist(), df_training_grp.plandetailspage.tolist(), df_training_grp.questionroutingpage.tolist(), df_training_grp.searchresultspage.tolist(), df_training_grp.app.tolist(), df_training_grp.styles.tolist(), df_training_grp.components.tolist(), df_training_grp.translations.tolist(), df_training_grp.types.tolist()))"
   ]
  },
  {
   "cell_type": "markdown",
   "metadata": {},
   "source": [
    "## Split Training and Testing datasets"
   ]
  },
  {
   "cell_type": "code",
   "execution_count": 78,
   "metadata": {},
   "outputs": [],
   "source": [
    "df_training_grp = df_training_grp.drop(['summary','description','environment'],axis=1)"
   ]
  },
  {
   "cell_type": "code",
   "execution_count": 79,
   "metadata": {},
   "outputs": [],
   "source": [
    "train_df, eval_df = train_test_split(df_training_grp, test_size=0.2)"
   ]
  },
  {
   "cell_type": "code",
   "execution_count": 81,
   "metadata": {},
   "outputs": [
    {
     "name": "stdout",
     "output_type": "stream",
     "text": [
      "Number of training Jira tickets: 158\n"
     ]
    }
   ],
   "source": [
    "print(\"Number of training Jira tickets:\", len(train_df))"
   ]
  },
  {
   "cell_type": "code",
   "execution_count": 82,
   "metadata": {},
   "outputs": [
    {
     "name": "stdout",
     "output_type": "stream",
     "text": [
      "Number of testing Jira tickets: 40\n"
     ]
    }
   ],
   "source": [
    "print(\"Number of testing Jira tickets:\", len(eval_df))"
   ]
  },
  {
   "cell_type": "markdown",
   "metadata": {},
   "source": [
    "## ML Data Model"
   ]
  },
  {
   "cell_type": "markdown",
   "metadata": {},
   "source": [
    "### Define model with parameters"
   ]
  },
  {
   "cell_type": "code",
   "execution_count": 148,
   "metadata": {
    "scrolled": false
   },
   "outputs": [
    {
     "name": "stderr",
     "output_type": "stream",
     "text": [
      "Some weights of the model checkpoint at roberta-base were not used when initializing RobertaForMultiLabelSequenceClassification: ['lm_head.dense.weight', 'lm_head.bias', 'lm_head.dense.bias', 'lm_head.decoder.weight', 'lm_head.layer_norm.weight', 'lm_head.layer_norm.bias']\n",
      "- This IS expected if you are initializing RobertaForMultiLabelSequenceClassification from the checkpoint of a model trained on another task or with another architecture (e.g. initializing a BertForSequenceClassification model from a BertForPreTraining model).\n",
      "- This IS NOT expected if you are initializing RobertaForMultiLabelSequenceClassification from the checkpoint of a model that you expect to be exactly identical (initializing a BertForSequenceClassification model from a BertForSequenceClassification model).\n",
      "Some weights of RobertaForMultiLabelSequenceClassification were not initialized from the model checkpoint at roberta-base and are newly initialized: ['classifier.dense.bias', 'classifier.dense.weight', 'classifier.out_proj.bias', 'classifier.out_proj.weight']\n",
      "You should probably TRAIN this model on a down-stream task to be able to use it for predictions and inference.\n"
     ]
    }
   ],
   "source": [
    "model = MultiLabelClassificationModel('roberta', \n",
    "                                      'roberta-base', \n",
    "                                      num_labels=13, \n",
    "                                      use_cuda= False,\n",
    "                                      args={'train_batch_size':2, \n",
    "                                            'gradient_accumulation_steps':16, \n",
    "                                            'learning_rate': 3e-5, \n",
    "                                            'num_train_epochs': 3, \n",
    "                                            'max_seq_length': 512,\n",
    "                                            'overwrite_output_dir': True\n",
    "                                           })\n"
   ]
  },
  {
   "cell_type": "markdown",
   "metadata": {},
   "source": [
    "### Train the model"
   ]
  },
  {
   "cell_type": "code",
   "execution_count": 149,
   "metadata": {
    "scrolled": false
   },
   "outputs": [
    {
     "data": {
      "application/vnd.jupyter.widget-view+json": {
       "model_id": "c3eb8460d6134bb1903d39e156e54092",
       "version_major": 2,
       "version_minor": 0
      },
      "text/plain": [
       "  0%|          | 0/158 [00:00<?, ?it/s]"
      ]
     },
     "metadata": {},
     "output_type": "display_data"
    },
    {
     "name": "stderr",
     "output_type": "stream",
     "text": [
      "C:\\Users\\paulsu\\Anaconda3\\lib\\site-packages\\transformers\\optimization.py:306: FutureWarning: This implementation of AdamW is deprecated and will be removed in a future version. Use the PyTorch implementation torch.optim.AdamW instead, or set `no_deprecation_warning=True` to disable this warning\n",
      "  warnings.warn(\n"
     ]
    },
    {
     "data": {
      "application/vnd.jupyter.widget-view+json": {
       "model_id": "c57371ca54ad45cfbd1ef4fff3e94150",
       "version_major": 2,
       "version_minor": 0
      },
      "text/plain": [
       "Epoch:   0%|          | 0/3 [00:00<?, ?it/s]"
      ]
     },
     "metadata": {},
     "output_type": "display_data"
    },
    {
     "data": {
      "application/vnd.jupyter.widget-view+json": {
       "model_id": "e18a582302fd488a8bd7a66c5ab6ff50",
       "version_major": 2,
       "version_minor": 0
      },
      "text/plain": [
       "Running Epoch 0 of 3:   0%|          | 0/79 [00:00<?, ?it/s]"
      ]
     },
     "metadata": {},
     "output_type": "display_data"
    },
    {
     "data": {
      "application/vnd.jupyter.widget-view+json": {
       "model_id": "6d6dd1c740b04c559f95e2adaf00f84f",
       "version_major": 2,
       "version_minor": 0
      },
      "text/plain": [
       "Running Epoch 1 of 3:   0%|          | 0/79 [00:00<?, ?it/s]"
      ]
     },
     "metadata": {},
     "output_type": "display_data"
    },
    {
     "data": {
      "application/vnd.jupyter.widget-view+json": {
       "model_id": "9e6c7e0e73aa46f0b2464f3863550ad9",
       "version_major": 2,
       "version_minor": 0
      },
      "text/plain": [
       "Running Epoch 2 of 3:   0%|          | 0/79 [00:00<?, ?it/s]"
      ]
     },
     "metadata": {},
     "output_type": "display_data"
    },
    {
     "data": {
      "text/plain": [
       "(12, 0.730195924329261)"
      ]
     },
     "execution_count": 149,
     "metadata": {},
     "output_type": "execute_result"
    }
   ],
   "source": [
    "model.train_model(train_df)"
   ]
  },
  {
   "cell_type": "markdown",
   "metadata": {},
   "source": [
    "### Predict"
   ]
  },
  {
   "cell_type": "code",
   "execution_count": 150,
   "metadata": {},
   "outputs": [
    {
     "data": {
      "application/vnd.jupyter.widget-view+json": {
       "model_id": "f3fc114543074b968f45974197366a2a",
       "version_major": 2,
       "version_minor": 0
      },
      "text/plain": [
       "  0%|          | 0/40 [00:00<?, ?it/s]"
      ]
     },
     "metadata": {},
     "output_type": "display_data"
    },
    {
     "data": {
      "application/vnd.jupyter.widget-view+json": {
       "model_id": "8710cbc3a1e948e99f098a5e2354eb0e",
       "version_major": 2,
       "version_minor": 0
      },
      "text/plain": [
       "Running Evaluation:   0%|          | 0/5 [00:00<?, ?it/s]"
      ]
     },
     "metadata": {},
     "output_type": "display_data"
    }
   ],
   "source": [
    "result, model_outputs, wrong_predictions = model.eval_model(eval_df)"
   ]
  },
  {
   "cell_type": "markdown",
   "metadata": {},
   "source": [
    "### Print the result"
   ]
  },
  {
   "cell_type": "code",
   "execution_count": 152,
   "metadata": {
    "scrolled": false
   },
   "outputs": [
    {
     "name": "stdout",
     "output_type": "stream",
     "text": [
      "{'LRAP': 0.5951749847374849, 'eval_loss': 0.47983573079109193}\n"
     ]
    }
   ],
   "source": [
    "print(result)"
   ]
  },
  {
   "cell_type": "code",
   "execution_count": 154,
   "metadata": {},
   "outputs": [
    {
     "data": {
      "text/plain": [
       "(40, 13)"
      ]
     },
     "execution_count": 154,
     "metadata": {},
     "output_type": "execute_result"
    }
   ],
   "source": [
    "df_output.shape"
   ]
  },
  {
   "cell_type": "code",
   "execution_count": 155,
   "metadata": {
    "scrolled": true
   },
   "outputs": [
    {
     "data": {
      "text/html": [
       "<div>\n",
       "<style scoped>\n",
       "    .dataframe tbody tr th:only-of-type {\n",
       "        vertical-align: middle;\n",
       "    }\n",
       "\n",
       "    .dataframe tbody tr th {\n",
       "        vertical-align: top;\n",
       "    }\n",
       "\n",
       "    .dataframe thead th {\n",
       "        text-align: right;\n",
       "    }\n",
       "</style>\n",
       "<table border=\"1\" class=\"dataframe\">\n",
       "  <thead>\n",
       "    <tr style=\"text-align: right;\">\n",
       "      <th></th>\n",
       "      <th>0</th>\n",
       "      <th>1</th>\n",
       "      <th>2</th>\n",
       "      <th>3</th>\n",
       "      <th>4</th>\n",
       "      <th>5</th>\n",
       "      <th>6</th>\n",
       "      <th>7</th>\n",
       "      <th>8</th>\n",
       "      <th>9</th>\n",
       "      <th>10</th>\n",
       "      <th>11</th>\n",
       "      <th>12</th>\n",
       "    </tr>\n",
       "  </thead>\n",
       "  <tbody>\n",
       "    <tr>\n",
       "      <th>0</th>\n",
       "      <td>0.442523</td>\n",
       "      <td>0.228741</td>\n",
       "      <td>0.399201</td>\n",
       "      <td>0.229523</td>\n",
       "      <td>0.329921</td>\n",
       "      <td>0.299142</td>\n",
       "      <td>0.324829</td>\n",
       "      <td>0.288819</td>\n",
       "      <td>0.325210</td>\n",
       "      <td>0.342028</td>\n",
       "      <td>0.416767</td>\n",
       "      <td>0.311485</td>\n",
       "      <td>0.251377</td>\n",
       "    </tr>\n",
       "    <tr>\n",
       "      <th>1</th>\n",
       "      <td>0.436161</td>\n",
       "      <td>0.237826</td>\n",
       "      <td>0.405997</td>\n",
       "      <td>0.246122</td>\n",
       "      <td>0.329917</td>\n",
       "      <td>0.293126</td>\n",
       "      <td>0.337661</td>\n",
       "      <td>0.295573</td>\n",
       "      <td>0.353015</td>\n",
       "      <td>0.356084</td>\n",
       "      <td>0.420489</td>\n",
       "      <td>0.314255</td>\n",
       "      <td>0.256113</td>\n",
       "    </tr>\n",
       "    <tr>\n",
       "      <th>2</th>\n",
       "      <td>0.437983</td>\n",
       "      <td>0.231955</td>\n",
       "      <td>0.399860</td>\n",
       "      <td>0.236711</td>\n",
       "      <td>0.326625</td>\n",
       "      <td>0.305343</td>\n",
       "      <td>0.315295</td>\n",
       "      <td>0.314519</td>\n",
       "      <td>0.335167</td>\n",
       "      <td>0.350305</td>\n",
       "      <td>0.411220</td>\n",
       "      <td>0.317493</td>\n",
       "      <td>0.261053</td>\n",
       "    </tr>\n",
       "    <tr>\n",
       "      <th>3</th>\n",
       "      <td>0.442591</td>\n",
       "      <td>0.223254</td>\n",
       "      <td>0.398219</td>\n",
       "      <td>0.229002</td>\n",
       "      <td>0.339429</td>\n",
       "      <td>0.302641</td>\n",
       "      <td>0.311994</td>\n",
       "      <td>0.300681</td>\n",
       "      <td>0.316750</td>\n",
       "      <td>0.350883</td>\n",
       "      <td>0.418444</td>\n",
       "      <td>0.314501</td>\n",
       "      <td>0.258385</td>\n",
       "    </tr>\n",
       "    <tr>\n",
       "      <th>4</th>\n",
       "      <td>0.437889</td>\n",
       "      <td>0.230639</td>\n",
       "      <td>0.407529</td>\n",
       "      <td>0.240378</td>\n",
       "      <td>0.324621</td>\n",
       "      <td>0.300937</td>\n",
       "      <td>0.310884</td>\n",
       "      <td>0.297628</td>\n",
       "      <td>0.319554</td>\n",
       "      <td>0.336728</td>\n",
       "      <td>0.411755</td>\n",
       "      <td>0.312500</td>\n",
       "      <td>0.262400</td>\n",
       "    </tr>\n",
       "  </tbody>\n",
       "</table>\n",
       "</div>"
      ],
      "text/plain": [
       "         0         1         2         3         4         5         6   \\\n",
       "0  0.442523  0.228741  0.399201  0.229523  0.329921  0.299142  0.324829   \n",
       "1  0.436161  0.237826  0.405997  0.246122  0.329917  0.293126  0.337661   \n",
       "2  0.437983  0.231955  0.399860  0.236711  0.326625  0.305343  0.315295   \n",
       "3  0.442591  0.223254  0.398219  0.229002  0.339429  0.302641  0.311994   \n",
       "4  0.437889  0.230639  0.407529  0.240378  0.324621  0.300937  0.310884   \n",
       "\n",
       "         7         8         9         10        11        12  \n",
       "0  0.288819  0.325210  0.342028  0.416767  0.311485  0.251377  \n",
       "1  0.295573  0.353015  0.356084  0.420489  0.314255  0.256113  \n",
       "2  0.314519  0.335167  0.350305  0.411220  0.317493  0.261053  \n",
       "3  0.300681  0.316750  0.350883  0.418444  0.314501  0.258385  \n",
       "4  0.297628  0.319554  0.336728  0.411755  0.312500  0.262400  "
      ]
     },
     "execution_count": 155,
     "metadata": {},
     "output_type": "execute_result"
    }
   ],
   "source": [
    "df_output.head()"
   ]
  },
  {
   "cell_type": "code",
   "execution_count": 156,
   "metadata": {
    "scrolled": true
   },
   "outputs": [
    {
     "name": "stdout",
     "output_type": "stream",
     "text": [
      "[[0.44252273 0.22874144 0.39920118 0.22952303 0.3299205  0.29914239\n",
      "  0.32482901 0.28881904 0.32520977 0.34202823 0.416767   0.31148538\n",
      "  0.25137681]\n",
      " [0.43616074 0.23782632 0.40599662 0.24612218 0.32991663 0.29312578\n",
      "  0.33766127 0.29557261 0.35301483 0.35608357 0.42048869 0.31425533\n",
      "  0.25611338]\n",
      " [0.43798292 0.23195538 0.39986011 0.23671065 0.32662466 0.30534318\n",
      "  0.31529531 0.31451946 0.33516687 0.35030547 0.41122031 0.31749281\n",
      "  0.26105258]\n",
      " [0.44259095 0.223254   0.39821947 0.22900222 0.33942878 0.30264056\n",
      "  0.31199431 0.30068138 0.31675002 0.35088331 0.4184435  0.31450117\n",
      "  0.25838476]\n",
      " [0.43788871 0.2306388  0.40752941 0.24037832 0.32462108 0.30093721\n",
      "  0.31088442 0.29762846 0.31955364 0.33672833 0.41175511 0.3124997\n",
      "  0.26240033]\n",
      " [0.43472815 0.22925316 0.40855953 0.24765542 0.32714573 0.30330795\n",
      "  0.32001552 0.29683894 0.32945323 0.34241799 0.41217744 0.30976257\n",
      "  0.26502293]\n",
      " [0.44065064 0.2306     0.40413314 0.23950642 0.32009551 0.31356391\n",
      "  0.32930526 0.30847546 0.33791107 0.36658043 0.42493853 0.31036654\n",
      "  0.26781094]\n",
      " [0.44785705 0.22716811 0.39151222 0.22836101 0.32302392 0.29848969\n",
      "  0.31169656 0.31004012 0.34536946 0.37347782 0.43320823 0.32330379\n",
      "  0.26892805]\n",
      " [0.4567301  0.22837226 0.40257511 0.23738199 0.32286671 0.32014984\n",
      "  0.33377102 0.30757993 0.32829899 0.37880549 0.41577911 0.32021058\n",
      "  0.26063851]\n",
      " [0.44585326 0.23417626 0.39316806 0.2297688  0.31485862 0.30697194\n",
      "  0.31902769 0.30882651 0.34388545 0.356621   0.42235267 0.31495732\n",
      "  0.26371035]\n",
      " [0.42895624 0.22509956 0.40760139 0.24109957 0.32067558 0.2924808\n",
      "  0.31812623 0.30457801 0.32561326 0.34028026 0.41142082 0.33028364\n",
      "  0.26373237]\n",
      " [0.43479311 0.2317021  0.41619283 0.25038981 0.32536444 0.30828503\n",
      "  0.33590752 0.30291244 0.3500728  0.35863522 0.41544914 0.31681973\n",
      "  0.26057047]\n",
      " [0.43633085 0.22940429 0.40009767 0.24398124 0.33787149 0.2983216\n",
      "  0.31216323 0.31157732 0.34767789 0.34865487 0.42042699 0.31305784\n",
      "  0.26933059]\n",
      " [0.44126517 0.23727772 0.39777407 0.23763736 0.32645765 0.29855144\n",
      "  0.32475597 0.31934479 0.35411882 0.35366362 0.41723019 0.32068354\n",
      "  0.26888698]\n",
      " [0.44610783 0.25748804 0.38731056 0.24868244 0.36420918 0.33799303\n",
      "  0.36198065 0.34775355 0.38016152 0.40823871 0.43494007 0.34782672\n",
      "  0.29217404]\n",
      " [0.4361378  0.22133404 0.39787948 0.22580327 0.3199048  0.30282807\n",
      "  0.31043565 0.30295479 0.33123109 0.35048679 0.42162675 0.31560495\n",
      "  0.27006361]\n",
      " [0.45950544 0.22507422 0.39174002 0.23523489 0.32272869 0.29588202\n",
      "  0.3119182  0.2983337  0.31187609 0.35541177 0.41179889 0.32316011\n",
      "  0.2629551 ]\n",
      " [0.4473218  0.23794559 0.39236739 0.23706037 0.32081258 0.30375594\n",
      "  0.3240521  0.30515137 0.35192955 0.36321181 0.41924801 0.32495075\n",
      "  0.26821351]\n",
      " [0.42062083 0.23516789 0.41080579 0.26179615 0.33537737 0.30565822\n",
      "  0.33221298 0.31135595 0.37060052 0.34247389 0.41893739 0.31067753\n",
      "  0.26284313]\n",
      " [0.44587573 0.22825865 0.39277259 0.22780412 0.32284766 0.30409858\n",
      "  0.31090069 0.30860788 0.32619676 0.36205903 0.42803267 0.31353295\n",
      "  0.26558217]\n",
      " [0.44044971 0.23519406 0.40642625 0.23531751 0.32534793 0.2965984\n",
      "  0.32993683 0.29959193 0.33005825 0.34614494 0.41812614 0.31459364\n",
      "  0.25217426]\n",
      " [0.45458186 0.24269971 0.38963598 0.23149206 0.33488715 0.32077608\n",
      "  0.34578735 0.3004927  0.36285734 0.35722646 0.42073298 0.31360406\n",
      "  0.2560398 ]\n",
      " [0.42976239 0.23572102 0.38629147 0.23174994 0.32893524 0.30268601\n",
      "  0.32911015 0.31023118 0.35289311 0.36275795 0.42355841 0.31525996\n",
      "  0.25695178]\n",
      " [0.43820888 0.22822249 0.40337944 0.2351159  0.32566255 0.29699329\n",
      "  0.3280172  0.29823923 0.33255255 0.34219122 0.41323555 0.31556559\n",
      "  0.25886232]\n",
      " [0.43451142 0.23923746 0.40472046 0.26443049 0.33048618 0.30650565\n",
      "  0.34350476 0.30564535 0.37448937 0.35137114 0.41406068 0.32022852\n",
      "  0.25182977]\n",
      " [0.44268462 0.2259547  0.40757638 0.2322959  0.32179657 0.28974405\n",
      "  0.32567531 0.29446107 0.32647297 0.3460173  0.4155592  0.31022713\n",
      "  0.25167927]\n",
      " [0.44159177 0.23283947 0.40019524 0.25150922 0.32309899 0.29593542\n",
      "  0.3233043  0.29978317 0.34658828 0.3494463  0.42006561 0.31483093\n",
      "  0.25671709]\n",
      " [0.44381934 0.22768383 0.40638483 0.23347396 0.31664246 0.30119768\n",
      "  0.31719205 0.29865614 0.33371553 0.34862119 0.4173063  0.32035288\n",
      "  0.25989163]\n",
      " [0.44484729 0.22401354 0.38994303 0.22717361 0.32364136 0.30840242\n",
      "  0.31370097 0.30011672 0.32648632 0.35133824 0.41370961 0.32241663\n",
      "  0.25977984]\n",
      " [0.43933538 0.24678305 0.40055811 0.24747036 0.3152155  0.31090558\n",
      "  0.34792522 0.30688313 0.36896473 0.37080923 0.44254562 0.31758398\n",
      "  0.26944566]\n",
      " [0.44331685 0.23696408 0.39997834 0.23824504 0.32251027 0.29404277\n",
      "  0.3167758  0.29619661 0.34855413 0.35310116 0.4286612  0.32142863\n",
      "  0.25578845]\n",
      " [0.43682635 0.22532241 0.4064388  0.22509386 0.3235102  0.29400137\n",
      "  0.32141218 0.29879436 0.33676985 0.35133746 0.43234125 0.31433877\n",
      "  0.26206541]\n",
      " [0.44673598 0.253371   0.39589709 0.24902813 0.31497496 0.29742339\n",
      "  0.33469534 0.29989803 0.36012703 0.35938889 0.41737342 0.32547867\n",
      "  0.25080198]\n",
      " [0.43315974 0.23387067 0.39995468 0.24316844 0.32000321 0.30424359\n",
      "  0.31836504 0.30681249 0.32420623 0.35540822 0.41581839 0.32071444\n",
      "  0.267308  ]\n",
      " [0.44311568 0.24295825 0.37911567 0.22491223 0.33445048 0.30666223\n",
      "  0.33570185 0.32502097 0.37226641 0.38312119 0.43197423 0.32305261\n",
      "  0.28324369]\n",
      " [0.43306869 0.22544551 0.40370703 0.23744373 0.32150909 0.29690677\n",
      "  0.31429547 0.29925579 0.32534811 0.33636916 0.41251335 0.3167358\n",
      "  0.26197484]\n",
      " [0.44287869 0.23429714 0.39480814 0.23308811 0.32055458 0.30320036\n",
      "  0.31636164 0.316203   0.33877468 0.35313746 0.42709097 0.31731766\n",
      "  0.26473194]\n",
      " [0.44453365 0.23117575 0.38469136 0.23304325 0.33267078 0.30691689\n",
      "  0.32784474 0.3046681  0.36829484 0.36252186 0.43407968 0.32627308\n",
      "  0.27026218]\n",
      " [0.44240221 0.2333632  0.38734496 0.21979764 0.32259783 0.30554694\n",
      "  0.321354   0.29860634 0.32602498 0.36580941 0.42015013 0.32050419\n",
      "  0.2621446 ]\n",
      " [0.45146301 0.22629766 0.39471292 0.24927938 0.32397711 0.30758351\n",
      "  0.33381382 0.28675973 0.33137575 0.35338542 0.42129752 0.31140539\n",
      "  0.25169104]]\n"
     ]
    }
   ],
   "source": [
    "print(model_outputs)"
   ]
  },
  {
   "cell_type": "code",
   "execution_count": null,
   "metadata": {},
   "outputs": [],
   "source": []
  }
 ],
 "metadata": {
  "kernelspec": {
   "display_name": "Python 3 (ipykernel)",
   "language": "python",
   "name": "python3"
  },
  "language_info": {
   "codemirror_mode": {
    "name": "ipython",
    "version": 3
   },
   "file_extension": ".py",
   "mimetype": "text/x-python",
   "name": "python",
   "nbconvert_exporter": "python",
   "pygments_lexer": "ipython3",
   "version": "3.9.13"
  }
 },
 "nbformat": 4,
 "nbformat_minor": 4
}
