{
 "cells": [
  {
   "cell_type": "code",
   "execution_count": 1,
   "id": "39a50b58-3374-43d8-8996-c21ba84f8a51",
   "metadata": {},
   "outputs": [],
   "source": [
    "## The purpose of this script is to analyze model performance for CCXP Multilabel \n",
    "## Classification utilizing jira tickets with >4 Quality Assurance indicators"
   ]
  },
  {
   "cell_type": "code",
   "execution_count": null,
   "id": "4e98b52b-03e0-4f84-be1a-8028c960b15a",
   "metadata": {},
   "outputs": [],
   "source": [
    "# import libraries\n",
    "from simpletransformers.classification import MultiLabelClassificationModel\n",
    "import pandas as pd\n",
    "from sklearn.model_selection import train_test_split\n",
    "from sklearn.metrics import multilabel_confusion_matrix\n",
    "from sklearn.metrics import confusion_matrix, ConfusionMatrixDisplay\n",
    "import matplotlib.pyplot as plt\n",
    "from sklearn.datasets import make_multilabel_classification\n",
    "from sklearn.tree import DecisionTreeClassifier"
   ]
  },
  {
   "cell_type": "code",
   "execution_count": 2,
   "id": "2b88d0b4-ff28-41fa-9412-086cf08396d3",
   "metadata": {},
   "outputs": [],
   "source": [
    "from transformers import set_seed\n",
    "set_seed(42)"
   ]
  },
  {
   "cell_type": "code",
   "execution_count": null,
   "id": "806c8489-1c4e-484b-a98c-2be1cb5ee139",
   "metadata": {},
   "outputs": [],
   "source": [
    "import os\n",
    "os.getcwd()"
   ]
  },
  {
   "cell_type": "code",
   "execution_count": null,
   "id": "a166a406-526e-46ad-be2a-78d12305d8e9",
   "metadata": {},
   "outputs": [],
   "source": [
    "Input data are available for the following locations\n",
    "1. AWS S3 bucket\n",
    "2. Github /data folder\n",
    "3. RDS MySQL database table"
   ]
  },
  {
   "cell_type": "code",
   "execution_count": 4,
   "id": "1fb052af-25c5-449a-a419-d40734f85588",
   "metadata": {},
   "outputs": [],
   "source": [
    "# 9 Categories\n",
    "## Pull in raw data\n",
    "# this is the file with one git file change per line\n",
    "commit=pd.read_csv(r'WETG_AI_ML_BUG_AUTO_CCXP_Jira_Github_Commit_Dataset.csv') \n",
    "## drop rows where summary and descriptions columns are blank\n",
    "commit=commit.dropna(subset=['summary','description'], how='all')"
   ]
  },
  {
   "cell_type": "code",
   "execution_count": 5,
   "id": "48238590-1217-4019-b18e-3acea1f670e0",
   "metadata": {},
   "outputs": [],
   "source": [
    "ccxp_QA=pd.read_csv(r'WETG_AI_ML_BUG_AUTO_CCXP_RoBERTa_QA3.csv') \n",
    "commit_QA3=commit.loc[commit['jira_ticket'].isin(ccxp_QA['jira_ticket'])]\n",
    "commit_QA3=commit_QA3.reset_index(drop=True)\n",
    "# create a column that adds the repo name to the directory for label preparation\n",
    "commit_QA3['filepath'] = commit_QA3['repo'] + '/'+commit_QA3['filename']"
   ]
  },
  {
   "cell_type": "code",
   "execution_count": 6,
   "id": "6275949d-2248-4016-ab6b-4c0d2f0be1b0",
   "metadata": {},
   "outputs": [
    {
     "name": "stdout",
     "output_type": "stream",
     "text": [
      "Count of total ticket changes on raw dataset:  133742\n",
      "Count of total  ticket additions on raw dataset:  58600\n",
      "Count of total  ticket additions on raw dataset:  75142\n"
     ]
    }
   ],
   "source": [
    "## count the number of jira ticket changes, additions, deletions of mct bug dataset\n",
    "ticket_changes= commit_QA3.pivot_table(index=['jira_ticket'],values=['additions','changes','deletions'],aggfunc=sum)\n",
    "raw_change_count=ticket_changes.changes.sum()\n",
    "raw_additions_cnt=ticket_changes.additions.sum()\n",
    "raw_del_count=ticket_changes.deletions.sum()                                       \n",
    "print('Count of QA3 ticket changes on raw dataset: ',raw_change_count)\n",
    "print('Count of QA3  ticket additions on raw dataset: ',raw_additions_cnt)\n",
    "print('Count of QA3  ticket additions on raw dataset: ',raw_del_count)    "
   ]
  },
  {
   "cell_type": "code",
   "execution_count": 7,
   "id": "df9d6f42-8d6f-4780-a403-89a6c1244aed",
   "metadata": {},
   "outputs": [
    {
     "name": "stdout",
     "output_type": "stream",
     "text": [
      "CCXP Dataset Length:  1391\n",
      "Unqiue Filename count:  596\n",
      "Unique FILEPATH Count:  781\n",
      "\n",
      "Filename -with filepath- specific length:\n",
      "1a. ccxp-server/src 103\n",
      "1b. ccxp-server/ 158\n",
      "2a. ccxp-data/data/src length: 71\n",
      "2b. ccxp-data/ length: 85\n",
      "3a. ccxp-etl/src length: 4\n",
      "3b. ccxp-etl/ length: 6\n",
      "4. ccxp-client/apps/ccxp-web/src/scss length: 48\n",
      "5. ccxp-client/apps/ccxp-web/src/app length: 45\n",
      "6. ccxp-client/libs/shared/src length: 56\n",
      "7. ccxp-client/libs/features/provider-length: 539\n",
      "8a. ccxp-client/libs/core/src length: 73\n",
      "8b. ccxp-client/libs/core length: 82\n",
      "9.ccxp-client/libs/mymedicare/ 131\n"
     ]
    }
   ],
   "source": [
    "## length of each directory utilized in bug jira tickets\n",
    "print('CCXP Dataset Length: ',len(commit_QA3))\n",
    "print('Unqiue Filename count: ',commit_QA3['filename_wo_path'].nunique())\n",
    "print('Unique FILEPATH Count: ',commit_QA3['filepath'].nunique())\n",
    "print('')\n",
    "print('Filename -with filepath- specific length:')\n",
    "print('1a. ccxp-server/src' ,len(commit_QA3.loc[commit_QA3.filepath.str.contains('ccxp-server/src')]))\n",
    "print('1b. ccxp-server/' ,len(commit_QA3.loc[commit_QA3.filepath.str.contains('ccxp-server/')]))\n",
    "print('2a. ccxp-data/data/src length:',len(commit_QA3.loc[commit_QA3.filepath.str.contains('ccxp-data/src')]))\n",
    "print('2b. ccxp-data/ length:',len(commit_QA3.loc[commit_QA3.filepath.str.contains('ccxp-data')]))\n",
    "print('3a. ccxp-etl/src length:',len(commit_QA3.loc[commit_QA3.filepath.str.contains('ccxp-etl/src')]))\n",
    "print('3b. ccxp-etl/ length:',len(commit_QA3.loc[commit_QA3.filepath.str.contains('ccxp-etl/')]))\n",
    "print('4. ccxp-client/apps/ccxp-web/src/scss length:',len(commit_QA3.loc[commit_QA3.filepath.str.contains('ccxp-client/apps/ccxp-web/src/scss')]))\n",
    "print('5. ccxp-client/apps/ccxp-web/src/app length:',len(commit_QA3.loc[commit_QA3.filepath.str.contains('ccxp-client/apps/ccxp-web/src/app')]))\n",
    "print('6. ccxp-client/libs/shared/src length:',len(commit_QA3.loc[commit_QA3.filepath.str.contains('ccxp-client/libs/shared/src')]))\n",
    "print('7. ccxp-client/libs/features/provider-length:',len(commit_QA3.loc[commit_QA3.filepath.str.contains('ccxp-client/libs/features/provider-')]))\n",
    "print('8a. ccxp-client/libs/core/src length:',len(commit_QA3.loc[commit_QA3.filepath.str.contains('ccxp-client/libs/core/src')]))\n",
    "print('8b. ccxp-client/libs/core length:',len(commit_QA3.loc[commit_QA3.filepath.str.contains('ccxp-client/libs/core/')]))\n",
    "print('9.ccxp-client/libs/mymedicare/',len(commit_QA3.loc[commit_QA3.filepath.str.contains('ccxp-client/libs/mymedicare/')]))\n"
   ]
  },
  {
   "cell_type": "code",
   "execution_count": 8,
   "id": "269dca1d-1ce6-447b-b3a8-617091925393",
   "metadata": {},
   "outputs": [],
   "source": [
    "#df_ccxp_raw_new.loc[df_ccxp_raw_new.filepath.str.contains('ccxp-data/')].to_csv(r'ccxp-data_validate.csv')\n",
    "#len(df_ccxp_raw_new.loc[df_ccxp_raw_new.filepath.str.contains('ccxp-data/src/models')]) \n",
    "#len(df_ccxp_raw_new.loc[df_ccxp_raw_new.filepath.str.contains('ccxp-data/src/constants')])\n",
    "#len(df_ccxp_raw_new.loc[df_ccxp_raw_new.filepath.str.contains('ccxp-data/src/schemas')])\n",
    "#len(df_ccxp_raw_new.loc[df_ccxp_raw_new.filepath.str.contains('ccxp-data/src/repositories')])\n",
    "#len(df_ccxp_raw_new.loc[df_ccxp_raw_new.filepath.str.contains('ccxp-data/src/seeders')])\n",
    "#len(df_ccxp_raw_new.loc[df_ccxp_raw_new.filepath.str.contains('ccxp-data/src/migrations')])\n",
    "#len(df_ccxp_raw_new.loc[df_ccxp_raw_new.filepath.str.contains('ccxp-data/src/cli')])"
   ]
  },
  {
   "cell_type": "code",
   "execution_count": 9,
   "id": "bcef0da4-7e0b-4a53-a501-df0b8675aabd",
   "metadata": {},
   "outputs": [],
   "source": [
    "## count the number of jira ticket changes, additions, deletions of mct bug dataset\n",
    "ticket_changes= commit_QA3.pivot_table(index=['jira_ticket'],values=['additions','changes','deletions'],aggfunc=sum)"
   ]
  },
  {
   "cell_type": "code",
   "execution_count": 10,
   "id": "a4a6c428-f90e-404a-b87c-f7cfa7f4983c",
   "metadata": {},
   "outputs": [
    {
     "data": {
      "text/plain": [
       "44"
      ]
     },
     "execution_count": 10,
     "metadata": {},
     "output_type": "execute_result"
    }
   ],
   "source": [
    "ticket_changes.additions.nunique()"
   ]
  },
  {
   "cell_type": "code",
   "execution_count": 11,
   "id": "373b7d94-a405-40cb-9dbc-2a93e55b02b8",
   "metadata": {},
   "outputs": [
    {
     "data": {
      "text/plain": [
       "50"
      ]
     },
     "execution_count": 11,
     "metadata": {},
     "output_type": "execute_result"
    }
   ],
   "source": [
    "ticket_changes.changes.nunique()"
   ]
  },
  {
   "cell_type": "code",
   "execution_count": 12,
   "id": "9e1d71e0-e22d-43c2-a8e5-b82db9490738",
   "metadata": {},
   "outputs": [
    {
     "data": {
      "text/plain": [
       "35"
      ]
     },
     "execution_count": 12,
     "metadata": {},
     "output_type": "execute_result"
    }
   ],
   "source": [
    "ticket_changes.deletions.nunique()"
   ]
  },
  {
   "cell_type": "code",
   "execution_count": 13,
   "id": "38b7d08d-cb00-4fb9-9625-7534df06a615",
   "metadata": {},
   "outputs": [],
   "source": [
    "## Label the categories: Binarization\n",
    "commit_QA3.loc[commit_QA3.filepath.str.contains('ccxp-server/src'),'server']=int(bool(1))\n",
    "commit_QA3.loc[commit_QA3.filepath.str.contains('ccxp-data/src'),'data']=int(bool(1))\n",
    "commit_QA3.loc[commit_QA3.filepath.str.contains('ccxp-etl/src'),'etl']=int(bool(1))\n",
    "commit_QA3.loc[commit_QA3.filepath.str.contains('ccxp-client/libs/features/provider-compare/'),'pcompare']=int(bool(1))\n",
    "commit_QA3.loc[commit_QA3.filepath.str.contains('ccxp-client/libs/features/provider-details/'),'pdetails']=int(bool(1))\n",
    "commit_QA3.loc[commit_QA3.filepath.str.contains('ccxp-client/libs/features/provider-search/'),'psearch']=int(bool(1))\n",
    "commit_QA3.loc[commit_QA3.filepath.str.contains('ccxp-client/libs/features/provider-measures/'),'pmeasures']=int(bool(1))\n",
    "commit_QA3.loc[commit_QA3.filepath.str.contains('ccxp-client/apps'),'apps']=int(bool(1))\n",
    "commit_QA3.loc[commit_QA3.filepath.str.contains('ccxp-client/libs/core'),'cl_core']=int(bool(1))\n"
   ]
  },
  {
   "cell_type": "code",
   "execution_count": 14,
   "id": "33a0941e-9e37-49c2-93ac-f2b0109e0ce5",
   "metadata": {},
   "outputs": [],
   "source": [
    "# Select the training data by choosing the rows that have category flags\n",
    "df_training = commit_QA3.loc[~(commit_QA3.server.isna()\\\n",
    "                &(commit_QA3.data.isna())\\\n",
    "                &(commit_QA3.etl.isna())\\\n",
    "                &(commit_QA3.pcompare.isna())\\\n",
    "                &(commit_QA3.pdetails.isna())\\\n",
    "                &(commit_QA3.psearch.isna())\\\n",
    "                &(commit_QA3.pmeasures.isna())\\\n",
    "                &(commit_QA3.apps.isna())\\\n",
    "                &(commit_QA3.cl_core.isna()))]\n",
    "# QA3 tickets\n",
    "#df_ccxp_raw_new_out= df_training.loc[:,['jira_ticket', 'summary', 'description']].groupby(['jira_ticket',\n",
    "#                                'summary',\n",
    "#                                'description'],\n",
    "#                       ).max().reset_index().fillna(0)"
   ]
  },
  {
   "cell_type": "code",
   "execution_count": 15,
   "id": "fd2d183e-c645-48ad-8578-4cfa2185cdb8",
   "metadata": {},
   "outputs": [
    {
     "name": "stdout",
     "output_type": "stream",
     "text": [
      "training dataset length:  908\n",
      "ccxp raw dataset:  1391\n"
     ]
    }
   ],
   "source": [
    "print('QA3 filtered dataset length: ',len(df_training))\n",
    "print('ccxp raw dataset: ',len(commit_QA3))"
   ]
  },
  {
   "cell_type": "code",
   "execution_count": 16,
   "id": "14cfd216-8963-4799-b20b-26455aae870f",
   "metadata": {},
   "outputs": [],
   "source": [
    "# Group the training data by jira ticket number\n",
    "df_training = df_training.loc[:,['jira_ticket', 'summary', 'description',\n",
    "                                 'server', 'data',\n",
    "                                   'etl','pcompare','pdetails','psearch',\n",
    "                                 'pmeasures','apps','cl_core']].groupby(['jira_ticket',\n",
    "                                'summary',\n",
    "                                'description'],\n",
    "                       ).max().reset_index().fillna(0)"
   ]
  },
  {
   "cell_type": "code",
   "execution_count": 17,
   "id": "c238037a-dee7-41af-9d04-8aec48beab60",
   "metadata": {},
   "outputs": [
    {
     "name": "stdout",
     "output_type": "stream",
     "text": [
      "(60, 12)\n",
      "length of training dataframe  60\n",
      "df_training_count_unique tickets by column jira_ticket    CCXP-1128CCXP-1499CCXP-1687CCXP-1803CCXP-1808C...\n",
      "summary        Accessing Test and Impl using IE is not workin...\n",
      "description    I should be able to access both Test and Impl ...\n",
      "server                                                       3.0\n",
      "data                                                        11.0\n",
      "etl                                                          1.0\n",
      "pcompare                                                    19.0\n",
      "pdetails                                                    15.0\n",
      "psearch                                                     17.0\n",
      "pmeasures                                                   17.0\n",
      "apps                                                        21.0\n",
      "cl_core                                                     13.0\n",
      "dtype: object\n"
     ]
    }
   ],
   "source": [
    "print(df_training.shape)\n",
    "print('length of training dataframe ',df_training['jira_ticket'].nunique())\n",
    "print('df_training_count_unique tickets by column', df_training.sum())"
   ]
  },
  {
   "cell_type": "code",
   "execution_count": 18,
   "id": "fcd42bdc-ff4b-45ad-8ac8-1435af7fc783",
   "metadata": {},
   "outputs": [],
   "source": [
    "# Set the inputs columns and the columns that we want to predit\n",
    "df_training['text']=df_training['summary'].apply(lambda x: x.replace(' \\n ', '  '))+'  '+df_training['description'].apply(lambda x: x.replace(' \\n ', '  '))\n",
    "df_training['labels'] = list(zip(df_training.server.tolist(),  df_training.data.tolist(), df_training.etl.tolist(),\n",
    "                                df_training.pcompare.tolist(),df_training.pdetails.tolist(),df_training.psearch.tolist(),\n",
    "                                df_training.pmeasures.tolist(),df_training.apps.tolist(),df_training.cl_core.tolist()))"
   ]
  },
  {
   "cell_type": "code",
   "execution_count": 19,
   "id": "572923b5-cc3b-4885-8c11-5b87dbcd45e0",
   "metadata": {},
   "outputs": [],
   "source": [
    "df_training['text']=df_training['text'].apply(lambda x: x.strip())\n",
    "df_training['text']=df_training['text'].apply(lambda x: x.lower())"
   ]
  },
  {
   "cell_type": "code",
   "execution_count": 20,
   "id": "a6acc08b-7955-4885-a4ab-f4f82c031202",
   "metadata": {},
   "outputs": [],
   "source": [
    "## Train/Test split\n",
    "train_df, eval_df = train_test_split(df_training, test_size=0.2, random_state=4)"
   ]
  },
  {
   "cell_type": "code",
   "execution_count": 21,
   "id": "c72a7103-90b2-48ec-aef3-e4c4c135f0c0",
   "metadata": {},
   "outputs": [],
   "source": [
    "df_training.to_csv(r'WETG_AI_ML_BUG_AUTO_CCXP_RoBERTa_QA3_PREP_DATASET.csv')"
   ]
  },
  {
   "cell_type": "code",
   "execution_count": 22,
   "id": "87860212-f65e-49fb-990e-dfab47b490f1",
   "metadata": {},
   "outputs": [],
   "source": [
    "train_df.to_csv(r'WETG_AI_ML_BUG_AUTO_CCXP_RoBERTa_QA3_TRAIN_DF.csv')"
   ]
  },
  {
   "cell_type": "code",
   "execution_count": 23,
   "id": "0b4818ee-eceb-43e8-8bad-f4fc4dad86e0",
   "metadata": {},
   "outputs": [],
   "source": [
    "eval_df.to_csv(r'WETG_AI_ML_BUG_AUTO_CCXP_RoBERTa_QA3_EVAL_DF.csv')"
   ]
  },
  {
   "cell_type": "code",
   "execution_count": 24,
   "id": "907c7751-d60e-4d08-b1e5-b58b1053d302",
   "metadata": {},
   "outputs": [
    {
     "name": "stdout",
     "output_type": "stream",
     "text": [
      "Count of distinct values per column:  server          2\n",
      "data            2\n",
      "etl             2\n",
      "pcompare        2\n",
      "pdetails        2\n",
      "psearch         2\n",
      "pmeasures       2\n",
      "apps            2\n",
      "cl_core         2\n",
      "labels         28\n",
      "jira_ticket    60\n",
      "summary        60\n",
      "description    60\n",
      "text           60\n"
     ]
    }
   ],
   "source": [
    "## Analyze unique values per column to consider categorical variables for model predictions\n",
    "cols =df_training.columns\n",
    "label_cols = list(cols[0:])\n",
    "num_labels = len(label_cols)\n",
    "print('Count of distinct values per column: ',df_training[label_cols].nunique().sort_values().to_string())"
   ]
  },
  {
   "cell_type": "code",
   "execution_count": 25,
   "id": "cf61cce1-5a57-415a-89d7-6035e1eebc19",
   "metadata": {},
   "outputs": [
    {
     "name": "stdout",
     "output_type": "stream",
     "text": [
      "(60, 14)\n",
      "length of training dataframe  60\n"
     ]
    }
   ],
   "source": [
    "print(df_training.shape)\n",
    "print('length of training dataframe ',df_training['jira_ticket'].nunique())"
   ]
  },
  {
   "cell_type": "code",
   "execution_count": 26,
   "id": "aa877d7d-6d16-44ce-aded-f6defca0ac76",
   "metadata": {},
   "outputs": [
    {
     "data": {
      "text/plain": [
       "jira_ticket    CCXP-1128CCXP-1499CCXP-1687CCXP-1803CCXP-1808C...\n",
       "summary        Accessing Test and Impl using IE is not workin...\n",
       "description    I should be able to access both Test and Impl ...\n",
       "server                                                       3.0\n",
       "data                                                        11.0\n",
       "etl                                                          1.0\n",
       "pcompare                                                    19.0\n",
       "pdetails                                                    15.0\n",
       "psearch                                                     17.0\n",
       "pmeasures                                                   17.0\n",
       "apps                                                        21.0\n",
       "cl_core                                                     13.0\n",
       "text           accessing test and impl using ie is not workin...\n",
       "labels         (0.0, 1.0, 0.0, 0.0, 0.0, 0.0, 0.0, 0.0, 0.0, ...\n",
       "dtype: object"
      ]
     },
     "execution_count": 26,
     "metadata": {},
     "output_type": "execute_result"
    }
   ],
   "source": [
    "df_training.sum()"
   ]
  },
  {
   "cell_type": "code",
   "execution_count": 27,
   "id": "a9166b3b-3ca8-499a-815b-69aceee92fe7",
   "metadata": {},
   "outputs": [
    {
     "name": "stdout",
     "output_type": "stream",
     "text": [
      "average sentence length:  128.51666666666668\n",
      "stdev sentence length:  94.04713777831725\n"
     ]
    }
   ],
   "source": [
    "print('average sentence length: ', df_training.text.str.split().str.len().mean())\n",
    "print('stdev sentence length: ', df_training.text.str.split().str.len().std())"
   ]
  },
  {
   "cell_type": "code",
   "execution_count": 28,
   "id": "467a9ce4-26ce-4cc6-98ab-5e81931496a0",
   "metadata": {},
   "outputs": [
    {
     "data": {
      "text/plain": [
       "(48, 14)"
      ]
     },
     "execution_count": 28,
     "metadata": {},
     "output_type": "execute_result"
    }
   ],
   "source": [
    "train_df.shape"
   ]
  },
  {
   "cell_type": "code",
   "execution_count": 29,
   "id": "889aa093-b3fb-4ff9-8b21-c37c11cc9784",
   "metadata": {},
   "outputs": [],
   "source": [
    "import pandas as pd\n",
    "from sklearn.model_selection import train_test_split\n",
    "from simpletransformers.classification import MultiLabelClassificationModel"
   ]
  },
  {
   "cell_type": "code",
   "execution_count": 30,
   "id": "203f8b3c-25fc-4dda-88ca-d2e046166a58",
   "metadata": {},
   "outputs": [
    {
     "name": "stderr",
     "output_type": "stream",
     "text": [
      "Some weights of the model checkpoint at roberta-base were not used when initializing RobertaForMultiLabelSequenceClassification: ['lm_head.layer_norm.bias', 'lm_head.layer_norm.weight', 'lm_head.dense.weight', 'lm_head.dense.bias', 'lm_head.decoder.weight', 'lm_head.bias']\n",
      "- This IS expected if you are initializing RobertaForMultiLabelSequenceClassification from the checkpoint of a model trained on another task or with another architecture (e.g. initializing a BertForSequenceClassification model from a BertForPreTraining model).\n",
      "- This IS NOT expected if you are initializing RobertaForMultiLabelSequenceClassification from the checkpoint of a model that you expect to be exactly identical (initializing a BertForSequenceClassification model from a BertForSequenceClassification model).\n",
      "Some weights of RobertaForMultiLabelSequenceClassification were not initialized from the model checkpoint at roberta-base and are newly initialized: ['classifier.out_proj.weight', 'classifier.out_proj.bias', 'classifier.dense.bias', 'classifier.dense.weight']\n",
      "You should probably TRAIN this model on a down-stream task to be able to use it for predictions and inference.\n"
     ]
    }
   ],
   "source": [
    "model_roberta = MultiLabelClassificationModel('roberta', \n",
    "                                      'roberta-base', \n",
    "                                      num_labels=9, \n",
    "                                      use_cuda= False,\n",
    "                                      args={'train_batch_size':2, 'gradient_accumulation_steps':16, \n",
    "                                            'learning_rate': 3e-5,#'optimizer': optimizer,\n",
    "                                            'num_train_epochs': 10,\"weight_decay\": 0, 'max_seq_length': 512,\n",
    "                                            'overwrite_output_dir': True,'reprocess_input_data': True})\n"
   ]
  },
  {
   "cell_type": "code",
   "execution_count": 31,
   "id": "fe45ed37-f5cf-423c-959b-d789702ca177",
   "metadata": {},
   "outputs": [
    {
     "data": {
      "application/vnd.jupyter.widget-view+json": {
       "model_id": "4374d9b63b294ec6ac3a56c3629d7f63",
       "version_major": 2,
       "version_minor": 0
      },
      "text/plain": [
       "  0%|          | 0/48 [00:00<?, ?it/s]"
      ]
     },
     "metadata": {},
     "output_type": "display_data"
    },
    {
     "data": {
      "application/vnd.jupyter.widget-view+json": {
       "model_id": "3b2b763b93b54798a1c062a50d818704",
       "version_major": 2,
       "version_minor": 0
      },
      "text/plain": [
       "Epoch:   0%|          | 0/10 [00:00<?, ?it/s]"
      ]
     },
     "metadata": {},
     "output_type": "display_data"
    },
    {
     "data": {
      "application/vnd.jupyter.widget-view+json": {
       "model_id": "f22ea75c3d3b43cc9c7acea254108c7a",
       "version_major": 2,
       "version_minor": 0
      },
      "text/plain": [
       "Running Epoch 0 of 10:   0%|          | 0/24 [00:00<?, ?it/s]"
      ]
     },
     "metadata": {},
     "output_type": "display_data"
    },
    {
     "data": {
      "application/vnd.jupyter.widget-view+json": {
       "model_id": "6b6f0aeea0de4071ae771ffd775b1c34",
       "version_major": 2,
       "version_minor": 0
      },
      "text/plain": [
       "Running Epoch 1 of 10:   0%|          | 0/24 [00:00<?, ?it/s]"
      ]
     },
     "metadata": {},
     "output_type": "display_data"
    },
    {
     "data": {
      "application/vnd.jupyter.widget-view+json": {
       "model_id": "0ce026046ce0410e87fc6413fa47effa",
       "version_major": 2,
       "version_minor": 0
      },
      "text/plain": [
       "Running Epoch 2 of 10:   0%|          | 0/24 [00:00<?, ?it/s]"
      ]
     },
     "metadata": {},
     "output_type": "display_data"
    },
    {
     "data": {
      "application/vnd.jupyter.widget-view+json": {
       "model_id": "9440594850ae47aca511db56c99e3020",
       "version_major": 2,
       "version_minor": 0
      },
      "text/plain": [
       "Running Epoch 3 of 10:   0%|          | 0/24 [00:00<?, ?it/s]"
      ]
     },
     "metadata": {},
     "output_type": "display_data"
    },
    {
     "data": {
      "application/vnd.jupyter.widget-view+json": {
       "model_id": "31940c04cb4e4d529c3a8f64e510733a",
       "version_major": 2,
       "version_minor": 0
      },
      "text/plain": [
       "Running Epoch 4 of 10:   0%|          | 0/24 [00:00<?, ?it/s]"
      ]
     },
     "metadata": {},
     "output_type": "display_data"
    },
    {
     "data": {
      "application/vnd.jupyter.widget-view+json": {
       "model_id": "2ed5ca03c82547c49110d9d8f5954a0b",
       "version_major": 2,
       "version_minor": 0
      },
      "text/plain": [
       "Running Epoch 5 of 10:   0%|          | 0/24 [00:00<?, ?it/s]"
      ]
     },
     "metadata": {},
     "output_type": "display_data"
    },
    {
     "data": {
      "application/vnd.jupyter.widget-view+json": {
       "model_id": "211d6542194a48859c24afb2413885be",
       "version_major": 2,
       "version_minor": 0
      },
      "text/plain": [
       "Running Epoch 6 of 10:   0%|          | 0/24 [00:00<?, ?it/s]"
      ]
     },
     "metadata": {},
     "output_type": "display_data"
    },
    {
     "data": {
      "application/vnd.jupyter.widget-view+json": {
       "model_id": "0d8d164b4e3044488a4ec40c368f3d34",
       "version_major": 2,
       "version_minor": 0
      },
      "text/plain": [
       "Running Epoch 7 of 10:   0%|          | 0/24 [00:00<?, ?it/s]"
      ]
     },
     "metadata": {},
     "output_type": "display_data"
    },
    {
     "data": {
      "application/vnd.jupyter.widget-view+json": {
       "model_id": "04cfdc65a552425fb670949b60199917",
       "version_major": 2,
       "version_minor": 0
      },
      "text/plain": [
       "Running Epoch 8 of 10:   0%|          | 0/24 [00:00<?, ?it/s]"
      ]
     },
     "metadata": {},
     "output_type": "display_data"
    },
    {
     "data": {
      "application/vnd.jupyter.widget-view+json": {
       "model_id": "d1cb7bef6cfe490691bff1e7e6db87fe",
       "version_major": 2,
       "version_minor": 0
      },
      "text/plain": [
       "Running Epoch 9 of 10:   0%|          | 0/24 [00:00<?, ?it/s]"
      ]
     },
     "metadata": {},
     "output_type": "display_data"
    },
    {
     "data": {
      "text/plain": [
       "(10, 0.9317484334111213)"
      ]
     },
     "execution_count": 31,
     "metadata": {},
     "output_type": "execute_result"
    }
   ],
   "source": [
    "model_roberta.train_model(train_df,\n",
    "                 no_deprecation_warning=True)"
   ]
  },
  {
   "cell_type": "code",
   "execution_count": 32,
   "id": "eacf9204-11a8-4358-8d21-12807bd9c544",
   "metadata": {},
   "outputs": [
    {
     "data": {
      "application/vnd.jupyter.widget-view+json": {
       "model_id": "1ecd458957e8493689bb5c2b8691b977",
       "version_major": 2,
       "version_minor": 0
      },
      "text/plain": [
       "  0%|          | 0/12 [00:00<?, ?it/s]"
      ]
     },
     "metadata": {},
     "output_type": "display_data"
    },
    {
     "data": {
      "application/vnd.jupyter.widget-view+json": {
       "model_id": "cdb94dce40194394b71adb8a61409115",
       "version_major": 2,
       "version_minor": 0
      },
      "text/plain": [
       "Running Evaluation:   0%|          | 0/2 [00:00<?, ?it/s]"
      ]
     },
     "metadata": {},
     "output_type": "display_data"
    }
   ],
   "source": [
    "result, model_outputs, wrong_predictions = model_roberta.eval_model(eval_df, \n",
    "                                            verbose=False, multi_label=True)"
   ]
  },
  {
   "cell_type": "code",
   "execution_count": 33,
   "id": "58db88bd-9de9-40c7-b712-38e5b9db07be",
   "metadata": {},
   "outputs": [
    {
     "data": {
      "text/plain": [
       "{'LRAP': 0.42380952380952386, 'eval_loss': 0.5357643961906433}"
      ]
     },
     "execution_count": 33,
     "metadata": {},
     "output_type": "execute_result"
    }
   ],
   "source": [
    "result"
   ]
  },
  {
   "cell_type": "code",
   "execution_count": 34,
   "id": "36822efb-fa64-40dc-a28d-45cf7dbb27a6",
   "metadata": {},
   "outputs": [],
   "source": [
    "roberta_out=pd.concat([eval_df, pd.DataFrame(model_outputs)], axis=1,join='inner')"
   ]
  },
  {
   "cell_type": "code",
   "execution_count": 35,
   "id": "c2311b65-cf1d-4e99-b5af-97d475f3234b",
   "metadata": {},
   "outputs": [],
   "source": [
    "roberta_out.to_csv(r'WETG_AI_ML_BUG_AUTO_CCXP_RoBERTa_QA3_OUTPUT.csv')"
   ]
  },
  {
   "cell_type": "code",
   "execution_count": 36,
   "id": "986251a8-cddb-41aa-bb87-0c08816df2a0",
   "metadata": {},
   "outputs": [
    {
     "data": {
      "text/plain": [
       "Index(['jira_ticket',     'summary', 'description',      'server',\n",
       "              'data',         'etl',    'pcompare',    'pdetails',\n",
       "           'psearch',   'pmeasures',        'apps',     'cl_core',\n",
       "              'text',      'labels',             0,             1,\n",
       "                   2,             3,             4,             5,\n",
       "                   6,             7,             8],\n",
       "      dtype='object')"
      ]
     },
     "execution_count": 36,
     "metadata": {},
     "output_type": "execute_result"
    }
   ],
   "source": [
    "roberta_out.columns"
   ]
  },
  {
   "cell_type": "code",
   "execution_count": 37,
   "id": "8edf4111-3255-41e9-b8f8-ef1233e9332b",
   "metadata": {},
   "outputs": [],
   "source": [
    "roberta_test = roberta_out.loc[:,['server','data','etl','pcompare','pdetails','psearch','pmeasures','cl_core','apps',\n",
    "                                  0,1,2,3,4,5,6,7,8]]"
   ]
  },
  {
   "cell_type": "code",
   "execution_count": 38,
   "id": "b5a5518b-2f54-4511-9737-cfdb1eddaaa9",
   "metadata": {},
   "outputs": [],
   "source": [
    "roberta_test.to_csv(r'WETG_AI_ML_BUG_AUTO_CCXP_RoBERTa_QA3_RESULTS.csv')"
   ]
  },
  {
   "cell_type": "code",
   "execution_count": 39,
   "id": "76836353-f64b-4d2c-b411-bdce181658fa",
   "metadata": {},
   "outputs": [
    {
     "name": "stdout",
     "output_type": "stream",
     "text": [
      "Roberta model accuracy: 0.0\n"
     ]
    }
   ],
   "source": [
    "# preds for entire roberta model\n",
    "import numpy as np\n",
    "roberta_val=list(zip(roberta_out[0].tolist(), roberta_out[1].tolist(),\n",
    "                   roberta_out[2].tolist(),roberta_out[3].tolist(),\n",
    "                    roberta_out[4].tolist(),roberta_out[5].tolist(),\n",
    "                    roberta_out[6].tolist(), roberta_out[7].tolist(),\n",
    "                   roberta_out[8].tolist()))\n",
    "roberta_true=list(zip(roberta_out.server.tolist(), roberta_out.data.tolist(), \n",
    "                roberta_out.etl.tolist(),\n",
    "                roberta_out.pcompare.tolist(),\n",
    "                roberta_out.pdetails.tolist(),\n",
    "                roberta_out.psearch.tolist(),\n",
    "               roberta_out.pmeasures.tolist(),\n",
    "                roberta_out.cl_core.tolist(),\n",
    "               roberta_out.apps.tolist()))\n",
    "                     \n",
    "roberta_pred=[]\n",
    "for sample in roberta_val:\n",
    "  roberta_pred.append([1 if i>=0.7 else 0 for i in sample ] )\n",
    "roberta_pred = np.array(roberta_pred)\n",
    "#roberta_pred\n",
    "\n",
    "import numpy as np\n",
    "from sklearn.metrics import accuracy_score\n",
    "roberta_model_accuracy=accuracy_score(roberta_true, roberta_pred)\n",
    "print('QA3 Accuracy:', roberta_model_accuracy)"
   ]
  },
  {
   "cell_type": "code",
   "execution_count": 40,
   "id": "527baec0-e534-42c0-96e8-27b25150eba4",
   "metadata": {},
   "outputs": [],
   "source": [
    "#1. 'server',\n",
    "roberta_server_true=list(zip(roberta_out.server.tolist()))\n",
    "roberta_server_score= list(zip(roberta_out[0].tolist()))\n",
    "#2. 'data',\n",
    "roberta_data_true=list(zip(roberta_out.data.tolist()))\n",
    "roberta_data_score=list(zip(roberta_out[1].tolist()))\n",
    "#3. 'etl',\n",
    "roberta_etl_true=list(zip(roberta_out.etl.tolist()))\n",
    "roberta_etl_score=list(zip(roberta_out[2].tolist()))\n",
    "#4. 'ca_scss',pcompare\n",
    "roberta_pcompare_true=list(zip(roberta_out.pcompare.tolist()))\n",
    "roberta_pcompare_score=list(zip(roberta_out[3].tolist()))\n",
    "#5. 'ca_webapp', pdetails\n",
    "roberta_pdetails_true=list(zip(roberta_out.pdetails.tolist()))\n",
    "roberta_pdetails_score=list(zip(roberta_out[4].tolist()))\n",
    "#6. 'cl_shared',psearch\n",
    "roberta_psearch_true=list(zip(roberta_out.psearch.tolist()))\n",
    "roberta_psearch_score=list(zip(roberta_out[5].tolist()))\n",
    "#7. 'cl_provider', pmeasures\n",
    "roberta_pmeasures_true=list(zip(roberta_out.pmeasures.tolist()))\n",
    "roberta_pmeasures_score=list(zip(roberta_out[6].tolist()))\n",
    "#8. 'cl_core',\n",
    "roberta_cl_core_true=list(zip(roberta_out.cl_core.tolist()))\n",
    "roberta_cl_core_score=list(zip(roberta_out[7].tolist()))\n",
    "#9. 'cl_mymedicare',apps\n",
    "roberta_apps_true=list(zip(roberta_out.apps.tolist()))\n",
    "roberta_apps_score=list(zip(roberta_out[8].tolist()))\n"
   ]
  },
  {
   "cell_type": "markdown",
   "id": "0eff2bd5-6a27-4ab9-8e95-39e2eec028a7",
   "metadata": {},
   "source": [
    "## Predictions at Threshold .7 and Confusion Matrix Preparation"
   ]
  },
  {
   "cell_type": "code",
   "execution_count": 44,
   "id": "1820ae80-0efd-486e-b090-985e785cd807",
   "metadata": {},
   "outputs": [],
   "source": [
    "import numpy as np\n",
    "########################################################\n",
    "####### Label 1: Server\n",
    "# Pred Binary Conversion at Threshold .7\n",
    "roberta_server_pred=[]\n",
    "for sample in roberta_server_score:\n",
    "  roberta_server_pred.append([1 if i>=0.7 else 0 for i in sample ] )\n",
    "roberta_server_pred = np.array(roberta_server_pred)\n",
    "\n",
    "## Create Confusion Matrix for Label\n",
    "ccxp_server_cm = multilabel_confusion_matrix(roberta_server_true,roberta_server_pred)\n",
    "ccxp_server_cm_plt=ccxp_server_cm.reshape(2,2)\n",
    "\n",
    "########################################################\n",
    "###### Label 2: Data\n",
    "# Pred Binary Conversion at Threshold .7\n",
    "roberta_data_pred=[]\n",
    "for sample in roberta_data_score:\n",
    "  roberta_data_pred.append([1 if i>=0.7 else 0 for i in sample ] )\n",
    "roberta_data_pred = np.array(roberta_data_pred)\n",
    "\n",
    "## Creation Confusion Matrix for Label\n",
    "ccxp_data_cm = multilabel_confusion_matrix(roberta_data_true,roberta_data_pred)\n",
    "ccxp_data_cm_plt=ccxp_data_cm.reshape(2,2)\n",
    "\n",
    "########################################################\n",
    "##### Label 3: Etl\n",
    "# Pred Binary Conversion at Threshold .7\n",
    "roberta_etl_pred=[]\n",
    "for sample in roberta_etl_score:\n",
    "  roberta_etl_pred.append([1 if i>=0.7 else 0 for i in sample ] )\n",
    "roberta_etl_pred = np.array(roberta_etl_pred)\n",
    "\n",
    "# Creation Confusion Matrix for Label\n",
    "ccxp_etl_cm = multilabel_confusion_matrix(roberta_etl_true,roberta_etl_pred)\n",
    "ccxp_etl_cm_plt=ccxp_etl_cm.reshape(2,2)\n",
    "\n",
    "########################################################\n",
    "###### Label 4: Provider Compare\n",
    "# Pred Binary Conversion at Threshold .7\n",
    "roberta_pcompare_pred=[]\n",
    "for sample in roberta_pcompare_score:\n",
    "  roberta_pcompare_pred.append([1 if i>=0.7 else 0 for i in sample ] )\n",
    "roberta_pcompare_pred = np.array(roberta_pcompare_pred)\n",
    "\n",
    "# Creation Confusion Matrix for Label\n",
    "ccxp_pcompare_cm = confusion_matrix(roberta_pcompare_true,roberta_pcompare_pred)\n",
    "ccxp_pcompare_cm_plt=ccxp_pcompare_cm.reshape(2,2)\n",
    "\n",
    "##########################################################\n",
    "######### Label 5 Provider Details\n",
    "# a. Pred Binary Conversion at Threshold .7\n",
    "roberta_pdetails_pred=[]\n",
    "for sample in roberta_pdetails_score:\n",
    "  roberta_pdetails_pred.append([1 if i>=0.7 else 0 for i in sample ] )\n",
    "roberta_pdetails_pred = np.array(roberta_pdetails_pred)\n",
    "\n",
    "# b. Creation Confusion Matrix for Label\n",
    "ccxp_pdetails_cm = confusion_matrix(roberta_pdetails_true,roberta_pdetails_pred)\n",
    "ccxp_pdetails_cm_plt=ccxp_pdetails_cm.reshape(2,2)\n",
    "\n",
    "########################################################\n",
    "######## Label 6. Client Provider search\n",
    "# a. Prediction conversion at Threshold .7\n",
    "roberta_psearch_pred=[]\n",
    "for sample in roberta_psearch_score:\n",
    "  roberta_psearch_pred.append([1 if i>=0.7 else 0 for i in sample ] )\n",
    "roberta_psearch_pred = np.array(roberta_psearch_pred)\n",
    "\n",
    "# b. Creation Confusion Matrix for Label\n",
    "ccxp_psearch_cm = confusion_matrix(roberta_psearch_true,roberta_psearch_pred)\n",
    "ccxp_psearch_cm_plt=ccxp_psearch_cm.reshape(2,2)\n",
    "\n",
    "########################################################\n",
    "########## Label 7: Client Libs Provider Measures\n",
    "roberta_pmeasures_pred=[]\n",
    "for sample in roberta_pmeasures_score:\n",
    "  roberta_pmeasures_pred.append([1 if i>=0.7 else 0 for i in sample ] )\n",
    "roberta_pmeasures_pred = np.array(roberta_pmeasures_pred)\n",
    "\n",
    "# c. Creation Confusion Matrix for Label\n",
    "ccxp_pmeasures_cm = multilabel_confusion_matrix(roberta_pmeasures_true,roberta_pmeasures_pred)\n",
    "ccxp_pmeasures_cm_plt=ccxp_pmeasures_cm.reshape(2,2)\n",
    "\n",
    "#########################################################\n",
    "############ Label 8: Client Libs Core\n",
    "roberta_cl_core_pred=[]\n",
    "for sample in roberta_cl_core_score:\n",
    "  roberta_cl_core_pred.append([1 if i>=0.7 else 0 for i in sample ] )\n",
    "roberta_cl_core_pred = np.array(roberta_cl_core_pred)\n",
    "\n",
    "# c. Creation Confusion Matrix for Client Libs Core Label\n",
    "ccxp_cl_core_cm = multilabel_confusion_matrix(roberta_cl_core_true,roberta_cl_core_pred)\n",
    "ccxp_cl_core_cm_plt=ccxp_cl_core_cm.reshape(2,2)\n",
    "\n",
    "#############################################################\n",
    "############ Label 9 apps Label\n",
    "roberta_apps_pred=[]\n",
    "for sample in roberta_apps_score:\n",
    "  roberta_apps_pred.append([1 if i>=0.7 else 0 for i in sample ] )\n",
    "roberta_apps_pred = np.array(roberta_apps_pred)\n",
    "\n",
    "# c. Create Confusion Matrix for apps Label\n",
    "ccxp_apps_cm = confusion_matrix(roberta_apps_true,roberta_apps_pred)\n",
    "ccxp_apps_cm_plt=ccxp_apps_cm.reshape(2,2)\n"
   ]
  },
  {
   "cell_type": "markdown",
   "id": "1c9d2faa-94c0-4e63-ad4a-04d965791ffa",
   "metadata": {},
   "source": [
    "## Plot Confusion Matrices for 9 Labels"
   ]
  },
  {
   "cell_type": "code",
   "execution_count": 45,
   "id": "5efa1eec-49f1-4fdd-bc37-9ef2f7536d24",
   "metadata": {},
   "outputs": [
    {
     "data": {
      "image/png": "[encoded data removed]",
      "text/plain": [
       "<Figure size 432x288 with 2 Axes>"
      ]
     },
     "metadata": {
      "needs_background": "light"
     },
     "output_type": "display_data"
    },
    {
     "data": {
      "text/plain": [
       "<Figure size 432x288 with 0 Axes>"
      ]
     },
     "metadata": {},
     "output_type": "display_data"
    }
   ],
   "source": [
    "import seaborn as sns\n",
    "#Label 1: server\n",
    "group_names = ['True Neg','False Pos','False Neg','True Pos']\n",
    "group_counts = ['{0:0.0f}'.format(value) for value in\n",
    "                ccxp_server_cm_plt.flatten()]\n",
    "group_percentages = ['{0:.2%}'.format(value) for value in\n",
    "                     ccxp_server_cm_plt.flatten()/np.sum(ccxp_server_cm_plt)]\n",
    "labels = [f'{v1}\\n{v2}\\n{v3}' for v1, v2, v3 in\n",
    "          zip(group_names,group_counts,group_percentages)]\n",
    "labels = np.asarray(labels).reshape(2,2)\n",
    "ax = plt.subplot()\n",
    "sns.set(font_scale=1.1) #edited as suggested\n",
    "ax = sns.heatmap(ccxp_server_cm_plt ,cmap='Blues', linewidth = 0.25 , fmt='',annot = labels)\n",
    "plt.title( \"1. CCXP QA3 Server Confusion Matrix\" )\n",
    "plt.show()\n",
    "plt.savefig('WETG_AI_ML_BUG_AUTO_CCXP_RoBERTa_QA3_CM_1_server.png')"
   ]
  },
  {
   "cell_type": "code",
   "execution_count": 46,
   "id": "12a96e26-3786-46c6-a549-8bd11ee3594d",
   "metadata": {},
   "outputs": [
    {
     "data": {
      "image/png": "[encoded data removed]",
      "text/plain": [
       "<Figure size 432x288 with 2 Axes>"
      ]
     },
     "metadata": {},
     "output_type": "display_data"
    },
    {
     "data": {
      "text/plain": [
       "<Figure size 432x288 with 0 Axes>"
      ]
     },
     "metadata": {},
     "output_type": "display_data"
    }
   ],
   "source": [
    "# Label 2: data\n",
    "group_names = ['True Neg','False Pos','False Neg','True Pos']\n",
    "group_counts = ['{0:0.0f}'.format(value) for value in\n",
    "                ccxp_data_cm_plt.flatten()]\n",
    "group_percentages = ['{0:.2%}'.format(value) for value in\n",
    "                     ccxp_data_cm_plt.flatten()/np.sum(ccxp_data_cm_plt)]\n",
    "labels = [f'{v1}\\n{v2}\\n{v3}' for v1, v2, v3 in\n",
    "          zip(group_names,group_counts,group_percentages)]\n",
    "labels = np.asarray(labels).reshape(2,2)\n",
    "ax = plt.subplot()\n",
    "sns.set(font_scale=1.1) #edited as suggested\n",
    "ax = sns.heatmap(ccxp_data_cm_plt ,cmap='Blues', linewidth = 0.25 , fmt='',annot = labels)\n",
    "plt.title( \"2. CCXP QA3 Data Confusion Matrix\" )\n",
    "plt.show()\n",
    "plt.savefig('WETG_AI_ML_BUG_AUTO_CCXP_RoBERTa_QA3_CM_2_Data_Roberta.png')"
   ]
  },
  {
   "cell_type": "code",
   "execution_count": 47,
   "id": "81ecfef1-7ea5-417f-85a0-b97799022c72",
   "metadata": {},
   "outputs": [
    {
     "data": {
      "image/png": "[encoded data removed]",
      "text/plain": [
       "<Figure size 432x288 with 2 Axes>"
      ]
     },
     "metadata": {},
     "output_type": "display_data"
    },
    {
     "data": {
      "text/plain": [
       "<Figure size 432x288 with 0 Axes>"
      ]
     },
     "metadata": {},
     "output_type": "display_data"
    }
   ],
   "source": [
    "# Label 3: etl\n",
    "group_names = ['True Neg','False Pos','False Neg','True Pos']\n",
    "group_counts = ['{0:0.0f}'.format(value) for value in\n",
    "                ccxp_etl_cm_plt.flatten()]\n",
    "group_percentages = ['{0:.2%}'.format(value) for value in\n",
    "                     ccxp_etl_cm_plt.flatten()/np.sum(ccxp_etl_cm_plt)]\n",
    "labels = [f'{v1}\\n{v2}\\n{v3}' for v1, v2, v3 in\n",
    "          zip(group_names,group_counts,group_percentages)]\n",
    "labels = np.asarray(labels).reshape(2,2)\n",
    "ax = plt.subplot()\n",
    "sns.set(font_scale=1.1) #edited as suggested\n",
    "ax = sns.heatmap(ccxp_etl_cm_plt ,cmap='Blues', linewidth = 0.25 , fmt='',annot = labels)\n",
    "plt.title( \"3. CCXP QA3 ETL Confusion Matrix- Roberta\" )\n",
    "plt.show()\n",
    "plt.savefig('WETG_AI_ML_BUG_AUTO_CCXP_RoBERTa_QA3_CM_3_etl.png')"
   ]
  },
  {
   "cell_type": "code",
   "execution_count": 48,
   "id": "1307a969-b712-49e3-b9d6-ae4de87d04c7",
   "metadata": {},
   "outputs": [
    {
     "data": {
      "image/png": "[encoded data removed]",
      "text/plain": [
       "<Figure size 432x288 with 2 Axes>"
      ]
     },
     "metadata": {},
     "output_type": "display_data"
    },
    {
     "data": {
      "text/plain": [
       "<Figure size 432x288 with 0 Axes>"
      ]
     },
     "metadata": {},
     "output_type": "display_data"
    }
   ],
   "source": [
    "# Label 4: pcompare\n",
    "group_names = ['True Neg','False Pos','False Neg','True Pos']\n",
    "group_counts = ['{0:0.0f}'.format(value) for value in\n",
    "                ccxp_pcompare_cm_plt.flatten()]\n",
    "group_percentages = ['{0:.2%}'.format(value) for value in\n",
    "                     ccxp_pcompare_cm_plt.flatten()/np.sum(ccxp_pcompare_cm_plt)]\n",
    "labels = [f'{v1}\\n{v2}\\n{v3}' for v1, v2, v3 in\n",
    "          zip(group_names,group_counts,group_percentages)]\n",
    "labels = np.asarray(labels).reshape(2,2)\n",
    "ax = plt.subplot()\n",
    "sns.set(font_scale=1.1) #edited as suggested\n",
    "ax = sns.heatmap(ccxp_pcompare_cm_plt ,cmap='Blues', linewidth = 0.25 , fmt='',annot = labels)\n",
    "plt.title( \"4. CCXP QA3 Client Provider Compare Confusion Matrix\" )\n",
    "plt.show()\n",
    "plt.savefig('WETG_AI_ML_BUG_AUTO_CCXP_RoBERTa_QA3_CM_4 provider compare_cm.png')"
   ]
  },
  {
   "cell_type": "code",
   "execution_count": 49,
   "id": "10d65e53-6153-4fe3-a600-4b22572d5789",
   "metadata": {},
   "outputs": [
    {
     "data": {
      "image/png": "[encoded data removed]",
      "text/plain": [
       "<Figure size 432x288 with 2 Axes>"
      ]
     },
     "metadata": {},
     "output_type": "display_data"
    },
    {
     "data": {
      "text/plain": [
       "<Figure size 432x288 with 0 Axes>"
      ]
     },
     "metadata": {},
     "output_type": "display_data"
    }
   ],
   "source": [
    "# Label 5: pdetails\n",
    "group_names = ['True Neg','False Pos','False Neg','True Pos']\n",
    "group_counts = ['{0:0.0f}'.format(value) for value in\n",
    "                ccxp_pdetails_cm_plt.flatten()]\n",
    "group_percentages = ['{0:.2%}'.format(value) for value in\n",
    "                     ccxp_pdetails_cm_plt.flatten()/np.sum(ccxp_pdetails_cm_plt)]\n",
    "labels = [f'{v1}\\n{v2}\\n{v3}' for v1, v2, v3 in\n",
    "          zip(group_names,group_counts,group_percentages)]\n",
    "labels = np.asarray(labels).reshape(2,2)\n",
    "ax = plt.subplot()\n",
    "sns.set(font_scale=1.1) #edited as suggested\n",
    "ax = sns.heatmap(ccxp_pdetails_cm_plt ,cmap='Blues', linewidth = 0.25 , fmt='',annot = labels)\n",
    "plt.title( \"5. CCXP QA3 Provider Details Confusion Matrix\" )\n",
    "plt.show()\n",
    "plt.savefig('WETG_AI_ML_BUG_AUTO_CCXP_RoBERTa_QA3_CM_5_provider_details.png')"
   ]
  },
  {
   "cell_type": "code",
   "execution_count": 50,
   "id": "303e58df-583f-42da-8796-0ab351851e34",
   "metadata": {},
   "outputs": [
    {
     "data": {
      "image/png": "[encoded data removed]",
      "text/plain": [
       "<Figure size 432x288 with 2 Axes>"
      ]
     },
     "metadata": {},
     "output_type": "display_data"
    },
    {
     "data": {
      "text/plain": [
       "<Figure size 432x288 with 0 Axes>"
      ]
     },
     "metadata": {},
     "output_type": "display_data"
    }
   ],
   "source": [
    "# Label 6: psearch\n",
    "group_names = ['True Neg','False Pos','False Neg','True Pos']\n",
    "group_counts = ['{0:0.0f}'.format(value) for value in\n",
    "                ccxp_psearch_cm_plt.flatten()]\n",
    "group_percentages = ['{0:.2%}'.format(value) for value in\n",
    "                     ccxp_psearch_cm_plt.flatten()/np.sum(ccxp_psearch_cm_plt)]\n",
    "labels = [f'{v1}\\n{v2}\\n{v3}' for v1, v2, v3 in\n",
    "          zip(group_names,group_counts,group_percentages)]\n",
    "labels = np.asarray(labels).reshape(2,2)\n",
    "ax = plt.subplot()\n",
    "sns.set(font_scale=1.1) #edited as suggested\n",
    "ax = sns.heatmap(ccxp_psearch_cm_plt ,cmap='Blues', linewidth = 0.25 , fmt='',annot = labels)\n",
    "plt.title( \"6. CCXP QA3 Provider Search Confusion Matrix\" )\n",
    "plt.show()\n",
    "plt.savefig('WETG_AI_ML_BUG_AUTO_CCXP_RoBERTa_QA3_CM_6_psearch.png')"
   ]
  },
  {
   "cell_type": "code",
   "execution_count": 51,
   "id": "dcbd9f21-fd8b-4266-91c8-11d58c98b69a",
   "metadata": {},
   "outputs": [
    {
     "data": {
      "image/png": "[encoded data removed]",
      "text/plain": [
       "<Figure size 432x288 with 2 Axes>"
      ]
     },
     "metadata": {},
     "output_type": "display_data"
    },
    {
     "data": {
      "text/plain": [
       "<Figure size 432x288 with 0 Axes>"
      ]
     },
     "metadata": {},
     "output_type": "display_data"
    }
   ],
   "source": [
    "# Label 7: pmeasures\n",
    "group_names = ['True Neg','False Pos','False Neg','True Pos']\n",
    "group_counts = ['{0:0.0f}'.format(value) for value in\n",
    "                ccxp_pmeasures_cm_plt.flatten()]\n",
    "group_percentages = ['{0:.2%}'.format(value) for value in\n",
    "                     ccxp_pmeasures_cm_plt.flatten()/np.sum(ccxp_pmeasures_cm_plt)]\n",
    "labels = [f'{v1}\\n{v2}\\n{v3}' for v1, v2, v3 in\n",
    "          zip(group_names,group_counts,group_percentages)]\n",
    "labels = np.asarray(labels).reshape(2,2)\n",
    "ax = plt.subplot()\n",
    "sns.set(font_scale=1.1) #edited as suggested\n",
    "ax = sns.heatmap(ccxp_pmeasures_cm_plt ,cmap='Blues', linewidth = 0.25 , fmt='',annot = labels)\n",
    "plt.title( \"7. CCXP QA3 Client Libs- Provider Measures Confusion Matrix\" )\n",
    "plt.show()\n",
    "plt.savefig('WETG_AI_ML_BUG_AUTO_CCXP_RoBERTa_QA3_CM_7_Provider_Measures-.png')"
   ]
  },
  {
   "cell_type": "code",
   "execution_count": 52,
   "id": "77b7b94f-f8b5-4e91-b730-bc8bd7015a76",
   "metadata": {},
   "outputs": [
    {
     "data": {
      "image/png": "[encoded data removed]",
      "text/plain": [
       "<Figure size 432x288 with 2 Axes>"
      ]
     },
     "metadata": {},
     "output_type": "display_data"
    },
    {
     "data": {
      "text/plain": [
       "<Figure size 432x288 with 0 Axes>"
      ]
     },
     "metadata": {},
     "output_type": "display_data"
    }
   ],
   "source": [
    "# Label 8: cl_core\n",
    "group_names = ['True Neg','False Pos','False Neg','True Pos']\n",
    "group_counts = ['{0:0.0f}'.format(value) for value in\n",
    "                ccxp_server_cm_plt.flatten()]\n",
    "group_percentages = ['{0:.2%}'.format(value) for value in\n",
    "                     ccxp_cl_core_cm_plt.flatten()/np.sum(ccxp_cl_core_cm_plt)]\n",
    "labels = [f'{v1}\\n{v2}\\n{v3}' for v1, v2, v3 in\n",
    "          zip(group_names,group_counts,group_percentages)]\n",
    "labels = np.asarray(labels).reshape(2,2)\n",
    "ax = plt.subplot()\n",
    "sns.set(font_scale=1.1) #edited as suggested\n",
    "ax = sns.heatmap(ccxp_cl_core_cm_plt ,cmap='Blues', linewidth = 0.25 , fmt='',annot = labels)\n",
    "plt.title( \"8. CCXP QA3 Client Libs Core Confusion Matrix\" )\n",
    "plt.show()\n",
    "plt.savefig('WETG_AI_ML_BUG_AUTO_CCXP_RoBERTa_QA3_CM_8_Client_Libs_Core.png')"
   ]
  },
  {
   "cell_type": "code",
   "execution_count": 55,
   "id": "b63b1dd4-88ac-41db-95c5-800b9ae4dc67",
   "metadata": {},
   "outputs": [
    {
     "data": {
      "image/png": "[encoded data removed]",
      "text/plain": [
       "<Figure size 432x288 with 2 Axes>"
      ]
     },
     "metadata": {},
     "output_type": "display_data"
    },
    {
     "data": {
      "text/plain": [
       "<Figure size 432x288 with 0 Axes>"
      ]
     },
     "metadata": {},
     "output_type": "display_data"
    }
   ],
   "source": [
    "# Label 9: Apps\n",
    "group_names = ['True Neg','False Pos','False Neg','True Pos']\n",
    "group_counts = ['{0:0.0f}'.format(value) for value in\n",
    "                ccxp_apps_cm_plt.flatten()]\n",
    "group_percentages = ['{0:.2%}'.format(value) for value in\n",
    "                     ccxp_apps_cm_plt.flatten()/np.sum(ccxp_apps_cm_plt)]\n",
    "labels = [f'{v1}\\n{v2}\\n{v3}' for v1, v2, v3 in\n",
    "          zip(group_names,group_counts,group_percentages)]\n",
    "labels = np.asarray(labels).reshape(2,2)\n",
    "ax = plt.subplot()\n",
    "sns.set(font_scale=1.1) #edited as suggested\n",
    "ax = sns.heatmap(ccxp_apps_cm_plt ,cmap='Blues', linewidth = 0.25 , fmt='',annot = labels)\n",
    "plt.title( \"9. CCXP QA3 Apps Confusion Matrix\" )\n",
    "plt.show()\n",
    "# export it\n",
    "plt.savefig('WETG_AI_ML_BUG_AUTO_CCXP_RoBERTa_QA3_CM_9_Apps.png')"
   ]
  }
 ],
 "metadata": {
  "kernelspec": {
   "display_name": "Python 3 (ipykernel)",
   "language": "python",
   "name": "python3"
  },
  "language_info": {
   "codemirror_mode": {
    "name": "ipython",
    "version": 3
   },
   "file_extension": ".py",
   "mimetype": "text/x-python",
   "name": "python",
   "nbconvert_exporter": "python",
   "pygments_lexer": "ipython3",
   "version": "3.9.12"
  }
 },
 "nbformat": 4,
 "nbformat_minor": 5
}
