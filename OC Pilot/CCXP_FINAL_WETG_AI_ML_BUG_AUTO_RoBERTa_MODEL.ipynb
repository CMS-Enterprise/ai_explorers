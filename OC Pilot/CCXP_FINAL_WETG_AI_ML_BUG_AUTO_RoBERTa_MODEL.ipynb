{
 "cells": [
  {
   "cell_type": "code",
   "execution_count": null,
   "id": "b6bad142-19dd-47ec-b681-756f4f6652e9",
   "metadata": {},
   "outputs": [],
   "source": [
    "# CCXP Transformers Multilabel Classification Model: Roberta and Roberta-Base"
   ]
  },
  {
   "cell_type": "markdown",
   "id": "9964cdb8-ca5c-48f9-9e6c-a03f44924b15",
   "metadata": {},
   "source": [
    "- Last Run on 10/26/2022\n",
    "- 9 labels\n",
    "\n",
    "1. 'server': ccxp-server/src\n",
    "2. 'data' ccxp-data/src\n",
    "3. etl': ccxp-etl/src\n",
    "4. 'pcompare':ccxp-client/libs/features/provider-compare/\n",
    "5. 'pdetails':ccxp-client/libs/features/provider-details/\n",
    "6. 'psearch': ccxp-client/libs/features/provider-search/\n",
    "7. 'pmeasures': ccxp-client/libs/features/provider-measures/\n",
    "8. 'apps': ccxp-client/apps\n",
    "9. 'cl_core': ccxp-client/libs/core"
   ]
  },
  {
   "cell_type": "code",
   "execution_count": null,
   "id": "77542358-5e68-448c-8d5a-3840b6b4d4e9",
   "metadata": {},
   "outputs": [],
   "source": [
    "# import libraries\n",
    "from simpletransformers.classification import MultiLabelClassificationModel\n",
    "import pandas as pd\n",
    "from sklearn.model_selection import train_test_split\n",
    "from sklearn.metrics import multilabel_confusion_matrix\n",
    "from sklearn.metrics import confusion_matrix, ConfusionMatrixDisplay\n",
    "import matplotlib.pyplot as plt\n",
    "from sklearn.datasets import make_multilabel_classification\n",
    "from sklearn.tree import DecisionTreeClassifier\n",
    "\n",
    "from transformers import set_seed\n",
    "set_seed(42)"
   ]
  },
  {
   "cell_type": "markdown",
   "id": "32de0bb8-dd16-49d7-ac14-f25f4eda79e9",
   "metadata": {},
   "source": [
    "Input data are available for the following locations\n",
    "1. AWS S3 bucket\n",
    "2. Github /data folder\n",
    "3. RDS MySQL database table"
   ]
  },
  {
   "cell_type": "markdown",
   "id": "5bdb5bab-a3ba-4aa1-8694-1ae1ab4841e8",
   "metadata": {},
   "source": [
    "The jira github commit data used for this model was pulled on 8/23/2022"
   ]
  },
  {
   "cell_type": "code",
   "execution_count": 7,
   "id": "1fb052af-25c5-449a-a419-d40734f85588",
   "metadata": {},
   "outputs": [],
   "source": [
    "# 9 Categories\n",
    "## Pull in raw data\n",
    "# this is the file with one git file change per line\n",
    "commit=pd.read_csv(r'WETG_AI_ML_BUG_AUTO_CCXP_Jira_Github_Commit_Dataset.csv') \n",
    "## drop rows where summary and descriptions columns are blank \n",
    "commit=commit.dropna(subset=['summary','description'], how='all')"
   ]
  },
  {
   "cell_type": "code",
   "execution_count": null,
   "id": "072aba92-ae87-4c9f-ba83-ccfef64d5793",
   "metadata": {},
   "outputs": [],
   "source": [
    "df_ccxp_raw_new=commit"
   ]
  },
  {
   "cell_type": "code",
   "execution_count": 9,
   "id": "67dc2fc5-7fe0-4a63-8a28-51597c0feb22",
   "metadata": {},
   "outputs": [],
   "source": [
    "#len(df_ccxp_raw_new.loc[df_ccxp_raw_new.filepath.str.contains('src') & df_ccxp_raw_new.filepath.str.contains('apps/ccxp-web/src/locale')])"
   ]
  },
  {
   "cell_type": "code",
   "execution_count": 11,
   "id": "3f8192d8-cab4-43eb-a05e-fea3e5ae00c7",
   "metadata": {},
   "outputs": [
    {
     "data": {
      "text/html": [
       "<div>\n",
       "<style scoped>\n",
       "    .dataframe tbody tr th:only-of-type {\n",
       "        vertical-align: middle;\n",
       "    }\n",
       "\n",
       "    .dataframe tbody tr th {\n",
       "        vertical-align: top;\n",
       "    }\n",
       "\n",
       "    .dataframe thead th {\n",
       "        text-align: right;\n",
       "    }\n",
       "</style>\n",
       "<table border=\"1\" class=\"dataframe\">\n",
       "  <thead>\n",
       "    <tr style=\"text-align: right;\">\n",
       "      <th></th>\n",
       "      <th>jira_ticket</th>\n",
       "      <th>commit</th>\n",
       "      <th>filename</th>\n",
       "      <th>filename_wo_path</th>\n",
       "      <th>status</th>\n",
       "      <th>additions</th>\n",
       "      <th>deletions</th>\n",
       "      <th>changes</th>\n",
       "      <th>repo</th>\n",
       "      <th>summary</th>\n",
       "      <th>...</th>\n",
       "      <th>resolution</th>\n",
       "      <th>assignee</th>\n",
       "      <th>reporter</th>\n",
       "      <th>creator</th>\n",
       "      <th>created</th>\n",
       "      <th>updated</th>\n",
       "      <th>last_viewed</th>\n",
       "      <th>resolved</th>\n",
       "      <th>description</th>\n",
       "      <th>filepath</th>\n",
       "    </tr>\n",
       "  </thead>\n",
       "  <tbody>\n",
       "    <tr>\n",
       "      <th>0</th>\n",
       "      <td>CCXP-1076</td>\n",
       "      <td>a8b1300d5f9982811b64f7b8257ef311b73b984c</td>\n",
       "      <td>package-lock.json</td>\n",
       "      <td>package-lock.json</td>\n",
       "      <td>modified</td>\n",
       "      <td>1</td>\n",
       "      <td>1</td>\n",
       "      <td>2</td>\n",
       "      <td>ccxp-data</td>\n",
       "      <td>Duplicate specialties created during ETL</td>\n",
       "      <td>...</td>\n",
       "      <td>Closed</td>\n",
       "      <td>TUQ0</td>\n",
       "      <td>TUQ0</td>\n",
       "      <td>TUQ0</td>\n",
       "      <td>6/4/2019 15:38</td>\n",
       "      <td>8/14/2019 16:13</td>\n",
       "      <td>7/28/2022 10:45</td>\n",
       "      <td>6/14/2019 10:19</td>\n",
       "      <td>During the ETL run for physicians, specialties...</td>\n",
       "      <td>ccxp-data/package-lock.json</td>\n",
       "    </tr>\n",
       "    <tr>\n",
       "      <th>1</th>\n",
       "      <td>CCXP-1076</td>\n",
       "      <td>a8b1300d5f9982811b64f7b8257ef311b73b984c</td>\n",
       "      <td>package.json</td>\n",
       "      <td>package.json</td>\n",
       "      <td>modified</td>\n",
       "      <td>1</td>\n",
       "      <td>1</td>\n",
       "      <td>2</td>\n",
       "      <td>ccxp-data</td>\n",
       "      <td>Duplicate specialties created during ETL</td>\n",
       "      <td>...</td>\n",
       "      <td>Closed</td>\n",
       "      <td>TUQ0</td>\n",
       "      <td>TUQ0</td>\n",
       "      <td>TUQ0</td>\n",
       "      <td>6/4/2019 15:38</td>\n",
       "      <td>8/14/2019 16:13</td>\n",
       "      <td>7/28/2022 10:45</td>\n",
       "      <td>6/14/2019 10:19</td>\n",
       "      <td>During the ETL run for physicians, specialties...</td>\n",
       "      <td>ccxp-data/package.json</td>\n",
       "    </tr>\n",
       "  </tbody>\n",
       "</table>\n",
       "<p>2 rows × 30 columns</p>\n",
       "</div>"
      ],
      "text/plain": [
       "  jira_ticket                                    commit           filename  \\\n",
       "0   CCXP-1076  a8b1300d5f9982811b64f7b8257ef311b73b984c  package-lock.json   \n",
       "1   CCXP-1076  a8b1300d5f9982811b64f7b8257ef311b73b984c       package.json   \n",
       "\n",
       "    filename_wo_path    status  additions  deletions  changes       repo  \\\n",
       "0  package-lock.json  modified          1          1        2  ccxp-data   \n",
       "1       package.json  modified          1          1        2  ccxp-data   \n",
       "\n",
       "                                    summary  ...  resolution assignee  \\\n",
       "0  Duplicate specialties created during ETL  ...      Closed     TUQ0   \n",
       "1  Duplicate specialties created during ETL  ...      Closed     TUQ0   \n",
       "\n",
       "  reporter creator         created          updated      last_viewed  \\\n",
       "0     TUQ0    TUQ0  6/4/2019 15:38  8/14/2019 16:13  7/28/2022 10:45   \n",
       "1     TUQ0    TUQ0  6/4/2019 15:38  8/14/2019 16:13  7/28/2022 10:45   \n",
       "\n",
       "          resolved                                        description  \\\n",
       "0  6/14/2019 10:19  During the ETL run for physicians, specialties...   \n",
       "1  6/14/2019 10:19  During the ETL run for physicians, specialties...   \n",
       "\n",
       "                      filepath  \n",
       "0  ccxp-data/package-lock.json  \n",
       "1       ccxp-data/package.json  \n",
       "\n",
       "[2 rows x 30 columns]"
      ]
     },
     "execution_count": 11,
     "metadata": {},
     "output_type": "execute_result"
    }
   ],
   "source": [
    "# create a column that adds the repo name to the directory for label preparation\n",
    "df_ccxp_raw_new['filepath'] = df_ccxp_raw_new['repo'] + '/'+df_ccxp_raw_new['filename']\n",
    "df_ccxp_raw_new.head(2)"
   ]
  },
  {
   "cell_type": "code",
   "execution_count": 7,
   "id": "2931b55d-e131-4681-b4ff-b499b7676479",
   "metadata": {},
   "outputs": [
    {
     "name": "stdout",
     "output_type": "stream",
     "text": [
      "CCXP Dataset Length:  7708\n",
      "Unqiue Filename count:  2296\n",
      "Unique FILEPATH Count:  3030\n",
      "\n",
      "Filename -with filepath- specific length:\n",
      "1. ccxp-server/src 236\n",
      "2. ccxp-data/src length: 1248\n",
      "3. ccxp-etl/src length: 297\n",
      "4. ccxp-client/apps/ccxp-web/src/scss length: 200\n",
      "5. ccxp-client/apps/ccxp-web/src/app length: 135\n",
      "6. ccxp-client/libs/shared/src length: 407\n",
      "7. ccxp-client/libs/features/provider-length: 3163\n",
      "8. ccxp-client/libs/core/src length: 535\n",
      "9.ccxp-client/libs/mymedicare/ 294\n",
      "\n"
     ]
    }
   ],
   "source": [
    "## length of each directory utilized in bug jira tickets\n",
    "print('CCXP Dataset Length: ',len(df_ccxp_raw_new))\n",
    "print('Unqiue Filename count: ',df_ccxp_raw_new['filename_wo_path'].nunique())\n",
    "print('Unique FILEPATH Count: ',df_ccxp_raw_new['filepath'].nunique())\n",
    "print('Unique commits for CCXP raw dataset: ',df_ccxp_raw_new['commit'].nunique())\n",
    "print('Unique jira tickets for CCXP bugs dataset',df_ccxp_raw_new['jira_ticket'].nunique())\n",
    "print('Total filepaths for CCXP raw dataset: ',df_ccxp_raw_new['filename'].count())\n",
    "print('')\n",
    "print('Repo+ filepath + filename specific length:')\n",
    "print('1. ccxp-server/src' ,len(df_ccxp_raw_new.loc[df_ccxp_raw_new.filepath.str.contains('ccxp-server/src')]))\n",
    "print('2. ccxp-data/src length:',len(df_ccxp_raw_new.loc[df_ccxp_raw_new.filepath.str.contains('ccxp-data')]))\n",
    "print('3. ccxp-etl/src length:',len(df_ccxp_raw_new.loc[df_ccxp_raw_new.filepath.str.contains('ccxp-etl/src')]))\n",
    "print('4. ccxp-client/apps/ccxp-web/src/scss length:',len(df_ccxp_raw_new.loc[df_ccxp_raw_new.filepath.str.contains('ccxp-client/apps/ccxp-web/src/scss')]))\n",
    "print('5. ccxp-client/apps/ccxp-web/src/app length:',len(df_ccxp_raw_new.loc[df_ccxp_raw_new.filepath.str.contains('ccxp-client/apps/ccxp-web/src/app')]))\n",
    "print('6. ccxp-client/libs/shared/src length:',len(df_ccxp_raw_new.loc[df_ccxp_raw_new.filepath.str.contains('ccxp-client/libs/shared/src')]))\n",
    "print('7. ccxp-client/libs/features/provider-length:',len(df_ccxp_raw_new.loc[df_ccxp_raw_new.filepath.str.contains('ccxp-client/libs/features/provider-')]))\n",
    "print('8. ccxp-client/libs/core/src length:',len(df_ccxp_raw_new.loc[df_ccxp_raw_new.filepath.str.contains('ccxp-client/libs/core/src')]))\n",
    "print('9.ccxp-client/libs/mymedicare/',len(df_ccxp_raw_new.loc[df_ccxp_raw_new.filepath.str.contains('ccxp-client/libs/mymedicare/')]))\n",
    "print('')"
   ]
  },
  {
   "cell_type": "code",
   "execution_count": 26,
   "id": "0b194364-7cd5-48db-a917-eceb3aedd92f",
   "metadata": {},
   "outputs": [],
   "source": [
    "## Exploring data repo\n",
    "#df_ccxp_raw_new.loc[df_ccxp_raw_new.filepath.str.contains('ccxp-data/')].to_csv(r'ccxp-data_validate.csv')\n",
    "#len(df_ccxp_raw_new.loc[df_ccxp_raw_new.filepath.str.contains('ccxp-data/src/models')]) \n",
    "#len(df_ccxp_raw_new.loc[df_ccxp_raw_new.filepath.str.contains('ccxp-data/src/constants')])\n",
    "#len(df_ccxp_raw_new.loc[df_ccxp_raw_new.filepath.str.contains('ccxp-data/src/schemas')])\n",
    "#len(df_ccxp_raw_new.loc[df_ccxp_raw_new.filepath.str.contains('ccxp-data/src/repositories')])\n",
    "#len(df_ccxp_raw_new.loc[df_ccxp_raw_new.filepath.str.contains('ccxp-data/src/seeders')])\n",
    "#len(df_ccxp_raw_new.loc[df_ccxp_raw_new.filepath.str.contains('ccxp-data/src/migrations')])\n",
    "#len(df_ccxp_raw_new.loc[df_ccxp_raw_new.filepath.str.contains('ccxp-data/src/cli')])"
   ]
  },
  {
   "cell_type": "code",
   "execution_count": 9,
   "id": "0c683e16-39d1-412b-a11c-9f298b5599b2",
   "metadata": {},
   "outputs": [],
   "source": [
    "## count the number of jira ticket changes, additions, deletions of mct bug dataset\n",
    "ticket_changes= df_ccxp_raw.pivot_table(index=['jira_ticket'],values=['additions','changes','deletions'],aggfunc=sum)"
   ]
  },
  {
   "cell_type": "code",
   "execution_count": null,
   "id": "521e9cc1-316f-479e-99f4-c5076ff03a15",
   "metadata": {},
   "outputs": [],
   "source": [
    "ticket_changes.changes.sum()"
   ]
  },
  {
   "cell_type": "code",
   "execution_count": null,
   "id": "cd20c8bf-3fc5-4b44-a026-77c6dc8b95a3",
   "metadata": {},
   "outputs": [],
   "source": [
    "ticket_changes.additions.sum()"
   ]
  },
  {
   "cell_type": "code",
   "execution_count": null,
   "id": "468df473-a38c-4ad9-8c4a-3569ad5e1952",
   "metadata": {},
   "outputs": [],
   "source": [
    "ticket_changes.deletions.sum()"
   ]
  },
  {
   "cell_type": "code",
   "execution_count": 11,
   "id": "b039170b-9d4f-495b-bb16-365a0a59adcf",
   "metadata": {},
   "outputs": [],
   "source": [
    "#print(len(df_ccxp_raw_new.loc[df_ccxp_raw_new.filepath.str.contains('src') & df_ccxp_raw_new.filepath.str.contains('ccxp-client/')]))"
   ]
  },
  {
   "cell_type": "code",
   "execution_count": 12,
   "id": "897be2cf-ca84-41f7-8ea6-2a00e20e5cc7",
   "metadata": {},
   "outputs": [],
   "source": [
    "## Label the categories: Multilabel Binarization \n",
    "df_ccxp_raw_new.loc[df_ccxp_raw_new.filepath.str.contains('ccxp-server/src'),'server']=int(bool(1))\n",
    "df_ccxp_raw_new.loc[df_ccxp_raw_new.filepath.str.contains('ccxp-data/src'),'data']=int(bool(1))\n",
    "df_ccxp_raw_new.loc[df_ccxp_raw_new.filepath.str.contains('ccxp-etl/src'),'etl']=int(bool(1))\n",
    "df_ccxp_raw_new.loc[df_ccxp_raw_new.filepath.str.contains('ccxp-client/libs/features/provider-compare/'),'pcompare']=int(bool(1))\n",
    "df_ccxp_raw_new.loc[df_ccxp_raw_new.filepath.str.contains('ccxp-client/libs/features/provider-details/'),'pdetails']=int(bool(1))\n",
    "df_ccxp_raw_new.loc[df_ccxp_raw_new.filepath.str.contains('ccxp-client/libs/features/provider-search/'),'psearch']=int(bool(1))\n",
    "df_ccxp_raw_new.loc[df_ccxp_raw_new.filepath.str.contains('ccxp-client/libs/features/provider-measures/'),'pmeasures']=int(bool(1))\n",
    "df_ccxp_raw_new.loc[df_ccxp_raw_new.filepath.str.contains('ccxp-client/apps'),'apps']=int(bool(1))\n",
    "df_ccxp_raw_new.loc[df_ccxp_raw_new.filepath.str.contains('ccxp-client/libs/core'),'cl_core']=int(bool(1))\n"
   ]
  },
  {
   "cell_type": "code",
   "execution_count": 13,
   "id": "38737504-4a0f-42c1-be95-2d1381c42dfe",
   "metadata": {},
   "outputs": [],
   "source": [
    "# Select the training data by choosing the rows that have category flags\n",
    "df_training = df_ccxp_raw_new.loc[~(df_ccxp_raw_new.server.isna()\\\n",
    "                &(df_ccxp_raw_new.data.isna())\\\n",
    "                &(df_ccxp_raw_new.etl.isna())\\\n",
    "                &(df_ccxp_raw_new.pcompare.isna())\\\n",
    "                &(df_ccxp_raw_new.pdetails.isna())\\\n",
    "                &(df_ccxp_raw_new.psearch.isna())\\\n",
    "                &(df_ccxp_raw_new.pmeasures.isna())\\\n",
    "                &(df_ccxp_raw_new.cl_core.isna())\\\n",
    "                &(df_ccxp_raw_new.apps.isna()))]"
   ]
  },
  {
   "cell_type": "code",
   "execution_count": 14,
   "id": "bf9f4dee-a9b0-4177-80d6-c4a462073337",
   "metadata": {},
   "outputs": [
    {
     "data": {
      "text/plain": [
       "jira_ticket    CCXP-1076CCXP-1128CCXP-1300CCXP-1348CCXP-1376C...\n",
       "summary        Duplicate specialties created during ETLAccess...\n",
       "description    During the ETL run for physicians, specialties...\n",
       "dtype: object"
      ]
     },
     "execution_count": 14,
     "metadata": {},
     "output_type": "execute_result"
    }
   ],
   "source": [
    "# Group the training data by jira ticket number\n",
    "df_ccxp_raw_new_out= df_training.loc[:,['jira_ticket', 'summary', 'description']].groupby(['jira_ticket',\n",
    "                                'summary',\n",
    "                                'description'],\n",
    "                       ).max().reset_index().fillna(0)\n",
    "df_ccxp_raw_new_out.sum()"
   ]
  },
  {
   "cell_type": "code",
   "execution_count": 15,
   "id": "722f81b0-72cd-4f3a-944d-5651e403e424",
   "metadata": {},
   "outputs": [
    {
     "name": "stdout",
     "output_type": "stream",
     "text": [
      "Count of distinct values per column:  project_description       0\n",
      "project_url               0\n",
      "cl_core                   1\n",
      "project_lead              1\n",
      "project_type              1\n",
      "project_name              1\n",
      "project_key               1\n",
      "issue_type                1\n",
      "resolution                1\n",
      "server                    1\n",
      "data                      1\n",
      "etl                       1\n",
      "pcompare                  1\n",
      "pdetails                  1\n",
      "psearch                   1\n",
      "pmeasures                 1\n",
      "apps                      1\n",
      "jira_status               3\n",
      "status                    4\n",
      "repo                      4\n",
      "priority                  5\n",
      "last_viewed               8\n",
      "assignee                 16\n",
      "reporter                 21\n",
      "creator                  21\n",
      "resolved                125\n",
      "deletions               177\n",
      "additions               207\n",
      "changes                 269\n",
      "updated                 306\n",
      "jira_ticket             347\n",
      "issue_id                347\n",
      "description             347\n",
      "created                 347\n",
      "summary                 347\n",
      "commit                  967\n",
      "filename_wo_path       1848\n",
      "filename               2385\n",
      "filepath               2390\n"
     ]
    }
   ],
   "source": [
    "## Analyze unique values per column to consider categorical variables for model predictions\n",
    "cols =df_training.columns\n",
    "label_cols = list(cols[0:])\n",
    "num_labels = len(label_cols)\n",
    "print('Count of distinct values per column: ',df_training[label_cols].nunique().sort_values().to_string())"
   ]
  },
  {
   "cell_type": "code",
   "execution_count": 16,
   "id": "6cfaa28b-0972-410f-a2b8-763c71f31ca6",
   "metadata": {},
   "outputs": [
    {
     "name": "stdout",
     "output_type": "stream",
     "text": [
      "training dataset length:  5869\n",
      "ccxp raw dataset:  7708\n"
     ]
    }
   ],
   "source": [
    "print('filtered dataset length: ',len(df_training))\n",
    "print('ccxp raw dataset: ',len(df_ccxp_raw_new))"
   ]
  },
  {
   "cell_type": "code",
   "execution_count": 17,
   "id": "6a49c899-48b7-467a-90d4-4095e5221418",
   "metadata": {},
   "outputs": [
    {
     "data": {
      "text/plain": [
       "207"
      ]
     },
     "execution_count": 17,
     "metadata": {},
     "output_type": "execute_result"
    }
   ],
   "source": [
    "df_training.additions.nunique()"
   ]
  },
  {
   "cell_type": "code",
   "execution_count": 18,
   "id": "ecbb4565-75ed-4aa6-acf6-b86c11598ea6",
   "metadata": {},
   "outputs": [
    {
     "data": {
      "text/plain": [
       "177"
      ]
     },
     "execution_count": 18,
     "metadata": {},
     "output_type": "execute_result"
    }
   ],
   "source": [
    "df_training.deletions.nunique()"
   ]
  },
  {
   "cell_type": "code",
   "execution_count": 19,
   "id": "21add9be-6f17-4310-935e-62fd93d33f09",
   "metadata": {},
   "outputs": [
    {
     "data": {
      "text/plain": [
       "269"
      ]
     },
     "execution_count": 19,
     "metadata": {},
     "output_type": "execute_result"
    }
   ],
   "source": [
    "df_training.changes.nunique()"
   ]
  },
  {
   "cell_type": "code",
   "execution_count": 20,
   "id": "380ba90f-01d9-4aed-b26e-2ac7587024f9",
   "metadata": {},
   "outputs": [],
   "source": [
    "ticket_change_train= df_training.pivot_table(index=['jira_ticket'],values=['additions','changes','deletions'],aggfunc=sum)"
   ]
  },
  {
   "cell_type": "code",
   "execution_count": 21,
   "id": "f9c1b8e7-fdb7-4ae6-b7d6-f251329a0b2f",
   "metadata": {},
   "outputs": [
    {
     "data": {
      "text/plain": [
       "310312"
      ]
     },
     "execution_count": 21,
     "metadata": {},
     "output_type": "execute_result"
    }
   ],
   "source": [
    "ticket_change_train.changes.sum()"
   ]
  },
  {
   "cell_type": "code",
   "execution_count": 22,
   "id": "a588f951-3f1f-4205-8b7d-da8c38098207",
   "metadata": {},
   "outputs": [
    {
     "data": {
      "text/plain": [
       "165064"
      ]
     },
     "execution_count": 22,
     "metadata": {},
     "output_type": "execute_result"
    }
   ],
   "source": [
    "ticket_change_train.additions.sum()"
   ]
  },
  {
   "cell_type": "code",
   "execution_count": 23,
   "id": "d32eebd1-2fdf-48b9-a463-95ef69d4facd",
   "metadata": {},
   "outputs": [
    {
     "data": {
      "text/plain": [
       "145248"
      ]
     },
     "execution_count": 23,
     "metadata": {},
     "output_type": "execute_result"
    }
   ],
   "source": [
    "ticket_change_train.deletions.sum()"
   ]
  },
  {
   "cell_type": "code",
   "execution_count": 24,
   "id": "cf61cce1-5a57-415a-89d7-6035e1eebc19",
   "metadata": {},
   "outputs": [],
   "source": [
    "# Group the training data by jira ticket number\n",
    "df_training = df_training.loc[:,['jira_ticket', 'summary', 'description',\n",
    "                                 'server', 'data',\n",
    "                                   'etl','pcompare','pdetails','psearch','pmeasures','cl_core','apps']].groupby(['jira_ticket',\n",
    "                                'summary',\n",
    "                                'description'],\n",
    "                       ).max().reset_index().fillna(0)"
   ]
  },
  {
   "cell_type": "code",
   "execution_count": 25,
   "id": "aa877d7d-6d16-44ce-aded-f6defca0ac76",
   "metadata": {},
   "outputs": [],
   "source": [
    "# Set the inputs columns and the columns that we want to predit\n",
    "df_training['text']=df_training['summary'].apply(lambda x: x.replace('\\n', ' '))+df_training['description'].apply(lambda x: x.replace('\\n', ' '))\n",
    "df_training['labels'] = list(zip(df_training.server.tolist(),  df_training.data.tolist(), df_training.etl.tolist(),\n",
    "                                df_training.pdetails.tolist(),df_training.psearch.tolist(),df_training.pmeasures.tolist(),\n",
    "                                df_training.pcompare.tolist(),df_training.cl_core.tolist(),df_training.apps.tolist()))"
   ]
  },
  {
   "cell_type": "code",
   "execution_count": 28,
   "id": "fd341aa0-b994-4e6c-9797-f5aea9a4d70d",
   "metadata": {},
   "outputs": [
    {
     "data": {
      "text/plain": [
       "jira_ticket    CCXP-1076CCXP-1128CCXP-1300CCXP-1348CCXP-1376C...\n",
       "summary        Duplicate specialties created during ETLAccess...\n",
       "description    During the ETL run for physicians, specialties...\n",
       "server                                                      17.0\n",
       "data                                                        96.0\n",
       "etl                                                         22.0\n",
       "pcompare                                                    85.0\n",
       "pdetails                                                    59.0\n",
       "psearch                                                    104.0\n",
       "pmeasures                                                   74.0\n",
       "cl_core                                                     57.0\n",
       "apps                                                       123.0\n",
       "text           Duplicate specialties created during ETLDuring...\n",
       "labels         (0.0, 1.0, 0.0, 0.0, 0.0, 0.0, 0.0, 0.0, 0.0, ...\n",
       "dtype: object"
      ]
     },
     "execution_count": 28,
     "metadata": {},
     "output_type": "execute_result"
    }
   ],
   "source": [
    "df_training.sum()"
   ]
  },
  {
   "cell_type": "code",
   "execution_count": 29,
   "id": "da0450ff-9c49-4472-95c3-af85840519ea",
   "metadata": {},
   "outputs": [
    {
     "name": "stdout",
     "output_type": "stream",
     "text": [
      "average sentence length:  91.82997118155619\n",
      "stdev sentence length:  102.604478942842\n"
     ]
    }
   ],
   "source": [
    "print('average sentence length: ', df_training.text.str.split().str.len().mean())\n",
    "print('stdev sentence length: ', df_training.text.str.split().str.len().std())"
   ]
  },
  {
   "cell_type": "code",
   "execution_count": 30,
   "id": "8f60116b-c48c-441d-9d8e-e415f731bb1b",
   "metadata": {},
   "outputs": [],
   "source": [
    "## Train/Test split\n",
    "train_df, eval_df = train_test_split(df_training, test_size=0.2)"
   ]
  },
  {
   "cell_type": "code",
   "execution_count": null,
   "id": "b3425179-7871-47df-9bfb-f8302fb59c39",
   "metadata": {},
   "outputs": [],
   "source": [
    "eval_df.to_csv(r'WETG_AI_ML_BUG_AUTO_CCXP_RoBERTa_EVAL_DF.csv')"
   ]
  },
  {
   "cell_type": "code",
   "execution_count": null,
   "id": "21d8584f-7e44-4b1f-b6fe-16bba14146c7",
   "metadata": {},
   "outputs": [],
   "source": [
    "train_df.to_csv(r'WETG_AI_ML_BUG_AUTO_CCXP_RoBERTa_TRAIN_DF.csv')"
   ]
  },
  {
   "cell_type": "code",
   "execution_count": null,
   "id": "98c0dd7c-fa53-4f43-bdcf-1a6e8ce849c0",
   "metadata": {},
   "outputs": [],
   "source": [
    "df_training.to_csv(r'WETG_AI_ML_BUG_AUTO_CCXP_RoBERTa_PREP_DATASET.csv')"
   ]
  },
  {
   "cell_type": "code",
   "execution_count": 31,
   "id": "599ba0c6-fe60-409c-b0aa-249b8adca6a0",
   "metadata": {},
   "outputs": [
    {
     "data": {
      "text/plain": [
       "(277, 14)"
      ]
     },
     "execution_count": 31,
     "metadata": {},
     "output_type": "execute_result"
    }
   ],
   "source": [
    "train_df.shape"
   ]
  },
  {
   "cell_type": "code",
   "execution_count": 32,
   "id": "114e09cc-f0f5-448c-a7a7-8dee669cf908",
   "metadata": {},
   "outputs": [
    {
     "name": "stdout",
     "output_type": "stream",
     "text": [
      "Training data Count of distinct values per column:  server           2\n",
      "data             2\n",
      "etl              2\n",
      "pcompare         2\n",
      "pdetails         2\n",
      "psearch          2\n",
      "pmeasures        2\n",
      "cl_core          2\n",
      "apps             2\n",
      "labels          60\n",
      "jira_ticket    347\n",
      "summary        347\n",
      "description    347\n",
      "text           347\n"
     ]
    }
   ],
   "source": [
    "## Analyze unique values per column to consider categorical variables for model predictions\n",
    "cols =df_training.columns\n",
    "label_cols = list(cols[0:])\n",
    "num_labels = len(label_cols)\n",
    "print('Training data Count of distinct values per column: ',df_training[label_cols].nunique().sort_values().to_string())"
   ]
  },
  {
   "cell_type": "code",
   "execution_count": 34,
   "id": "203f8b3c-25fc-4dda-88ca-d2e046166a58",
   "metadata": {},
   "outputs": [
    {
     "name": "stderr",
     "output_type": "stream",
     "text": [
      "Some weights of the model checkpoint at roberta-base were not used when initializing RobertaForMultiLabelSequenceClassification: ['lm_head.dense.bias', 'lm_head.decoder.weight', 'lm_head.layer_norm.bias', 'lm_head.dense.weight', 'lm_head.layer_norm.weight', 'lm_head.bias']\n",
      "- This IS expected if you are initializing RobertaForMultiLabelSequenceClassification from the checkpoint of a model trained on another task or with another architecture (e.g. initializing a BertForSequenceClassification model from a BertForPreTraining model).\n",
      "- This IS NOT expected if you are initializing RobertaForMultiLabelSequenceClassification from the checkpoint of a model that you expect to be exactly identical (initializing a BertForSequenceClassification model from a BertForSequenceClassification model).\n",
      "Some weights of RobertaForMultiLabelSequenceClassification were not initialized from the model checkpoint at roberta-base and are newly initialized: ['classifier.dense.bias', 'classifier.out_proj.bias', 'classifier.dense.weight', 'classifier.out_proj.weight']\n",
      "You should probably TRAIN this model on a down-stream task to be able to use it for predictions and inference.\n"
     ]
    }
   ],
   "source": [
    "model_roberta = MultiLabelClassificationModel('roberta', \n",
    "                                      'roberta-base', \n",
    "                                      num_labels=9, \n",
    "                                      use_cuda= False,\n",
    "                                      args={'train_batch_size':2, 'gradient_accumulation_steps':16, \n",
    "                                            'learning_rate': 3e-5,#'optimizer': optimizer,\n",
    "                                            'num_train_epochs': 5,\"weight_decay\": 0, 'max_seq_length': 512,\n",
    "                                            'overwrite_output_dir': True,'reprocess_input_data': True})\n"
   ]
  },
  {
   "cell_type": "code",
   "execution_count": 35,
   "id": "fe45ed37-f5cf-423c-959b-d789702ca177",
   "metadata": {},
   "outputs": [
    {
     "data": {
      "application/vnd.jupyter.widget-view+json": {
       "model_id": "6d35d5347fc1478a9fc2fcb8d3ee64ee",
       "version_major": 2,
       "version_minor": 0
      },
      "text/plain": [
       "  0%|          | 0/277 [00:00<?, ?it/s]"
      ]
     },
     "metadata": {},
     "output_type": "display_data"
    },
    {
     "data": {
      "application/vnd.jupyter.widget-view+json": {
       "model_id": "b84b894d73a348e886aa868d0660cba3",
       "version_major": 2,
       "version_minor": 0
      },
      "text/plain": [
       "Epoch:   0%|          | 0/5 [00:00<?, ?it/s]"
      ]
     },
     "metadata": {},
     "output_type": "display_data"
    },
    {
     "data": {
      "application/vnd.jupyter.widget-view+json": {
       "model_id": "396ab1644c174d04ba3a01e3641f694d",
       "version_major": 2,
       "version_minor": 0
      },
      "text/plain": [
       "Running Epoch 0 of 5:   0%|          | 0/139 [00:00<?, ?it/s]"
      ]
     },
     "metadata": {},
     "output_type": "display_data"
    },
    {
     "data": {
      "application/vnd.jupyter.widget-view+json": {
       "model_id": "3141d0279c9947c3b7341cd9ebdcf74a",
       "version_major": 2,
       "version_minor": 0
      },
      "text/plain": [
       "Running Epoch 1 of 5:   0%|          | 0/139 [00:00<?, ?it/s]"
      ]
     },
     "metadata": {},
     "output_type": "display_data"
    },
    {
     "data": {
      "application/vnd.jupyter.widget-view+json": {
       "model_id": "e19537be43e14e5a95afd9117309035b",
       "version_major": 2,
       "version_minor": 0
      },
      "text/plain": [
       "Running Epoch 2 of 5:   0%|          | 0/139 [00:00<?, ?it/s]"
      ]
     },
     "metadata": {},
     "output_type": "display_data"
    },
    {
     "data": {
      "application/vnd.jupyter.widget-view+json": {
       "model_id": "5ee37fac26da403988d0046f97a45d36",
       "version_major": 2,
       "version_minor": 0
      },
      "text/plain": [
       "Running Epoch 3 of 5:   0%|          | 0/139 [00:00<?, ?it/s]"
      ]
     },
     "metadata": {},
     "output_type": "display_data"
    },
    {
     "data": {
      "application/vnd.jupyter.widget-view+json": {
       "model_id": "006ced2f62c34bcfbe5f12a8655705ca",
       "version_major": 2,
       "version_minor": 0
      },
      "text/plain": [
       "Running Epoch 4 of 5:   0%|          | 0/139 [00:00<?, ?it/s]"
      ]
     },
     "metadata": {},
     "output_type": "display_data"
    },
    {
     "data": {
      "text/plain": [
       "(40, 0.5652336062397808)"
      ]
     },
     "execution_count": 35,
     "metadata": {},
     "output_type": "execute_result"
    }
   ],
   "source": [
    "model_roberta.train_model(train_df,\n",
    "                 no_deprecation_warning=True)"
   ]
  },
  {
   "cell_type": "code",
   "execution_count": 36,
   "id": "eacf9204-11a8-4358-8d21-12807bd9c544",
   "metadata": {},
   "outputs": [
    {
     "data": {
      "application/vnd.jupyter.widget-view+json": {
       "model_id": "ca013e5bd644410a81b74e20d4511b31",
       "version_major": 2,
       "version_minor": 0
      },
      "text/plain": [
       "  0%|          | 0/70 [00:00<?, ?it/s]"
      ]
     },
     "metadata": {},
     "output_type": "display_data"
    },
    {
     "data": {
      "application/vnd.jupyter.widget-view+json": {
       "model_id": "1b17f94235f24b61886c56e50b79d111",
       "version_major": 2,
       "version_minor": 0
      },
      "text/plain": [
       "Running Evaluation:   0%|          | 0/9 [00:00<?, ?it/s]"
      ]
     },
     "metadata": {},
     "output_type": "display_data"
    }
   ],
   "source": [
    "result, model_outputs, wrong_predictions = model_roberta.eval_model(eval_df, \n",
    "                                            verbose=False, multi_label=True)"
   ]
  },
  {
   "cell_type": "code",
   "execution_count": 37,
   "id": "58db88bd-9de9-40c7-b712-38e5b9db07be",
   "metadata": {},
   "outputs": [
    {
     "data": {
      "text/plain": [
       "{'LRAP': 0.4337876579203109, 'eval_loss': 0.46838485532336765}"
      ]
     },
     "execution_count": 37,
     "metadata": {},
     "output_type": "execute_result"
    }
   ],
   "source": [
    "result"
   ]
  },
  {
   "cell_type": "code",
   "execution_count": 38,
   "id": "36822efb-fa64-40dc-a28d-45cf7dbb27a6",
   "metadata": {},
   "outputs": [],
   "source": [
    "roberta_out=pd.concat([eval_df, pd.DataFrame(model_outputs)], axis=1,join='inner')"
   ]
  },
  {
   "cell_type": "code",
   "execution_count": 39,
   "id": "c2311b65-cf1d-4e99-b5af-97d475f3234b",
   "metadata": {},
   "outputs": [],
   "source": [
    "roberta_out.to_csv(r'WETG_AI_ML_BUG_AUTO_CCXP_RoBERTa_OUTPUT.csv')"
   ]
  },
  {
   "cell_type": "code",
   "execution_count": 40,
   "id": "986251a8-cddb-41aa-bb87-0c08816df2a0",
   "metadata": {},
   "outputs": [
    {
     "data": {
      "text/plain": [
       "Index(['jira_ticket',     'summary', 'description',      'server',\n",
       "              'data',         'etl',    'pcompare',    'pdetails',\n",
       "           'psearch',   'pmeasures',     'cl_core',        'apps',\n",
       "              'text',      'labels',             0,             1,\n",
       "                   2,             3,             4,             5,\n",
       "                   6,             7,             8],\n",
       "      dtype='object')"
      ]
     },
     "execution_count": 40,
     "metadata": {},
     "output_type": "execute_result"
    }
   ],
   "source": [
    "roberta_out.columns"
   ]
  },
  {
   "cell_type": "code",
   "execution_count": 43,
   "id": "8edf4111-3255-41e9-b8f8-ef1233e9332b",
   "metadata": {},
   "outputs": [],
   "source": [
    "roberta_test = roberta_out.loc[:,['server','data','etl','pcompare','pdetails','psearch','pmeasures','cl_core','apps',\n",
    "                                  0,1,2,3,4,5,6,7,8]]"
   ]
  },
  {
   "cell_type": "code",
   "execution_count": 44,
   "id": "b5a5518b-2f54-4511-9737-cfdb1eddaaa9",
   "metadata": {},
   "outputs": [],
   "source": [
    "roberta_test.to_csv(r'WETG_AI_ML_BUG_AUTO_CCXP_RoBERTa_RESULTS.csv')"
   ]
  },
  {
   "cell_type": "code",
   "execution_count": 48,
   "id": "76836353-f64b-4d2c-b411-bdce181658fa",
   "metadata": {},
   "outputs": [
    {
     "name": "stdout",
     "output_type": "stream",
     "text": [
      "Roberta model accuracy: 0.0\n"
     ]
    }
   ],
   "source": [
    "# preds for entire roberta model\n",
    "import numpy as np\n",
    "roberta_val=list(zip(roberta_out[0].tolist(), roberta_out[1].tolist(),\n",
    "                   roberta_out[2].tolist(),roberta_out[3].tolist(),\n",
    "                    roberta_out[4].tolist(),roberta_out[5].tolist(),\n",
    "                    roberta_out[6].tolist(), roberta_out[7].tolist(),\n",
    "                   roberta_out[8].tolist()))\n",
    "roberta_true=list(zip(roberta_out.server.tolist(), roberta_out.data.tolist(), \n",
    "                roberta_out.etl.tolist(),\n",
    "                roberta_out.pcompare.tolist(),\n",
    "                roberta_out.pdetails.tolist(),\n",
    "                roberta_out.psearch.tolist(),\n",
    "               roberta_out.pmeasures.tolist(),\n",
    "                roberta_out.cl_core.tolist(),\n",
    "               roberta_out.apps.tolist()))\n",
    "                     \n",
    "roberta_pred=[]\n",
    "for sample in roberta_val:\n",
    "  roberta_pred.append([1 if i>=0.7 else 0 for i in sample ] )\n",
    "roberta_pred = np.array(roberta_pred)\n",
    "#roberta_pred\n",
    "import numpy as np\n",
    "from sklearn.metrics import accuracy_score\n",
    "roberta_model_accuracy=accuracy_score(roberta_true, roberta_pred)\n",
    "print('Roberta model accuracy:', roberta_model_accuracy)"
   ]
  },
  {
   "cell_type": "code",
   "execution_count": 49,
   "id": "527baec0-e534-42c0-96e8-27b25150eba4",
   "metadata": {},
   "outputs": [],
   "source": [
    "#1. server\n",
    "roberta_server_true=list(zip(roberta_out.server.tolist()))\n",
    "roberta_server_score= list(zip(roberta_out[0].tolist()))\n",
    "\n",
    "#2. data\n",
    "roberta_data_true=list(zip(roberta_out.data.tolist()))\n",
    "roberta_data_score=list(zip(roberta_out[1].tolist()))\n",
    "\n",
    "#3. etl\n",
    "roberta_etl_true=list(zip(roberta_out.etl.tolist()))\n",
    "roberta_etl_score=list(zip(roberta_out[2].tolist()))\n",
    "\n",
    "#4. pcompare\n",
    "roberta_pcompare_true=list(zip(roberta_out.pcompare.tolist()))\n",
    "roberta_pcompare_score=list(zip(roberta_out[3].tolist()))\n",
    "\n",
    "#5. pdetails\n",
    "roberta_pdetails_true=list(zip(roberta_out.pdetails.tolist()))\n",
    "roberta_pdetails_score=list(zip(roberta_out[4].tolist()))\n",
    "\n",
    "#6. psearch\n",
    "roberta_psearch_true=list(zip(roberta_out.psearch.tolist()))\n",
    "roberta_psearch_score=list(zip(roberta_out[5].tolist()))\n",
    "\n",
    "\n",
    "#7. pmeasures\n",
    "roberta_pmeasures_true=list(zip(roberta_out.pmeasures.tolist()))\n",
    "roberta_pmeasures_score=list(zip(roberta_out[6].tolist()))\n",
    "\n",
    "\n",
    "#8. cl_core\n",
    "roberta_cl_core_true=list(zip(roberta_out.cl_core.tolist()))\n",
    "roberta_cl_core_score=list(zip(roberta_out[7].tolist()))\n",
    "\n",
    "\n",
    "#9. apps\n",
    "roberta_apps_true=list(zip(roberta_out.apps.tolist()))\n",
    "roberta_apps_score=list(zip(roberta_out[8].tolist()))\n"
   ]
  },
  {
   "cell_type": "markdown",
   "id": "0eff2bd5-6a27-4ab9-8e95-39e2eec028a7",
   "metadata": {},
   "source": [
    "## Predictions at Threshold .7 and Confusion Matrix Preparation"
   ]
  },
  {
   "cell_type": "code",
   "execution_count": 54,
   "id": "1820ae80-0efd-486e-b090-985e785cd807",
   "metadata": {},
   "outputs": [],
   "source": [
    "import numpy as np\n",
    "########################################################\n",
    "####### Label 1: Server\n",
    "# Pred Binary Conversion at Threshold .7\n",
    "roberta_server_pred=[]\n",
    "for sample in roberta_server_score:\n",
    "  roberta_server_pred.append([1 if i>=0.7 else 0 for i in sample ] )\n",
    "roberta_server_pred = np.array(roberta_server_pred)\n",
    "## Create Confusion Matrix for Label\n",
    "ccxp_server_cm = multilabel_confusion_matrix(roberta_server_true,roberta_server_pred)\n",
    "ccxp_server_cm_plt=ccxp_server_cm.reshape(2,2)\n",
    "#######################################################\n",
    "###### Label 2: Score\n",
    "# Pred Binary Conversion at Threshold .7\n",
    "roberta_data_pred=[]\n",
    "for sample in roberta_data_score:\n",
    "  roberta_data_pred.append([1 if i>=0.7 else 0 for i in sample ] )\n",
    "roberta_data_pred = np.array(roberta_data_pred)\n",
    "## Creation Confusion Matrix for Label\n",
    "ccxp_data_cm = confusion_matrix(roberta_data_true,roberta_data_pred)\n",
    "ccxp_data_cm_plt=ccxp_data_cm.reshape(2,2)\n",
    "########################################################\n",
    "##### Label 3: Etl\n",
    "# Pred Binary Conversion at Threshold .7\n",
    "roberta_etl_pred=[]\n",
    "for sample in roberta_etl_score:\n",
    "  roberta_etl_pred.append([1 if i>=0.7 else 0 for i in sample ] )\n",
    "roberta_etl_pred = np.array(roberta_etl_pred)\n",
    "# Creation Confusion Matrix for Label\n",
    "ccxp_etl_cm = confusion_matrix(roberta_etl_true,roberta_etl_pred)\n",
    "ccxp_etl_cm_plt=ccxp_etl_cm.reshape(2,2)\n",
    "########################################################\n",
    "###### Label 4: Provider Compare\n",
    "# Pred Binary Conversion at Threshold .7\n",
    "roberta_pcompare_pred=[]\n",
    "for sample in roberta_pcompare_score:\n",
    "  roberta_pcompare_pred.append([1 if i>=0.7 else 0 for i in sample ] )\n",
    "roberta_pcompare_pred = np.array(roberta_pcompare_pred)\n",
    "# Creation Confusion Matrix for Label\n",
    "ccxp_pcompare_cm = confusion_matrix(roberta_pcompare_true,roberta_pcompare_pred)\n",
    "ccxp_pcompare_cm_plt=ccxp_pcompare_cm.reshape(2,2)\n",
    "##########################################################\n",
    "######### Label 5 Provider Details\n",
    "# a. Pred Binary Conversion at Threshold .7\n",
    "roberta_pdetails_pred=[]\n",
    "for sample in roberta_pdetails_score:\n",
    "  roberta_pdetails_pred.append([1 if i>=0.7 else 0 for i in sample ] )\n",
    "roberta_pdetails_pred = np.array(roberta_pdetails_pred)\n",
    "# b. Creation Confusion Matrix for Label\n",
    "ccxp_pdetails_cm = confusion_matrix(roberta_pdetails_true,roberta_pdetails_pred)\n",
    "ccxp_pdetails_cm_plt=ccxp_pdetails_cm.reshape(2,2)\n",
    "########################################################\n",
    "######## Label 6. Provider Search Shared\n",
    "# a. Prediction conversion at Threshold .7\n",
    "roberta_psearch_pred=[]\n",
    "for sample in roberta_psearch_score:\n",
    "  roberta_psearch_pred.append([1 if i>=0.7 else 0 for i in sample ] )\n",
    "roberta_psearch_pred = np.array(roberta_psearch_pred)\n",
    "# b. Creation Confusion Matrix for Label\n",
    "ccxp_psearch_cm = confusion_matrix(roberta_psearch_true,roberta_psearch_pred)\n",
    "ccxp_psearch_cm_plt=ccxp_psearch_cm.reshape(2,2)\n",
    "######################################################\n",
    "########## Label 7: Client Libs Provider Measures\n",
    "roberta_pmeasures_pred=[]\n",
    "for sample in roberta_pmeasures_score:\n",
    "  roberta_pmeasures_pred.append([1 if i>=0.7 else 0 for i in sample ] )\n",
    "roberta_pmeasures_pred = np.array(roberta_pmeasures_pred)\n",
    "# c. Creation Confusion Matrix for Label\n",
    "ccxp_pmeasures_cm = multilabel_confusion_matrix(roberta_pmeasures_true,roberta_pmeasures_pred)\n",
    "ccxp_pmeasures_cm_plt=ccxp_pmeasures_cm.reshape(2,2)\n",
    "########################################################\n",
    "############ Label 8: Client Libs Core\n",
    "roberta_cl_core_pred=[]\n",
    "for sample in roberta_cl_core_score:\n",
    "  roberta_cl_core_pred.append([1 if i>=0.7 else 0 for i in sample ] )\n",
    "roberta_cl_core_pred = np.array(roberta_cl_core_pred)\n",
    "# c. Creation Confusion Matrix for Client Libs Core Label\n",
    "ccxp_cl_core_cm = confusion_matrix(roberta_cl_core_true,roberta_cl_core_pred)\n",
    "ccxp_cl_core_cm_plt=ccxp_cl_core_cm.reshape(2,2)\n",
    "#############################################################\n",
    "############ Label 9 Client libs Apps Label\n",
    "roberta_apps_pred=[]\n",
    "for sample in roberta_apps_score:\n",
    "  roberta_apps_pred.append([1 if i>=0.7 else 0 for i in sample ] )\n",
    "roberta_apps_pred = np.array(roberta_apps_pred)\n",
    "# c. Create Confusion Matrix for My Medicare Label\n",
    "ccxp_apps_cm = confusion_matrix(roberta_apps_true,roberta_apps_pred)\n",
    "ccxp_apps_cm_plt=ccxp_apps_cm.reshape(2,2)"
   ]
  },
  {
   "cell_type": "markdown",
   "id": "1c9d2faa-94c0-4e63-ad4a-04d965791ffa",
   "metadata": {},
   "source": [
    "## Plot Confusion Matrices for 9 Labels"
   ]
  },
  {
   "cell_type": "code",
   "execution_count": 55,
   "id": "5efa1eec-49f1-4fdd-bc37-9ef2f7536d24",
   "metadata": {},
   "outputs": [
    {
     "data": {
      "image/png": "[encoded data removed]",
      "text/plain": [
       "<Figure size 432x288 with 2 Axes>"
      ]
     },
     "metadata": {
      "needs_background": "light"
     },
     "output_type": "display_data"
    },
    {
     "data": {
      "text/plain": [
       "<Figure size 432x288 with 0 Axes>"
      ]
     },
     "metadata": {},
     "output_type": "display_data"
    }
   ],
   "source": [
    "import seaborn as sns\n",
    "#Label 1: server\n",
    "group_names = ['True Neg','False Pos','False Neg','True Pos']\n",
    "group_counts = ['{0:0.0f}'.format(value) for value in\n",
    "                ccxp_server_cm_plt.flatten()]\n",
    "group_percentages = ['{0:.2%}'.format(value) for value in\n",
    "                     ccxp_server_cm_plt.flatten()/np.sum(ccxp_server_cm_plt)]\n",
    "labels = [f'{v1}\\n{v2}\\n{v3}' for v1, v2, v3 in\n",
    "          zip(group_names,group_counts,group_percentages)]\n",
    "labels = np.asarray(labels).reshape(2,2)\n",
    "ax = plt.subplot()\n",
    "sns.set(font_scale=1.1) #edited as suggested\n",
    "ax = sns.heatmap(ccxp_server_cm_plt ,cmap='Blues', linewidth = 0.25 , fmt='',annot = labels)\n",
    "plt.title( \"1. CCXP Server Confusion Matrix\" )\n",
    "plt.show()\n",
    "plt.savefig('WETG_AI_ML_BUG_AUTO_CCXP_CM_1_server.png)"
   ]
  },
  {
   "cell_type": "code",
   "execution_count": 56,
   "id": "12a96e26-3786-46c6-a549-8bd11ee3594d",
   "metadata": {},
   "outputs": [
    {
     "data": {
      "image/png": "[encoded data removed]",
      "text/plain": [
       "<Figure size 432x288 with 2 Axes>"
      ]
     },
     "metadata": {},
     "output_type": "display_data"
    },
    {
     "data": {
      "text/plain": [
       "<Figure size 432x288 with 0 Axes>"
      ]
     },
     "metadata": {},
     "output_type": "display_data"
    }
   ],
   "source": [
    "# Label 2: data\n",
    "group_names = ['True Neg','False Pos','False Neg','True Pos']\n",
    "group_counts = ['{0:0.0f}'.format(value) for value in\n",
    "                ccxp_data_cm_plt.flatten()]\n",
    "group_percentages = ['{0:.2%}'.format(value) for value in\n",
    "                     ccxp_data_cm_plt.flatten()/np.sum(ccxp_data_cm_plt)]\n",
    "labels = [f'{v1}\\n{v2}\\n{v3}' for v1, v2, v3 in\n",
    "          zip(group_names,group_counts,group_percentages)]\n",
    "labels = np.asarray(labels).reshape(2,2)\n",
    "ax = plt.subplot()\n",
    "sns.set(font_scale=1.1) #edited as suggested\n",
    "ax = sns.heatmap(ccxp_data_cm_plt ,cmap='Blues', linewidth = 0.25 , fmt='',annot = labels)\n",
    "plt.title( \"2. CCXP Data Confusion Matrix\" )\n",
    "plt.show()\n",
    "plt.savefig('WETG_AI_ML_BUG_AUTO_CCXP_CM_2_Data_Roberta_cm.png')"
   ]
  },
  {
   "cell_type": "code",
   "execution_count": 57,
   "id": "81ecfef1-7ea5-417f-85a0-b97799022c72",
   "metadata": {},
   "outputs": [
    {
     "data": {
      "image/png": "[encoded data removed]",
      "text/plain": [
       "<Figure size 432x288 with 2 Axes>"
      ]
     },
     "metadata": {},
     "output_type": "display_data"
    },
    {
     "data": {
      "text/plain": [
       "<Figure size 432x288 with 0 Axes>"
      ]
     },
     "metadata": {},
     "output_type": "display_data"
    }
   ],
   "source": [
    "# Label 3: etl\n",
    "group_names = ['True Neg','False Pos','False Neg','True Pos']\n",
    "group_counts = ['{0:0.0f}'.format(value) for value in\n",
    "                ccxp_etl_cm_plt.flatten()]\n",
    "group_percentages = ['{0:.2%}'.format(value) for value in\n",
    "                     ccxp_etl_cm_plt.flatten()/np.sum(ccxp_etl_cm_plt)]\n",
    "labels = [f'{v1}\\n{v2}\\n{v3}' for v1, v2, v3 in\n",
    "          zip(group_names,group_counts,group_percentages)]\n",
    "labels = np.asarray(labels).reshape(2,2)\n",
    "ax = plt.subplot()\n",
    "sns.set(font_scale=1.1) #edited as suggested\n",
    "ax = sns.heatmap(ccxp_etl_cm_plt ,cmap='Blues', linewidth = 0.25 , fmt='',annot = labels)\n",
    "plt.title( \"3. CCXP ETL Confusion Matrix- Roberta\" )\n",
    "plt.show()\n",
    "plt.savefig('WETG_AI_ML_BUG_AUTO_CCXP_CM_3_etl.png')"
   ]
  },
  {
   "cell_type": "code",
   "execution_count": 58,
   "id": "1307a969-b712-49e3-b9d6-ae4de87d04c7",
   "metadata": {},
   "outputs": [
    {
     "data": {
      "image/png": "[encoded data removed]",
      "text/plain": [
       "<Figure size 432x288 with 2 Axes>"
      ]
     },
     "metadata": {},
     "output_type": "display_data"
    },
    {
     "data": {
      "text/plain": [
       "<Figure size 432x288 with 0 Axes>"
      ]
     },
     "metadata": {},
     "output_type": "display_data"
    }
   ],
   "source": [
    "# Label 4: ca_scss\n",
    "group_names = ['True Neg','False Pos','False Neg','True Pos']\n",
    "group_counts = ['{0:0.0f}'.format(value) for value in\n",
    "                ccxp_pcompare_cm_plt.flatten()]\n",
    "group_percentages = ['{0:.2%}'.format(value) for value in\n",
    "                     ccxp_pcompare_cm_plt.flatten()/np.sum(ccxp_pcompare_cm_plt)]\n",
    "labels = [f'{v1}\\n{v2}\\n{v3}' for v1, v2, v3 in\n",
    "          zip(group_names,group_counts,group_percentages)]\n",
    "labels = np.asarray(labels).reshape(2,2)\n",
    "ax = plt.subplot()\n",
    "sns.set(font_scale=1.1) #edited as suggested\n",
    "ax = sns.heatmap(ccxp_pcompare_cm_plt ,cmap='Blues', linewidth = 0.25 , fmt='',annot = labels)\n",
    "plt.title( \"4. CCXP-Client Provider Compare Confusion Matrix\" )\n",
    "plt.show()\n",
    "plt.savefig('WETG_AI_ML_BUG_AUTO_CCXP_CM_4 provider compare_cm.png')"
   ]
  },
  {
   "cell_type": "code",
   "execution_count": 60,
   "id": "10d65e53-6153-4fe3-a600-4b22572d5789",
   "metadata": {},
   "outputs": [
    {
     "data": {
      "image/png": "[encoded data removed]",
      "text/plain": [
       "<Figure size 432x288 with 2 Axes>"
      ]
     },
     "metadata": {},
     "output_type": "display_data"
    },
    {
     "data": {
      "text/plain": [
       "<Figure size 432x288 with 0 Axes>"
      ]
     },
     "metadata": {},
     "output_type": "display_data"
    }
   ],
   "source": [
    "# Label 5: ca_webapp\n",
    "group_names = ['True Neg','False Pos','False Neg','True Pos']\n",
    "group_counts = ['{0:0.0f}'.format(value) for value in\n",
    "                ccxp_pdetails_cm_plt.flatten()]\n",
    "group_percentages = ['{0:.2%}'.format(value) for value in\n",
    "                     ccxp_pdetails_cm_plt.flatten()/np.sum(ccxp_pdetails_cm_plt)]\n",
    "labels = [f'{v1}\\n{v2}\\n{v3}' for v1, v2, v3 in\n",
    "          zip(group_names,group_counts,group_percentages)]\n",
    "labels = np.asarray(labels).reshape(2,2)\n",
    "ax = plt.subplot()\n",
    "sns.set(font_scale=1.1) #edited as suggested\n",
    "ax = sns.heatmap(ccxp_pdetails_cm_plt ,cmap='Blues', linewidth = 0.25 , fmt='',annot = labels)\n",
    "plt.title( \"5. CCXP Provider Details Confusion Matrix\" )\n",
    "plt.show()\n",
    "plt.savefig('WETG_AI_ML_BUG_AUTO_CCXP_CM_5_provider_details.png')"
   ]
  },
  {
   "cell_type": "code",
   "execution_count": 61,
   "id": "303e58df-583f-42da-8796-0ab351851e34",
   "metadata": {},
   "outputs": [
    {
     "data": {
      "image/png": "[encoded data removed]",
      "text/plain": [
       "<Figure size 432x288 with 2 Axes>"
      ]
     },
     "metadata": {},
     "output_type": "display_data"
    },
    {
     "data": {
      "text/plain": [
       "<Figure size 432x288 with 0 Axes>"
      ]
     },
     "metadata": {},
     "output_type": "display_data"
    }
   ],
   "source": [
    "# Label 6: cl_shared\n",
    "group_names = ['True Neg','False Pos','False Neg','True Pos']\n",
    "group_counts = ['{0:0.0f}'.format(value) for value in\n",
    "                ccxp_psearch_cm_plt.flatten()]\n",
    "group_percentages = ['{0:.2%}'.format(value) for value in\n",
    "                     ccxp_psearch_cm_plt.flatten()/np.sum(ccxp_psearch_cm_plt)]\n",
    "labels = [f'{v1}\\n{v2}\\n{v3}' for v1, v2, v3 in\n",
    "          zip(group_names,group_counts,group_percentages)]\n",
    "labels = np.asarray(labels).reshape(2,2)\n",
    "ax = plt.subplot()\n",
    "sns.set(font_scale=1.1) #edited as suggested\n",
    "ax = sns.heatmap(ccxp_psearch_cm_plt ,cmap='Blues', linewidth = 0.25 , fmt='',annot = labels)\n",
    "plt.title( \"6. CCXP Provider Search Confusion Matrix\" )\n",
    "plt.show()\n",
    "plt.savefig('WETG_AI_ML_BUG_AUTO_CCXP_CM_6_psearch.png')"
   ]
  },
  {
   "cell_type": "code",
   "execution_count": 62,
   "id": "dcbd9f21-fd8b-4266-91c8-11d58c98b69a",
   "metadata": {},
   "outputs": [
    {
     "data": {
      "image/png": "[encoded data removed]",
      "text/plain": [
       "<Figure size 432x288 with 2 Axes>"
      ]
     },
     "metadata": {},
     "output_type": "display_data"
    },
    {
     "data": {
      "text/plain": [
       "<Figure size 432x288 with 0 Axes>"
      ]
     },
     "metadata": {},
     "output_type": "display_data"
    }
   ],
   "source": [
    "# Label 7: cl_provider\n",
    "group_names = ['True Neg','False Pos','False Neg','True Pos']\n",
    "group_counts = ['{0:0.0f}'.format(value) for value in\n",
    "                ccxp_pmeasures_cm_plt.flatten()]\n",
    "group_percentages = ['{0:.2%}'.format(value) for value in\n",
    "                     ccxp_pmeasures_cm_plt.flatten()/np.sum(ccxp_pmeasures_cm_plt)]\n",
    "labels = [f'{v1}\\n{v2}\\n{v3}' for v1, v2, v3 in\n",
    "          zip(group_names,group_counts,group_percentages)]\n",
    "labels = np.asarray(labels).reshape(2,2)\n",
    "ax = plt.subplot()\n",
    "sns.set(font_scale=1.1) #edited as suggested\n",
    "ax = sns.heatmap(ccxp_pmeasures_cm_plt ,cmap='Blues', linewidth = 0.25 , fmt='',annot = labels)\n",
    "plt.title( \"7. CCXP Client Libs- Provider Measures Confusion Matrix\" )\n",
    "plt.show()\n",
    "plt.savefig('WETG_AI_ML_BUG_AUTO_CCXP_CM_7_Provider_Measures-.png')"
   ]
  },
  {
   "cell_type": "code",
   "execution_count": 63,
   "id": "77b7b94f-f8b5-4e91-b730-bc8bd7015a76",
   "metadata": {},
   "outputs": [
    {
     "data": {
      "image/png": "[encoded data removed]",
      "text/plain": [
       "<Figure size 432x288 with 2 Axes>"
      ]
     },
     "metadata": {},
     "output_type": "display_data"
    },
    {
     "data": {
      "text/plain": [
       "<Figure size 432x288 with 0 Axes>"
      ]
     },
     "metadata": {},
     "output_type": "display_data"
    }
   ],
   "source": [
    "# Label 8: cl_core\n",
    "group_names = ['True Neg','False Pos','False Neg','True Pos']\n",
    "group_counts = ['{0:0.0f}'.format(value) for value in\n",
    "                ccxp_server_cm_plt.flatten()]\n",
    "group_percentages = ['{0:.2%}'.format(value) for value in\n",
    "                     ccxp_cl_core_cm_plt.flatten()/np.sum(ccxp_cl_core_cm_plt)]\n",
    "labels = [f'{v1}\\n{v2}\\n{v3}' for v1, v2, v3 in\n",
    "          zip(group_names,group_counts,group_percentages)]\n",
    "labels = np.asarray(labels).reshape(2,2)\n",
    "ax = plt.subplot()\n",
    "sns.set(font_scale=1.1) #edited as suggested\n",
    "ax = sns.heatmap(ccxp_cl_core_cm_plt ,cmap='Blues', linewidth = 0.25 , fmt='',annot = labels)\n",
    "plt.title( \"8. CCXP Client Libs Core Confusion Matrix\" )\n",
    "plt.show()\n",
    "plt.savefig('WETG_AI_ML_BUG_AUTO_CCXP_CM_8_Client_Libs_Core.png')"
   ]
  },
  {
   "cell_type": "code",
   "execution_count": 64,
   "id": "b63b1dd4-88ac-41db-95c5-800b9ae4dc67",
   "metadata": {},
   "outputs": [
    {
     "data": {
      "image/png": "[encoded data removed]",
      "text/plain": [
       "<Figure size 432x288 with 2 Axes>"
      ]
     },
     "metadata": {},
     "output_type": "display_data"
    },
    {
     "data": {
      "text/plain": [
       "<Figure size 432x288 with 0 Axes>"
      ]
     },
     "metadata": {},
     "output_type": "display_data"
    }
   ],
   "source": [
    "# Label 9: cl_mymedicare\n",
    "group_names = ['True Neg','False Pos','False Neg','True Pos']\n",
    "group_counts = ['{0:0.0f}'.format(value) for value in\n",
    "                ccxp_apps_cm_plt.flatten()]\n",
    "group_percentages = ['{0:.2%}'.format(value) for value in\n",
    "                     ccxp_apps_cm_plt.flatten()/np.sum(ccxp_apps_cm_plt)]\n",
    "labels = [f'{v1}\\n{v2}\\n{v3}' for v1, v2, v3 in\n",
    "          zip(group_names,group_counts,group_percentages)]\n",
    "labels = np.asarray(labels).reshape(2,2)\n",
    "ax = plt.subplot()\n",
    "sns.set(font_scale=1.1) #edited as suggested\n",
    "ax = sns.heatmap(ccxp_apps_cm_plt ,cmap='Blues', linewidth = 0.25 , fmt='',annot = labels)\n",
    "plt.title( \"9. CCXP Apps Confusion Matrix\" )\n",
    "plt.show()\n",
    "# export it\n",
    "plt.savefig('WETG_AI_ML_BUG_AUTO_CCXP_CM_7_Apps.png')"
   ]
  }
 ],
 "metadata": {
  "kernelspec": {
   "display_name": "Python 3 (ipykernel)",
   "language": "python",
   "name": "python3"
  },
  "language_info": {
   "codemirror_mode": {
    "name": "ipython",
    "version": 3
   },
   "file_extension": ".py",
   "mimetype": "text/x-python",
   "name": "python",
   "nbconvert_exporter": "python",
   "pygments_lexer": "ipython3",
   "version": "3.9.12"
  }
 },
 "nbformat": 4,
 "nbformat_minor": 5
}
